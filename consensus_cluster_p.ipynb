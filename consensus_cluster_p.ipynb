{
 "cells": [
  {
   "cell_type": "code",
   "execution_count": 1,
   "metadata": {
    "collapsed": false
   },
   "outputs": [],
   "source": [
    "import pandas as pd\n",
    "import numpy as np\n",
    "import seaborn as sns"
   ]
  },
  {
   "cell_type": "code",
   "execution_count": 2,
   "metadata": {
    "collapsed": false
   },
   "outputs": [],
   "source": [
    "cpiv = pd.read_csv('data/brca_1M_clove_pivot.tab.gz', compression='gzip', sep='\\t', index_col=0)"
   ]
  },
  {
   "cell_type": "code",
   "execution_count": 9,
   "metadata": {
    "collapsed": false
   },
   "outputs": [
    {
     "data": {
      "text/html": [
       "<div>\n",
       "<table border=\"1\" class=\"dataframe\">\n",
       "  <thead>\n",
       "    <tr style=\"text-align: right;\">\n",
       "      <th></th>\n",
       "      <th>A1BG</th>\n",
       "      <th>A1BG-AS1</th>\n",
       "      <th>A1CF</th>\n",
       "      <th>A2M</th>\n",
       "      <th>A2M-AS1</th>\n",
       "      <th>A2ML1</th>\n",
       "      <th>A2MP1</th>\n",
       "      <th>A3GALT2</th>\n",
       "      <th>A4GALT</th>\n",
       "      <th>A4GNT</th>\n",
       "      <th>...</th>\n",
       "      <th>hsa-mir-664</th>\n",
       "      <th>hsa-mir-720</th>\n",
       "      <th>hsa-mir-886</th>\n",
       "      <th>hsa-mir-887</th>\n",
       "      <th>hsa-mir-924</th>\n",
       "      <th>hsa-mir-941-1</th>\n",
       "      <th>hsa-mir-941-2</th>\n",
       "      <th>hsa-mir-941-3</th>\n",
       "      <th>hsa-mir-95</th>\n",
       "      <th>hsa-mir-96</th>\n",
       "    </tr>\n",
       "    <tr>\n",
       "      <th>exp</th>\n",
       "      <th></th>\n",
       "      <th></th>\n",
       "      <th></th>\n",
       "      <th></th>\n",
       "      <th></th>\n",
       "      <th></th>\n",
       "      <th></th>\n",
       "      <th></th>\n",
       "      <th></th>\n",
       "      <th></th>\n",
       "      <th></th>\n",
       "      <th></th>\n",
       "      <th></th>\n",
       "      <th></th>\n",
       "      <th></th>\n",
       "      <th></th>\n",
       "      <th></th>\n",
       "      <th></th>\n",
       "      <th></th>\n",
       "      <th></th>\n",
       "      <th></th>\n",
       "    </tr>\n",
       "  </thead>\n",
       "  <tbody>\n",
       "    <tr>\n",
       "      <th>A1BG</th>\n",
       "      <td>NaN</td>\n",
       "      <td>NaN</td>\n",
       "      <td>NaN</td>\n",
       "      <td>NaN</td>\n",
       "      <td>NaN</td>\n",
       "      <td>NaN</td>\n",
       "      <td>NaN</td>\n",
       "      <td>NaN</td>\n",
       "      <td>NaN</td>\n",
       "      <td>NaN</td>\n",
       "      <td>...</td>\n",
       "      <td>NaN</td>\n",
       "      <td>NaN</td>\n",
       "      <td>NaN</td>\n",
       "      <td>NaN</td>\n",
       "      <td>NaN</td>\n",
       "      <td>NaN</td>\n",
       "      <td>NaN</td>\n",
       "      <td>NaN</td>\n",
       "      <td>NaN</td>\n",
       "      <td>NaN</td>\n",
       "    </tr>\n",
       "    <tr>\n",
       "      <th>A1CF</th>\n",
       "      <td>NaN</td>\n",
       "      <td>NaN</td>\n",
       "      <td>NaN</td>\n",
       "      <td>NaN</td>\n",
       "      <td>NaN</td>\n",
       "      <td>NaN</td>\n",
       "      <td>NaN</td>\n",
       "      <td>NaN</td>\n",
       "      <td>NaN</td>\n",
       "      <td>NaN</td>\n",
       "      <td>...</td>\n",
       "      <td>NaN</td>\n",
       "      <td>NaN</td>\n",
       "      <td>NaN</td>\n",
       "      <td>NaN</td>\n",
       "      <td>NaN</td>\n",
       "      <td>NaN</td>\n",
       "      <td>NaN</td>\n",
       "      <td>NaN</td>\n",
       "      <td>NaN</td>\n",
       "      <td>NaN</td>\n",
       "    </tr>\n",
       "    <tr>\n",
       "      <th>A2BP1</th>\n",
       "      <td>NaN</td>\n",
       "      <td>NaN</td>\n",
       "      <td>NaN</td>\n",
       "      <td>NaN</td>\n",
       "      <td>NaN</td>\n",
       "      <td>NaN</td>\n",
       "      <td>NaN</td>\n",
       "      <td>NaN</td>\n",
       "      <td>NaN</td>\n",
       "      <td>NaN</td>\n",
       "      <td>...</td>\n",
       "      <td>NaN</td>\n",
       "      <td>NaN</td>\n",
       "      <td>NaN</td>\n",
       "      <td>NaN</td>\n",
       "      <td>NaN</td>\n",
       "      <td>NaN</td>\n",
       "      <td>NaN</td>\n",
       "      <td>NaN</td>\n",
       "      <td>NaN</td>\n",
       "      <td>NaN</td>\n",
       "    </tr>\n",
       "    <tr>\n",
       "      <th>A2LD1</th>\n",
       "      <td>NaN</td>\n",
       "      <td>NaN</td>\n",
       "      <td>NaN</td>\n",
       "      <td>NaN</td>\n",
       "      <td>NaN</td>\n",
       "      <td>NaN</td>\n",
       "      <td>NaN</td>\n",
       "      <td>NaN</td>\n",
       "      <td>NaN</td>\n",
       "      <td>NaN</td>\n",
       "      <td>...</td>\n",
       "      <td>NaN</td>\n",
       "      <td>NaN</td>\n",
       "      <td>NaN</td>\n",
       "      <td>NaN</td>\n",
       "      <td>NaN</td>\n",
       "      <td>NaN</td>\n",
       "      <td>NaN</td>\n",
       "      <td>NaN</td>\n",
       "      <td>NaN</td>\n",
       "      <td>NaN</td>\n",
       "    </tr>\n",
       "    <tr>\n",
       "      <th>A2M</th>\n",
       "      <td>NaN</td>\n",
       "      <td>NaN</td>\n",
       "      <td>NaN</td>\n",
       "      <td>NaN</td>\n",
       "      <td>NaN</td>\n",
       "      <td>NaN</td>\n",
       "      <td>NaN</td>\n",
       "      <td>NaN</td>\n",
       "      <td>NaN</td>\n",
       "      <td>NaN</td>\n",
       "      <td>...</td>\n",
       "      <td>NaN</td>\n",
       "      <td>NaN</td>\n",
       "      <td>NaN</td>\n",
       "      <td>NaN</td>\n",
       "      <td>NaN</td>\n",
       "      <td>NaN</td>\n",
       "      <td>NaN</td>\n",
       "      <td>NaN</td>\n",
       "      <td>NaN</td>\n",
       "      <td>NaN</td>\n",
       "    </tr>\n",
       "  </tbody>\n",
       "</table>\n",
       "<p>5 rows × 25128 columns</p>\n",
       "</div>"
      ],
      "text/plain": [
       "       A1BG  A1BG-AS1  A1CF  A2M  A2M-AS1  A2ML1  A2MP1  A3GALT2  A4GALT  \\\n",
       "exp                                                                        \n",
       "A1BG    NaN       NaN   NaN  NaN      NaN    NaN    NaN      NaN     NaN   \n",
       "A1CF    NaN       NaN   NaN  NaN      NaN    NaN    NaN      NaN     NaN   \n",
       "A2BP1   NaN       NaN   NaN  NaN      NaN    NaN    NaN      NaN     NaN   \n",
       "A2LD1   NaN       NaN   NaN  NaN      NaN    NaN    NaN      NaN     NaN   \n",
       "A2M     NaN       NaN   NaN  NaN      NaN    NaN    NaN      NaN     NaN   \n",
       "\n",
       "       A4GNT     ...      hsa-mir-664  hsa-mir-720  hsa-mir-886  hsa-mir-887  \\\n",
       "exp              ...                                                           \n",
       "A1BG     NaN     ...              NaN          NaN          NaN          NaN   \n",
       "A1CF     NaN     ...              NaN          NaN          NaN          NaN   \n",
       "A2BP1    NaN     ...              NaN          NaN          NaN          NaN   \n",
       "A2LD1    NaN     ...              NaN          NaN          NaN          NaN   \n",
       "A2M      NaN     ...              NaN          NaN          NaN          NaN   \n",
       "\n",
       "       hsa-mir-924  hsa-mir-941-1  hsa-mir-941-2  hsa-mir-941-3  hsa-mir-95  \\\n",
       "exp                                                                           \n",
       "A1BG           NaN            NaN            NaN            NaN         NaN   \n",
       "A1CF           NaN            NaN            NaN            NaN         NaN   \n",
       "A2BP1          NaN            NaN            NaN            NaN         NaN   \n",
       "A2LD1          NaN            NaN            NaN            NaN         NaN   \n",
       "A2M            NaN            NaN            NaN            NaN         NaN   \n",
       "\n",
       "       hsa-mir-96  \n",
       "exp                \n",
       "A1BG          NaN  \n",
       "A1CF          NaN  \n",
       "A2BP1         NaN  \n",
       "A2LD1         NaN  \n",
       "A2M           NaN  \n",
       "\n",
       "[5 rows x 25128 columns]"
      ]
     },
     "execution_count": 9,
     "metadata": {},
     "output_type": "execute_result"
    }
   ],
   "source": [
    "# columns are copy-loss  genes\n",
    "# rows are expressed genes\n",
    "# this particular cluster algorithm divides the rows by the column features\n",
    "cpiv.head()"
   ]
  },
  {
   "cell_type": "markdown",
   "metadata": {
    "collapsed": false
   },
   "source": [
    "cpiv.describe()"
   ]
  },
  {
   "cell_type": "code",
   "execution_count": 14,
   "metadata": {
    "collapsed": false
   },
   "outputs": [
    {
     "data": {
      "text/plain": [
       "pandas.core.series.Series"
      ]
     },
     "execution_count": 14,
     "metadata": {},
     "output_type": "execute_result"
    }
   ],
   "source": [
    "n = cpiv.isnull().sum()\n",
    "type(n)"
   ]
  },
  {
   "cell_type": "code",
   "execution_count": 15,
   "metadata": {
    "collapsed": false
   },
   "outputs": [
    {
     "data": {
      "text/plain": [
       "CALU             20204\n",
       "P4HTM            20203\n",
       "FGFR3            20203\n",
       "VEGFA            20203\n",
       "GMDS             20202\n",
       "KCNC4-AS1        20202\n",
       "SKAP2            20201\n",
       "CTD-2270F17.1    20201\n",
       "HMGCL            20201\n",
       "ARHGEF11         20201\n",
       "TMPRSS7          20201\n",
       "RNASEL           20201\n",
       "CENPO            20201\n",
       "OR2T8            20201\n",
       "MGAM             20201\n",
       "PLB1             20200\n",
       "HS6ST2           20200\n",
       "SUSD5            20200\n",
       "MS4A14           20200\n",
       "API5             20200\n",
       "AMELX            20200\n",
       "IFNL1            20200\n",
       "OR2AE1           20200\n",
       "GDPGP1           20200\n",
       "RP6-206I17.2     20200\n",
       "RAB36            20200\n",
       "MIR15A           20200\n",
       "MIR3115          20199\n",
       "C16orf90         20199\n",
       "DNAJB14          20199\n",
       "                 ...  \n",
       "RP5-1070A16.1    20162\n",
       "RP11-5P22.3      20161\n",
       "TDRD5            20161\n",
       "MIR6891          20161\n",
       "H3F3C            20161\n",
       "MIR3146          20161\n",
       "ABHD2            20161\n",
       "TM9SF2           20161\n",
       "KRTAP4-7         20161\n",
       "CBR3             20161\n",
       "CHN2             20161\n",
       "MAP3K14-AS1      20160\n",
       "ZNF530           20160\n",
       "CYSLTR1          20160\n",
       "TRPM6            20160\n",
       "CIB4             20160\n",
       "OR8K5            20160\n",
       "EPT1             20160\n",
       "SRP14            20159\n",
       "SNORA80          20159\n",
       "SNORD81          20159\n",
       "EIF3M            20159\n",
       "MIR5091          20158\n",
       "PRAMEF15         20158\n",
       "PPP3R2           20158\n",
       "DYNLT3           20157\n",
       "PRR20C           20157\n",
       "CHRNA6           20156\n",
       "TRAF3IP1         20156\n",
       "SHISA7           20156\n",
       "dtype: int64"
      ]
     },
     "execution_count": 15,
     "metadata": {},
     "output_type": "execute_result"
    }
   ],
   "source": [
    "n.sort_values(axis=0, ascending=False)"
   ]
  },
  {
   "cell_type": "code",
   "execution_count": null,
   "metadata": {
    "collapsed": false
   },
   "outputs": [],
   "source": [
    "# there are a lot of missing values!\n",
    "# try imputing\n",
    "\n",
    "from sklearn.preprocessing import Imputer, StandardScaler\n",
    "\n",
    "imputer = Imputer(missing_values = 'NaN', strategy='median', axis=1).fit(cpiv)\n",
    "cpiv = imputer.transform(cpiv)\n",
    "scaler = StandardScaler()\n",
    "cpiv = scaler.fit_transform(cpiv)"
   ]
  },
  {
   "cell_type": "code",
   "execution_count": null,
   "metadata": {
    "collapsed": false
   },
   "outputs": [],
   "source": [
    "###### "
   ]
  }
 ],
 "metadata": {
  "kernelspec": {
   "display_name": "Python 3",
   "language": "python",
   "name": "python3"
  },
  "language_info": {
   "codemirror_mode": {
    "name": "ipython",
    "version": 3
   },
   "file_extension": ".py",
   "mimetype": "text/x-python",
   "name": "python",
   "nbconvert_exporter": "python",
   "pygments_lexer": "ipython3",
   "version": "3.4.5"
  }
 },
 "nbformat": 4,
 "nbformat_minor": 0
}
