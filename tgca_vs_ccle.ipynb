{
 "cells": [
  {
   "cell_type": "code",
   "execution_count": 1,
   "metadata": {},
   "outputs": [
    {
     "name": "stderr",
     "output_type": "stream",
     "text": [
      "C:\\Program Files\\Anaconda3\\lib\\site-packages\\matplotlib\\__init__.py:1405: UserWarning: \n",
      "This call to matplotlib.use() has no effect because the backend has already\n",
      "been chosen; matplotlib.use() must be called *before* pylab, matplotlib.pyplot,\n",
      "or matplotlib.backends is imported for the first time.\n",
      "\n",
      "  warnings.warn(_use_error_msg)\n"
     ]
    }
   ],
   "source": [
    "import numpy as np\n",
    "import pandas as pd\n",
    "import seaborn as sns\n",
    "import matplotlib\n",
    "matplotlib.use('Qt4Agg')\n",
    "import matplotlib.pyplot as plt\n",
    "import scipy.stats as stats\n",
    "import cloveFunctions as clv\n",
    "matplotlib.rcParams['figure.figsize'] = (20.0, 10.0)\n",
    "import warnings\n",
    "warnings.filterwarnings('ignore')"
   ]
  },
  {
   "cell_type": "code",
   "execution_count": 4,
   "metadata": {
    "collapsed": true
   },
   "outputs": [],
   "source": [
    "# load TCGA BRCA data\n",
    "het_results = pd.read_csv('brca_1M_clove.tab.gz', compression='gzip', sep='\\t')\n"
   ]
  },
  {
   "cell_type": "code",
   "execution_count": 34,
   "metadata": {
    "collapsed": true
   },
   "outputs": [],
   "source": [
    "# compute CCLE BRCA cloves\n",
    "bexp, bcnv = clv.mainFitler('breast_mrna_df.pickle', var=0.2, n=7)\n",
    "scores = clv.randomPairContextStat(1000000, bexp, bcnv, permute=True)"
   ]
  },
  {
   "cell_type": "code",
   "execution_count": 16,
   "metadata": {},
   "outputs": [
    {
     "name": "stdout",
     "output_type": "stream",
     "text": [
      "0.8371085226673588 p=0.001 cutoff loss\n"
     ]
    },
    {
     "data": {
      "text/html": [
       "<div>\n",
       "<table border=\"1\" class=\"dataframe\">\n",
       "  <thead>\n",
       "    <tr style=\"text-align: right;\">\n",
       "      <th>exp</th>\n",
       "      <th>AIM1</th>\n",
       "      <th>OR6T1</th>\n",
       "      <th>ISOC2</th>\n",
       "      <th>DNAJC17</th>\n",
       "      <th>ANKMY1</th>\n",
       "      <th>RPL18</th>\n",
       "      <th>FZD1</th>\n",
       "      <th>C9orf7</th>\n",
       "      <th>TMEM198</th>\n",
       "      <th>TMEM232</th>\n",
       "      <th>VAC14</th>\n",
       "      <th>RPRD1A</th>\n",
       "      <th>NAA20</th>\n",
       "      <th>MT4</th>\n",
       "      <th>ATP6AP1L</th>\n",
       "      <th>FATE1</th>\n",
       "      <th>SH3BGRL2</th>\n",
       "      <th>CCNT1</th>\n",
       "      <th>GABRA2</th>\n",
       "      <th>TBCB</th>\n",
       "    </tr>\n",
       "  </thead>\n",
       "  <tbody>\n",
       "    <tr>\n",
       "      <th>count</th>\n",
       "      <td>77</td>\n",
       "      <td>76</td>\n",
       "      <td>76</td>\n",
       "      <td>76</td>\n",
       "      <td>75</td>\n",
       "      <td>75</td>\n",
       "      <td>75</td>\n",
       "      <td>74</td>\n",
       "      <td>74</td>\n",
       "      <td>74</td>\n",
       "      <td>73</td>\n",
       "      <td>72</td>\n",
       "      <td>72</td>\n",
       "      <td>72</td>\n",
       "      <td>72</td>\n",
       "      <td>72</td>\n",
       "      <td>72</td>\n",
       "      <td>72</td>\n",
       "      <td>72</td>\n",
       "      <td>72</td>\n",
       "    </tr>\n",
       "  </tbody>\n",
       "</table>\n",
       "</div>"
      ],
      "text/plain": [
       "exp    AIM1  OR6T1  ISOC2  DNAJC17  ANKMY1  RPL18  FZD1  C9orf7  TMEM198  \\\n",
       "count    77     76     76       76      75     75    75      74       74   \n",
       "\n",
       "exp    TMEM232  VAC14  RPRD1A  NAA20  MT4  ATP6AP1L  FATE1  SH3BGRL2  CCNT1  \\\n",
       "count       74     73      72     72   72        72     72        72     72   \n",
       "\n",
       "exp    GABRA2  TBCB  \n",
       "count      72    72  "
      ]
     },
     "execution_count": 16,
     "metadata": {},
     "output_type": "execute_result"
    }
   ],
   "source": [
    "# verticies (exp genes) with most significant egdes (to cnv genes)\n",
    "# TCGA BRCA\n",
    "\n",
    "print((het_results.shape[0] - het_results[het_results['np_p_w'] < 0.001].shape[0])/ het_results.shape[0], \"p=0.001 cutoff loss\")\n",
    "\n",
    "pd.DataFrame(het_results.groupby(['exp']).size(), columns=['count']).sort_values(by='count', ascending=False).head(20).transpose()"
   ]
  },
  {
   "cell_type": "code",
   "execution_count": 113,
   "metadata": {
    "collapsed": true
   },
   "outputs": [],
   "source": [
    "# top/bot 10k clove t-stats\n",
    "\n",
    "#ccle\n",
    "scores['type'] = 'CCLE'\n",
    "ccle_top = scores.sort_values(by='np_t_w', ascending=False).head(10000)[['exp','cnv','np_t_w','np_p_w','type']]\n",
    "ccle_bot = scores.sort_values(by='np_t_w', ascending=True).head(10000)[['exp','cnv','np_t_w','np_p_w','type']]\n",
    "\n",
    "#tcga\n",
    "het_results['type'] = 'TCGA'\n",
    "tcga_top = het_results.sort_values(by='np_t_w', ascending=False).head(10000)[['exp','cnv','np_t_w','np_p_w','type']]\n",
    "tcga_bot = het_results.sort_values(by='np_t_w', ascending=True).head(10000)[['exp','cnv','np_t_w','np_p_w','type']]\n",
    "\n"
   ]
  },
  {
   "cell_type": "code",
   "execution_count": 114,
   "metadata": {
    "collapsed": true
   },
   "outputs": [],
   "source": [
    "box_data_top = pd.concat([pd.DataFrame(ccle_top), pd.DataFrame(tcga_top)])\n",
    "box_data_bot = pd.concat([pd.DataFrame(ccle_bot), pd.DataFrame(tcga_bot)])"
   ]
  },
  {
   "cell_type": "code",
   "execution_count": 115,
   "metadata": {},
   "outputs": [
    {
     "data": {
      "text/plain": [
       "<matplotlib.axes._subplots.AxesSubplot at 0x1a54c1b8cc0>"
      ]
     },
     "execution_count": 115,
     "metadata": {},
     "output_type": "execute_result"
    },
    {
     "data": {
      "image/png": "[encoded data removed]",
      "text/plain": [
       "<matplotlib.figure.Figure at 0x1a5571b2b70>"
      ]
     },
     "metadata": {},
     "output_type": "display_data"
    }
   ],
   "source": [
    "%matplotlib inline\n",
    "sns.boxplot(x='type', y='np_t_w', data=box_data_top)"
   ]
  },
  {
   "cell_type": "code",
   "execution_count": 116,
   "metadata": {},
   "outputs": [
    {
     "data": {
      "text/plain": [
       "<matplotlib.axes._subplots.AxesSubplot at 0x1a51979cba8>"
      ]
     },
     "execution_count": 116,
     "metadata": {},
     "output_type": "execute_result"
    },
    {
     "data": {
      "image/png": "[encoded data removed]",
      "text/plain": [
       "<matplotlib.figure.Figure at 0x1a50047ec18>"
      ]
     },
     "metadata": {},
     "output_type": "display_data"
    }
   ],
   "source": [
    "%matplotlib inline\n",
    "sns.boxplot(x='type', y='np_t_w', data=box_data_bot)"
   ]
  },
  {
   "cell_type": "code",
   "execution_count": 122,
   "metadata": {
    "collapsed": true
   },
   "outputs": [],
   "source": [
    "#reindex both TCGA and CCLE results df, and reset index for calculations\n",
    "het_results['pair'] = het_results['exp'] + ' : ' + het_results['cnv']\n",
    "tcga = pd.DataFrame(het_results.set_index('pair')[['np_t_w','np_p_w']])\n",
    "tcga.columns = [['TCGA','TCGA_p']]\n",
    "\n",
    "scores['pair'] = scores['exp'] + ' : ' + scores['cnv']\n",
    "ccle = pd.DataFrame(scores.set_index('pair')[['np_t_w','np_p_w']])\n",
    "ccle.columns = [['CCLE','CCLE_p']]\n",
    "\n",
    "merged = pd.merge(tcga, ccle, how='inner', left_index=True, right_index=True)"
   ]
  },
  {
   "cell_type": "code",
   "execution_count": 123,
   "metadata": {},
   "outputs": [
    {
     "data": {
      "text/plain": [
       "<seaborn.axisgrid.JointGrid at 0x1a502879128>"
      ]
     },
     "execution_count": 123,
     "metadata": {},
     "output_type": "execute_result"
    },
    {
     "data": {
      "image/png": "[encoded data removed]",
      "text/plain": [
       "<matplotlib.figure.Figure at 0x1a502879f28>"
      ]
     },
     "metadata": {},
     "output_type": "display_data"
    }
   ],
   "source": [
    "%matplotlib inline\n",
    "sns.jointplot(data=merged, x='TCGA', y='CCLE', color='purple')"
   ]
  },
  {
   "cell_type": "code",
   "execution_count": 124,
   "metadata": {},
   "outputs": [
    {
     "data": {
      "text/html": [
       "<div>\n",
       "<table border=\"1\" class=\"dataframe\">\n",
       "  <thead>\n",
       "    <tr style=\"text-align: right;\">\n",
       "      <th></th>\n",
       "      <th>TCGA</th>\n",
       "      <th>TCGA_p</th>\n",
       "      <th>CCLE</th>\n",
       "      <th>CCLE_p</th>\n",
       "      <th>abs_diff</th>\n",
       "    </tr>\n",
       "    <tr>\n",
       "      <th>pair</th>\n",
       "      <th></th>\n",
       "      <th></th>\n",
       "      <th></th>\n",
       "      <th></th>\n",
       "      <th></th>\n",
       "    </tr>\n",
       "  </thead>\n",
       "  <tbody>\n",
       "    <tr>\n",
       "      <th>DEK : IL5</th>\n",
       "      <td>12.991551</td>\n",
       "      <td>6.300324e-36</td>\n",
       "      <td>0.349958</td>\n",
       "      <td>0.72766</td>\n",
       "      <td>12.6416</td>\n",
       "    </tr>\n",
       "    <tr>\n",
       "      <th>TSR1 : P2RX5</th>\n",
       "      <td>-15.552545</td>\n",
       "      <td>2.659855e-49</td>\n",
       "      <td>-4.62833</td>\n",
       "      <td>2.17332e-05</td>\n",
       "      <td>10.9242</td>\n",
       "    </tr>\n",
       "    <tr>\n",
       "      <th>RFC4 : PCDHA10</th>\n",
       "      <td>11.667701</td>\n",
       "      <td>1.097377e-29</td>\n",
       "      <td>0.911431</td>\n",
       "      <td>0.365907</td>\n",
       "      <td>10.7563</td>\n",
       "    </tr>\n",
       "    <tr>\n",
       "      <th>GEN1 : ZBTB42</th>\n",
       "      <td>7.974923</td>\n",
       "      <td>3.914921e-15</td>\n",
       "      <td>-0.817431</td>\n",
       "      <td>0.417086</td>\n",
       "      <td>8.79235</td>\n",
       "    </tr>\n",
       "    <tr>\n",
       "      <th>OCRL : FNDC5</th>\n",
       "      <td>7.781053</td>\n",
       "      <td>1.695290e-14</td>\n",
       "      <td>-0.464296</td>\n",
       "      <td>0.644204</td>\n",
       "      <td>8.24535</td>\n",
       "    </tr>\n",
       "  </tbody>\n",
       "</table>\n",
       "</div>"
      ],
      "text/plain": [
       "                     TCGA        TCGA_p      CCLE       CCLE_p abs_diff\n",
       "pair                                                                   \n",
       "DEK : IL5       12.991551  6.300324e-36  0.349958      0.72766  12.6416\n",
       "TSR1 : P2RX5   -15.552545  2.659855e-49  -4.62833  2.17332e-05  10.9242\n",
       "RFC4 : PCDHA10  11.667701  1.097377e-29  0.911431     0.365907  10.7563\n",
       "GEN1 : ZBTB42    7.974923  3.914921e-15 -0.817431     0.417086  8.79235\n",
       "OCRL : FNDC5     7.781053  1.695290e-14 -0.464296     0.644204  8.24535"
      ]
     },
     "execution_count": 124,
     "metadata": {},
     "output_type": "execute_result"
    }
   ],
   "source": [
    "merged['abs_diff'] = abs(merged['TCGA'] - merged['CCLE'])\n",
    "merge_sort = merged.sort_values(by='abs_diff', ascending=False)\n",
    "merge_sort.head()"
   ]
  },
  {
   "cell_type": "code",
   "execution_count": 125,
   "metadata": {},
   "outputs": [
    {
     "data": {
      "text/html": [
       "<div>\n",
       "<table border=\"1\" class=\"dataframe\">\n",
       "  <thead>\n",
       "    <tr style=\"text-align: right;\">\n",
       "      <th></th>\n",
       "      <th>TCGA</th>\n",
       "      <th>TCGA_p</th>\n",
       "      <th>CCLE</th>\n",
       "      <th>CCLE_p</th>\n",
       "      <th>abs_diff</th>\n",
       "    </tr>\n",
       "    <tr>\n",
       "      <th>pair</th>\n",
       "      <th></th>\n",
       "      <th></th>\n",
       "      <th></th>\n",
       "      <th></th>\n",
       "      <th></th>\n",
       "    </tr>\n",
       "  </thead>\n",
       "  <tbody>\n",
       "    <tr>\n",
       "      <th>MRPS26 : MLEC</th>\n",
       "      <td>2.582179</td>\n",
       "      <td>0.009951</td>\n",
       "      <td>1.99818</td>\n",
       "      <td>0.0504759</td>\n",
       "      <td>0.583998</td>\n",
       "    </tr>\n",
       "    <tr>\n",
       "      <th>DCUN1D5 : GPS2</th>\n",
       "      <td>2.439519</td>\n",
       "      <td>0.014869</td>\n",
       "      <td>2.21486</td>\n",
       "      <td>0.0307824</td>\n",
       "      <td>0.224663</td>\n",
       "    </tr>\n",
       "    <tr>\n",
       "      <th>ADNP : SNORD116-29</th>\n",
       "      <td>2.325801</td>\n",
       "      <td>0.020216</td>\n",
       "      <td>1.90995</td>\n",
       "      <td>0.0611765</td>\n",
       "      <td>0.415855</td>\n",
       "    </tr>\n",
       "    <tr>\n",
       "      <th>DHCR24 : USP17L8</th>\n",
       "      <td>2.048079</td>\n",
       "      <td>0.040797</td>\n",
       "      <td>1.35794</td>\n",
       "      <td>0.179833</td>\n",
       "      <td>0.690135</td>\n",
       "    </tr>\n",
       "    <tr>\n",
       "      <th>LRBA : CENPT</th>\n",
       "      <td>1.696337</td>\n",
       "      <td>0.090115</td>\n",
       "      <td>1.07021</td>\n",
       "      <td>0.289037</td>\n",
       "      <td>0.62613</td>\n",
       "    </tr>\n",
       "    <tr>\n",
       "      <th>PRPF4 : BNIP3L</th>\n",
       "      <td>1.440928</td>\n",
       "      <td>0.149899</td>\n",
       "      <td>2.03635</td>\n",
       "      <td>0.0463706</td>\n",
       "      <td>0.595424</td>\n",
       "    </tr>\n",
       "    <tr>\n",
       "      <th>SMCHD1 : TLL1</th>\n",
       "      <td>1.365785</td>\n",
       "      <td>0.172295</td>\n",
       "      <td>0.798874</td>\n",
       "      <td>0.42768</td>\n",
       "      <td>0.566911</td>\n",
       "    </tr>\n",
       "    <tr>\n",
       "      <th>UBA3 : MIR149</th>\n",
       "      <td>1.307502</td>\n",
       "      <td>0.191325</td>\n",
       "      <td>1.10321</td>\n",
       "      <td>0.274572</td>\n",
       "      <td>0.204292</td>\n",
       "    </tr>\n",
       "    <tr>\n",
       "      <th>SF3A3 : MBD5</th>\n",
       "      <td>1.296459</td>\n",
       "      <td>0.195099</td>\n",
       "      <td>1.73798</td>\n",
       "      <td>0.0876152</td>\n",
       "      <td>0.441517</td>\n",
       "    </tr>\n",
       "    <tr>\n",
       "      <th>ENOPH1 : ANKRD30B</th>\n",
       "      <td>1.278685</td>\n",
       "      <td>0.201287</td>\n",
       "      <td>1.36861</td>\n",
       "      <td>0.176491</td>\n",
       "      <td>0.0899262</td>\n",
       "    </tr>\n",
       "    <tr>\n",
       "      <th>SMARCA5 : UNQ6494</th>\n",
       "      <td>1.187729</td>\n",
       "      <td>0.235205</td>\n",
       "      <td>0.905934</td>\n",
       "      <td>0.368784</td>\n",
       "      <td>0.281795</td>\n",
       "    </tr>\n",
       "    <tr>\n",
       "      <th>LSM7 : FAM213A</th>\n",
       "      <td>1.160888</td>\n",
       "      <td>0.245948</td>\n",
       "      <td>0.851457</td>\n",
       "      <td>0.398079</td>\n",
       "      <td>0.309432</td>\n",
       "    </tr>\n",
       "    <tr>\n",
       "      <th>DHCR7 : UBL4B</th>\n",
       "      <td>1.061625</td>\n",
       "      <td>0.288647</td>\n",
       "      <td>1.49741</td>\n",
       "      <td>0.139803</td>\n",
       "      <td>0.43579</td>\n",
       "    </tr>\n",
       "    <tr>\n",
       "      <th>AGXT2L2 : TMEM135</th>\n",
       "      <td>1.025896</td>\n",
       "      <td>0.305174</td>\n",
       "      <td>1.4681</td>\n",
       "      <td>0.147573</td>\n",
       "      <td>0.442208</td>\n",
       "    </tr>\n",
       "    <tr>\n",
       "      <th>MTMR12 : CPSF7</th>\n",
       "      <td>1.004178</td>\n",
       "      <td>0.315521</td>\n",
       "      <td>0.43093</td>\n",
       "      <td>0.668144</td>\n",
       "      <td>0.573248</td>\n",
       "    </tr>\n",
       "    <tr>\n",
       "      <th>PIGO : EBF3</th>\n",
       "      <td>0.983351</td>\n",
       "      <td>0.325658</td>\n",
       "      <td>1.33266</td>\n",
       "      <td>0.187945</td>\n",
       "      <td>0.349314</td>\n",
       "    </tr>\n",
       "    <tr>\n",
       "      <th>SDF2L1 : KCNU1</th>\n",
       "      <td>0.940402</td>\n",
       "      <td>0.347225</td>\n",
       "      <td>0.837971</td>\n",
       "      <td>0.405547</td>\n",
       "      <td>0.102431</td>\n",
       "    </tr>\n",
       "    <tr>\n",
       "      <th>PRDX2 : CDC14A</th>\n",
       "      <td>0.869356</td>\n",
       "      <td>0.384848</td>\n",
       "      <td>0.731772</td>\n",
       "      <td>0.467306</td>\n",
       "      <td>0.137585</td>\n",
       "    </tr>\n",
       "    <tr>\n",
       "      <th>STX17 : MIR4323</th>\n",
       "      <td>0.852914</td>\n",
       "      <td>0.393899</td>\n",
       "      <td>0.180661</td>\n",
       "      <td>0.857274</td>\n",
       "      <td>0.672252</td>\n",
       "    </tr>\n",
       "    <tr>\n",
       "      <th>FAM158A : ST18</th>\n",
       "      <td>0.831468</td>\n",
       "      <td>0.405896</td>\n",
       "      <td>1.24891</td>\n",
       "      <td>0.216803</td>\n",
       "      <td>0.417443</td>\n",
       "    </tr>\n",
       "  </tbody>\n",
       "</table>\n",
       "</div>"
      ],
      "text/plain": [
       "                        TCGA    TCGA_p      CCLE     CCLE_p   abs_diff\n",
       "pair                                                                  \n",
       "MRPS26 : MLEC       2.582179  0.009951   1.99818  0.0504759   0.583998\n",
       "DCUN1D5 : GPS2      2.439519  0.014869   2.21486  0.0307824   0.224663\n",
       "ADNP : SNORD116-29  2.325801  0.020216   1.90995  0.0611765   0.415855\n",
       "DHCR24 : USP17L8    2.048079  0.040797   1.35794   0.179833   0.690135\n",
       "LRBA : CENPT        1.696337  0.090115   1.07021   0.289037    0.62613\n",
       "PRPF4 : BNIP3L      1.440928  0.149899   2.03635  0.0463706   0.595424\n",
       "SMCHD1 : TLL1       1.365785  0.172295  0.798874    0.42768   0.566911\n",
       "UBA3 : MIR149       1.307502  0.191325   1.10321   0.274572   0.204292\n",
       "SF3A3 : MBD5        1.296459  0.195099   1.73798  0.0876152   0.441517\n",
       "ENOPH1 : ANKRD30B   1.278685  0.201287   1.36861   0.176491  0.0899262\n",
       "SMARCA5 : UNQ6494   1.187729  0.235205  0.905934   0.368784   0.281795\n",
       "LSM7 : FAM213A      1.160888  0.245948  0.851457   0.398079   0.309432\n",
       "DHCR7 : UBL4B       1.061625  0.288647   1.49741   0.139803    0.43579\n",
       "AGXT2L2 : TMEM135   1.025896  0.305174    1.4681   0.147573   0.442208\n",
       "MTMR12 : CPSF7      1.004178  0.315521   0.43093   0.668144   0.573248\n",
       "PIGO : EBF3         0.983351  0.325658   1.33266   0.187945   0.349314\n",
       "SDF2L1 : KCNU1      0.940402  0.347225  0.837971   0.405547   0.102431\n",
       "PRDX2 : CDC14A      0.869356  0.384848  0.731772   0.467306   0.137585\n",
       "STX17 : MIR4323     0.852914  0.393899  0.180661   0.857274   0.672252\n",
       "FAM158A : ST18      0.831468  0.405896   1.24891   0.216803   0.417443"
      ]
     },
     "execution_count": 125,
     "metadata": {},
     "output_type": "execute_result"
    }
   ],
   "source": [
    "merge_sort[merge_sort['abs_diff'] < 0.75].sort_values(by='TCGA', ascending=False).head(20)"
   ]
  },
  {
   "cell_type": "code",
   "execution_count": 132,
   "metadata": {},
   "outputs": [
    {
     "data": {
      "text/html": [
       "<div>\n",
       "<table border=\"1\" class=\"dataframe\">\n",
       "  <thead>\n",
       "    <tr style=\"text-align: right;\">\n",
       "      <th></th>\n",
       "      <th>TCGA</th>\n",
       "      <th>TCGA_p</th>\n",
       "      <th>CCLE</th>\n",
       "      <th>CCLE_p</th>\n",
       "      <th>resid</th>\n",
       "    </tr>\n",
       "    <tr>\n",
       "      <th>pair</th>\n",
       "      <th></th>\n",
       "      <th></th>\n",
       "      <th></th>\n",
       "      <th></th>\n",
       "      <th></th>\n",
       "    </tr>\n",
       "  </thead>\n",
       "  <tbody>\n",
       "    <tr>\n",
       "      <th>DCUN1D5 : GPS2</th>\n",
       "      <td>2.439519</td>\n",
       "      <td>1.486934e-02</td>\n",
       "      <td>2.21486</td>\n",
       "      <td>0.0307824</td>\n",
       "      <td>0.293465</td>\n",
       "    </tr>\n",
       "    <tr>\n",
       "      <th>ADNP : SNORD116-29</th>\n",
       "      <td>2.325801</td>\n",
       "      <td>2.021640e-02</td>\n",
       "      <td>1.90995</td>\n",
       "      <td>0.0611765</td>\n",
       "      <td>0.368200</td>\n",
       "    </tr>\n",
       "    <tr>\n",
       "      <th>MRPS26 : MLEC</th>\n",
       "      <td>2.582179</td>\n",
       "      <td>9.950587e-03</td>\n",
       "      <td>1.99818</td>\n",
       "      <td>0.0504759</td>\n",
       "      <td>0.570044</td>\n",
       "    </tr>\n",
       "    <tr>\n",
       "      <th>CTCF : INCENP</th>\n",
       "      <td>2.613891</td>\n",
       "      <td>9.078162e-03</td>\n",
       "      <td>1.80309</td>\n",
       "      <td>0.0766609</td>\n",
       "      <td>0.722335</td>\n",
       "    </tr>\n",
       "    <tr>\n",
       "      <th>TTC35 : RANBP10</th>\n",
       "      <td>-1.726621</td>\n",
       "      <td>8.452607e-02</td>\n",
       "      <td>-2.37435</td>\n",
       "      <td>0.0209702</td>\n",
       "      <td>-1.036254</td>\n",
       "    </tr>\n",
       "    <tr>\n",
       "      <th>PCGF2 : ZNF430</th>\n",
       "      <td>1.812377</td>\n",
       "      <td>7.020968e-02</td>\n",
       "      <td>-1.74099</td>\n",
       "      <td>0.0870806</td>\n",
       "      <td>2.111291</td>\n",
       "    </tr>\n",
       "    <tr>\n",
       "      <th>FTSJ2 : SEC31B</th>\n",
       "      <td>4.026033</td>\n",
       "      <td>6.074862e-05</td>\n",
       "      <td>1.70588</td>\n",
       "      <td>0.0934743</td>\n",
       "      <td>2.194558</td>\n",
       "    </tr>\n",
       "    <tr>\n",
       "      <th>CTBS : NPS</th>\n",
       "      <td>-2.841394</td>\n",
       "      <td>4.577404e-03</td>\n",
       "      <td>-2.14075</td>\n",
       "      <td>0.0365841</td>\n",
       "      <td>-2.295401</td>\n",
       "    </tr>\n",
       "    <tr>\n",
       "      <th>PROSC : USP45</th>\n",
       "      <td>4.337250</td>\n",
       "      <td>1.579867e-05</td>\n",
       "      <td>1.76244</td>\n",
       "      <td>0.0833561</td>\n",
       "      <td>2.470818</td>\n",
       "    </tr>\n",
       "    <tr>\n",
       "      <th>CCDC99 : ANK1</th>\n",
       "      <td>2.579336</td>\n",
       "      <td>1.003234e-02</td>\n",
       "      <td>-1.78798</td>\n",
       "      <td>0.079095</td>\n",
       "      <td>2.907291</td>\n",
       "    </tr>\n",
       "    <tr>\n",
       "      <th>MIER1 : SUMO4</th>\n",
       "      <td>2.323341</td>\n",
       "      <td>2.034859e-02</td>\n",
       "      <td>-2.34044</td>\n",
       "      <td>0.0227846</td>\n",
       "      <td>2.992750</td>\n",
       "    </tr>\n",
       "    <tr>\n",
       "      <th>PGP : CDH19</th>\n",
       "      <td>2.963584</td>\n",
       "      <td>3.108485e-03</td>\n",
       "      <td>-1.78147</td>\n",
       "      <td>0.0801627</td>\n",
       "      <td>3.287519</td>\n",
       "    </tr>\n",
       "    <tr>\n",
       "      <th>XPNPEP3 : CLPTM1</th>\n",
       "      <td>3.168878</td>\n",
       "      <td>1.573920e-03</td>\n",
       "      <td>-1.78408</td>\n",
       "      <td>0.0797344</td>\n",
       "      <td>3.494421</td>\n",
       "    </tr>\n",
       "    <tr>\n",
       "      <th>PSMD13 : MCHR1</th>\n",
       "      <td>2.760603</td>\n",
       "      <td>5.868638e-03</td>\n",
       "      <td>-2.69697</td>\n",
       "      <td>0.0091854</td>\n",
       "      <td>3.650372</td>\n",
       "    </tr>\n",
       "    <tr>\n",
       "      <th>C1orf27 : WDR63</th>\n",
       "      <td>5.712752</td>\n",
       "      <td>1.441956e-08</td>\n",
       "      <td>1.91104</td>\n",
       "      <td>0.0610325</td>\n",
       "      <td>3.754474</td>\n",
       "    </tr>\n",
       "    <tr>\n",
       "      <th>COMMD10 : BBS4</th>\n",
       "      <td>-4.202224</td>\n",
       "      <td>2.864731e-05</td>\n",
       "      <td>-1.79118</td>\n",
       "      <td>0.0785741</td>\n",
       "      <td>-3.872290</td>\n",
       "    </tr>\n",
       "    <tr>\n",
       "      <th>NARF : MGC12916</th>\n",
       "      <td>3.783138</td>\n",
       "      <td>1.634944e-04</td>\n",
       "      <td>-1.71574</td>\n",
       "      <td>0.0916413</td>\n",
       "      <td>4.066444</td>\n",
       "    </tr>\n",
       "    <tr>\n",
       "      <th>EPRS : AQP11</th>\n",
       "      <td>-2.369341</td>\n",
       "      <td>1.799751e-02</td>\n",
       "      <td>1.76328</td>\n",
       "      <td>0.0832133</td>\n",
       "      <td>-4.236292</td>\n",
       "    </tr>\n",
       "    <tr>\n",
       "      <th>CIRBP : PPP1R2P9</th>\n",
       "      <td>-4.715148</td>\n",
       "      <td>2.736172e-06</td>\n",
       "      <td>-1.69819</td>\n",
       "      <td>0.0949256</td>\n",
       "      <td>-4.442689</td>\n",
       "    </tr>\n",
       "    <tr>\n",
       "      <th>EEF1A1 : FUT5</th>\n",
       "      <td>-5.269395</td>\n",
       "      <td>1.656410e-07</td>\n",
       "      <td>-2.06036</td>\n",
       "      <td>0.0439394</td>\n",
       "      <td>-4.773092</td>\n",
       "    </tr>\n",
       "  </tbody>\n",
       "</table>\n",
       "</div>"
      ],
      "text/plain": [
       "                        TCGA        TCGA_p     CCLE     CCLE_p     resid\n",
       "pair                                                                    \n",
       "DCUN1D5 : GPS2      2.439519  1.486934e-02  2.21486  0.0307824  0.293465\n",
       "ADNP : SNORD116-29  2.325801  2.021640e-02  1.90995  0.0611765  0.368200\n",
       "MRPS26 : MLEC       2.582179  9.950587e-03  1.99818  0.0504759  0.570044\n",
       "CTCF : INCENP       2.613891  9.078162e-03  1.80309  0.0766609  0.722335\n",
       "TTC35 : RANBP10    -1.726621  8.452607e-02 -2.37435  0.0209702 -1.036254\n",
       "PCGF2 : ZNF430      1.812377  7.020968e-02 -1.74099  0.0870806  2.111291\n",
       "FTSJ2 : SEC31B      4.026033  6.074862e-05  1.70588  0.0934743  2.194558\n",
       "CTBS : NPS         -2.841394  4.577404e-03 -2.14075  0.0365841 -2.295401\n",
       "PROSC : USP45       4.337250  1.579867e-05  1.76244  0.0833561  2.470818\n",
       "CCDC99 : ANK1       2.579336  1.003234e-02 -1.78798   0.079095  2.907291\n",
       "MIER1 : SUMO4       2.323341  2.034859e-02 -2.34044  0.0227846  2.992750\n",
       "PGP : CDH19         2.963584  3.108485e-03 -1.78147  0.0801627  3.287519\n",
       "XPNPEP3 : CLPTM1    3.168878  1.573920e-03 -1.78408  0.0797344  3.494421\n",
       "PSMD13 : MCHR1      2.760603  5.868638e-03 -2.69697  0.0091854  3.650372\n",
       "C1orf27 : WDR63     5.712752  1.441956e-08  1.91104  0.0610325  3.754474\n",
       "COMMD10 : BBS4     -4.202224  2.864731e-05 -1.79118  0.0785741 -3.872290\n",
       "NARF : MGC12916     3.783138  1.634944e-04 -1.71574  0.0916413  4.066444\n",
       "EPRS : AQP11       -2.369341  1.799751e-02  1.76328  0.0832133 -4.236292\n",
       "CIRBP : PPP1R2P9   -4.715148  2.736172e-06 -1.69819  0.0949256 -4.442689\n",
       "EEF1A1 : FUT5      -5.269395  1.656410e-07 -2.06036  0.0439394 -4.773092"
      ]
     },
     "execution_count": 132,
     "metadata": {},
     "output_type": "execute_result"
    }
   ],
   "source": [
    "model = pd.ols(y=merge_sort.TCGA, x=merge_sort.CCLE)\n",
    "merge_sort['resid'] = model.resid\n",
    "merge_sort['resid_abs'] = abs(merge_sort['resid'])\n",
    "\n",
    "merge_sort.to_csv('tcga_vs_ccle_BRCA', compression='gzip')\n",
    "\n",
    "#indices to annotate\n",
    "merge_sort[(merge_sort['TCGA_p'] < 0.1) &\n",
    "          (merge_sort['CCLE_p'] < 0.1)].sort_values(by='resid_abs', ascending=True)[['TCGA','TCGA_p','CCLE','CCLE_p','resid']].head(20)"
   ]
  },
  {
   "cell_type": "markdown",
   "metadata": {},
   "source": [
    "## COMPARE LUADs (TCGA and CCLE)"
   ]
  },
  {
   "cell_type": "code",
   "execution_count": null,
   "metadata": {
    "collapsed": true
   },
   "outputs": [],
   "source": [
    "# select LUAD data from \n",
    "\n",
    "luad_samples = list(pd.read_json('LUAD_cases_2018-03-23.json')['submitter_id'])\n",
    "exp = pd.read_csv('exp_tab.gz', compression='gzip', sep='\\t', error_bad_lines = False )\n",
    "cnv = pd.read_csv('cnv_tab.gz', compression='gzip', sep='\\t', error_bad_lines = False )\n",
    "\n",
    "luad_cnv, luad_exp = clv.tcgaTissueSelect(luad_samples, 'luad', cnv, exp)"
   ]
  },
  {
   "cell_type": "code",
   "execution_count": 3,
   "metadata": {
    "collapsed": true
   },
   "outputs": [
    {
     "ename": "CParserError",
     "evalue": "Error tokenizing data. C error: out of memory",
     "output_type": "error",
     "traceback": [
      "\u001b[1;31m---------------------------------------------------------------------------\u001b[0m",
      "\u001b[1;31mCParserError\u001b[0m                              Traceback (most recent call last)",
      "\u001b[1;32m<ipython-input-3-7e2d6768cf61>\u001b[0m in \u001b[0;36m<module>\u001b[1;34m()\u001b[0m\n\u001b[0;32m      2\u001b[0m \u001b[1;33m\u001b[0m\u001b[0m\n\u001b[0;32m      3\u001b[0m \u001b[0mmylist\u001b[0m \u001b[1;33m=\u001b[0m \u001b[1;33m[\u001b[0m\u001b[1;33m]\u001b[0m\u001b[1;33m\u001b[0m\u001b[0m\n\u001b[1;32m----> 4\u001b[1;33m \u001b[1;32mfor\u001b[0m \u001b[0mchunk\u001b[0m \u001b[1;32min\u001b[0m  \u001b[0mpd\u001b[0m\u001b[1;33m.\u001b[0m\u001b[0mread_csv\u001b[0m\u001b[1;33m(\u001b[0m\u001b[1;34m'exp_tab.gz'\u001b[0m\u001b[1;33m,\u001b[0m \u001b[0mcompression\u001b[0m\u001b[1;33m=\u001b[0m\u001b[1;34m'gzip'\u001b[0m\u001b[1;33m,\u001b[0m \u001b[0mchunksize\u001b[0m\u001b[1;33m=\u001b[0m\u001b[1;36m20000\u001b[0m\u001b[1;33m)\u001b[0m\u001b[1;33m:\u001b[0m\u001b[1;33m\u001b[0m\u001b[0m\n\u001b[0m\u001b[0;32m      5\u001b[0m     \u001b[0mmylist\u001b[0m\u001b[1;33m.\u001b[0m\u001b[0mappend\u001b[0m\u001b[1;33m(\u001b[0m\u001b[0mchunk\u001b[0m\u001b[1;33m)\u001b[0m\u001b[1;33m\u001b[0m\u001b[0m\n\u001b[0;32m      6\u001b[0m \u001b[0mexp\u001b[0m \u001b[1;33m=\u001b[0m \u001b[0mpd\u001b[0m\u001b[1;33m.\u001b[0m\u001b[0mconcat\u001b[0m\u001b[1;33m(\u001b[0m\u001b[0mmylist\u001b[0m\u001b[1;33m,\u001b[0m \u001b[0maxis\u001b[0m\u001b[1;33m=\u001b[0m \u001b[1;36m0\u001b[0m\u001b[1;33m)\u001b[0m\u001b[1;33m\u001b[0m\u001b[0m\n",
      "\u001b[1;32mC:\\Users\\test\\Anaconda3\\lib\\site-packages\\pandas\\io\\parsers.py\u001b[0m in \u001b[0;36m__next__\u001b[1;34m(self)\u001b[0m\n\u001b[0;32m    914\u001b[0m     \u001b[1;32mdef\u001b[0m \u001b[0m__next__\u001b[0m\u001b[1;33m(\u001b[0m\u001b[0mself\u001b[0m\u001b[1;33m)\u001b[0m\u001b[1;33m:\u001b[0m\u001b[1;33m\u001b[0m\u001b[0m\n\u001b[0;32m    915\u001b[0m         \u001b[1;32mtry\u001b[0m\u001b[1;33m:\u001b[0m\u001b[1;33m\u001b[0m\u001b[0m\n\u001b[1;32m--> 916\u001b[1;33m             \u001b[1;32mreturn\u001b[0m \u001b[0mself\u001b[0m\u001b[1;33m.\u001b[0m\u001b[0mget_chunk\u001b[0m\u001b[1;33m(\u001b[0m\u001b[1;33m)\u001b[0m\u001b[1;33m\u001b[0m\u001b[0m\n\u001b[0m\u001b[0;32m    917\u001b[0m         \u001b[1;32mexcept\u001b[0m \u001b[0mStopIteration\u001b[0m\u001b[1;33m:\u001b[0m\u001b[1;33m\u001b[0m\u001b[0m\n\u001b[0;32m    918\u001b[0m             \u001b[0mself\u001b[0m\u001b[1;33m.\u001b[0m\u001b[0mclose\u001b[0m\u001b[1;33m(\u001b[0m\u001b[1;33m)\u001b[0m\u001b[1;33m\u001b[0m\u001b[0m\n",
      "\u001b[1;32mC:\\Users\\test\\Anaconda3\\lib\\site-packages\\pandas\\io\\parsers.py\u001b[0m in \u001b[0;36mget_chunk\u001b[1;34m(self, size)\u001b[0m\n\u001b[0;32m    970\u001b[0m         \u001b[1;32mif\u001b[0m \u001b[0msize\u001b[0m \u001b[1;32mis\u001b[0m \u001b[1;32mNone\u001b[0m\u001b[1;33m:\u001b[0m\u001b[1;33m\u001b[0m\u001b[0m\n\u001b[0;32m    971\u001b[0m             \u001b[0msize\u001b[0m \u001b[1;33m=\u001b[0m \u001b[0mself\u001b[0m\u001b[1;33m.\u001b[0m\u001b[0mchunksize\u001b[0m\u001b[1;33m\u001b[0m\u001b[0m\n\u001b[1;32m--> 972\u001b[1;33m         \u001b[1;32mreturn\u001b[0m \u001b[0mself\u001b[0m\u001b[1;33m.\u001b[0m\u001b[0mread\u001b[0m\u001b[1;33m(\u001b[0m\u001b[0mnrows\u001b[0m\u001b[1;33m=\u001b[0m\u001b[0msize\u001b[0m\u001b[1;33m)\u001b[0m\u001b[1;33m\u001b[0m\u001b[0m\n\u001b[0m\u001b[0;32m    973\u001b[0m \u001b[1;33m\u001b[0m\u001b[0m\n\u001b[0;32m    974\u001b[0m \u001b[1;33m\u001b[0m\u001b[0m\n",
      "\u001b[1;32mC:\\Users\\test\\Anaconda3\\lib\\site-packages\\pandas\\io\\parsers.py\u001b[0m in \u001b[0;36mread\u001b[1;34m(self, nrows)\u001b[0m\n\u001b[0;32m    937\u001b[0m                 \u001b[1;32mraise\u001b[0m \u001b[0mValueError\u001b[0m\u001b[1;33m(\u001b[0m\u001b[1;34m'skipfooter not supported for iteration'\u001b[0m\u001b[1;33m)\u001b[0m\u001b[1;33m\u001b[0m\u001b[0m\n\u001b[0;32m    938\u001b[0m \u001b[1;33m\u001b[0m\u001b[0m\n\u001b[1;32m--> 939\u001b[1;33m         \u001b[0mret\u001b[0m \u001b[1;33m=\u001b[0m \u001b[0mself\u001b[0m\u001b[1;33m.\u001b[0m\u001b[0m_engine\u001b[0m\u001b[1;33m.\u001b[0m\u001b[0mread\u001b[0m\u001b[1;33m(\u001b[0m\u001b[0mnrows\u001b[0m\u001b[1;33m)\u001b[0m\u001b[1;33m\u001b[0m\u001b[0m\n\u001b[0m\u001b[0;32m    940\u001b[0m \u001b[1;33m\u001b[0m\u001b[0m\n\u001b[0;32m    941\u001b[0m         \u001b[1;32mif\u001b[0m \u001b[0mself\u001b[0m\u001b[1;33m.\u001b[0m\u001b[0moptions\u001b[0m\u001b[1;33m.\u001b[0m\u001b[0mget\u001b[0m\u001b[1;33m(\u001b[0m\u001b[1;34m'as_recarray'\u001b[0m\u001b[1;33m)\u001b[0m\u001b[1;33m:\u001b[0m\u001b[1;33m\u001b[0m\u001b[0m\n",
      "\u001b[1;32mC:\\Users\\test\\Anaconda3\\lib\\site-packages\\pandas\\io\\parsers.py\u001b[0m in \u001b[0;36mread\u001b[1;34m(self, nrows)\u001b[0m\n\u001b[0;32m   1506\u001b[0m     \u001b[1;32mdef\u001b[0m \u001b[0mread\u001b[0m\u001b[1;33m(\u001b[0m\u001b[0mself\u001b[0m\u001b[1;33m,\u001b[0m \u001b[0mnrows\u001b[0m\u001b[1;33m=\u001b[0m\u001b[1;32mNone\u001b[0m\u001b[1;33m)\u001b[0m\u001b[1;33m:\u001b[0m\u001b[1;33m\u001b[0m\u001b[0m\n\u001b[0;32m   1507\u001b[0m         \u001b[1;32mtry\u001b[0m\u001b[1;33m:\u001b[0m\u001b[1;33m\u001b[0m\u001b[0m\n\u001b[1;32m-> 1508\u001b[1;33m             \u001b[0mdata\u001b[0m \u001b[1;33m=\u001b[0m \u001b[0mself\u001b[0m\u001b[1;33m.\u001b[0m\u001b[0m_reader\u001b[0m\u001b[1;33m.\u001b[0m\u001b[0mread\u001b[0m\u001b[1;33m(\u001b[0m\u001b[0mnrows\u001b[0m\u001b[1;33m)\u001b[0m\u001b[1;33m\u001b[0m\u001b[0m\n\u001b[0m\u001b[0;32m   1509\u001b[0m         \u001b[1;32mexcept\u001b[0m \u001b[0mStopIteration\u001b[0m\u001b[1;33m:\u001b[0m\u001b[1;33m\u001b[0m\u001b[0m\n\u001b[0;32m   1510\u001b[0m             \u001b[1;32mif\u001b[0m \u001b[0mself\u001b[0m\u001b[1;33m.\u001b[0m\u001b[0m_first_chunk\u001b[0m\u001b[1;33m:\u001b[0m\u001b[1;33m\u001b[0m\u001b[0m\n",
      "\u001b[1;32mpandas\\parser.pyx\u001b[0m in \u001b[0;36mpandas.parser.TextReader.read (pandas\\parser.c:10415)\u001b[1;34m()\u001b[0m\n",
      "\u001b[1;32mpandas\\parser.pyx\u001b[0m in \u001b[0;36mpandas.parser.TextReader._read_low_memory (pandas\\parser.c:10896)\u001b[1;34m()\u001b[0m\n",
      "\u001b[1;32mpandas\\parser.pyx\u001b[0m in \u001b[0;36mpandas.parser.TextReader._read_rows (pandas\\parser.c:11437)\u001b[1;34m()\u001b[0m\n",
      "\u001b[1;32mpandas\\parser.pyx\u001b[0m in \u001b[0;36mpandas.parser.TextReader._tokenize_rows (pandas\\parser.c:11308)\u001b[1;34m()\u001b[0m\n",
      "\u001b[1;32mpandas\\parser.pyx\u001b[0m in \u001b[0;36mpandas.parser.raise_parser_error (pandas\\parser.c:27037)\u001b[1;34m()\u001b[0m\n",
      "\u001b[1;31mCParserError\u001b[0m: Error tokenizing data. C error: out of memory"
     ]
    }
   ],
   "source": [
    "luad_samples = list(pd.read_json('LUAD_cases_2018-03-23.json')['submitter_id'])\n",
    "\n",
    "mylist = []\n",
    "for chunk in  pd.read_csv('exp_tab.gz', compression='gzip', chunksize=20000):\n",
    "    mylist.append(chunk)\n",
    "exp = pd.concat(mylist, axis= 0)\n",
    "del mylist"
   ]
  },
  {
   "cell_type": "markdown",
   "metadata": {},
   "source": [
    "compute exactly the same clove pairs as another clove results df"
   ]
  },
  {
   "cell_type": "code",
   "execution_count": 19,
   "metadata": {
    "collapsed": true
   },
   "outputs": [],
   "source": [
    "import numpy as np\n",
    "import pandas as pd\n",
    "import seaborn as sns\n",
    "import matplotlib\n",
    "matplotlib.use('Qt4Agg')\n",
    "import matplotlib.pyplot as plt\n",
    "import scipy.stats as stats\n",
    "from cloveFunctions import *\n",
    "matplotlib.rcParams['figure.figsize'] = (20.0, 10.0)\n",
    "import warnings\n",
    "warnings.filterwarnings('ignore')\n",
    "\n",
    "def matchPairContextStat(expdf, cnvdf, new_cohort, matchdf, match_cohort, nan_style='omit', permute=False):\n",
    "    \"\"\"\n",
    "    computes clove pairs from one sample that match with those computed in some other cohorts\n",
    "    \n",
    "    :param expdf: pandas dataframe, expression by sample \n",
    "                    (hopefully filtered with mainFilter, tissue specific, with matching samples in cnv)\n",
    "    :param cnvdf: pandas dataframe, binarized mask 5(1=delete, 0=nodelete) deletion by sample \n",
    "                    (hopefully filtered with mainFilter, tissue specific, with matching samples in exp)\n",
    "    :param new_cohort: str, identifier for the current cohort computation (eg, tissue origin of exp and cnv)\n",
    "    :param matchdf: pandas dataframe, results of clove computation performed in other cohort\n",
    "                    exp and cnv pairs will be used to populate the new clove results so pairs match between cohort\n",
    "    :param match_cohort: str, identifier for the matching (precomputed) cohort used (eg, tissue origin of matchdf)\n",
    "    :param nan_style: str, how the stats.ttest_ind treats NANs, {‘propagate’, ‘raise’, ‘omit’}\n",
    "    :param permute: bool, True will calculate pairs with randomly permuted expression matrix as null model\n",
    "    \n",
    "    returns df[['exp', 'cnv', 'cntxt_pos_mu', 'cntxt_neg_mu', \n",
    "                'cntxt_pos_var', 'cntxt_neg_var', \n",
    "                'cntxt_pos_n', 'cntxt_neg_n']]\n",
    "    \"\"\"\n",
    "    \n",
    "    cells = list(set(cnvdf.columns).intersection(expdf.columns)) # confirm same samples in both cnv and exp\n",
    "    expdf = expdf[cells]\n",
    "    cmask = cnvdf[cells] == 1\n",
    "    \n",
    "    df = matchdf[['exp', 'cnv', 'np_t_w', 'np_t_w_null','np_p_w']]\n",
    "    df.columns = ['exp', 'cnv', 't_'+match_cohort, 't_null_'+match_cohort, 'p_'+match_cohort,]\n",
    "    \n",
    "    if permute:\n",
    "        cmask_n = scrambleDF(cmask)\n",
    "    \n",
    "#     only keep elements of matchdf['exp'] that are also in expdf.index\n",
    "    df = df[(df['exp'].isin(expdf.index)) & (df['cnv'].isin(cnvdf.index))]\n",
    "    print('attempting {} comparisons referenced from {}'.format(df.shape[0], match_cohort))\n",
    "    \n",
    "    np_t_w, np_p_w, np_t_w_null = [], [], []\n",
    "  \n",
    "    # progress initialize\n",
    "    count=0\n",
    "    percent_complete=0\n",
    "    comparisons = df.shape[0]\n",
    "    \n",
    "    for row in df.itertuples():\n",
    "        # progress report\n",
    "        count+=1\n",
    "        if count%(comparisons/10)==0:\n",
    "            print(np.array(expdf.loc[row.exp][cmask.loc[row.cnv]]))\n",
    "            percent_complete+=10\n",
    "            print('pair computation {}% complete ({}/{})'.format(percent_complete, count, comparisons))\n",
    "        \n",
    "        # mask cnv contexts onto expression data\n",
    "        pos = np.array(expdf.loc[row.exp][cmask.loc[row.cnv]])\n",
    "        neg = np.array(expdf.loc[row.exp][~cmask.loc[row.cnv]])\n",
    "        \n",
    "        # calculate t_stat, welch\n",
    "        t, p = stats.ttest_ind(pos, neg, nan_policy=nan_style, equal_var=True)\n",
    "        np_t_w.append(t)\n",
    "        np_p_w.append(p)\n",
    "        \n",
    "        if permute:\n",
    "            pos = np.array(expdf.loc[row.exp][cmask_n.loc[row.cnv]])\n",
    "            neg = np.array(expdf.loc[row.exp][~cmask_n.loc[row.cnv]])\n",
    "            t, p = stats.ttest_ind(pos, neg, nan_policy=nan_style, equal_var=True)\n",
    "            np_t_w_null.append(t)\n",
    "   \n",
    "    df['t_'+new_cohort] = np_t_w\n",
    "    df['p_'+new_cohort] = np_p_w\n",
    "    \n",
    "    if permute:\n",
    "        df['t_null_'+new_cohort] = np_t_w_null\n",
    "        \n",
    "    return df"
   ]
  },
  {
   "cell_type": "code",
   "execution_count": 3,
   "metadata": {
    "collapsed": true
   },
   "outputs": [],
   "source": [
    "matchdf = pd.read_csv('data/tcga_lung_cloves.tab.gz', compression='gzip', sep='\\t', index_col=0)"
   ]
  },
  {
   "cell_type": "code",
   "execution_count": 18,
   "metadata": {
    "scrolled": true
   },
   "outputs": [
    {
     "data": {
      "image/png": "[encoded data removed]",
      "text/plain": [
       "<matplotlib.figure.Figure at 0x16a695e8128>"
      ]
     },
     "metadata": {},
     "output_type": "display_data"
    },
    {
     "data": {
      "image/png": "[encoded data removed]",
      "text/plain": [
       "<matplotlib.figure.Figure at 0x16a695e7f98>"
      ]
     },
     "metadata": {},
     "output_type": "display_data"
    }
   ],
   "source": [
    "lungcnv, lungexp = clv.load_data('data/lung_mrna_df.pickle', 'data/lung_cnv_df.pickle')"
   ]
  },
  {
   "cell_type": "code",
   "execution_count": 5,
   "metadata": {},
   "outputs": [
    {
     "name": "stdout",
     "output_type": "stream",
     "text": [
      "exp: (23316, 180) --> filter --> (3763, 180)\n",
      "cnv: (17380, 186) --> filter --> (4117, 180)\n",
      "15492271 CLOvE pairs are possible with these parameters\n",
      "estimated calculation time: 180.74316166666668min (~7sec/10k pairs)\n"
     ]
    }
   ],
   "source": [
    "lungcnv, lungexp = clv.mainFitler(lungexp, lungcnv, var=0.2, n=5)"
   ]
  },
  {
   "cell_type": "code",
   "execution_count": 20,
   "metadata": {},
   "outputs": [
    {
     "name": "stdout",
     "output_type": "stream",
     "text": [
      "attempting 586666 comparisons referenced from tcga_lung\n"
     ]
    }
   ],
   "source": [
    "lungresults = matchPairContextStat(lungexp, lungcnv, 'ccle_lung', matchdf, 'tcga_lung', nan_style='omit', permute=False)"
   ]
  },
  {
   "cell_type": "code",
   "execution_count": 23,
   "metadata": {},
   "outputs": [
    {
     "data": {
      "text/html": [
       "<div>\n",
       "<style scoped>\n",
       "    .dataframe tbody tr th:only-of-type {\n",
       "        vertical-align: middle;\n",
       "    }\n",
       "\n",
       "    .dataframe tbody tr th {\n",
       "        vertical-align: top;\n",
       "    }\n",
       "\n",
       "    .dataframe thead th {\n",
       "        text-align: right;\n",
       "    }\n",
       "</style>\n",
       "<table border=\"1\" class=\"dataframe\">\n",
       "  <thead>\n",
       "    <tr style=\"text-align: right;\">\n",
       "      <th></th>\n",
       "      <th>exp</th>\n",
       "      <th>cnv</th>\n",
       "      <th>t_tcga_lung</th>\n",
       "      <th>t_null_tcga_lung</th>\n",
       "      <th>p_tcga_lung</th>\n",
       "      <th>t_ccle_lung</th>\n",
       "      <th>p_ccle_lung</th>\n",
       "    </tr>\n",
       "  </thead>\n",
       "  <tbody>\n",
       "    <tr>\n",
       "      <th>0</th>\n",
       "      <td>SURF4</td>\n",
       "      <td>GNAT3</td>\n",
       "      <td>1.111226</td>\n",
       "      <td>-0.623929</td>\n",
       "      <td>0.266741</td>\n",
       "      <td>NaN</td>\n",
       "      <td>NaN</td>\n",
       "    </tr>\n",
       "    <tr>\n",
       "      <th>1</th>\n",
       "      <td>SURF4</td>\n",
       "      <td>ABCA5</td>\n",
       "      <td>-2.390800</td>\n",
       "      <td>0.305388</td>\n",
       "      <td>0.016998</td>\n",
       "      <td>NaN</td>\n",
       "      <td>NaN</td>\n",
       "    </tr>\n",
       "    <tr>\n",
       "      <th>3</th>\n",
       "      <td>SURF4</td>\n",
       "      <td>TPST2</td>\n",
       "      <td>-4.443644</td>\n",
       "      <td>-0.302639</td>\n",
       "      <td>0.000010</td>\n",
       "      <td>NaN</td>\n",
       "      <td>NaN</td>\n",
       "    </tr>\n",
       "    <tr>\n",
       "      <th>4</th>\n",
       "      <td>SURF4</td>\n",
       "      <td>MED19</td>\n",
       "      <td>-1.233342</td>\n",
       "      <td>-0.289334</td>\n",
       "      <td>0.217741</td>\n",
       "      <td>NaN</td>\n",
       "      <td>NaN</td>\n",
       "    </tr>\n",
       "    <tr>\n",
       "      <th>5</th>\n",
       "      <td>SURF4</td>\n",
       "      <td>AGFG2</td>\n",
       "      <td>0.826497</td>\n",
       "      <td>-0.684317</td>\n",
       "      <td>0.408721</td>\n",
       "      <td>NaN</td>\n",
       "      <td>NaN</td>\n",
       "    </tr>\n",
       "  </tbody>\n",
       "</table>\n",
       "</div>"
      ],
      "text/plain": [
       "     exp    cnv  t_tcga_lung  t_null_tcga_lung  p_tcga_lung  t_ccle_lung  \\\n",
       "0  SURF4  GNAT3     1.111226         -0.623929     0.266741          NaN   \n",
       "1  SURF4  ABCA5    -2.390800          0.305388     0.016998          NaN   \n",
       "3  SURF4  TPST2    -4.443644         -0.302639     0.000010          NaN   \n",
       "4  SURF4  MED19    -1.233342         -0.289334     0.217741          NaN   \n",
       "5  SURF4  AGFG2     0.826497         -0.684317     0.408721          NaN   \n",
       "\n",
       "   p_ccle_lung  \n",
       "0          NaN  \n",
       "1          NaN  \n",
       "3          NaN  \n",
       "4          NaN  \n",
       "5          NaN  "
      ]
     },
     "execution_count": 23,
     "metadata": {},
     "output_type": "execute_result"
    }
   ],
   "source": [
    "lungresults.head()"
   ]
  },
  {
   "cell_type": "code",
   "execution_count": 6,
   "metadata": {
    "collapsed": true
   },
   "outputs": [],
   "source": [
    "def allPairContextStat(expdf, cnvdf, nan_style='omit', permute=False, save='data_large/'):\n",
    "    \"\"\"\n",
    "    computes all pairs (post filtering) \n",
    "    \"\"\"\n",
    "    \n",
    "    cells = list(set(cnvdf.columns).intersection(expdf.columns))\n",
    "    expdf = expdf[cells]\n",
    "    cmask = cnvdf[cells] == 1\n",
    "    \n",
    "    if permute:\n",
    "        if 'cn' in permute or 'copy number' in permute:\n",
    "            cmask_n = scrambleDF(cmask)\n",
    "            permute = 'cnv'\n",
    "        if 'rna' in permute or 'exp' in permute or 'expression' in permute:\n",
    "            expdf_n = scrambleDF(expdf)\n",
    "            permute = 'exp'\n",
    "        else:\n",
    "            permute = 'cnv'\n",
    "            cmask_n = scrambleDF(cmask)\n",
    "    d = []    \n",
    "    comparisons = len(expdf.index) * len(cnvdf.index)\n",
    "    print('attempting {} comparisons with current parameters'.format(comparisons))\n",
    "    count=0\n",
    "    percent_complete=0\n",
    "    \n",
    "    for n in itertools.product(expdf.index, cnvdf.index):\n",
    "        pos = np.array(expdf.loc[n[0]][cmask.loc[n[1]]])\n",
    "        neg = np.array(expdf.loc[n[0]][~cmask.loc[n[1]]])\n",
    "        t, p = stats.ttest_ind(pos, neg, nan_policy=nan_style, equal_var=True)    \n",
    "        if permute=='cnv':\n",
    "            pos = np.array(expdf.loc[n[0]][cmask_n.loc[n[1]]])\n",
    "            neg = np.array(expdf.loc[n[0]][~cmask_n.loc[n[1]]])\n",
    "            t_n, p_n = stats.ttest_ind(pos, neg, nan_policy=nan_style, equal_var=True)\n",
    "            d.append({'count': count, 'exp': n[0], 'cnv':n[1], 'np_t_w':t, 'np_p_w':t,'np_t_w_null':t_n})\n",
    "        elif permute=='exp':\n",
    "            pos = np.array(expdf_n.loc[n[0]][cmask.loc[n[1]]])\n",
    "            neg = np.array(expdf_n.loc[n[0]][~cmask.loc[n[1]]])\n",
    "            t_n, p_n = stats.ttest_ind(pos, neg, nan_policy=nan_style, equal_var=True)\n",
    "            d.append({'count': count, 'exp': n[0], 'cnv':n[1], 'np_t_w':t, 'np_p_w':t,'np_t_w_null':t_n})\n",
    "        else: \n",
    "            d.append({'count': count, 'exp': n[0], 'cnv':n[1], 'np_t_w':t, 'np_p_w':t})\n",
    "            \n",
    "        # counter\n",
    "        count+=1\n",
    "        print(count)\n",
    "        if count == 10:\n",
    "            break\n",
    "        if count%(comparisons/10)==0:\n",
    "            percent_complete+=10\n",
    "            print('pair computation {}% complete ({}/{})'.format(percent_complete, count, comparisons))\n",
    "    \n",
    "    df = pd.DataFrame(d)\n",
    "    if save:\n",
    "        df.to_csv(save, sep='\\t', compression='gzip')\n",
    "    return df"
   ]
  },
  {
   "cell_type": "code",
   "execution_count": 9,
   "metadata": {},
   "outputs": [
    {
     "name": "stdout",
     "output_type": "stream",
     "text": [
      "attempting 15492271 comparisons with current parameters\n",
      "1\n",
      "2\n",
      "3\n",
      "4\n",
      "5\n",
      "6\n",
      "7\n",
      "8\n",
      "9\n",
      "10\n"
     ]
    }
   ],
   "source": [
    "from cloveFunctions import scrambleDF\n",
    "import itertools\n",
    "lung_results = allPairContextStat(lungexp, lungcnv, permute='exp', save='data_large/lung_ccle_clove.tab.gz')\n",
    "lung_results.to_csv('data_large/lung_ccle_clove_all.tab.gz', sep='\\t', compression='gzip')"
   ]
  },
  {
   "cell_type": "code",
   "execution_count": 22,
   "metadata": {},
   "outputs": [
    {
     "ename": "NameError",
     "evalue": "name 'lung_results' is not defined",
     "output_type": "error",
     "traceback": [
      "\u001b[0;31m---------------------------------------------------------------------------\u001b[0m",
      "\u001b[0;31mNameError\u001b[0m                                 Traceback (most recent call last)",
      "\u001b[0;32m<ipython-input-22-6e43f13b440d>\u001b[0m in \u001b[0;36m<module>\u001b[0;34m()\u001b[0m\n\u001b[0;32m----> 1\u001b[0;31m \u001b[0mlung_results\u001b[0m\u001b[1;33m\u001b[0m\u001b[0m\n\u001b[0m",
      "\u001b[0;31mNameError\u001b[0m: name 'lung_results' is not defined"
     ]
    }
   ],
   "source": [
    "lung_results"
   ]
  },
  {
   "cell_type": "code",
   "execution_count": 7,
   "metadata": {},
   "outputs": [
    {
     "ename": "NameError",
     "evalue": "name 'lung_results' is not defined",
     "output_type": "error",
     "traceback": [
      "\u001b[0;31m---------------------------------------------------------------------------\u001b[0m",
      "\u001b[0;31mNameError\u001b[0m                                 Traceback (most recent call last)",
      "\u001b[0;32m<ipython-input-7-f77b36cdfead>\u001b[0m in \u001b[0;36m<module>\u001b[0;34m()\u001b[0m\n\u001b[0;32m----> 1\u001b[0;31m \u001b[0mlung_results\u001b[0m\u001b[1;33m.\u001b[0m\u001b[0mto_csv\u001b[0m\u001b[1;33m(\u001b[0m\u001b[1;34m'data_large/lung_ccle_clove_all.tab.gz'\u001b[0m\u001b[1;33m,\u001b[0m \u001b[0msep\u001b[0m\u001b[1;33m=\u001b[0m\u001b[1;34m'\\t'\u001b[0m\u001b[1;33m,\u001b[0m \u001b[0mcompression\u001b[0m\u001b[1;33m=\u001b[0m\u001b[1;34m'gzip'\u001b[0m\u001b[1;33m)\u001b[0m\u001b[1;33m\u001b[0m\u001b[0m\n\u001b[0m",
      "\u001b[0;31mNameError\u001b[0m: name 'lung_results' is not defined"
     ]
    }
   ],
   "source": [
    "lung_results.to_csv('data_large/lung_ccle_clove_all.tab.gz', sep='\\t', compression='gzip')"
   ]
  },
  {
   "cell_type": "code",
   "execution_count": null,
   "metadata": {
    "collapsed": true
   },
   "outputs": [],
   "source": [
    "lung_results = clv.allPairContextStat"
   ]
  },
  {
   "cell_type": "markdown",
   "metadata": {
    "collapsed": true
   },
   "source": [
    "## Compare BREAST/BRCA"
   ]
  },
  {
   "cell_type": "code",
   "execution_count": null,
   "metadata": {
    "collapsed": true
   },
   "outputs": [],
   "source": [
    "matchdf = pd.read_csv('data/breast_ttest_real_samp.tab.gz')"
   ]
  }
 ],
 "metadata": {
  "kernelspec": {
   "display_name": "Python 3",
   "language": "python",
   "name": "python3"
  },
  "language_info": {
   "codemirror_mode": {
    "name": "ipython",
    "version": 3
   },
   "file_extension": ".py",
   "mimetype": "text/x-python",
   "name": "python",
   "nbconvert_exporter": "python",
   "pygments_lexer": "ipython3",
   "version": "3.6.0"
  }
 },
 "nbformat": 4,
 "nbformat_minor": 1
}
