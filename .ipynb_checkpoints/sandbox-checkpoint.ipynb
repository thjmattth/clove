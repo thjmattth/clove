{
 "cells": [
  {
   "cell_type": "code",
   "execution_count": 24,
   "metadata": {
    "collapsed": false
   },
   "outputs": [
    {
     "data": {
      "text/html": [
       "<div>\n",
       "<table border=\"1\" class=\"dataframe\">\n",
       "  <thead>\n",
       "    <tr style=\"text-align: right;\">\n",
       "      <th></th>\n",
       "      <th>cell1</th>\n",
       "      <th>cell2</th>\n",
       "      <th>cnv</th>\n",
       "      <th>gene</th>\n",
       "      <th>location</th>\n",
       "      <th>np_t_w</th>\n",
       "    </tr>\n",
       "  </thead>\n",
       "  <tbody>\n",
       "    <tr>\n",
       "      <th>0</th>\n",
       "      <td>5</td>\n",
       "      <td>12</td>\n",
       "      <td>a</td>\n",
       "      <td>1 // foo // blabla</td>\n",
       "      <td>1</td>\n",
       "      <td>1</td>\n",
       "    </tr>\n",
       "    <tr>\n",
       "      <th>1</th>\n",
       "      <td>9</td>\n",
       "      <td>90</td>\n",
       "      <td>b</td>\n",
       "      <td>2 // bar // lalala</td>\n",
       "      <td>13.4</td>\n",
       "      <td>13.4</td>\n",
       "    </tr>\n",
       "    <tr>\n",
       "      <th>2</th>\n",
       "      <td>1</td>\n",
       "      <td>13</td>\n",
       "      <td>c</td>\n",
       "      <td>3 // qux // trilil</td>\n",
       "      <td>1.1-2</td>\n",
       "      <td>1.1</td>\n",
       "    </tr>\n",
       "    <tr>\n",
       "      <th>3</th>\n",
       "      <td>7</td>\n",
       "      <td>87</td>\n",
       "      <td>d</td>\n",
       "      <td>4 // woz // hohoho</td>\n",
       "      <td>1.2-p22</td>\n",
       "      <td>2</td>\n",
       "    </tr>\n",
       "    <tr>\n",
       "      <th>4</th>\n",
       "      <td>9</td>\n",
       "      <td>9</td>\n",
       "      <td>e</td>\n",
       "      <td>nopeynope</td>\n",
       "      <td>43-q44</td>\n",
       "      <td>3</td>\n",
       "    </tr>\n",
       "  </tbody>\n",
       "</table>\n",
       "</div>"
      ],
      "text/plain": [
       "   cell1  cell2 cnv                gene location np_t_w\n",
       "0      5     12   a  1 // foo // blabla        1      1\n",
       "1      9     90   b  2 // bar // lalala     13.4   13.4\n",
       "2      1     13   c  3 // qux // trilil    1.1-2    1.1\n",
       "3      7     87   d  4 // woz // hohoho  1.2-p22      2\n",
       "4      9      9   e           nopeynope   43-q44      3"
      ]
     },
     "execution_count": 24,
     "metadata": {},
     "output_type": "execute_result"
    }
   ],
   "source": [
    "import pandas as pd\n",
    "df = pd.DataFrame({ 'gene':[\"1 // foo // blabla\",\n",
    "                                   \"2 // bar // lalala\",\n",
    "                                   \"3 // qux // trilil\",\n",
    "                                   \"4 // woz // hohoho\",\n",
    "                                   \"nopeynope\"], \n",
    "                   'cnv':['a','b','c','d','e'],\n",
    "                   'cell1':[5,9,1,7,9], \n",
    "                   'cell2':[12,90,13,87,9],\n",
    "                   'location':['1', '13.4', '1.1-2', '1.2-p22', '43-q44'],\n",
    "                  'np_t_w': ['1','13.4','1.1','2','3']})\n",
    "df"
   ]
  },
  {
   "cell_type": "code",
   "execution_count": 10,
   "metadata": {
    "collapsed": true
   },
   "outputs": [
    {
     "data": {
      "text/html": [
       "<div>\n",
       "<table border=\"1\" class=\"dataframe\">\n",
       "  <thead>\n",
       "    <tr style=\"text-align: right;\">\n",
       "      <th></th>\n",
       "      <th>0</th>\n",
       "    </tr>\n",
       "  </thead>\n",
       "  <tbody>\n",
       "    <tr>\n",
       "      <th>0</th>\n",
       "      <td>NaN</td>\n",
       "    </tr>\n",
       "    <tr>\n",
       "      <th>1</th>\n",
       "      <td>NaN</td>\n",
       "    </tr>\n",
       "    <tr>\n",
       "      <th>2</th>\n",
       "      <td>-</td>\n",
       "    </tr>\n",
       "    <tr>\n",
       "      <th>3</th>\n",
       "      <td>-</td>\n",
       "    </tr>\n",
       "    <tr>\n",
       "      <th>4</th>\n",
       "      <td>-</td>\n",
       "    </tr>\n",
       "  </tbody>\n",
       "</table>\n",
       "</div>"
      ],
      "text/plain": [
       "     0\n",
       "0  NaN\n",
       "1  NaN\n",
       "2    -\n",
       "3    -\n",
       "4    -"
      ]
     },
     "execution_count": 10,
     "metadata": {},
     "output_type": "execute_result"
    }
   ],
   "source": [
    "df['location'].str.extract('(-)', expand=True)"
   ]
  },
  {
   "cell_type": "code",
   "execution_count": 7,
   "metadata": {
    "collapsed": false
   },
   "outputs": [
    {
     "data": {
      "text/html": [
       "<div>\n",
       "<table border=\"1\" class=\"dataframe\">\n",
       "  <thead>\n",
       "    <tr style=\"text-align: right;\">\n",
       "      <th></th>\n",
       "      <th>cnv</th>\n",
       "      <th>exp</th>\n",
       "      <th>np_t_w</th>\n",
       "    </tr>\n",
       "  </thead>\n",
       "  <tbody>\n",
       "    <tr>\n",
       "      <th>0</th>\n",
       "      <td>a</td>\n",
       "      <td>b</td>\n",
       "      <td>1.0</td>\n",
       "    </tr>\n",
       "    <tr>\n",
       "      <th>1</th>\n",
       "      <td>a</td>\n",
       "      <td>c</td>\n",
       "      <td>1.9</td>\n",
       "    </tr>\n",
       "    <tr>\n",
       "      <th>2</th>\n",
       "      <td>a</td>\n",
       "      <td>d</td>\n",
       "      <td>45.0</td>\n",
       "    </tr>\n",
       "    <tr>\n",
       "      <th>3</th>\n",
       "      <td>a</td>\n",
       "      <td>e</td>\n",
       "      <td>3.9</td>\n",
       "    </tr>\n",
       "    <tr>\n",
       "      <th>4</th>\n",
       "      <td>b</td>\n",
       "      <td>c</td>\n",
       "      <td>2.1</td>\n",
       "    </tr>\n",
       "    <tr>\n",
       "      <th>5</th>\n",
       "      <td>b</td>\n",
       "      <td>d</td>\n",
       "      <td>-2.0</td>\n",
       "    </tr>\n",
       "    <tr>\n",
       "      <th>6</th>\n",
       "      <td>b</td>\n",
       "      <td>e</td>\n",
       "      <td>4.1</td>\n",
       "    </tr>\n",
       "  </tbody>\n",
       "</table>\n",
       "</div>"
      ],
      "text/plain": [
       "  cnv exp  np_t_w\n",
       "0   a   b     1.0\n",
       "1   a   c     1.9\n",
       "2   a   d    45.0\n",
       "3   a   e     3.9\n",
       "4   b   c     2.1\n",
       "5   b   d    -2.0\n",
       "6   b   e     4.1"
      ]
     },
     "execution_count": 7,
     "metadata": {},
     "output_type": "execute_result"
    }
   ],
   "source": [
    "df = pd.DataFrame([['a','b',1],\n",
    "                  ['a','c',1.9],\n",
    "                  ['a','d',45],\n",
    "                  ['a','e',3.9],\n",
    "                  ['b','c', 2.1],\n",
    "                  ['b','d',-2],\n",
    "                  ['b','e',4.1]],\n",
    "                 columns = ['cnv','exp','np_t_w'])\n",
    "df"
   ]
  },
  {
   "cell_type": "code",
   "execution_count": 8,
   "metadata": {
    "collapsed": true
   },
   "outputs": [],
   "source": [
    "### OLD\n",
    "from scipy.stats import pearsonr\n",
    "def rolling_pearson(df, group='cnv', data='np_t_w'):\n",
    "    \"\"\"\n",
    "    computes pearson between array of data for one gene partners and each successive chromosomal neighbor\n",
    "    \n",
    "    :param df: pd df, clove results, sorted in ascending order of chromosome locus\n",
    "    :param group: str, df column label on which to form gene neigbors, default 'cnv'\n",
    "    :param data: str, df column label of source data to populate arrays, default 'np_t_w' (clove t-stats)\n",
    "    \"\"\"\n",
    "    \n",
    "    unique_genes = df[group].unique()\n",
    "    results = []\n",
    "    for idx, g0 in enumerate(unique_genes):\n",
    "        g0_arr = df[df[group] == g0][data].values\n",
    "        if idx < len(unique_genes) - 1:\n",
    "            for g1 in unique_genes[idx+1:]:\n",
    "                g1_arr = df[df[group] == g1][data].values\n",
    "                print(g1_arr)\n",
    "                pearson, pval = pearsonr(g0_arr, g1_arr)\n",
    "                results.append([g0, g1, pearson, pval])\n",
    "\n",
    "    return pd.DataFrame(results, columns=[group, group+'_k', 'pearson', 'pval'])"
   ]
  },
  {
   "cell_type": "code",
   "execution_count": 95,
   "metadata": {
    "collapsed": false
   },
   "outputs": [],
   "source": [
    "### NEW\n",
    "from scipy.stats import pearsonr\n",
    "from scipy.spatial import distance\n",
    "def rolling_similarity(df, group='cnv', data='np_t_w', how='pearson'):\n",
    "    \"\"\"\n",
    "    computes similarity between array of data for one gene partners and each successive chromosomal neighbor\n",
    "    \n",
    "    :param df: pd df, clove results, sorted in ascending order of chromosome locus\n",
    "    :param group: str, df column label on which to form gene neigbors, default 'cnv'\n",
    "    :param data: str, df column label of source data to populate arrays, default 'np_t_w' (clove t-stats)\n",
    "    :param how: str, choice of: {pearson, euclidian, cosine}\n",
    "    \"\"\"\n",
    "    \n",
    "    unique_genes = df[group].unique()\n",
    "    results = []\n",
    "    for idx, g0 in enumerate(unique_genes):\n",
    "        if idx < len(unique_genes) - 1:\n",
    "            g1 = unique_genes[idx+1]\n",
    "            merged = pd.merge(df[df[group] == g0], df[df[group] == g1], how='inner', on='exp')\n",
    "            merged.columns = ['cnv_g0','exp','clove_g0','cnv_g1','clove_g1']\n",
    "            if how == 'pearson':\n",
    "                cols = [g0, g1, how ,'pval']\n",
    "                pear, pval = pearsonr(merged['clove_g0'], merged['clove_g1'])\n",
    "                results.append([g0,g1,pear,pval])\n",
    "            elif how == 'euclidian':\n",
    "                cols = [g0, g1, how]\n",
    "                results.append([g0, g1, distance.euclidean(merged['clove_g0'], merged['clove_g1'])])\n",
    "            elif how == 'cosine':\n",
    "                cols = [g0, g1, how]\n",
    "                results.append([g0, g1, distance.cosine(merged['clove_g0'], merged['clove_g1'])])\n",
    "\n",
    "    return pd.DataFrame(results, columns=cols)"
   ]
  },
  {
   "cell_type": "code",
   "execution_count": 94,
   "metadata": {
    "collapsed": false
   },
   "outputs": [
    {
     "name": "stdout",
     "output_type": "stream",
     "text": [
      "q\n"
     ]
    },
    {
     "data": {
      "text/html": [
       "<div>\n",
       "<table border=\"1\" class=\"dataframe\">\n",
       "  <thead>\n",
       "    <tr style=\"text-align: right;\">\n",
       "      <th></th>\n",
       "      <th>a</th>\n",
       "      <th>b</th>\n",
       "      <th>pearson</th>\n",
       "      <th>pval</th>\n",
       "    </tr>\n",
       "  </thead>\n",
       "  <tbody>\n",
       "    <tr>\n",
       "      <th>0</th>\n",
       "      <td>a</td>\n",
       "      <td>b</td>\n",
       "      <td>-0.932864</td>\n",
       "      <td>0.234603</td>\n",
       "    </tr>\n",
       "  </tbody>\n",
       "</table>\n",
       "</div>"
      ],
      "text/plain": [
       "   a  b   pearson      pval\n",
       "0  a  b -0.932864  0.234603"
      ]
     },
     "execution_count": 94,
     "metadata": {},
     "output_type": "execute_result"
    }
   ],
   "source": [
    "rolling_similarity(df, group='cnv',data='np_t_w')"
   ]
  },
  {
   "cell_type": "code",
   "execution_count": 27,
   "metadata": {
    "collapsed": false
   },
   "outputs": [
    {
     "data": {
      "text/html": [
       "<div>\n",
       "<table border=\"1\" class=\"dataframe\">\n",
       "  <thead>\n",
       "    <tr style=\"text-align: right;\">\n",
       "      <th></th>\n",
       "      <th>cell1</th>\n",
       "      <th>cell2</th>\n",
       "      <th>cnv</th>\n",
       "      <th>gene</th>\n",
       "      <th>location</th>\n",
       "      <th>np_t_w</th>\n",
       "    </tr>\n",
       "  </thead>\n",
       "  <tbody>\n",
       "    <tr>\n",
       "      <th>0</th>\n",
       "      <td>5</td>\n",
       "      <td>12</td>\n",
       "      <td>a</td>\n",
       "      <td>1 // foo // blabla</td>\n",
       "      <td>1</td>\n",
       "      <td>1</td>\n",
       "    </tr>\n",
       "    <tr>\n",
       "      <th>1</th>\n",
       "      <td>9</td>\n",
       "      <td>90</td>\n",
       "      <td>b</td>\n",
       "      <td>2 // bar // lalala</td>\n",
       "      <td>13.4</td>\n",
       "      <td>13.4</td>\n",
       "    </tr>\n",
       "    <tr>\n",
       "      <th>2</th>\n",
       "      <td>1</td>\n",
       "      <td>13</td>\n",
       "      <td>c</td>\n",
       "      <td>3 // qux // trilil</td>\n",
       "      <td>1.1-2</td>\n",
       "      <td>1.1</td>\n",
       "    </tr>\n",
       "    <tr>\n",
       "      <th>3</th>\n",
       "      <td>7</td>\n",
       "      <td>87</td>\n",
       "      <td>d</td>\n",
       "      <td>4 // woz // hohoho</td>\n",
       "      <td>1.2-p22</td>\n",
       "      <td>2</td>\n",
       "    </tr>\n",
       "    <tr>\n",
       "      <th>4</th>\n",
       "      <td>9</td>\n",
       "      <td>9</td>\n",
       "      <td>e</td>\n",
       "      <td>nopeynope</td>\n",
       "      <td>43-q44</td>\n",
       "      <td>3</td>\n",
       "    </tr>\n",
       "  </tbody>\n",
       "</table>\n",
       "</div>"
      ],
      "text/plain": [
       "   cell1  cell2 cnv                gene location np_t_w\n",
       "0      5     12   a  1 // foo // blabla        1      1\n",
       "1      9     90   b  2 // bar // lalala     13.4   13.4\n",
       "2      1     13   c  3 // qux // trilil    1.1-2    1.1\n",
       "3      7     87   d  4 // woz // hohoho  1.2-p22      2\n",
       "4      9      9   e           nopeynope   43-q44      3"
      ]
     },
     "execution_count": 27,
     "metadata": {},
     "output_type": "execute_result"
    }
   ],
   "source": [
    "df"
   ]
  },
  {
   "cell_type": "code",
   "execution_count": 13,
   "metadata": {
    "collapsed": true
   },
   "outputs": [],
   "source": [
    "pearsonr?"
   ]
  },
  {
   "cell_type": "code",
   "execution_count": 22,
   "metadata": {
    "collapsed": false
   },
   "outputs": [
    {
     "data": {
      "text/plain": [
       "array([0, 1])"
      ]
     },
     "execution_count": 22,
     "metadata": {},
     "output_type": "execute_result"
    }
   ],
   "source": [
    "import numpy as np\n",
    "x = np.array([0, 1, 2, 3, 4, 5, 6, 7, 8, 9])\n",
    "x[:2]"
   ]
  },
  {
   "cell_type": "code",
   "execution_count": 23,
   "metadata": {
    "collapsed": false
   },
   "outputs": [
    {
     "ename": "TypeError",
     "evalue": "'NoneType' object is not subscriptable",
     "output_type": "error",
     "traceback": [
      "\u001b[1;31m---------------------------------------------------------------------------\u001b[0m",
      "\u001b[1;31mTypeError\u001b[0m                                 Traceback (most recent call last)",
      "\u001b[1;32m<ipython-input-23-c415a77dbd90>\u001b[0m in \u001b[0;36m<module>\u001b[1;34m()\u001b[0m\n\u001b[1;32m----> 1\u001b[1;33m \u001b[0mnp\u001b[0m\u001b[1;33m.\u001b[0m\u001b[0mrandom\u001b[0m\u001b[1;33m.\u001b[0m\u001b[0mshuffle\u001b[0m\u001b[1;33m(\u001b[0m\u001b[0mx\u001b[0m\u001b[1;33m)\u001b[0m\u001b[1;33m[\u001b[0m\u001b[1;33m:\u001b[0m\u001b[1;36m2\u001b[0m\u001b[1;33m]\u001b[0m\u001b[1;33m\u001b[0m\u001b[0m\n\u001b[0m",
      "\u001b[1;31mTypeError\u001b[0m: 'NoneType' object is not subscriptable"
     ]
    }
   ],
   "source": [
    "np.random.shuffle(x)\n"
   ]
  },
  {
   "cell_type": "markdown",
   "metadata": {},
   "source": [
    "develop explicit way to define certain combinations of genes on which to compute CLOvEs"
   ]
  },
  {
   "cell_type": "code",
   "execution_count": 87,
   "metadata": {
    "collapsed": false
   },
   "outputs": [],
   "source": [
    "import pandas as pd\n",
    "import numpy as np\n",
    "from scipy import stats\n",
    "from cloveFunctions import *\n",
    "import itertools"
   ]
  },
  {
   "cell_type": "code",
   "execution_count": 88,
   "metadata": {
    "collapsed": true
   },
   "outputs": [],
   "source": [
    "edf = pd.read_csv('data/breast_mrna.tab.gz', compression='gzip', sep='\\t', index_col=0)\n",
    "cdf = pd.read_csv('data/breast_CCLE_DEL_calls.csv.gz', compression='gzip', index_col=0)"
   ]
  },
  {
   "cell_type": "code",
   "execution_count": 89,
   "metadata": {
    "collapsed": false
   },
   "outputs": [],
   "source": [
    "e_samp = edf.index[1:3].values\n",
    "c_samp = cdf.index[3:5].values"
   ]
  },
  {
   "cell_type": "code",
   "execution_count": 90,
   "metadata": {
    "collapsed": false
   },
   "outputs": [
    {
     "data": {
      "text/plain": [
       "array(['A2LD1', 'A2M'], dtype=object)"
      ]
     },
     "execution_count": 90,
     "metadata": {},
     "output_type": "execute_result"
    }
   ],
   "source": [
    "c_samp"
   ]
  },
  {
   "cell_type": "code",
   "execution_count": 91,
   "metadata": {
    "collapsed": false
   },
   "outputs": [
    {
     "ename": "SyntaxError",
     "evalue": "invalid syntax (<ipython-input-91-d71a3c9ad313>, line 1)",
     "output_type": "error",
     "traceback": [
      "\u001b[1;36m  File \u001b[1;32m\"<ipython-input-91-d71a3c9ad313>\"\u001b[1;36m, line \u001b[1;32m1\u001b[0m\n\u001b[1;33m    def explicitPairContextStat(expdf, cnvdf, exp_lis=False, cnv_lis=False, //\u001b[0m\n\u001b[1;37m                                                                             ^\u001b[0m\n\u001b[1;31mSyntaxError\u001b[0m\u001b[1;31m:\u001b[0m invalid syntax\n"
     ]
    }
   ],
   "source": [
    "def explicitPairContextStat(expdf, cnvdf, exp_lis=False, cnv_lis=False, //\n",
    "                            cat_df=False, min_n=2, min_var=0.2 nan_style='omit', permute=False):\n",
    "    \"\"\"\n",
    "    takes exp and cnv genes (either all or explicitand returns pair summary statistics\n",
    "    \n",
    "    :param n_samp: int, number of random samples to take\n",
    "    :param expdf: pandas dataframe, expression by sample (hopefully filtered, tissue specific, with matching samples in cnv)\n",
    "    :param cnvdf: pandas dataframe, binarized mask 5(1=del, 0=nodel) deletion by sample (hopefully tissue specific, with matching samples in exp)\n",
    "    :param exp_lis: list of str, HUGO gene names in expdf to restrict to, default is False (use all genes in expdf)\n",
    "    :param exp_lis: list of str, HUGO gene names in cnvdf to restrict to, default is False (use all genes in cnvdf)\n",
    "    :param in_df: pandas dataframe, previous calculations to concat new results to, used in while loop to get n_samp\n",
    "    :param nan_style: str, how the stats.ttest_ind treats NANs, {‘propagate’, ‘raise’, ‘omit’}\n",
    "    :param permute: bool, True will calculate pairs with randomly permuted expression matrix as null model\n",
    "    \n",
    "    returns df[['exp', 'cnv', 'cntxt_pos_mu', 'cntxt_neg_mu', \n",
    "                'cntxt_pos_var', 'cntxt_neg_var', \n",
    "                'cntxt_pos_n', 'cntxt_neg_n']]\n",
    "    \"\"\"\n",
    "    \n",
    "    cells = list(set(cnvdf.columns).intersection(expdf.columns))\n",
    "    expdf = expdf[cells]\n",
    "    cmask = cnvdf[cells] == 1\n",
    "    \n",
    "    if type(exp_lis) != bool:\n",
    "        exp_samp = set(expdf.index).intersection(exp_lis)\n",
    "        for gene in exp_lis:\n",
    "            if gene not in expdf.index:\n",
    "                print('{} not found in expdf.index.  Omitted'.format(gene))\n",
    "    else:\n",
    "        exp_samp = expdf.index\n",
    "    \n",
    "    if type(cnv_lis) != bool:\n",
    "        cnv_samp = set(cnvdf.index).intersection(cnv_lis)\n",
    "        for gene in cnv_lis:\n",
    "            if gene not in cnvdf.index:\n",
    "                print('{} not found in cnvdf.index.  Omitted'.format(gene))\n",
    "    else:\n",
    "        cnv_samp = cnvdf.index\n",
    "        \n",
    "    r={'exp':[],'cnv':[]}\n",
    "    for pair in itertools.product(exp_samp, cnv_samp):\n",
    "        r['exp'].append(pair[0])\n",
    "        r['cnv'].append(pair[1])\n",
    "    df = pd.DataFrame(r)\n",
    "    \n",
    "    pos_n, neg_n, = [], []\n",
    "    pos_mu, neg_mu = [], []\n",
    "    pos_var, neg_var = [], []\n",
    "    cohens_d = []\n",
    "    np_t_s, np_p_s = [], []\n",
    "    np_t_w, np_p_w = [], []\n",
    "    \n",
    "    df\n",
    "    \n",
    "    for row in df.itertuples():\n",
    "        # mask cnv contexts onto expression data\n",
    "        pos = np.array(expdf.loc[row.exp][cmask.loc[row.cnv]])\n",
    "        neg = np.array(expdf.loc[row.exp][~cmask.loc[row.cnv]])\n",
    "        \n",
    "        # calculate n\n",
    "        pos_n.append(len(pos))\n",
    "        neg_n.append(len(neg))\n",
    "        \n",
    "        print(pos_n, neg_n)\n",
    "        \n",
    "#         # calculate mu\n",
    "#         pos_mu.append(pos.mean())\n",
    "#         neg_mu.append(neg.mean())\n",
    "        \n",
    "#         # calculate var\n",
    "#         pos_var.append(pos.var())\n",
    "#         neg_var.append(neg.var())\n",
    "        \n",
    "#         # calculate cohen's d\n",
    "#         cohens_d.append(cohenD(pos, neg))\n",
    "        \n",
    "#         # calculate t_stat, welch\n",
    "#         t, p = stats.ttest_ind(pos, neg, nan_policy=nan_style, equal_var=True)\n",
    "#         np_t_w.append(t)\n",
    "#         np_p_w.append(p)\n",
    "        \n",
    "#         if permute:\n",
    "#             pos = np.array(expdf.loc[row.exp][cmask_n.loc[row.cnv]])\n",
    "#             neg = np.array(expdf.loc[row.exp][~cmask_n.loc[row.cnv]])\n",
    "#             t, p = stats.ttest_ind(pos, neg, nan_policy=nan_style, equal_var=True)\n",
    "#             np_t_w_null.append(t)\n",
    "#             np_p_w_null.append(p)\n",
    "            \n",
    "#     df['pos_n'] = pos_n\n",
    "#     df['neg_n'] = neg_n\n",
    "#     df['pos_mu'] = pos_mu\n",
    "#     df['neg_mu'] = neg_mu\n",
    "#     df['pos_var'] = pos_var\n",
    "#     df['neg_var'] = neg_var\n",
    "#     df['cohens_d'] = cohens_d\n",
    "#     df['np_t_w'] = np_t_w\n",
    "#     df['np_p_w'] = np_p_w\n",
    "    \n",
    "#     if permute:\n",
    "#         df['np_t_w_null'] = np_t_w_null\n",
    "#         df['np_t_w_null'] = np_t_w_null\n",
    "    \n",
    "#     df.dropna(inplace=True)\n",
    "#     df['t_shrnk_glob'] = np.vectorize(t_welch)(df['pos_n'], df['neg_n'], \n",
    "#                                                df['pos_mu'], df['neg_mu'], \n",
    "#                                                df['pos_var'], df['neg_var'], \n",
    "#                                                meanVar(expdf))\n",
    "    \n",
    "#     right = expdf.rename_axis('exp', axis=0) \n",
    "#     right['gene_var_exp'] = right.var(axis=1)\n",
    "#     right = right.reset_index()\n",
    "    \n",
    "#     df = pd.merge(df, right[['exp','gene_var_exp']], on='exp')\n",
    "    \n",
    "#     if cat_df:\n",
    "#         return pd.concat([cat_df, df])\n",
    "        \n",
    "    return df"
   ]
  },
  {
   "cell_type": "code",
   "execution_count": 92,
   "metadata": {
    "collapsed": false
   },
   "outputs": [
    {
     "ename": "TypeError",
     "evalue": "invalid file:                  AU565       BT20      BT474      BT483      BT549     CAL120  \\\n1/2-SBSRNA4        NaN        NaN   5.401017   5.717574   5.030948   6.448201   \nA1BG               NaN        NaN        NaN   6.799552   7.599171   8.221060   \nA1BG-AS1           NaN        NaN        NaN        NaN        NaN        NaN   \nA2LD1              NaN        NaN   6.085782   6.441127   7.877578   5.075992   \nA2M                NaN        NaN        NaN        NaN        NaN        NaN   \nA2ML1         4.818356   4.184284        NaN        NaN        NaN        NaN   \nA4GALT             NaN        NaN        NaN        NaN        NaN        NaN   \nA4GNT              NaN        NaN        NaN        NaN        NaN        NaN   \nAA06               NaN        NaN        NaN        NaN        NaN        NaN   \nAAAS          9.229649   8.208900   7.934789   7.726963   8.577770   7.685151   \nAACS          9.992298   9.378825   8.946910   9.248846   7.269798   8.656520   \nAACSP1             NaN        NaN        NaN        NaN        NaN        NaN   \nAADAC              NaN        NaN        NaN        NaN        NaN        NaN   \nAADAT              NaN        NaN   6.254454   6.627580        NaN   6.339025   \nAAGAB         7.578082   8.650473   7.721881   8.325902        NaN   7.472990   \nAAK1          4.891353   5.217003   4.451226   4.487502   4.646080   4.716834   \nAAMP          9.679279   9.168416   9.153500   8.451337   8.564627   9.017830   \nAARS          9.550180  11.171280  11.074530  10.441280  10.388020  10.370440   \nAARS2         7.150403   7.563896   6.649362   6.591405        NaN   6.694557   \nAARSD1             NaN   4.470384        NaN   4.516075        NaN   4.399421   \nAASDH         8.159118   7.676645   8.296540   8.234043   7.339728   8.152327   \nAASDHPPT      9.759328   9.995366  10.193500   9.561549  10.028500  10.214240   \nAASS               NaN   4.397417   4.109508        NaN        NaN   6.690876   \nAATF         10.261070  11.319320  11.287300  10.396740  10.578690  10.697130   \nAATK               NaN        NaN        NaN        NaN        NaN   5.174114   \nABAT          5.374396   8.057765   8.954705  10.049300        NaN        NaN   \nABCA1         5.286819   5.555085   4.658617   4.936168   4.453195   9.932750   \nABCA11P       4.601520   6.700054   8.166716   7.462878   5.762992   6.696349   \nABCA12        7.178539   6.416960   4.805860   6.445141        NaN        NaN   \nABCA13        4.620888        NaN        NaN        NaN        NaN        NaN   \n...                ...        ...        ...        ...        ...        ...   \nZSCAN1             NaN        NaN        NaN        NaN        NaN        NaN   \nZSCAN12       4.190345   4.194638   4.115327        NaN        NaN   4.331519   \nZSCAN16       6.956788   7.698805   8.370701   7.018322   5.990665   7.110038   \nZSCAN18            NaN   7.872182   9.017076   9.843330   8.991950  10.368650   \nZSCAN2             NaN        NaN   5.739653   5.351689   5.731398   5.178578   \nZSCAN20            NaN        NaN   4.069165        NaN        NaN   4.178654   \nZSCAN21       8.725225   7.617147   8.382343   8.320641   8.263767   8.114889   \nZSCAN22       5.958741   6.416857   6.329459   6.188894   5.960686   6.800494   \nZSCAN23            NaN        NaN        NaN        NaN        NaN        NaN   \nZSCAN29       8.480873   8.242375   8.339835   8.031781   7.390029   7.335942   \nZSCAN30            NaN        NaN   6.543900   6.585787   5.893547   6.664070   \nZSCAN4             NaN        NaN        NaN        NaN        NaN        NaN   \nZSCAN5A       6.712712   5.092116        NaN        NaN        NaN   6.824927   \nZSWIM1        7.730974   7.696359   7.032717   7.227403   7.065143   6.829857   \nZSWIM3             NaN        NaN        NaN        NaN        NaN   5.708715   \nZSWIM5             NaN        NaN   5.012450   6.331182        NaN        NaN   \nZSWIM6        5.059113   7.811076   8.034542   8.475565   8.731724  10.211730   \nZSWIM7        6.776535   7.377791   7.177923   6.118944   6.935172   6.290571   \nZUFSP         7.656923   8.983916   8.818097   7.226705   7.693307   7.817564   \nZW10          9.862230  10.276770   9.692453   9.672103  10.281400  10.042920   \nZWILCH       10.114430  10.816400  10.108540   9.005857  10.355110   9.697626   \nZWINT        12.306900  12.070270  12.305410  11.790140  12.285510  12.080140   \nZXDA          4.208478   5.618784   5.817537   5.668045   4.776957   5.682596   \nZXDB          5.257425   5.399877   6.162034   5.551925   4.737779   5.453927   \nZXDC          6.268052   6.764904   6.845357   6.767751   5.776595   6.020465   \nZYG11A             NaN   7.563141        NaN   8.407823   7.605774   8.026693   \nZYG11B        8.575357   8.340189   8.753212   8.545071   8.353551   9.014222   \nZYX          10.261830   9.331145   7.264385   7.635322  10.084580   8.492724   \nZZEF1         6.471422   6.338926   6.240221   5.743932   6.728235   5.838322   \nZZZ3          8.962359   9.938775   9.785010   8.855000   9.749450  10.382230   \n\n                CAL148      CAL51     CAL851      CAMA1    ...       MDAMB436  \\\n1/2-SBSRNA4   5.862162   6.607692   4.712810   5.230651    ...            NaN   \nA1BG          6.371130   6.126693        NaN   7.742350    ...       6.824272   \nA1BG-AS1           NaN        NaN        NaN        NaN    ...            NaN   \nA2LD1         6.696254   7.141233   6.933365   6.505857    ...       6.193615   \nA2M                NaN        NaN        NaN        NaN    ...            NaN   \nA2ML1         6.730723        NaN   6.400949        NaN    ...            NaN   \nA4GALT             NaN        NaN        NaN        NaN    ...            NaN   \nA4GNT              NaN        NaN        NaN        NaN    ...            NaN   \nAA06               NaN        NaN        NaN        NaN    ...            NaN   \nAAAS          8.476448   8.478623        NaN        NaN    ...       7.993578   \nAACS          8.605605   8.215746   9.288716   6.600951    ...       9.363530   \nAACSP1             NaN        NaN        NaN        NaN    ...            NaN   \nAADAC              NaN        NaN        NaN        NaN    ...            NaN   \nAADAT              NaN   8.351869        NaN   7.170359    ...       6.382376   \nAAGAB         8.366566   7.789415   7.635354   8.075536    ...       8.350380   \nAAK1          4.413313   4.435174   4.885669   4.536779    ...       4.926903   \nAAMP          9.028979   8.434494   8.914895   9.119010    ...       9.318343   \nAARS          9.066320  10.399480  10.489330  10.294340    ...      10.367540   \nAARS2         6.973182   7.171527   6.612123   7.724721    ...       6.197298   \nAARSD1        4.428601   4.560750   4.575146   4.923492    ...       4.665651   \nAASDH         8.041343   8.651756   7.204428   8.537359    ...       9.277981   \nAASDHPPT      9.713813  10.673880   9.476205   9.759420    ...       9.762572   \nAASS               NaN   6.376552        NaN        NaN    ...       4.272343   \nAATF         11.371680  10.408230  10.917820  10.763880    ...      10.703100   \nAATK               NaN   5.534264        NaN   6.215613    ...            NaN   \nABAT          5.800044   5.232220   6.096316  10.244410    ...       4.750387   \nABCA1              NaN   7.528114   6.487035   7.781025    ...      10.101480   \nABCA11P       6.799648   6.829173   4.648600   7.045971    ...       6.291848   \nABCA12        4.028794        NaN   4.837690        NaN    ...            NaN   \nABCA13             NaN        NaN        NaN   3.494250    ...            NaN   \n...                ...        ...        ...        ...    ...            ...   \nZSCAN1             NaN        NaN        NaN        NaN    ...            NaN   \nZSCAN12       4.227465        NaN   4.351954   4.217842    ...       4.154917   \nZSCAN16       8.446662   7.308503   7.460758   8.801527    ...       5.440765   \nZSCAN18            NaN   8.606428   8.684165   7.870384    ...       8.709539   \nZSCAN2        6.371268   6.206897        NaN        NaN    ...            NaN   \nZSCAN20            NaN        NaN        NaN        NaN    ...            NaN   \nZSCAN21       8.941499   8.279793        NaN   8.523518    ...       8.549068   \nZSCAN22       7.152042   6.659347   5.962933   6.223348    ...       6.694190   \nZSCAN23            NaN        NaN        NaN        NaN    ...            NaN   \nZSCAN29       8.594872   8.384741   6.697005   9.059508    ...       8.215356   \nZSCAN30       6.697018   7.164075        NaN   6.342103    ...       6.306116   \nZSCAN4             NaN        NaN        NaN        NaN    ...            NaN   \nZSCAN5A       6.115686   6.103238   5.716368        NaN    ...       6.567625   \nZSWIM1        7.185990   6.794718        NaN   7.058635    ...       6.476053   \nZSWIM3             NaN        NaN        NaN        NaN    ...            NaN   \nZSWIM5        6.925499   4.805001        NaN        NaN    ...            NaN   \nZSWIM6        7.766529   8.657669   8.129996   7.321884    ...       8.384978   \nZSWIM7        7.828040   7.173896   7.493884   7.285599    ...       6.491092   \nZUFSP         8.142718   8.104419   7.153235   7.832600    ...       7.747949   \nZW10         10.107660   9.909033   9.802782   9.630733    ...       9.719796   \nZWILCH        9.510691  10.125400   9.636026  10.352660    ...      10.873210   \nZWINT        12.356410  12.411690  11.983480  12.213640    ...      12.292380   \nZXDA          5.986959   5.860412   4.821368   5.049491    ...       5.506668   \nZXDB          5.555560        NaN   5.149921   5.797910    ...       5.576138   \nZXDC          6.407387   6.753649   4.896261   6.718253    ...       6.016499   \nZYG11A        6.646481        NaN        NaN        NaN    ...       8.119946   \nZYG11B        9.348654   9.351545   7.514766   8.251154    ...       8.897943   \nZYX           7.275881   8.807075   9.281140   7.862486    ...       9.169788   \nZZEF1         6.080077   6.079540   6.044560   5.848208    ...       5.919734   \nZZZ3          9.137805   9.803556   9.328253   9.115391    ...      10.037540   \n\n              MDAMB453   MDAMB468      SKBR3       T47D    UACC812    UACC893  \\\n1/2-SBSRNA4   5.178795   4.992288   5.285821        NaN   6.137365   5.673962   \nA1BG          7.822566        NaN        NaN   6.638034   7.041119        NaN   \nA1BG-AS1           NaN        NaN        NaN        NaN   5.584081        NaN   \nA2LD1         4.966001   6.616900   6.069765   6.190813   4.239530   6.767208   \nA2M                NaN   7.406219        NaN        NaN        NaN        NaN   \nA2ML1              NaN        NaN   5.900330        NaN        NaN   4.164136   \nA4GALT             NaN        NaN        NaN        NaN        NaN        NaN   \nA4GNT              NaN        NaN        NaN        NaN        NaN        NaN   \nAA06          4.168221        NaN        NaN        NaN        NaN        NaN   \nAAAS          8.429693   8.486038   8.545306   8.629433   8.173907   8.252124   \nAACS          9.605350   8.894754   9.517088   9.284242   9.208145   8.029938   \nAACSP1             NaN        NaN        NaN        NaN        NaN        NaN   \nAADAC              NaN        NaN        NaN        NaN        NaN        NaN   \nAADAT              NaN        NaN        NaN        NaN   6.806400   8.915041   \nAAGAB         8.782118   7.774441   7.653187   7.937500   8.186781   8.469779   \nAAK1          4.585792   4.946612   4.767722        NaN   4.672083   4.502843   \nAAMP          9.745142   9.474694   9.055880   8.777973   8.455665   9.095028   \nAARS         10.403840  10.264270   9.561374  10.919070  10.219930  10.938930   \nAARS2         7.058317   6.476547   6.760015   6.761700   8.058346   6.866194   \nAARSD1        4.330661   4.614783        NaN        NaN        NaN   4.281547   \nAASDH         8.025286   7.105355   8.415030   8.633640   7.448323   7.539519   \nAASDHPPT      9.953846  10.181720   9.491801  10.491160   9.911799   9.462094   \nAASS               NaN        NaN        NaN        NaN        NaN        NaN   \nAATF         10.858490  10.342990  10.015320  10.394340  10.846720  10.184270   \nAATK               NaN        NaN        NaN        NaN        NaN        NaN   \nABAT          7.287071   5.213668   4.664408   9.509522  10.432790   4.547066   \nABCA1              NaN        NaN   5.426454   5.051885   5.023736   6.888092   \nABCA11P       6.179356   4.396465   5.712473   7.136001   5.869844   5.677229   \nABCA12        8.513917   4.430781   8.381972   8.699961   6.859760   5.767731   \nABCA13             NaN        NaN        NaN        NaN        NaN        NaN   \n...                ...        ...        ...        ...        ...        ...   \nZSCAN1             NaN        NaN        NaN        NaN        NaN        NaN   \nZSCAN12       4.492391   4.114480   4.452775        NaN        NaN        NaN   \nZSCAN16       7.446225   8.104886   7.002219   8.143650   7.796094   7.280588   \nZSCAN18            NaN  10.252400        NaN   9.335976   8.829829   7.318254   \nZSCAN2             NaN        NaN        NaN   5.389772   5.195696   5.903602   \nZSCAN20            NaN        NaN   4.325872        NaN        NaN        NaN   \nZSCAN21       8.393926   7.786510   8.731034   8.139547   7.311099   8.436025   \nZSCAN22       6.146975   6.305369   6.830027   6.141580   6.298183   5.922633   \nZSCAN23            NaN        NaN        NaN        NaN        NaN        NaN   \nZSCAN29       8.958674   7.289526   8.577037   8.130506   8.154562   8.458700   \nZSCAN30       6.044507   5.789701        NaN   6.335481   6.351107        NaN   \nZSCAN4             NaN   4.329499        NaN        NaN        NaN        NaN   \nZSCAN5A       6.752105   6.203394   6.496085        NaN   4.700283        NaN   \nZSWIM1        7.095438   6.789234   8.036248   7.428427   7.138898   7.368541   \nZSWIM3        6.288714        NaN        NaN        NaN        NaN        NaN   \nZSWIM5        4.988909   6.287229        NaN        NaN   6.083219        NaN   \nZSWIM6        7.274949   7.671754   6.137067   7.474859   9.404527   6.902036   \nZSWIM7        8.050698   7.078139   7.053482   7.225688   7.428633   6.549287   \nZUFSP         8.372729   7.924757   7.658010   7.543463   8.355267   9.643117   \nZW10          9.861009  10.213070   9.672779  10.759320   9.396257   9.133978   \nZWILCH       10.813400   9.701169  10.201880  10.210170   9.262472   9.986816   \nZWINT        12.773760  12.273890  12.882160  12.825140  12.284360  11.855430   \nZXDA          5.136422   6.028195   5.099157   5.395938   5.423396   5.727188   \nZXDB          5.245288   5.803195   5.105470   5.032590   5.048845   5.777585   \nZXDC          6.921565   6.344338   6.199790   6.574778   7.403573   6.842925   \nZYG11A        8.423384   8.146307        NaN   8.013076   7.919800        NaN   \nZYG11B        8.856997   9.023488   9.273552   8.684761   8.474782   7.813156   \nZYX           6.943276   8.704727   8.884001        NaN   7.386169   9.400195   \nZZEF1         6.107978   6.031191   6.155779   6.034748   6.628869   6.326017   \nZZZ3          9.292901  10.502180   9.181607   9.057616   8.273064   8.376453   \n\n                  YMB1      ZR751     ZR7530  \n1/2-SBSRNA4   5.461494        NaN   5.352480  \nA1BG          8.521523   7.731496   6.945533  \nA1BG-AS1           NaN        NaN        NaN  \nA2LD1         6.553315   6.368450   6.027463  \nA2M                NaN        NaN        NaN  \nA2ML1              NaN        NaN        NaN  \nA4GALT             NaN        NaN        NaN  \nA4GNT              NaN   4.388632        NaN  \nAA06               NaN        NaN        NaN  \nAAAS          7.589940        NaN   7.935206  \nAACS          9.604330   9.366894   9.054392  \nAACSP1             NaN        NaN        NaN  \nAADAC              NaN        NaN        NaN  \nAADAT         8.033582   6.746711        NaN  \nAAGAB         8.348037   8.309408   8.758870  \nAAK1          4.563789   4.625151   4.706801  \nAAMP          8.992434   8.710091   8.564691  \nAARS         11.440810  10.206370   9.500120  \nAARS2         6.706370        NaN   6.600794  \nAARSD1             NaN        NaN        NaN  \nAASDH         8.448802   8.685290   8.258714  \nAASDHPPT      9.566819   9.993601   8.996769  \nAASS               NaN        NaN        NaN  \nAATF         10.505390   9.425864  12.487220  \nAATK               NaN        NaN        NaN  \nABAT          8.745520   9.319051   9.866115  \nABCA1         8.325855   7.468163   6.674429  \nABCA11P       6.429127   5.904540   5.748567  \nABCA12        9.758344   8.097042        NaN  \nABCA13             NaN        NaN        NaN  \n...                ...        ...        ...  \nZSCAN1             NaN        NaN        NaN  \nZSCAN12            NaN        NaN   4.117767  \nZSCAN16       7.528583   7.915255   7.242831  \nZSCAN18            NaN        NaN        NaN  \nZSCAN2        5.387585        NaN   5.646473  \nZSCAN20            NaN        NaN   4.289713  \nZSCAN21       8.149582   7.938695   7.710341  \nZSCAN22       6.013011   5.908308   6.403885  \nZSCAN23            NaN        NaN        NaN  \nZSCAN29       9.013274   8.303932   8.008774  \nZSCAN30       5.987273   6.343423   5.876367  \nZSCAN4             NaN        NaN        NaN  \nZSCAN5A            NaN        NaN        NaN  \nZSWIM1        6.945576   6.610644   6.999290  \nZSWIM3             NaN        NaN        NaN  \nZSWIM5             NaN   5.593190   5.537770  \nZSWIM6        5.972131   8.052469   9.109592  \nZSWIM7        7.209974   7.042388   5.585066  \nZUFSP         6.979407   7.274042   7.718757  \nZW10          9.017020   9.225289   9.012209  \nZWILCH       10.277460  10.398470   9.650302  \nZWINT        12.249660  12.621280  11.530060  \nZXDA          5.330254   5.008054   5.339243  \nZXDB          5.296610   5.069002   5.428846  \nZXDC          6.678727   6.836028   6.956828  \nZYG11A        7.691551   7.285720   7.280116  \nZYG11B        8.154350   8.469786   9.191729  \nZYX           6.802321   6.434814   8.194097  \nZZEF1         5.835767        NaN   5.870717  \nZZZ3          8.979249   9.373826   9.153612  \n\n[16237 rows x 59 columns]",
     "output_type": "error",
     "traceback": [
      "\u001b[1;31m---------------------------------------------------------------------------\u001b[0m",
      "\u001b[1;31mTypeError\u001b[0m                                 Traceback (most recent call last)",
      "\u001b[1;32m/home/tjm/anaconda3/lib/python3.4/site-packages/pandas/io/pickle.py\u001b[0m in \u001b[0;36mtry_read\u001b[1;34m(path, encoding)\u001b[0m\n\u001b[0;32m     45\u001b[0m         \u001b[1;32mtry\u001b[0m\u001b[1;33m:\u001b[0m\u001b[1;33m\u001b[0m\u001b[0m\n\u001b[1;32m---> 46\u001b[1;33m             \u001b[1;32mwith\u001b[0m \u001b[0mopen\u001b[0m\u001b[1;33m(\u001b[0m\u001b[0mpath\u001b[0m\u001b[1;33m,\u001b[0m \u001b[1;34m'rb'\u001b[0m\u001b[1;33m)\u001b[0m \u001b[1;32mas\u001b[0m \u001b[0mfh\u001b[0m\u001b[1;33m:\u001b[0m\u001b[1;33m\u001b[0m\u001b[0m\n\u001b[0m\u001b[0;32m     47\u001b[0m                 \u001b[1;32mreturn\u001b[0m \u001b[0mpkl\u001b[0m\u001b[1;33m.\u001b[0m\u001b[0mload\u001b[0m\u001b[1;33m(\u001b[0m\u001b[0mfh\u001b[0m\u001b[1;33m)\u001b[0m\u001b[1;33m\u001b[0m\u001b[0m\n",
      "\u001b[1;31mTypeError\u001b[0m: invalid file:                  AU565       BT20      BT474      BT483      BT549     CAL120  \\\n1/2-SBSRNA4        NaN        NaN   5.401017   5.717574   5.030948   6.448201   \nA1BG               NaN        NaN        NaN   6.799552   7.599171   8.221060   \nA1BG-AS1           NaN        NaN        NaN        NaN        NaN        NaN   \nA2LD1              NaN        NaN   6.085782   6.441127   7.877578   5.075992   \nA2M                NaN        NaN        NaN        NaN        NaN        NaN   \nA2ML1         4.818356   4.184284        NaN        NaN        NaN        NaN   \nA4GALT             NaN        NaN        NaN        NaN        NaN        NaN   \nA4GNT              NaN        NaN        NaN        NaN        NaN        NaN   \nAA06               NaN        NaN        NaN        NaN        NaN        NaN   \nAAAS          9.229649   8.208900   7.934789   7.726963   8.577770   7.685151   \nAACS          9.992298   9.378825   8.946910   9.248846   7.269798   8.656520   \nAACSP1             NaN        NaN        NaN        NaN        NaN        NaN   \nAADAC              NaN        NaN        NaN        NaN        NaN        NaN   \nAADAT              NaN        NaN   6.254454   6.627580        NaN   6.339025   \nAAGAB         7.578082   8.650473   7.721881   8.325902        NaN   7.472990   \nAAK1          4.891353   5.217003   4.451226   4.487502   4.646080   4.716834   \nAAMP          9.679279   9.168416   9.153500   8.451337   8.564627   9.017830   \nAARS          9.550180  11.171280  11.074530  10.441280  10.388020  10.370440   \nAARS2         7.150403   7.563896   6.649362   6.591405        NaN   6.694557   \nAARSD1             NaN   4.470384        NaN   4.516075        NaN   4.399421   \nAASDH         8.159118   7.676645   8.296540   8.234043   7.339728   8.152327   \nAASDHPPT      9.759328   9.995366  10.193500   9.561549  10.028500  10.214240   \nAASS               NaN   4.397417   4.109508        NaN        NaN   6.690876   \nAATF         10.261070  11.319320  11.287300  10.396740  10.578690  10.697130   \nAATK               NaN        NaN        NaN        NaN        NaN   5.174114   \nABAT          5.374396   8.057765   8.954705  10.049300        NaN        NaN   \nABCA1         5.286819   5.555085   4.658617   4.936168   4.453195   9.932750   \nABCA11P       4.601520   6.700054   8.166716   7.462878   5.762992   6.696349   \nABCA12        7.178539   6.416960   4.805860   6.445141        NaN        NaN   \nABCA13        4.620888        NaN        NaN        NaN        NaN        NaN   \n...                ...        ...        ...        ...        ...        ...   \nZSCAN1             NaN        NaN        NaN        NaN        NaN        NaN   \nZSCAN12       4.190345   4.194638   4.115327        NaN        NaN   4.331519   \nZSCAN16       6.956788   7.698805   8.370701   7.018322   5.990665   7.110038   \nZSCAN18            NaN   7.872182   9.017076   9.843330   8.991950  10.368650   \nZSCAN2             NaN        NaN   5.739653   5.351689   5.731398   5.178578   \nZSCAN20            NaN        NaN   4.069165        NaN        NaN   4.178654   \nZSCAN21       8.725225   7.617147   8.382343   8.320641   8.263767   8.114889   \nZSCAN22       5.958741   6.416857   6.329459   6.188894   5.960686   6.800494   \nZSCAN23            NaN        NaN        NaN        NaN        NaN        NaN   \nZSCAN29       8.480873   8.242375   8.339835   8.031781   7.390029   7.335942   \nZSCAN30            NaN        NaN   6.543900   6.585787   5.893547   6.664070   \nZSCAN4             NaN        NaN        NaN        NaN        NaN        NaN   \nZSCAN5A       6.712712   5.092116        NaN        NaN        NaN   6.824927   \nZSWIM1        7.730974   7.696359   7.032717   7.227403   7.065143   6.829857   \nZSWIM3             NaN        NaN        NaN        NaN        NaN   5.708715   \nZSWIM5             NaN        NaN   5.012450   6.331182        NaN        NaN   \nZSWIM6        5.059113   7.811076   8.034542   8.475565   8.731724  10.211730   \nZSWIM7        6.776535   7.377791   7.177923   6.118944   6.935172   6.290571   \nZUFSP         7.656923   8.983916   8.818097   7.226705   7.693307   7.817564   \nZW10          9.862230  10.276770   9.692453   9.672103  10.281400  10.042920   \nZWILCH       10.114430  10.816400  10.108540   9.005857  10.355110   9.697626   \nZWINT        12.306900  12.070270  12.305410  11.790140  12.285510  12.080140   \nZXDA          4.208478   5.618784   5.817537   5.668045   4.776957   5.682596   \nZXDB          5.257425   5.399877   6.162034   5.551925   4.737779   5.453927   \nZXDC          6.268052   6.764904   6.845357   6.767751   5.776595   6.020465   \nZYG11A             NaN   7.563141        NaN   8.407823   7.605774   8.026693   \nZYG11B        8.575357   8.340189   8.753212   8.545071   8.353551   9.014222   \nZYX          10.261830   9.331145   7.264385   7.635322  10.084580   8.492724   \nZZEF1         6.471422   6.338926   6.240221   5.743932   6.728235   5.838322   \nZZZ3          8.962359   9.938775   9.785010   8.855000   9.749450  10.382230   \n\n                CAL148      CAL51     CAL851      CAMA1    ...       MDAMB436  \\\n1/2-SBSRNA4   5.862162   6.607692   4.712810   5.230651    ...            NaN   \nA1BG          6.371130   6.126693        NaN   7.742350    ...       6.824272   \nA1BG-AS1           NaN        NaN        NaN        NaN    ...            NaN   \nA2LD1         6.696254   7.141233   6.933365   6.505857    ...       6.193615   \nA2M                NaN        NaN        NaN        NaN    ...            NaN   \nA2ML1         6.730723        NaN   6.400949        NaN    ...            NaN   \nA4GALT             NaN        NaN        NaN        NaN    ...            NaN   \nA4GNT              NaN        NaN        NaN        NaN    ...            NaN   \nAA06               NaN        NaN        NaN        NaN    ...            NaN   \nAAAS          8.476448   8.478623        NaN        NaN    ...       7.993578   \nAACS          8.605605   8.215746   9.288716   6.600951    ...       9.363530   \nAACSP1             NaN        NaN        NaN        NaN    ...            NaN   \nAADAC              NaN        NaN        NaN        NaN    ...            NaN   \nAADAT              NaN   8.351869        NaN   7.170359    ...       6.382376   \nAAGAB         8.366566   7.789415   7.635354   8.075536    ...       8.350380   \nAAK1          4.413313   4.435174   4.885669   4.536779    ...       4.926903   \nAAMP          9.028979   8.434494   8.914895   9.119010    ...       9.318343   \nAARS          9.066320  10.399480  10.489330  10.294340    ...      10.367540   \nAARS2         6.973182   7.171527   6.612123   7.724721    ...       6.197298   \nAARSD1        4.428601   4.560750   4.575146   4.923492    ...       4.665651   \nAASDH         8.041343   8.651756   7.204428   8.537359    ...       9.277981   \nAASDHPPT      9.713813  10.673880   9.476205   9.759420    ...       9.762572   \nAASS               NaN   6.376552        NaN        NaN    ...       4.272343   \nAATF         11.371680  10.408230  10.917820  10.763880    ...      10.703100   \nAATK               NaN   5.534264        NaN   6.215613    ...            NaN   \nABAT          5.800044   5.232220   6.096316  10.244410    ...       4.750387   \nABCA1              NaN   7.528114   6.487035   7.781025    ...      10.101480   \nABCA11P       6.799648   6.829173   4.648600   7.045971    ...       6.291848   \nABCA12        4.028794        NaN   4.837690        NaN    ...            NaN   \nABCA13             NaN        NaN        NaN   3.494250    ...            NaN   \n...                ...        ...        ...        ...    ...            ...   \nZSCAN1             NaN        NaN        NaN        NaN    ...            NaN   \nZSCAN12       4.227465        NaN   4.351954   4.217842    ...       4.154917   \nZSCAN16       8.446662   7.308503   7.460758   8.801527    ...       5.440765   \nZSCAN18            NaN   8.606428   8.684165   7.870384    ...       8.709539   \nZSCAN2        6.371268   6.206897        NaN        NaN    ...            NaN   \nZSCAN20            NaN        NaN        NaN        NaN    ...            NaN   \nZSCAN21       8.941499   8.279793        NaN   8.523518    ...       8.549068   \nZSCAN22       7.152042   6.659347   5.962933   6.223348    ...       6.694190   \nZSCAN23            NaN        NaN        NaN        NaN    ...            NaN   \nZSCAN29       8.594872   8.384741   6.697005   9.059508    ...       8.215356   \nZSCAN30       6.697018   7.164075        NaN   6.342103    ...       6.306116   \nZSCAN4             NaN        NaN        NaN        NaN    ...            NaN   \nZSCAN5A       6.115686   6.103238   5.716368        NaN    ...       6.567625   \nZSWIM1        7.185990   6.794718        NaN   7.058635    ...       6.476053   \nZSWIM3             NaN        NaN        NaN        NaN    ...            NaN   \nZSWIM5        6.925499   4.805001        NaN        NaN    ...            NaN   \nZSWIM6        7.766529   8.657669   8.129996   7.321884    ...       8.384978   \nZSWIM7        7.828040   7.173896   7.493884   7.285599    ...       6.491092   \nZUFSP         8.142718   8.104419   7.153235   7.832600    ...       7.747949   \nZW10         10.107660   9.909033   9.802782   9.630733    ...       9.719796   \nZWILCH        9.510691  10.125400   9.636026  10.352660    ...      10.873210   \nZWINT        12.356410  12.411690  11.983480  12.213640    ...      12.292380   \nZXDA          5.986959   5.860412   4.821368   5.049491    ...       5.506668   \nZXDB          5.555560        NaN   5.149921   5.797910    ...       5.576138   \nZXDC          6.407387   6.753649   4.896261   6.718253    ...       6.016499   \nZYG11A        6.646481        NaN        NaN        NaN    ...       8.119946   \nZYG11B        9.348654   9.351545   7.514766   8.251154    ...       8.897943   \nZYX           7.275881   8.807075   9.281140   7.862486    ...       9.169788   \nZZEF1         6.080077   6.079540   6.044560   5.848208    ...       5.919734   \nZZZ3          9.137805   9.803556   9.328253   9.115391    ...      10.037540   \n\n              MDAMB453   MDAMB468      SKBR3       T47D    UACC812    UACC893  \\\n1/2-SBSRNA4   5.178795   4.992288   5.285821        NaN   6.137365   5.673962   \nA1BG          7.822566        NaN        NaN   6.638034   7.041119        NaN   \nA1BG-AS1           NaN        NaN        NaN        NaN   5.584081        NaN   \nA2LD1         4.966001   6.616900   6.069765   6.190813   4.239530   6.767208   \nA2M                NaN   7.406219        NaN        NaN        NaN        NaN   \nA2ML1              NaN        NaN   5.900330        NaN        NaN   4.164136   \nA4GALT             NaN        NaN        NaN        NaN        NaN        NaN   \nA4GNT              NaN        NaN        NaN        NaN        NaN        NaN   \nAA06          4.168221        NaN        NaN        NaN        NaN        NaN   \nAAAS          8.429693   8.486038   8.545306   8.629433   8.173907   8.252124   \nAACS          9.605350   8.894754   9.517088   9.284242   9.208145   8.029938   \nAACSP1             NaN        NaN        NaN        NaN        NaN        NaN   \nAADAC              NaN        NaN        NaN        NaN        NaN        NaN   \nAADAT              NaN        NaN        NaN        NaN   6.806400   8.915041   \nAAGAB         8.782118   7.774441   7.653187   7.937500   8.186781   8.469779   \nAAK1          4.585792   4.946612   4.767722        NaN   4.672083   4.502843   \nAAMP          9.745142   9.474694   9.055880   8.777973   8.455665   9.095028   \nAARS         10.403840  10.264270   9.561374  10.919070  10.219930  10.938930   \nAARS2         7.058317   6.476547   6.760015   6.761700   8.058346   6.866194   \nAARSD1        4.330661   4.614783        NaN        NaN        NaN   4.281547   \nAASDH         8.025286   7.105355   8.415030   8.633640   7.448323   7.539519   \nAASDHPPT      9.953846  10.181720   9.491801  10.491160   9.911799   9.462094   \nAASS               NaN        NaN        NaN        NaN        NaN        NaN   \nAATF         10.858490  10.342990  10.015320  10.394340  10.846720  10.184270   \nAATK               NaN        NaN        NaN        NaN        NaN        NaN   \nABAT          7.287071   5.213668   4.664408   9.509522  10.432790   4.547066   \nABCA1              NaN        NaN   5.426454   5.051885   5.023736   6.888092   \nABCA11P       6.179356   4.396465   5.712473   7.136001   5.869844   5.677229   \nABCA12        8.513917   4.430781   8.381972   8.699961   6.859760   5.767731   \nABCA13             NaN        NaN        NaN        NaN        NaN        NaN   \n...                ...        ...        ...        ...        ...        ...   \nZSCAN1             NaN        NaN        NaN        NaN        NaN        NaN   \nZSCAN12       4.492391   4.114480   4.452775        NaN        NaN        NaN   \nZSCAN16       7.446225   8.104886   7.002219   8.143650   7.796094   7.280588   \nZSCAN18            NaN  10.252400        NaN   9.335976   8.829829   7.318254   \nZSCAN2             NaN        NaN        NaN   5.389772   5.195696   5.903602   \nZSCAN20            NaN        NaN   4.325872        NaN        NaN        NaN   \nZSCAN21       8.393926   7.786510   8.731034   8.139547   7.311099   8.436025   \nZSCAN22       6.146975   6.305369   6.830027   6.141580   6.298183   5.922633   \nZSCAN23            NaN        NaN        NaN        NaN        NaN        NaN   \nZSCAN29       8.958674   7.289526   8.577037   8.130506   8.154562   8.458700   \nZSCAN30       6.044507   5.789701        NaN   6.335481   6.351107        NaN   \nZSCAN4             NaN   4.329499        NaN        NaN        NaN        NaN   \nZSCAN5A       6.752105   6.203394   6.496085        NaN   4.700283        NaN   \nZSWIM1        7.095438   6.789234   8.036248   7.428427   7.138898   7.368541   \nZSWIM3        6.288714        NaN        NaN        NaN        NaN        NaN   \nZSWIM5        4.988909   6.287229        NaN        NaN   6.083219        NaN   \nZSWIM6        7.274949   7.671754   6.137067   7.474859   9.404527   6.902036   \nZSWIM7        8.050698   7.078139   7.053482   7.225688   7.428633   6.549287   \nZUFSP         8.372729   7.924757   7.658010   7.543463   8.355267   9.643117   \nZW10          9.861009  10.213070   9.672779  10.759320   9.396257   9.133978   \nZWILCH       10.813400   9.701169  10.201880  10.210170   9.262472   9.986816   \nZWINT        12.773760  12.273890  12.882160  12.825140  12.284360  11.855430   \nZXDA          5.136422   6.028195   5.099157   5.395938   5.423396   5.727188   \nZXDB          5.245288   5.803195   5.105470   5.032590   5.048845   5.777585   \nZXDC          6.921565   6.344338   6.199790   6.574778   7.403573   6.842925   \nZYG11A        8.423384   8.146307        NaN   8.013076   7.919800        NaN   \nZYG11B        8.856997   9.023488   9.273552   8.684761   8.474782   7.813156   \nZYX           6.943276   8.704727   8.884001        NaN   7.386169   9.400195   \nZZEF1         6.107978   6.031191   6.155779   6.034748   6.628869   6.326017   \nZZZ3          9.292901  10.502180   9.181607   9.057616   8.273064   8.376453   \n\n                  YMB1      ZR751     ZR7530  \n1/2-SBSRNA4   5.461494        NaN   5.352480  \nA1BG          8.521523   7.731496   6.945533  \nA1BG-AS1           NaN        NaN        NaN  \nA2LD1         6.553315   6.368450   6.027463  \nA2M                NaN        NaN        NaN  \nA2ML1              NaN        NaN        NaN  \nA4GALT             NaN        NaN        NaN  \nA4GNT              NaN   4.388632        NaN  \nAA06               NaN        NaN        NaN  \nAAAS          7.589940        NaN   7.935206  \nAACS          9.604330   9.366894   9.054392  \nAACSP1             NaN        NaN        NaN  \nAADAC              NaN        NaN        NaN  \nAADAT         8.033582   6.746711        NaN  \nAAGAB         8.348037   8.309408   8.758870  \nAAK1          4.563789   4.625151   4.706801  \nAAMP          8.992434   8.710091   8.564691  \nAARS         11.440810  10.206370   9.500120  \nAARS2         6.706370        NaN   6.600794  \nAARSD1             NaN        NaN        NaN  \nAASDH         8.448802   8.685290   8.258714  \nAASDHPPT      9.566819   9.993601   8.996769  \nAASS               NaN        NaN        NaN  \nAATF         10.505390   9.425864  12.487220  \nAATK               NaN        NaN        NaN  \nABAT          8.745520   9.319051   9.866115  \nABCA1         8.325855   7.468163   6.674429  \nABCA11P       6.429127   5.904540   5.748567  \nABCA12        9.758344   8.097042        NaN  \nABCA13             NaN        NaN        NaN  \n...                ...        ...        ...  \nZSCAN1             NaN        NaN        NaN  \nZSCAN12            NaN        NaN   4.117767  \nZSCAN16       7.528583   7.915255   7.242831  \nZSCAN18            NaN        NaN        NaN  \nZSCAN2        5.387585        NaN   5.646473  \nZSCAN20            NaN        NaN   4.289713  \nZSCAN21       8.149582   7.938695   7.710341  \nZSCAN22       6.013011   5.908308   6.403885  \nZSCAN23            NaN        NaN        NaN  \nZSCAN29       9.013274   8.303932   8.008774  \nZSCAN30       5.987273   6.343423   5.876367  \nZSCAN4             NaN        NaN        NaN  \nZSCAN5A            NaN        NaN        NaN  \nZSWIM1        6.945576   6.610644   6.999290  \nZSWIM3             NaN        NaN        NaN  \nZSWIM5             NaN   5.593190   5.537770  \nZSWIM6        5.972131   8.052469   9.109592  \nZSWIM7        7.209974   7.042388   5.585066  \nZUFSP         6.979407   7.274042   7.718757  \nZW10          9.017020   9.225289   9.012209  \nZWILCH       10.277460  10.398470   9.650302  \nZWINT        12.249660  12.621280  11.530060  \nZXDA          5.330254   5.008054   5.339243  \nZXDB          5.296610   5.069002   5.428846  \nZXDC          6.678727   6.836028   6.956828  \nZYG11A        7.691551   7.285720   7.280116  \nZYG11B        8.154350   8.469786   9.191729  \nZYX           6.802321   6.434814   8.194097  \nZZEF1         5.835767        NaN   5.870717  \nZZZ3          8.979249   9.373826   9.153612  \n\n[16237 rows x 59 columns]",
      "\nDuring handling of the above exception, another exception occurred:\n",
      "\u001b[1;31mTypeError\u001b[0m                                 Traceback (most recent call last)",
      "\u001b[1;32m/home/tjm/anaconda3/lib/python3.4/site-packages/pandas/io/pickle.py\u001b[0m in \u001b[0;36mtry_read\u001b[1;34m(path, encoding)\u001b[0m\n\u001b[0;32m     50\u001b[0m             \u001b[1;32mtry\u001b[0m\u001b[1;33m:\u001b[0m\u001b[1;33m\u001b[0m\u001b[0m\n\u001b[1;32m---> 51\u001b[1;33m                 \u001b[1;32mwith\u001b[0m \u001b[0mopen\u001b[0m\u001b[1;33m(\u001b[0m\u001b[0mpath\u001b[0m\u001b[1;33m,\u001b[0m \u001b[1;34m'rb'\u001b[0m\u001b[1;33m)\u001b[0m \u001b[1;32mas\u001b[0m \u001b[0mfh\u001b[0m\u001b[1;33m:\u001b[0m\u001b[1;33m\u001b[0m\u001b[0m\n\u001b[0m\u001b[0;32m     52\u001b[0m                     \u001b[1;32mreturn\u001b[0m \u001b[0mpc\u001b[0m\u001b[1;33m.\u001b[0m\u001b[0mload\u001b[0m\u001b[1;33m(\u001b[0m\u001b[0mfh\u001b[0m\u001b[1;33m,\u001b[0m \u001b[0mencoding\u001b[0m\u001b[1;33m=\u001b[0m\u001b[0mencoding\u001b[0m\u001b[1;33m,\u001b[0m \u001b[0mcompat\u001b[0m\u001b[1;33m=\u001b[0m\u001b[1;32mFalse\u001b[0m\u001b[1;33m)\u001b[0m\u001b[1;33m\u001b[0m\u001b[0m\n",
      "\u001b[1;31mTypeError\u001b[0m: invalid file:                  AU565       BT20      BT474      BT483      BT549     CAL120  \\\n1/2-SBSRNA4        NaN        NaN   5.401017   5.717574   5.030948   6.448201   \nA1BG               NaN        NaN        NaN   6.799552   7.599171   8.221060   \nA1BG-AS1           NaN        NaN        NaN        NaN        NaN        NaN   \nA2LD1              NaN        NaN   6.085782   6.441127   7.877578   5.075992   \nA2M                NaN        NaN        NaN        NaN        NaN        NaN   \nA2ML1         4.818356   4.184284        NaN        NaN        NaN        NaN   \nA4GALT             NaN        NaN        NaN        NaN        NaN        NaN   \nA4GNT              NaN        NaN        NaN        NaN        NaN        NaN   \nAA06               NaN        NaN        NaN        NaN        NaN        NaN   \nAAAS          9.229649   8.208900   7.934789   7.726963   8.577770   7.685151   \nAACS          9.992298   9.378825   8.946910   9.248846   7.269798   8.656520   \nAACSP1             NaN        NaN        NaN        NaN        NaN        NaN   \nAADAC              NaN        NaN        NaN        NaN        NaN        NaN   \nAADAT              NaN        NaN   6.254454   6.627580        NaN   6.339025   \nAAGAB         7.578082   8.650473   7.721881   8.325902        NaN   7.472990   \nAAK1          4.891353   5.217003   4.451226   4.487502   4.646080   4.716834   \nAAMP          9.679279   9.168416   9.153500   8.451337   8.564627   9.017830   \nAARS          9.550180  11.171280  11.074530  10.441280  10.388020  10.370440   \nAARS2         7.150403   7.563896   6.649362   6.591405        NaN   6.694557   \nAARSD1             NaN   4.470384        NaN   4.516075        NaN   4.399421   \nAASDH         8.159118   7.676645   8.296540   8.234043   7.339728   8.152327   \nAASDHPPT      9.759328   9.995366  10.193500   9.561549  10.028500  10.214240   \nAASS               NaN   4.397417   4.109508        NaN        NaN   6.690876   \nAATF         10.261070  11.319320  11.287300  10.396740  10.578690  10.697130   \nAATK               NaN        NaN        NaN        NaN        NaN   5.174114   \nABAT          5.374396   8.057765   8.954705  10.049300        NaN        NaN   \nABCA1         5.286819   5.555085   4.658617   4.936168   4.453195   9.932750   \nABCA11P       4.601520   6.700054   8.166716   7.462878   5.762992   6.696349   \nABCA12        7.178539   6.416960   4.805860   6.445141        NaN        NaN   \nABCA13        4.620888        NaN        NaN        NaN        NaN        NaN   \n...                ...        ...        ...        ...        ...        ...   \nZSCAN1             NaN        NaN        NaN        NaN        NaN        NaN   \nZSCAN12       4.190345   4.194638   4.115327        NaN        NaN   4.331519   \nZSCAN16       6.956788   7.698805   8.370701   7.018322   5.990665   7.110038   \nZSCAN18            NaN   7.872182   9.017076   9.843330   8.991950  10.368650   \nZSCAN2             NaN        NaN   5.739653   5.351689   5.731398   5.178578   \nZSCAN20            NaN        NaN   4.069165        NaN        NaN   4.178654   \nZSCAN21       8.725225   7.617147   8.382343   8.320641   8.263767   8.114889   \nZSCAN22       5.958741   6.416857   6.329459   6.188894   5.960686   6.800494   \nZSCAN23            NaN        NaN        NaN        NaN        NaN        NaN   \nZSCAN29       8.480873   8.242375   8.339835   8.031781   7.390029   7.335942   \nZSCAN30            NaN        NaN   6.543900   6.585787   5.893547   6.664070   \nZSCAN4             NaN        NaN        NaN        NaN        NaN        NaN   \nZSCAN5A       6.712712   5.092116        NaN        NaN        NaN   6.824927   \nZSWIM1        7.730974   7.696359   7.032717   7.227403   7.065143   6.829857   \nZSWIM3             NaN        NaN        NaN        NaN        NaN   5.708715   \nZSWIM5             NaN        NaN   5.012450   6.331182        NaN        NaN   \nZSWIM6        5.059113   7.811076   8.034542   8.475565   8.731724  10.211730   \nZSWIM7        6.776535   7.377791   7.177923   6.118944   6.935172   6.290571   \nZUFSP         7.656923   8.983916   8.818097   7.226705   7.693307   7.817564   \nZW10          9.862230  10.276770   9.692453   9.672103  10.281400  10.042920   \nZWILCH       10.114430  10.816400  10.108540   9.005857  10.355110   9.697626   \nZWINT        12.306900  12.070270  12.305410  11.790140  12.285510  12.080140   \nZXDA          4.208478   5.618784   5.817537   5.668045   4.776957   5.682596   \nZXDB          5.257425   5.399877   6.162034   5.551925   4.737779   5.453927   \nZXDC          6.268052   6.764904   6.845357   6.767751   5.776595   6.020465   \nZYG11A             NaN   7.563141        NaN   8.407823   7.605774   8.026693   \nZYG11B        8.575357   8.340189   8.753212   8.545071   8.353551   9.014222   \nZYX          10.261830   9.331145   7.264385   7.635322  10.084580   8.492724   \nZZEF1         6.471422   6.338926   6.240221   5.743932   6.728235   5.838322   \nZZZ3          8.962359   9.938775   9.785010   8.855000   9.749450  10.382230   \n\n                CAL148      CAL51     CAL851      CAMA1    ...       MDAMB436  \\\n1/2-SBSRNA4   5.862162   6.607692   4.712810   5.230651    ...            NaN   \nA1BG          6.371130   6.126693        NaN   7.742350    ...       6.824272   \nA1BG-AS1           NaN        NaN        NaN        NaN    ...            NaN   \nA2LD1         6.696254   7.141233   6.933365   6.505857    ...       6.193615   \nA2M                NaN        NaN        NaN        NaN    ...            NaN   \nA2ML1         6.730723        NaN   6.400949        NaN    ...            NaN   \nA4GALT             NaN        NaN        NaN        NaN    ...            NaN   \nA4GNT              NaN        NaN        NaN        NaN    ...            NaN   \nAA06               NaN        NaN        NaN        NaN    ...            NaN   \nAAAS          8.476448   8.478623        NaN        NaN    ...       7.993578   \nAACS          8.605605   8.215746   9.288716   6.600951    ...       9.363530   \nAACSP1             NaN        NaN        NaN        NaN    ...            NaN   \nAADAC              NaN        NaN        NaN        NaN    ...            NaN   \nAADAT              NaN   8.351869        NaN   7.170359    ...       6.382376   \nAAGAB         8.366566   7.789415   7.635354   8.075536    ...       8.350380   \nAAK1          4.413313   4.435174   4.885669   4.536779    ...       4.926903   \nAAMP          9.028979   8.434494   8.914895   9.119010    ...       9.318343   \nAARS          9.066320  10.399480  10.489330  10.294340    ...      10.367540   \nAARS2         6.973182   7.171527   6.612123   7.724721    ...       6.197298   \nAARSD1        4.428601   4.560750   4.575146   4.923492    ...       4.665651   \nAASDH         8.041343   8.651756   7.204428   8.537359    ...       9.277981   \nAASDHPPT      9.713813  10.673880   9.476205   9.759420    ...       9.762572   \nAASS               NaN   6.376552        NaN        NaN    ...       4.272343   \nAATF         11.371680  10.408230  10.917820  10.763880    ...      10.703100   \nAATK               NaN   5.534264        NaN   6.215613    ...            NaN   \nABAT          5.800044   5.232220   6.096316  10.244410    ...       4.750387   \nABCA1              NaN   7.528114   6.487035   7.781025    ...      10.101480   \nABCA11P       6.799648   6.829173   4.648600   7.045971    ...       6.291848   \nABCA12        4.028794        NaN   4.837690        NaN    ...            NaN   \nABCA13             NaN        NaN        NaN   3.494250    ...            NaN   \n...                ...        ...        ...        ...    ...            ...   \nZSCAN1             NaN        NaN        NaN        NaN    ...            NaN   \nZSCAN12       4.227465        NaN   4.351954   4.217842    ...       4.154917   \nZSCAN16       8.446662   7.308503   7.460758   8.801527    ...       5.440765   \nZSCAN18            NaN   8.606428   8.684165   7.870384    ...       8.709539   \nZSCAN2        6.371268   6.206897        NaN        NaN    ...            NaN   \nZSCAN20            NaN        NaN        NaN        NaN    ...            NaN   \nZSCAN21       8.941499   8.279793        NaN   8.523518    ...       8.549068   \nZSCAN22       7.152042   6.659347   5.962933   6.223348    ...       6.694190   \nZSCAN23            NaN        NaN        NaN        NaN    ...            NaN   \nZSCAN29       8.594872   8.384741   6.697005   9.059508    ...       8.215356   \nZSCAN30       6.697018   7.164075        NaN   6.342103    ...       6.306116   \nZSCAN4             NaN        NaN        NaN        NaN    ...            NaN   \nZSCAN5A       6.115686   6.103238   5.716368        NaN    ...       6.567625   \nZSWIM1        7.185990   6.794718        NaN   7.058635    ...       6.476053   \nZSWIM3             NaN        NaN        NaN        NaN    ...            NaN   \nZSWIM5        6.925499   4.805001        NaN        NaN    ...            NaN   \nZSWIM6        7.766529   8.657669   8.129996   7.321884    ...       8.384978   \nZSWIM7        7.828040   7.173896   7.493884   7.285599    ...       6.491092   \nZUFSP         8.142718   8.104419   7.153235   7.832600    ...       7.747949   \nZW10         10.107660   9.909033   9.802782   9.630733    ...       9.719796   \nZWILCH        9.510691  10.125400   9.636026  10.352660    ...      10.873210   \nZWINT        12.356410  12.411690  11.983480  12.213640    ...      12.292380   \nZXDA          5.986959   5.860412   4.821368   5.049491    ...       5.506668   \nZXDB          5.555560        NaN   5.149921   5.797910    ...       5.576138   \nZXDC          6.407387   6.753649   4.896261   6.718253    ...       6.016499   \nZYG11A        6.646481        NaN        NaN        NaN    ...       8.119946   \nZYG11B        9.348654   9.351545   7.514766   8.251154    ...       8.897943   \nZYX           7.275881   8.807075   9.281140   7.862486    ...       9.169788   \nZZEF1         6.080077   6.079540   6.044560   5.848208    ...       5.919734   \nZZZ3          9.137805   9.803556   9.328253   9.115391    ...      10.037540   \n\n              MDAMB453   MDAMB468      SKBR3       T47D    UACC812    UACC893  \\\n1/2-SBSRNA4   5.178795   4.992288   5.285821        NaN   6.137365   5.673962   \nA1BG          7.822566        NaN        NaN   6.638034   7.041119        NaN   \nA1BG-AS1           NaN        NaN        NaN        NaN   5.584081        NaN   \nA2LD1         4.966001   6.616900   6.069765   6.190813   4.239530   6.767208   \nA2M                NaN   7.406219        NaN        NaN        NaN        NaN   \nA2ML1              NaN        NaN   5.900330        NaN        NaN   4.164136   \nA4GALT             NaN        NaN        NaN        NaN        NaN        NaN   \nA4GNT              NaN        NaN        NaN        NaN        NaN        NaN   \nAA06          4.168221        NaN        NaN        NaN        NaN        NaN   \nAAAS          8.429693   8.486038   8.545306   8.629433   8.173907   8.252124   \nAACS          9.605350   8.894754   9.517088   9.284242   9.208145   8.029938   \nAACSP1             NaN        NaN        NaN        NaN        NaN        NaN   \nAADAC              NaN        NaN        NaN        NaN        NaN        NaN   \nAADAT              NaN        NaN        NaN        NaN   6.806400   8.915041   \nAAGAB         8.782118   7.774441   7.653187   7.937500   8.186781   8.469779   \nAAK1          4.585792   4.946612   4.767722        NaN   4.672083   4.502843   \nAAMP          9.745142   9.474694   9.055880   8.777973   8.455665   9.095028   \nAARS         10.403840  10.264270   9.561374  10.919070  10.219930  10.938930   \nAARS2         7.058317   6.476547   6.760015   6.761700   8.058346   6.866194   \nAARSD1        4.330661   4.614783        NaN        NaN        NaN   4.281547   \nAASDH         8.025286   7.105355   8.415030   8.633640   7.448323   7.539519   \nAASDHPPT      9.953846  10.181720   9.491801  10.491160   9.911799   9.462094   \nAASS               NaN        NaN        NaN        NaN        NaN        NaN   \nAATF         10.858490  10.342990  10.015320  10.394340  10.846720  10.184270   \nAATK               NaN        NaN        NaN        NaN        NaN        NaN   \nABAT          7.287071   5.213668   4.664408   9.509522  10.432790   4.547066   \nABCA1              NaN        NaN   5.426454   5.051885   5.023736   6.888092   \nABCA11P       6.179356   4.396465   5.712473   7.136001   5.869844   5.677229   \nABCA12        8.513917   4.430781   8.381972   8.699961   6.859760   5.767731   \nABCA13             NaN        NaN        NaN        NaN        NaN        NaN   \n...                ...        ...        ...        ...        ...        ...   \nZSCAN1             NaN        NaN        NaN        NaN        NaN        NaN   \nZSCAN12       4.492391   4.114480   4.452775        NaN        NaN        NaN   \nZSCAN16       7.446225   8.104886   7.002219   8.143650   7.796094   7.280588   \nZSCAN18            NaN  10.252400        NaN   9.335976   8.829829   7.318254   \nZSCAN2             NaN        NaN        NaN   5.389772   5.195696   5.903602   \nZSCAN20            NaN        NaN   4.325872        NaN        NaN        NaN   \nZSCAN21       8.393926   7.786510   8.731034   8.139547   7.311099   8.436025   \nZSCAN22       6.146975   6.305369   6.830027   6.141580   6.298183   5.922633   \nZSCAN23            NaN        NaN        NaN        NaN        NaN        NaN   \nZSCAN29       8.958674   7.289526   8.577037   8.130506   8.154562   8.458700   \nZSCAN30       6.044507   5.789701        NaN   6.335481   6.351107        NaN   \nZSCAN4             NaN   4.329499        NaN        NaN        NaN        NaN   \nZSCAN5A       6.752105   6.203394   6.496085        NaN   4.700283        NaN   \nZSWIM1        7.095438   6.789234   8.036248   7.428427   7.138898   7.368541   \nZSWIM3        6.288714        NaN        NaN        NaN        NaN        NaN   \nZSWIM5        4.988909   6.287229        NaN        NaN   6.083219        NaN   \nZSWIM6        7.274949   7.671754   6.137067   7.474859   9.404527   6.902036   \nZSWIM7        8.050698   7.078139   7.053482   7.225688   7.428633   6.549287   \nZUFSP         8.372729   7.924757   7.658010   7.543463   8.355267   9.643117   \nZW10          9.861009  10.213070   9.672779  10.759320   9.396257   9.133978   \nZWILCH       10.813400   9.701169  10.201880  10.210170   9.262472   9.986816   \nZWINT        12.773760  12.273890  12.882160  12.825140  12.284360  11.855430   \nZXDA          5.136422   6.028195   5.099157   5.395938   5.423396   5.727188   \nZXDB          5.245288   5.803195   5.105470   5.032590   5.048845   5.777585   \nZXDC          6.921565   6.344338   6.199790   6.574778   7.403573   6.842925   \nZYG11A        8.423384   8.146307        NaN   8.013076   7.919800        NaN   \nZYG11B        8.856997   9.023488   9.273552   8.684761   8.474782   7.813156   \nZYX           6.943276   8.704727   8.884001        NaN   7.386169   9.400195   \nZZEF1         6.107978   6.031191   6.155779   6.034748   6.628869   6.326017   \nZZZ3          9.292901  10.502180   9.181607   9.057616   8.273064   8.376453   \n\n                  YMB1      ZR751     ZR7530  \n1/2-SBSRNA4   5.461494        NaN   5.352480  \nA1BG          8.521523   7.731496   6.945533  \nA1BG-AS1           NaN        NaN        NaN  \nA2LD1         6.553315   6.368450   6.027463  \nA2M                NaN        NaN        NaN  \nA2ML1              NaN        NaN        NaN  \nA4GALT             NaN        NaN        NaN  \nA4GNT              NaN   4.388632        NaN  \nAA06               NaN        NaN        NaN  \nAAAS          7.589940        NaN   7.935206  \nAACS          9.604330   9.366894   9.054392  \nAACSP1             NaN        NaN        NaN  \nAADAC              NaN        NaN        NaN  \nAADAT         8.033582   6.746711        NaN  \nAAGAB         8.348037   8.309408   8.758870  \nAAK1          4.563789   4.625151   4.706801  \nAAMP          8.992434   8.710091   8.564691  \nAARS         11.440810  10.206370   9.500120  \nAARS2         6.706370        NaN   6.600794  \nAARSD1             NaN        NaN        NaN  \nAASDH         8.448802   8.685290   8.258714  \nAASDHPPT      9.566819   9.993601   8.996769  \nAASS               NaN        NaN        NaN  \nAATF         10.505390   9.425864  12.487220  \nAATK               NaN        NaN        NaN  \nABAT          8.745520   9.319051   9.866115  \nABCA1         8.325855   7.468163   6.674429  \nABCA11P       6.429127   5.904540   5.748567  \nABCA12        9.758344   8.097042        NaN  \nABCA13             NaN        NaN        NaN  \n...                ...        ...        ...  \nZSCAN1             NaN        NaN        NaN  \nZSCAN12            NaN        NaN   4.117767  \nZSCAN16       7.528583   7.915255   7.242831  \nZSCAN18            NaN        NaN        NaN  \nZSCAN2        5.387585        NaN   5.646473  \nZSCAN20            NaN        NaN   4.289713  \nZSCAN21       8.149582   7.938695   7.710341  \nZSCAN22       6.013011   5.908308   6.403885  \nZSCAN23            NaN        NaN        NaN  \nZSCAN29       9.013274   8.303932   8.008774  \nZSCAN30       5.987273   6.343423   5.876367  \nZSCAN4             NaN        NaN        NaN  \nZSCAN5A            NaN        NaN        NaN  \nZSWIM1        6.945576   6.610644   6.999290  \nZSWIM3             NaN        NaN        NaN  \nZSWIM5             NaN   5.593190   5.537770  \nZSWIM6        5.972131   8.052469   9.109592  \nZSWIM7        7.209974   7.042388   5.585066  \nZUFSP         6.979407   7.274042   7.718757  \nZW10          9.017020   9.225289   9.012209  \nZWILCH       10.277460  10.398470   9.650302  \nZWINT        12.249660  12.621280  11.530060  \nZXDA          5.330254   5.008054   5.339243  \nZXDB          5.296610   5.069002   5.428846  \nZXDC          6.678727   6.836028   6.956828  \nZYG11A        7.691551   7.285720   7.280116  \nZYG11B        8.154350   8.469786   9.191729  \nZYX           6.802321   6.434814   8.194097  \nZZEF1         5.835767        NaN   5.870717  \nZZZ3          8.979249   9.373826   9.153612  \n\n[16237 rows x 59 columns]",
      "\nDuring handling of the above exception, another exception occurred:\n",
      "\u001b[1;31mTypeError\u001b[0m                                 Traceback (most recent call last)",
      "\u001b[1;32m/home/tjm/anaconda3/lib/python3.4/site-packages/pandas/io/pickle.py\u001b[0m in \u001b[0;36mread_pickle\u001b[1;34m(path)\u001b[0m\n\u001b[0;32m     59\u001b[0m     \u001b[1;32mtry\u001b[0m\u001b[1;33m:\u001b[0m\u001b[1;33m\u001b[0m\u001b[0m\n\u001b[1;32m---> 60\u001b[1;33m         \u001b[1;32mreturn\u001b[0m \u001b[0mtry_read\u001b[0m\u001b[1;33m(\u001b[0m\u001b[0mpath\u001b[0m\u001b[1;33m)\u001b[0m\u001b[1;33m\u001b[0m\u001b[0m\n\u001b[0m\u001b[0;32m     61\u001b[0m     \u001b[1;32mexcept\u001b[0m\u001b[1;33m:\u001b[0m\u001b[1;33m\u001b[0m\u001b[0m\n",
      "\u001b[1;32m/home/tjm/anaconda3/lib/python3.4/site-packages/pandas/io/pickle.py\u001b[0m in \u001b[0;36mtry_read\u001b[1;34m(path, encoding)\u001b[0m\n\u001b[0;32m     55\u001b[0m             \u001b[1;32mexcept\u001b[0m\u001b[1;33m:\u001b[0m\u001b[1;33m\u001b[0m\u001b[0m\n\u001b[1;32m---> 56\u001b[1;33m                 \u001b[1;32mwith\u001b[0m \u001b[0mopen\u001b[0m\u001b[1;33m(\u001b[0m\u001b[0mpath\u001b[0m\u001b[1;33m,\u001b[0m \u001b[1;34m'rb'\u001b[0m\u001b[1;33m)\u001b[0m \u001b[1;32mas\u001b[0m \u001b[0mfh\u001b[0m\u001b[1;33m:\u001b[0m\u001b[1;33m\u001b[0m\u001b[0m\n\u001b[0m\u001b[0;32m     57\u001b[0m                     \u001b[1;32mreturn\u001b[0m \u001b[0mpc\u001b[0m\u001b[1;33m.\u001b[0m\u001b[0mload\u001b[0m\u001b[1;33m(\u001b[0m\u001b[0mfh\u001b[0m\u001b[1;33m,\u001b[0m \u001b[0mencoding\u001b[0m\u001b[1;33m=\u001b[0m\u001b[0mencoding\u001b[0m\u001b[1;33m,\u001b[0m \u001b[0mcompat\u001b[0m\u001b[1;33m=\u001b[0m\u001b[1;32mTrue\u001b[0m\u001b[1;33m)\u001b[0m\u001b[1;33m\u001b[0m\u001b[0m\n",
      "\u001b[1;31mTypeError\u001b[0m: invalid file:                  AU565       BT20      BT474      BT483      BT549     CAL120  \\\n1/2-SBSRNA4        NaN        NaN   5.401017   5.717574   5.030948   6.448201   \nA1BG               NaN        NaN        NaN   6.799552   7.599171   8.221060   \nA1BG-AS1           NaN        NaN        NaN        NaN        NaN        NaN   \nA2LD1              NaN        NaN   6.085782   6.441127   7.877578   5.075992   \nA2M                NaN        NaN        NaN        NaN        NaN        NaN   \nA2ML1         4.818356   4.184284        NaN        NaN        NaN        NaN   \nA4GALT             NaN        NaN        NaN        NaN        NaN        NaN   \nA4GNT              NaN        NaN        NaN        NaN        NaN        NaN   \nAA06               NaN        NaN        NaN        NaN        NaN        NaN   \nAAAS          9.229649   8.208900   7.934789   7.726963   8.577770   7.685151   \nAACS          9.992298   9.378825   8.946910   9.248846   7.269798   8.656520   \nAACSP1             NaN        NaN        NaN        NaN        NaN        NaN   \nAADAC              NaN        NaN        NaN        NaN        NaN        NaN   \nAADAT              NaN        NaN   6.254454   6.627580        NaN   6.339025   \nAAGAB         7.578082   8.650473   7.721881   8.325902        NaN   7.472990   \nAAK1          4.891353   5.217003   4.451226   4.487502   4.646080   4.716834   \nAAMP          9.679279   9.168416   9.153500   8.451337   8.564627   9.017830   \nAARS          9.550180  11.171280  11.074530  10.441280  10.388020  10.370440   \nAARS2         7.150403   7.563896   6.649362   6.591405        NaN   6.694557   \nAARSD1             NaN   4.470384        NaN   4.516075        NaN   4.399421   \nAASDH         8.159118   7.676645   8.296540   8.234043   7.339728   8.152327   \nAASDHPPT      9.759328   9.995366  10.193500   9.561549  10.028500  10.214240   \nAASS               NaN   4.397417   4.109508        NaN        NaN   6.690876   \nAATF         10.261070  11.319320  11.287300  10.396740  10.578690  10.697130   \nAATK               NaN        NaN        NaN        NaN        NaN   5.174114   \nABAT          5.374396   8.057765   8.954705  10.049300        NaN        NaN   \nABCA1         5.286819   5.555085   4.658617   4.936168   4.453195   9.932750   \nABCA11P       4.601520   6.700054   8.166716   7.462878   5.762992   6.696349   \nABCA12        7.178539   6.416960   4.805860   6.445141        NaN        NaN   \nABCA13        4.620888        NaN        NaN        NaN        NaN        NaN   \n...                ...        ...        ...        ...        ...        ...   \nZSCAN1             NaN        NaN        NaN        NaN        NaN        NaN   \nZSCAN12       4.190345   4.194638   4.115327        NaN        NaN   4.331519   \nZSCAN16       6.956788   7.698805   8.370701   7.018322   5.990665   7.110038   \nZSCAN18            NaN   7.872182   9.017076   9.843330   8.991950  10.368650   \nZSCAN2             NaN        NaN   5.739653   5.351689   5.731398   5.178578   \nZSCAN20            NaN        NaN   4.069165        NaN        NaN   4.178654   \nZSCAN21       8.725225   7.617147   8.382343   8.320641   8.263767   8.114889   \nZSCAN22       5.958741   6.416857   6.329459   6.188894   5.960686   6.800494   \nZSCAN23            NaN        NaN        NaN        NaN        NaN        NaN   \nZSCAN29       8.480873   8.242375   8.339835   8.031781   7.390029   7.335942   \nZSCAN30            NaN        NaN   6.543900   6.585787   5.893547   6.664070   \nZSCAN4             NaN        NaN        NaN        NaN        NaN        NaN   \nZSCAN5A       6.712712   5.092116        NaN        NaN        NaN   6.824927   \nZSWIM1        7.730974   7.696359   7.032717   7.227403   7.065143   6.829857   \nZSWIM3             NaN        NaN        NaN        NaN        NaN   5.708715   \nZSWIM5             NaN        NaN   5.012450   6.331182        NaN        NaN   \nZSWIM6        5.059113   7.811076   8.034542   8.475565   8.731724  10.211730   \nZSWIM7        6.776535   7.377791   7.177923   6.118944   6.935172   6.290571   \nZUFSP         7.656923   8.983916   8.818097   7.226705   7.693307   7.817564   \nZW10          9.862230  10.276770   9.692453   9.672103  10.281400  10.042920   \nZWILCH       10.114430  10.816400  10.108540   9.005857  10.355110   9.697626   \nZWINT        12.306900  12.070270  12.305410  11.790140  12.285510  12.080140   \nZXDA          4.208478   5.618784   5.817537   5.668045   4.776957   5.682596   \nZXDB          5.257425   5.399877   6.162034   5.551925   4.737779   5.453927   \nZXDC          6.268052   6.764904   6.845357   6.767751   5.776595   6.020465   \nZYG11A             NaN   7.563141        NaN   8.407823   7.605774   8.026693   \nZYG11B        8.575357   8.340189   8.753212   8.545071   8.353551   9.014222   \nZYX          10.261830   9.331145   7.264385   7.635322  10.084580   8.492724   \nZZEF1         6.471422   6.338926   6.240221   5.743932   6.728235   5.838322   \nZZZ3          8.962359   9.938775   9.785010   8.855000   9.749450  10.382230   \n\n                CAL148      CAL51     CAL851      CAMA1    ...       MDAMB436  \\\n1/2-SBSRNA4   5.862162   6.607692   4.712810   5.230651    ...            NaN   \nA1BG          6.371130   6.126693        NaN   7.742350    ...       6.824272   \nA1BG-AS1           NaN        NaN        NaN        NaN    ...            NaN   \nA2LD1         6.696254   7.141233   6.933365   6.505857    ...       6.193615   \nA2M                NaN        NaN        NaN        NaN    ...            NaN   \nA2ML1         6.730723        NaN   6.400949        NaN    ...            NaN   \nA4GALT             NaN        NaN        NaN        NaN    ...            NaN   \nA4GNT              NaN        NaN        NaN        NaN    ...            NaN   \nAA06               NaN        NaN        NaN        NaN    ...            NaN   \nAAAS          8.476448   8.478623        NaN        NaN    ...       7.993578   \nAACS          8.605605   8.215746   9.288716   6.600951    ...       9.363530   \nAACSP1             NaN        NaN        NaN        NaN    ...            NaN   \nAADAC              NaN        NaN        NaN        NaN    ...            NaN   \nAADAT              NaN   8.351869        NaN   7.170359    ...       6.382376   \nAAGAB         8.366566   7.789415   7.635354   8.075536    ...       8.350380   \nAAK1          4.413313   4.435174   4.885669   4.536779    ...       4.926903   \nAAMP          9.028979   8.434494   8.914895   9.119010    ...       9.318343   \nAARS          9.066320  10.399480  10.489330  10.294340    ...      10.367540   \nAARS2         6.973182   7.171527   6.612123   7.724721    ...       6.197298   \nAARSD1        4.428601   4.560750   4.575146   4.923492    ...       4.665651   \nAASDH         8.041343   8.651756   7.204428   8.537359    ...       9.277981   \nAASDHPPT      9.713813  10.673880   9.476205   9.759420    ...       9.762572   \nAASS               NaN   6.376552        NaN        NaN    ...       4.272343   \nAATF         11.371680  10.408230  10.917820  10.763880    ...      10.703100   \nAATK               NaN   5.534264        NaN   6.215613    ...            NaN   \nABAT          5.800044   5.232220   6.096316  10.244410    ...       4.750387   \nABCA1              NaN   7.528114   6.487035   7.781025    ...      10.101480   \nABCA11P       6.799648   6.829173   4.648600   7.045971    ...       6.291848   \nABCA12        4.028794        NaN   4.837690        NaN    ...            NaN   \nABCA13             NaN        NaN        NaN   3.494250    ...            NaN   \n...                ...        ...        ...        ...    ...            ...   \nZSCAN1             NaN        NaN        NaN        NaN    ...            NaN   \nZSCAN12       4.227465        NaN   4.351954   4.217842    ...       4.154917   \nZSCAN16       8.446662   7.308503   7.460758   8.801527    ...       5.440765   \nZSCAN18            NaN   8.606428   8.684165   7.870384    ...       8.709539   \nZSCAN2        6.371268   6.206897        NaN        NaN    ...            NaN   \nZSCAN20            NaN        NaN        NaN        NaN    ...            NaN   \nZSCAN21       8.941499   8.279793        NaN   8.523518    ...       8.549068   \nZSCAN22       7.152042   6.659347   5.962933   6.223348    ...       6.694190   \nZSCAN23            NaN        NaN        NaN        NaN    ...            NaN   \nZSCAN29       8.594872   8.384741   6.697005   9.059508    ...       8.215356   \nZSCAN30       6.697018   7.164075        NaN   6.342103    ...       6.306116   \nZSCAN4             NaN        NaN        NaN        NaN    ...            NaN   \nZSCAN5A       6.115686   6.103238   5.716368        NaN    ...       6.567625   \nZSWIM1        7.185990   6.794718        NaN   7.058635    ...       6.476053   \nZSWIM3             NaN        NaN        NaN        NaN    ...            NaN   \nZSWIM5        6.925499   4.805001        NaN        NaN    ...            NaN   \nZSWIM6        7.766529   8.657669   8.129996   7.321884    ...       8.384978   \nZSWIM7        7.828040   7.173896   7.493884   7.285599    ...       6.491092   \nZUFSP         8.142718   8.104419   7.153235   7.832600    ...       7.747949   \nZW10         10.107660   9.909033   9.802782   9.630733    ...       9.719796   \nZWILCH        9.510691  10.125400   9.636026  10.352660    ...      10.873210   \nZWINT        12.356410  12.411690  11.983480  12.213640    ...      12.292380   \nZXDA          5.986959   5.860412   4.821368   5.049491    ...       5.506668   \nZXDB          5.555560        NaN   5.149921   5.797910    ...       5.576138   \nZXDC          6.407387   6.753649   4.896261   6.718253    ...       6.016499   \nZYG11A        6.646481        NaN        NaN        NaN    ...       8.119946   \nZYG11B        9.348654   9.351545   7.514766   8.251154    ...       8.897943   \nZYX           7.275881   8.807075   9.281140   7.862486    ...       9.169788   \nZZEF1         6.080077   6.079540   6.044560   5.848208    ...       5.919734   \nZZZ3          9.137805   9.803556   9.328253   9.115391    ...      10.037540   \n\n              MDAMB453   MDAMB468      SKBR3       T47D    UACC812    UACC893  \\\n1/2-SBSRNA4   5.178795   4.992288   5.285821        NaN   6.137365   5.673962   \nA1BG          7.822566        NaN        NaN   6.638034   7.041119        NaN   \nA1BG-AS1           NaN        NaN        NaN        NaN   5.584081        NaN   \nA2LD1         4.966001   6.616900   6.069765   6.190813   4.239530   6.767208   \nA2M                NaN   7.406219        NaN        NaN        NaN        NaN   \nA2ML1              NaN        NaN   5.900330        NaN        NaN   4.164136   \nA4GALT             NaN        NaN        NaN        NaN        NaN        NaN   \nA4GNT              NaN        NaN        NaN        NaN        NaN        NaN   \nAA06          4.168221        NaN        NaN        NaN        NaN        NaN   \nAAAS          8.429693   8.486038   8.545306   8.629433   8.173907   8.252124   \nAACS          9.605350   8.894754   9.517088   9.284242   9.208145   8.029938   \nAACSP1             NaN        NaN        NaN        NaN        NaN        NaN   \nAADAC              NaN        NaN        NaN        NaN        NaN        NaN   \nAADAT              NaN        NaN        NaN        NaN   6.806400   8.915041   \nAAGAB         8.782118   7.774441   7.653187   7.937500   8.186781   8.469779   \nAAK1          4.585792   4.946612   4.767722        NaN   4.672083   4.502843   \nAAMP          9.745142   9.474694   9.055880   8.777973   8.455665   9.095028   \nAARS         10.403840  10.264270   9.561374  10.919070  10.219930  10.938930   \nAARS2         7.058317   6.476547   6.760015   6.761700   8.058346   6.866194   \nAARSD1        4.330661   4.614783        NaN        NaN        NaN   4.281547   \nAASDH         8.025286   7.105355   8.415030   8.633640   7.448323   7.539519   \nAASDHPPT      9.953846  10.181720   9.491801  10.491160   9.911799   9.462094   \nAASS               NaN        NaN        NaN        NaN        NaN        NaN   \nAATF         10.858490  10.342990  10.015320  10.394340  10.846720  10.184270   \nAATK               NaN        NaN        NaN        NaN        NaN        NaN   \nABAT          7.287071   5.213668   4.664408   9.509522  10.432790   4.547066   \nABCA1              NaN        NaN   5.426454   5.051885   5.023736   6.888092   \nABCA11P       6.179356   4.396465   5.712473   7.136001   5.869844   5.677229   \nABCA12        8.513917   4.430781   8.381972   8.699961   6.859760   5.767731   \nABCA13             NaN        NaN        NaN        NaN        NaN        NaN   \n...                ...        ...        ...        ...        ...        ...   \nZSCAN1             NaN        NaN        NaN        NaN        NaN        NaN   \nZSCAN12       4.492391   4.114480   4.452775        NaN        NaN        NaN   \nZSCAN16       7.446225   8.104886   7.002219   8.143650   7.796094   7.280588   \nZSCAN18            NaN  10.252400        NaN   9.335976   8.829829   7.318254   \nZSCAN2             NaN        NaN        NaN   5.389772   5.195696   5.903602   \nZSCAN20            NaN        NaN   4.325872        NaN        NaN        NaN   \nZSCAN21       8.393926   7.786510   8.731034   8.139547   7.311099   8.436025   \nZSCAN22       6.146975   6.305369   6.830027   6.141580   6.298183   5.922633   \nZSCAN23            NaN        NaN        NaN        NaN        NaN        NaN   \nZSCAN29       8.958674   7.289526   8.577037   8.130506   8.154562   8.458700   \nZSCAN30       6.044507   5.789701        NaN   6.335481   6.351107        NaN   \nZSCAN4             NaN   4.329499        NaN        NaN        NaN        NaN   \nZSCAN5A       6.752105   6.203394   6.496085        NaN   4.700283        NaN   \nZSWIM1        7.095438   6.789234   8.036248   7.428427   7.138898   7.368541   \nZSWIM3        6.288714        NaN        NaN        NaN        NaN        NaN   \nZSWIM5        4.988909   6.287229        NaN        NaN   6.083219        NaN   \nZSWIM6        7.274949   7.671754   6.137067   7.474859   9.404527   6.902036   \nZSWIM7        8.050698   7.078139   7.053482   7.225688   7.428633   6.549287   \nZUFSP         8.372729   7.924757   7.658010   7.543463   8.355267   9.643117   \nZW10          9.861009  10.213070   9.672779  10.759320   9.396257   9.133978   \nZWILCH       10.813400   9.701169  10.201880  10.210170   9.262472   9.986816   \nZWINT        12.773760  12.273890  12.882160  12.825140  12.284360  11.855430   \nZXDA          5.136422   6.028195   5.099157   5.395938   5.423396   5.727188   \nZXDB          5.245288   5.803195   5.105470   5.032590   5.048845   5.777585   \nZXDC          6.921565   6.344338   6.199790   6.574778   7.403573   6.842925   \nZYG11A        8.423384   8.146307        NaN   8.013076   7.919800        NaN   \nZYG11B        8.856997   9.023488   9.273552   8.684761   8.474782   7.813156   \nZYX           6.943276   8.704727   8.884001        NaN   7.386169   9.400195   \nZZEF1         6.107978   6.031191   6.155779   6.034748   6.628869   6.326017   \nZZZ3          9.292901  10.502180   9.181607   9.057616   8.273064   8.376453   \n\n                  YMB1      ZR751     ZR7530  \n1/2-SBSRNA4   5.461494        NaN   5.352480  \nA1BG          8.521523   7.731496   6.945533  \nA1BG-AS1           NaN        NaN        NaN  \nA2LD1         6.553315   6.368450   6.027463  \nA2M                NaN        NaN        NaN  \nA2ML1              NaN        NaN        NaN  \nA4GALT             NaN        NaN        NaN  \nA4GNT              NaN   4.388632        NaN  \nAA06               NaN        NaN        NaN  \nAAAS          7.589940        NaN   7.935206  \nAACS          9.604330   9.366894   9.054392  \nAACSP1             NaN        NaN        NaN  \nAADAC              NaN        NaN        NaN  \nAADAT         8.033582   6.746711        NaN  \nAAGAB         8.348037   8.309408   8.758870  \nAAK1          4.563789   4.625151   4.706801  \nAAMP          8.992434   8.710091   8.564691  \nAARS         11.440810  10.206370   9.500120  \nAARS2         6.706370        NaN   6.600794  \nAARSD1             NaN        NaN        NaN  \nAASDH         8.448802   8.685290   8.258714  \nAASDHPPT      9.566819   9.993601   8.996769  \nAASS               NaN        NaN        NaN  \nAATF         10.505390   9.425864  12.487220  \nAATK               NaN        NaN        NaN  \nABAT          8.745520   9.319051   9.866115  \nABCA1         8.325855   7.468163   6.674429  \nABCA11P       6.429127   5.904540   5.748567  \nABCA12        9.758344   8.097042        NaN  \nABCA13             NaN        NaN        NaN  \n...                ...        ...        ...  \nZSCAN1             NaN        NaN        NaN  \nZSCAN12            NaN        NaN   4.117767  \nZSCAN16       7.528583   7.915255   7.242831  \nZSCAN18            NaN        NaN        NaN  \nZSCAN2        5.387585        NaN   5.646473  \nZSCAN20            NaN        NaN   4.289713  \nZSCAN21       8.149582   7.938695   7.710341  \nZSCAN22       6.013011   5.908308   6.403885  \nZSCAN23            NaN        NaN        NaN  \nZSCAN29       9.013274   8.303932   8.008774  \nZSCAN30       5.987273   6.343423   5.876367  \nZSCAN4             NaN        NaN        NaN  \nZSCAN5A            NaN        NaN        NaN  \nZSWIM1        6.945576   6.610644   6.999290  \nZSWIM3             NaN        NaN        NaN  \nZSWIM5             NaN   5.593190   5.537770  \nZSWIM6        5.972131   8.052469   9.109592  \nZSWIM7        7.209974   7.042388   5.585066  \nZUFSP         6.979407   7.274042   7.718757  \nZW10          9.017020   9.225289   9.012209  \nZWILCH       10.277460  10.398470   9.650302  \nZWINT        12.249660  12.621280  11.530060  \nZXDA          5.330254   5.008054   5.339243  \nZXDB          5.296610   5.069002   5.428846  \nZXDC          6.678727   6.836028   6.956828  \nZYG11A        7.691551   7.285720   7.280116  \nZYG11B        8.154350   8.469786   9.191729  \nZYX           6.802321   6.434814   8.194097  \nZZEF1         5.835767        NaN   5.870717  \nZZZ3          8.979249   9.373826   9.153612  \n\n[16237 rows x 59 columns]",
      "\nDuring handling of the above exception, another exception occurred:\n",
      "\u001b[1;31mTypeError\u001b[0m                                 Traceback (most recent call last)",
      "\u001b[1;32m/home/tjm/anaconda3/lib/python3.4/site-packages/pandas/io/pickle.py\u001b[0m in \u001b[0;36mtry_read\u001b[1;34m(path, encoding)\u001b[0m\n\u001b[0;32m     45\u001b[0m         \u001b[1;32mtry\u001b[0m\u001b[1;33m:\u001b[0m\u001b[1;33m\u001b[0m\u001b[0m\n\u001b[1;32m---> 46\u001b[1;33m             \u001b[1;32mwith\u001b[0m \u001b[0mopen\u001b[0m\u001b[1;33m(\u001b[0m\u001b[0mpath\u001b[0m\u001b[1;33m,\u001b[0m \u001b[1;34m'rb'\u001b[0m\u001b[1;33m)\u001b[0m \u001b[1;32mas\u001b[0m \u001b[0mfh\u001b[0m\u001b[1;33m:\u001b[0m\u001b[1;33m\u001b[0m\u001b[0m\n\u001b[0m\u001b[0;32m     47\u001b[0m                 \u001b[1;32mreturn\u001b[0m \u001b[0mpkl\u001b[0m\u001b[1;33m.\u001b[0m\u001b[0mload\u001b[0m\u001b[1;33m(\u001b[0m\u001b[0mfh\u001b[0m\u001b[1;33m)\u001b[0m\u001b[1;33m\u001b[0m\u001b[0m\n",
      "\u001b[1;31mTypeError\u001b[0m: invalid file:                  AU565       BT20      BT474      BT483      BT549     CAL120  \\\n1/2-SBSRNA4        NaN        NaN   5.401017   5.717574   5.030948   6.448201   \nA1BG               NaN        NaN        NaN   6.799552   7.599171   8.221060   \nA1BG-AS1           NaN        NaN        NaN        NaN        NaN        NaN   \nA2LD1              NaN        NaN   6.085782   6.441127   7.877578   5.075992   \nA2M                NaN        NaN        NaN        NaN        NaN        NaN   \nA2ML1         4.818356   4.184284        NaN        NaN        NaN        NaN   \nA4GALT             NaN        NaN        NaN        NaN        NaN        NaN   \nA4GNT              NaN        NaN        NaN        NaN        NaN        NaN   \nAA06               NaN        NaN        NaN        NaN        NaN        NaN   \nAAAS          9.229649   8.208900   7.934789   7.726963   8.577770   7.685151   \nAACS          9.992298   9.378825   8.946910   9.248846   7.269798   8.656520   \nAACSP1             NaN        NaN        NaN        NaN        NaN        NaN   \nAADAC              NaN        NaN        NaN        NaN        NaN        NaN   \nAADAT              NaN        NaN   6.254454   6.627580        NaN   6.339025   \nAAGAB         7.578082   8.650473   7.721881   8.325902        NaN   7.472990   \nAAK1          4.891353   5.217003   4.451226   4.487502   4.646080   4.716834   \nAAMP          9.679279   9.168416   9.153500   8.451337   8.564627   9.017830   \nAARS          9.550180  11.171280  11.074530  10.441280  10.388020  10.370440   \nAARS2         7.150403   7.563896   6.649362   6.591405        NaN   6.694557   \nAARSD1             NaN   4.470384        NaN   4.516075        NaN   4.399421   \nAASDH         8.159118   7.676645   8.296540   8.234043   7.339728   8.152327   \nAASDHPPT      9.759328   9.995366  10.193500   9.561549  10.028500  10.214240   \nAASS               NaN   4.397417   4.109508        NaN        NaN   6.690876   \nAATF         10.261070  11.319320  11.287300  10.396740  10.578690  10.697130   \nAATK               NaN        NaN        NaN        NaN        NaN   5.174114   \nABAT          5.374396   8.057765   8.954705  10.049300        NaN        NaN   \nABCA1         5.286819   5.555085   4.658617   4.936168   4.453195   9.932750   \nABCA11P       4.601520   6.700054   8.166716   7.462878   5.762992   6.696349   \nABCA12        7.178539   6.416960   4.805860   6.445141        NaN        NaN   \nABCA13        4.620888        NaN        NaN        NaN        NaN        NaN   \n...                ...        ...        ...        ...        ...        ...   \nZSCAN1             NaN        NaN        NaN        NaN        NaN        NaN   \nZSCAN12       4.190345   4.194638   4.115327        NaN        NaN   4.331519   \nZSCAN16       6.956788   7.698805   8.370701   7.018322   5.990665   7.110038   \nZSCAN18            NaN   7.872182   9.017076   9.843330   8.991950  10.368650   \nZSCAN2             NaN        NaN   5.739653   5.351689   5.731398   5.178578   \nZSCAN20            NaN        NaN   4.069165        NaN        NaN   4.178654   \nZSCAN21       8.725225   7.617147   8.382343   8.320641   8.263767   8.114889   \nZSCAN22       5.958741   6.416857   6.329459   6.188894   5.960686   6.800494   \nZSCAN23            NaN        NaN        NaN        NaN        NaN        NaN   \nZSCAN29       8.480873   8.242375   8.339835   8.031781   7.390029   7.335942   \nZSCAN30            NaN        NaN   6.543900   6.585787   5.893547   6.664070   \nZSCAN4             NaN        NaN        NaN        NaN        NaN        NaN   \nZSCAN5A       6.712712   5.092116        NaN        NaN        NaN   6.824927   \nZSWIM1        7.730974   7.696359   7.032717   7.227403   7.065143   6.829857   \nZSWIM3             NaN        NaN        NaN        NaN        NaN   5.708715   \nZSWIM5             NaN        NaN   5.012450   6.331182        NaN        NaN   \nZSWIM6        5.059113   7.811076   8.034542   8.475565   8.731724  10.211730   \nZSWIM7        6.776535   7.377791   7.177923   6.118944   6.935172   6.290571   \nZUFSP         7.656923   8.983916   8.818097   7.226705   7.693307   7.817564   \nZW10          9.862230  10.276770   9.692453   9.672103  10.281400  10.042920   \nZWILCH       10.114430  10.816400  10.108540   9.005857  10.355110   9.697626   \nZWINT        12.306900  12.070270  12.305410  11.790140  12.285510  12.080140   \nZXDA          4.208478   5.618784   5.817537   5.668045   4.776957   5.682596   \nZXDB          5.257425   5.399877   6.162034   5.551925   4.737779   5.453927   \nZXDC          6.268052   6.764904   6.845357   6.767751   5.776595   6.020465   \nZYG11A             NaN   7.563141        NaN   8.407823   7.605774   8.026693   \nZYG11B        8.575357   8.340189   8.753212   8.545071   8.353551   9.014222   \nZYX          10.261830   9.331145   7.264385   7.635322  10.084580   8.492724   \nZZEF1         6.471422   6.338926   6.240221   5.743932   6.728235   5.838322   \nZZZ3          8.962359   9.938775   9.785010   8.855000   9.749450  10.382230   \n\n                CAL148      CAL51     CAL851      CAMA1    ...       MDAMB436  \\\n1/2-SBSRNA4   5.862162   6.607692   4.712810   5.230651    ...            NaN   \nA1BG          6.371130   6.126693        NaN   7.742350    ...       6.824272   \nA1BG-AS1           NaN        NaN        NaN        NaN    ...            NaN   \nA2LD1         6.696254   7.141233   6.933365   6.505857    ...       6.193615   \nA2M                NaN        NaN        NaN        NaN    ...            NaN   \nA2ML1         6.730723        NaN   6.400949        NaN    ...            NaN   \nA4GALT             NaN        NaN        NaN        NaN    ...            NaN   \nA4GNT              NaN        NaN        NaN        NaN    ...            NaN   \nAA06               NaN        NaN        NaN        NaN    ...            NaN   \nAAAS          8.476448   8.478623        NaN        NaN    ...       7.993578   \nAACS          8.605605   8.215746   9.288716   6.600951    ...       9.363530   \nAACSP1             NaN        NaN        NaN        NaN    ...            NaN   \nAADAC              NaN        NaN        NaN        NaN    ...            NaN   \nAADAT              NaN   8.351869        NaN   7.170359    ...       6.382376   \nAAGAB         8.366566   7.789415   7.635354   8.075536    ...       8.350380   \nAAK1          4.413313   4.435174   4.885669   4.536779    ...       4.926903   \nAAMP          9.028979   8.434494   8.914895   9.119010    ...       9.318343   \nAARS          9.066320  10.399480  10.489330  10.294340    ...      10.367540   \nAARS2         6.973182   7.171527   6.612123   7.724721    ...       6.197298   \nAARSD1        4.428601   4.560750   4.575146   4.923492    ...       4.665651   \nAASDH         8.041343   8.651756   7.204428   8.537359    ...       9.277981   \nAASDHPPT      9.713813  10.673880   9.476205   9.759420    ...       9.762572   \nAASS               NaN   6.376552        NaN        NaN    ...       4.272343   \nAATF         11.371680  10.408230  10.917820  10.763880    ...      10.703100   \nAATK               NaN   5.534264        NaN   6.215613    ...            NaN   \nABAT          5.800044   5.232220   6.096316  10.244410    ...       4.750387   \nABCA1              NaN   7.528114   6.487035   7.781025    ...      10.101480   \nABCA11P       6.799648   6.829173   4.648600   7.045971    ...       6.291848   \nABCA12        4.028794        NaN   4.837690        NaN    ...            NaN   \nABCA13             NaN        NaN        NaN   3.494250    ...            NaN   \n...                ...        ...        ...        ...    ...            ...   \nZSCAN1             NaN        NaN        NaN        NaN    ...            NaN   \nZSCAN12       4.227465        NaN   4.351954   4.217842    ...       4.154917   \nZSCAN16       8.446662   7.308503   7.460758   8.801527    ...       5.440765   \nZSCAN18            NaN   8.606428   8.684165   7.870384    ...       8.709539   \nZSCAN2        6.371268   6.206897        NaN        NaN    ...            NaN   \nZSCAN20            NaN        NaN        NaN        NaN    ...            NaN   \nZSCAN21       8.941499   8.279793        NaN   8.523518    ...       8.549068   \nZSCAN22       7.152042   6.659347   5.962933   6.223348    ...       6.694190   \nZSCAN23            NaN        NaN        NaN        NaN    ...            NaN   \nZSCAN29       8.594872   8.384741   6.697005   9.059508    ...       8.215356   \nZSCAN30       6.697018   7.164075        NaN   6.342103    ...       6.306116   \nZSCAN4             NaN        NaN        NaN        NaN    ...            NaN   \nZSCAN5A       6.115686   6.103238   5.716368        NaN    ...       6.567625   \nZSWIM1        7.185990   6.794718        NaN   7.058635    ...       6.476053   \nZSWIM3             NaN        NaN        NaN        NaN    ...            NaN   \nZSWIM5        6.925499   4.805001        NaN        NaN    ...            NaN   \nZSWIM6        7.766529   8.657669   8.129996   7.321884    ...       8.384978   \nZSWIM7        7.828040   7.173896   7.493884   7.285599    ...       6.491092   \nZUFSP         8.142718   8.104419   7.153235   7.832600    ...       7.747949   \nZW10         10.107660   9.909033   9.802782   9.630733    ...       9.719796   \nZWILCH        9.510691  10.125400   9.636026  10.352660    ...      10.873210   \nZWINT        12.356410  12.411690  11.983480  12.213640    ...      12.292380   \nZXDA          5.986959   5.860412   4.821368   5.049491    ...       5.506668   \nZXDB          5.555560        NaN   5.149921   5.797910    ...       5.576138   \nZXDC          6.407387   6.753649   4.896261   6.718253    ...       6.016499   \nZYG11A        6.646481        NaN        NaN        NaN    ...       8.119946   \nZYG11B        9.348654   9.351545   7.514766   8.251154    ...       8.897943   \nZYX           7.275881   8.807075   9.281140   7.862486    ...       9.169788   \nZZEF1         6.080077   6.079540   6.044560   5.848208    ...       5.919734   \nZZZ3          9.137805   9.803556   9.328253   9.115391    ...      10.037540   \n\n              MDAMB453   MDAMB468      SKBR3       T47D    UACC812    UACC893  \\\n1/2-SBSRNA4   5.178795   4.992288   5.285821        NaN   6.137365   5.673962   \nA1BG          7.822566        NaN        NaN   6.638034   7.041119        NaN   \nA1BG-AS1           NaN        NaN        NaN        NaN   5.584081        NaN   \nA2LD1         4.966001   6.616900   6.069765   6.190813   4.239530   6.767208   \nA2M                NaN   7.406219        NaN        NaN        NaN        NaN   \nA2ML1              NaN        NaN   5.900330        NaN        NaN   4.164136   \nA4GALT             NaN        NaN        NaN        NaN        NaN        NaN   \nA4GNT              NaN        NaN        NaN        NaN        NaN        NaN   \nAA06          4.168221        NaN        NaN        NaN        NaN        NaN   \nAAAS          8.429693   8.486038   8.545306   8.629433   8.173907   8.252124   \nAACS          9.605350   8.894754   9.517088   9.284242   9.208145   8.029938   \nAACSP1             NaN        NaN        NaN        NaN        NaN        NaN   \nAADAC              NaN        NaN        NaN        NaN        NaN        NaN   \nAADAT              NaN        NaN        NaN        NaN   6.806400   8.915041   \nAAGAB         8.782118   7.774441   7.653187   7.937500   8.186781   8.469779   \nAAK1          4.585792   4.946612   4.767722        NaN   4.672083   4.502843   \nAAMP          9.745142   9.474694   9.055880   8.777973   8.455665   9.095028   \nAARS         10.403840  10.264270   9.561374  10.919070  10.219930  10.938930   \nAARS2         7.058317   6.476547   6.760015   6.761700   8.058346   6.866194   \nAARSD1        4.330661   4.614783        NaN        NaN        NaN   4.281547   \nAASDH         8.025286   7.105355   8.415030   8.633640   7.448323   7.539519   \nAASDHPPT      9.953846  10.181720   9.491801  10.491160   9.911799   9.462094   \nAASS               NaN        NaN        NaN        NaN        NaN        NaN   \nAATF         10.858490  10.342990  10.015320  10.394340  10.846720  10.184270   \nAATK               NaN        NaN        NaN        NaN        NaN        NaN   \nABAT          7.287071   5.213668   4.664408   9.509522  10.432790   4.547066   \nABCA1              NaN        NaN   5.426454   5.051885   5.023736   6.888092   \nABCA11P       6.179356   4.396465   5.712473   7.136001   5.869844   5.677229   \nABCA12        8.513917   4.430781   8.381972   8.699961   6.859760   5.767731   \nABCA13             NaN        NaN        NaN        NaN        NaN        NaN   \n...                ...        ...        ...        ...        ...        ...   \nZSCAN1             NaN        NaN        NaN        NaN        NaN        NaN   \nZSCAN12       4.492391   4.114480   4.452775        NaN        NaN        NaN   \nZSCAN16       7.446225   8.104886   7.002219   8.143650   7.796094   7.280588   \nZSCAN18            NaN  10.252400        NaN   9.335976   8.829829   7.318254   \nZSCAN2             NaN        NaN        NaN   5.389772   5.195696   5.903602   \nZSCAN20            NaN        NaN   4.325872        NaN        NaN        NaN   \nZSCAN21       8.393926   7.786510   8.731034   8.139547   7.311099   8.436025   \nZSCAN22       6.146975   6.305369   6.830027   6.141580   6.298183   5.922633   \nZSCAN23            NaN        NaN        NaN        NaN        NaN        NaN   \nZSCAN29       8.958674   7.289526   8.577037   8.130506   8.154562   8.458700   \nZSCAN30       6.044507   5.789701        NaN   6.335481   6.351107        NaN   \nZSCAN4             NaN   4.329499        NaN        NaN        NaN        NaN   \nZSCAN5A       6.752105   6.203394   6.496085        NaN   4.700283        NaN   \nZSWIM1        7.095438   6.789234   8.036248   7.428427   7.138898   7.368541   \nZSWIM3        6.288714        NaN        NaN        NaN        NaN        NaN   \nZSWIM5        4.988909   6.287229        NaN        NaN   6.083219        NaN   \nZSWIM6        7.274949   7.671754   6.137067   7.474859   9.404527   6.902036   \nZSWIM7        8.050698   7.078139   7.053482   7.225688   7.428633   6.549287   \nZUFSP         8.372729   7.924757   7.658010   7.543463   8.355267   9.643117   \nZW10          9.861009  10.213070   9.672779  10.759320   9.396257   9.133978   \nZWILCH       10.813400   9.701169  10.201880  10.210170   9.262472   9.986816   \nZWINT        12.773760  12.273890  12.882160  12.825140  12.284360  11.855430   \nZXDA          5.136422   6.028195   5.099157   5.395938   5.423396   5.727188   \nZXDB          5.245288   5.803195   5.105470   5.032590   5.048845   5.777585   \nZXDC          6.921565   6.344338   6.199790   6.574778   7.403573   6.842925   \nZYG11A        8.423384   8.146307        NaN   8.013076   7.919800        NaN   \nZYG11B        8.856997   9.023488   9.273552   8.684761   8.474782   7.813156   \nZYX           6.943276   8.704727   8.884001        NaN   7.386169   9.400195   \nZZEF1         6.107978   6.031191   6.155779   6.034748   6.628869   6.326017   \nZZZ3          9.292901  10.502180   9.181607   9.057616   8.273064   8.376453   \n\n                  YMB1      ZR751     ZR7530  \n1/2-SBSRNA4   5.461494        NaN   5.352480  \nA1BG          8.521523   7.731496   6.945533  \nA1BG-AS1           NaN        NaN        NaN  \nA2LD1         6.553315   6.368450   6.027463  \nA2M                NaN        NaN        NaN  \nA2ML1              NaN        NaN        NaN  \nA4GALT             NaN        NaN        NaN  \nA4GNT              NaN   4.388632        NaN  \nAA06               NaN        NaN        NaN  \nAAAS          7.589940        NaN   7.935206  \nAACS          9.604330   9.366894   9.054392  \nAACSP1             NaN        NaN        NaN  \nAADAC              NaN        NaN        NaN  \nAADAT         8.033582   6.746711        NaN  \nAAGAB         8.348037   8.309408   8.758870  \nAAK1          4.563789   4.625151   4.706801  \nAAMP          8.992434   8.710091   8.564691  \nAARS         11.440810  10.206370   9.500120  \nAARS2         6.706370        NaN   6.600794  \nAARSD1             NaN        NaN        NaN  \nAASDH         8.448802   8.685290   8.258714  \nAASDHPPT      9.566819   9.993601   8.996769  \nAASS               NaN        NaN        NaN  \nAATF         10.505390   9.425864  12.487220  \nAATK               NaN        NaN        NaN  \nABAT          8.745520   9.319051   9.866115  \nABCA1         8.325855   7.468163   6.674429  \nABCA11P       6.429127   5.904540   5.748567  \nABCA12        9.758344   8.097042        NaN  \nABCA13             NaN        NaN        NaN  \n...                ...        ...        ...  \nZSCAN1             NaN        NaN        NaN  \nZSCAN12            NaN        NaN   4.117767  \nZSCAN16       7.528583   7.915255   7.242831  \nZSCAN18            NaN        NaN        NaN  \nZSCAN2        5.387585        NaN   5.646473  \nZSCAN20            NaN        NaN   4.289713  \nZSCAN21       8.149582   7.938695   7.710341  \nZSCAN22       6.013011   5.908308   6.403885  \nZSCAN23            NaN        NaN        NaN  \nZSCAN29       9.013274   8.303932   8.008774  \nZSCAN30       5.987273   6.343423   5.876367  \nZSCAN4             NaN        NaN        NaN  \nZSCAN5A            NaN        NaN        NaN  \nZSWIM1        6.945576   6.610644   6.999290  \nZSWIM3             NaN        NaN        NaN  \nZSWIM5             NaN   5.593190   5.537770  \nZSWIM6        5.972131   8.052469   9.109592  \nZSWIM7        7.209974   7.042388   5.585066  \nZUFSP         6.979407   7.274042   7.718757  \nZW10          9.017020   9.225289   9.012209  \nZWILCH       10.277460  10.398470   9.650302  \nZWINT        12.249660  12.621280  11.530060  \nZXDA          5.330254   5.008054   5.339243  \nZXDB          5.296610   5.069002   5.428846  \nZXDC          6.678727   6.836028   6.956828  \nZYG11A        7.691551   7.285720   7.280116  \nZYG11B        8.154350   8.469786   9.191729  \nZYX           6.802321   6.434814   8.194097  \nZZEF1         5.835767        NaN   5.870717  \nZZZ3          8.979249   9.373826   9.153612  \n\n[16237 rows x 59 columns]",
      "\nDuring handling of the above exception, another exception occurred:\n",
      "\u001b[1;31mTypeError\u001b[0m                                 Traceback (most recent call last)",
      "\u001b[1;32m/home/tjm/anaconda3/lib/python3.4/site-packages/pandas/io/pickle.py\u001b[0m in \u001b[0;36mtry_read\u001b[1;34m(path, encoding)\u001b[0m\n\u001b[0;32m     50\u001b[0m             \u001b[1;32mtry\u001b[0m\u001b[1;33m:\u001b[0m\u001b[1;33m\u001b[0m\u001b[0m\n\u001b[1;32m---> 51\u001b[1;33m                 \u001b[1;32mwith\u001b[0m \u001b[0mopen\u001b[0m\u001b[1;33m(\u001b[0m\u001b[0mpath\u001b[0m\u001b[1;33m,\u001b[0m \u001b[1;34m'rb'\u001b[0m\u001b[1;33m)\u001b[0m \u001b[1;32mas\u001b[0m \u001b[0mfh\u001b[0m\u001b[1;33m:\u001b[0m\u001b[1;33m\u001b[0m\u001b[0m\n\u001b[0m\u001b[0;32m     52\u001b[0m                     \u001b[1;32mreturn\u001b[0m \u001b[0mpc\u001b[0m\u001b[1;33m.\u001b[0m\u001b[0mload\u001b[0m\u001b[1;33m(\u001b[0m\u001b[0mfh\u001b[0m\u001b[1;33m,\u001b[0m \u001b[0mencoding\u001b[0m\u001b[1;33m=\u001b[0m\u001b[0mencoding\u001b[0m\u001b[1;33m,\u001b[0m \u001b[0mcompat\u001b[0m\u001b[1;33m=\u001b[0m\u001b[1;32mFalse\u001b[0m\u001b[1;33m)\u001b[0m\u001b[1;33m\u001b[0m\u001b[0m\n",
      "\u001b[1;31mTypeError\u001b[0m: invalid file:                  AU565       BT20      BT474      BT483      BT549     CAL120  \\\n1/2-SBSRNA4        NaN        NaN   5.401017   5.717574   5.030948   6.448201   \nA1BG               NaN        NaN        NaN   6.799552   7.599171   8.221060   \nA1BG-AS1           NaN        NaN        NaN        NaN        NaN        NaN   \nA2LD1              NaN        NaN   6.085782   6.441127   7.877578   5.075992   \nA2M                NaN        NaN        NaN        NaN        NaN        NaN   \nA2ML1         4.818356   4.184284        NaN        NaN        NaN        NaN   \nA4GALT             NaN        NaN        NaN        NaN        NaN        NaN   \nA4GNT              NaN        NaN        NaN        NaN        NaN        NaN   \nAA06               NaN        NaN        NaN        NaN        NaN        NaN   \nAAAS          9.229649   8.208900   7.934789   7.726963   8.577770   7.685151   \nAACS          9.992298   9.378825   8.946910   9.248846   7.269798   8.656520   \nAACSP1             NaN        NaN        NaN        NaN        NaN        NaN   \nAADAC              NaN        NaN        NaN        NaN        NaN        NaN   \nAADAT              NaN        NaN   6.254454   6.627580        NaN   6.339025   \nAAGAB         7.578082   8.650473   7.721881   8.325902        NaN   7.472990   \nAAK1          4.891353   5.217003   4.451226   4.487502   4.646080   4.716834   \nAAMP          9.679279   9.168416   9.153500   8.451337   8.564627   9.017830   \nAARS          9.550180  11.171280  11.074530  10.441280  10.388020  10.370440   \nAARS2         7.150403   7.563896   6.649362   6.591405        NaN   6.694557   \nAARSD1             NaN   4.470384        NaN   4.516075        NaN   4.399421   \nAASDH         8.159118   7.676645   8.296540   8.234043   7.339728   8.152327   \nAASDHPPT      9.759328   9.995366  10.193500   9.561549  10.028500  10.214240   \nAASS               NaN   4.397417   4.109508        NaN        NaN   6.690876   \nAATF         10.261070  11.319320  11.287300  10.396740  10.578690  10.697130   \nAATK               NaN        NaN        NaN        NaN        NaN   5.174114   \nABAT          5.374396   8.057765   8.954705  10.049300        NaN        NaN   \nABCA1         5.286819   5.555085   4.658617   4.936168   4.453195   9.932750   \nABCA11P       4.601520   6.700054   8.166716   7.462878   5.762992   6.696349   \nABCA12        7.178539   6.416960   4.805860   6.445141        NaN        NaN   \nABCA13        4.620888        NaN        NaN        NaN        NaN        NaN   \n...                ...        ...        ...        ...        ...        ...   \nZSCAN1             NaN        NaN        NaN        NaN        NaN        NaN   \nZSCAN12       4.190345   4.194638   4.115327        NaN        NaN   4.331519   \nZSCAN16       6.956788   7.698805   8.370701   7.018322   5.990665   7.110038   \nZSCAN18            NaN   7.872182   9.017076   9.843330   8.991950  10.368650   \nZSCAN2             NaN        NaN   5.739653   5.351689   5.731398   5.178578   \nZSCAN20            NaN        NaN   4.069165        NaN        NaN   4.178654   \nZSCAN21       8.725225   7.617147   8.382343   8.320641   8.263767   8.114889   \nZSCAN22       5.958741   6.416857   6.329459   6.188894   5.960686   6.800494   \nZSCAN23            NaN        NaN        NaN        NaN        NaN        NaN   \nZSCAN29       8.480873   8.242375   8.339835   8.031781   7.390029   7.335942   \nZSCAN30            NaN        NaN   6.543900   6.585787   5.893547   6.664070   \nZSCAN4             NaN        NaN        NaN        NaN        NaN        NaN   \nZSCAN5A       6.712712   5.092116        NaN        NaN        NaN   6.824927   \nZSWIM1        7.730974   7.696359   7.032717   7.227403   7.065143   6.829857   \nZSWIM3             NaN        NaN        NaN        NaN        NaN   5.708715   \nZSWIM5             NaN        NaN   5.012450   6.331182        NaN        NaN   \nZSWIM6        5.059113   7.811076   8.034542   8.475565   8.731724  10.211730   \nZSWIM7        6.776535   7.377791   7.177923   6.118944   6.935172   6.290571   \nZUFSP         7.656923   8.983916   8.818097   7.226705   7.693307   7.817564   \nZW10          9.862230  10.276770   9.692453   9.672103  10.281400  10.042920   \nZWILCH       10.114430  10.816400  10.108540   9.005857  10.355110   9.697626   \nZWINT        12.306900  12.070270  12.305410  11.790140  12.285510  12.080140   \nZXDA          4.208478   5.618784   5.817537   5.668045   4.776957   5.682596   \nZXDB          5.257425   5.399877   6.162034   5.551925   4.737779   5.453927   \nZXDC          6.268052   6.764904   6.845357   6.767751   5.776595   6.020465   \nZYG11A             NaN   7.563141        NaN   8.407823   7.605774   8.026693   \nZYG11B        8.575357   8.340189   8.753212   8.545071   8.353551   9.014222   \nZYX          10.261830   9.331145   7.264385   7.635322  10.084580   8.492724   \nZZEF1         6.471422   6.338926   6.240221   5.743932   6.728235   5.838322   \nZZZ3          8.962359   9.938775   9.785010   8.855000   9.749450  10.382230   \n\n                CAL148      CAL51     CAL851      CAMA1    ...       MDAMB436  \\\n1/2-SBSRNA4   5.862162   6.607692   4.712810   5.230651    ...            NaN   \nA1BG          6.371130   6.126693        NaN   7.742350    ...       6.824272   \nA1BG-AS1           NaN        NaN        NaN        NaN    ...            NaN   \nA2LD1         6.696254   7.141233   6.933365   6.505857    ...       6.193615   \nA2M                NaN        NaN        NaN        NaN    ...            NaN   \nA2ML1         6.730723        NaN   6.400949        NaN    ...            NaN   \nA4GALT             NaN        NaN        NaN        NaN    ...            NaN   \nA4GNT              NaN        NaN        NaN        NaN    ...            NaN   \nAA06               NaN        NaN        NaN        NaN    ...            NaN   \nAAAS          8.476448   8.478623        NaN        NaN    ...       7.993578   \nAACS          8.605605   8.215746   9.288716   6.600951    ...       9.363530   \nAACSP1             NaN        NaN        NaN        NaN    ...            NaN   \nAADAC              NaN        NaN        NaN        NaN    ...            NaN   \nAADAT              NaN   8.351869        NaN   7.170359    ...       6.382376   \nAAGAB         8.366566   7.789415   7.635354   8.075536    ...       8.350380   \nAAK1          4.413313   4.435174   4.885669   4.536779    ...       4.926903   \nAAMP          9.028979   8.434494   8.914895   9.119010    ...       9.318343   \nAARS          9.066320  10.399480  10.489330  10.294340    ...      10.367540   \nAARS2         6.973182   7.171527   6.612123   7.724721    ...       6.197298   \nAARSD1        4.428601   4.560750   4.575146   4.923492    ...       4.665651   \nAASDH         8.041343   8.651756   7.204428   8.537359    ...       9.277981   \nAASDHPPT      9.713813  10.673880   9.476205   9.759420    ...       9.762572   \nAASS               NaN   6.376552        NaN        NaN    ...       4.272343   \nAATF         11.371680  10.408230  10.917820  10.763880    ...      10.703100   \nAATK               NaN   5.534264        NaN   6.215613    ...            NaN   \nABAT          5.800044   5.232220   6.096316  10.244410    ...       4.750387   \nABCA1              NaN   7.528114   6.487035   7.781025    ...      10.101480   \nABCA11P       6.799648   6.829173   4.648600   7.045971    ...       6.291848   \nABCA12        4.028794        NaN   4.837690        NaN    ...            NaN   \nABCA13             NaN        NaN        NaN   3.494250    ...            NaN   \n...                ...        ...        ...        ...    ...            ...   \nZSCAN1             NaN        NaN        NaN        NaN    ...            NaN   \nZSCAN12       4.227465        NaN   4.351954   4.217842    ...       4.154917   \nZSCAN16       8.446662   7.308503   7.460758   8.801527    ...       5.440765   \nZSCAN18            NaN   8.606428   8.684165   7.870384    ...       8.709539   \nZSCAN2        6.371268   6.206897        NaN        NaN    ...            NaN   \nZSCAN20            NaN        NaN        NaN        NaN    ...            NaN   \nZSCAN21       8.941499   8.279793        NaN   8.523518    ...       8.549068   \nZSCAN22       7.152042   6.659347   5.962933   6.223348    ...       6.694190   \nZSCAN23            NaN        NaN        NaN        NaN    ...            NaN   \nZSCAN29       8.594872   8.384741   6.697005   9.059508    ...       8.215356   \nZSCAN30       6.697018   7.164075        NaN   6.342103    ...       6.306116   \nZSCAN4             NaN        NaN        NaN        NaN    ...            NaN   \nZSCAN5A       6.115686   6.103238   5.716368        NaN    ...       6.567625   \nZSWIM1        7.185990   6.794718        NaN   7.058635    ...       6.476053   \nZSWIM3             NaN        NaN        NaN        NaN    ...            NaN   \nZSWIM5        6.925499   4.805001        NaN        NaN    ...            NaN   \nZSWIM6        7.766529   8.657669   8.129996   7.321884    ...       8.384978   \nZSWIM7        7.828040   7.173896   7.493884   7.285599    ...       6.491092   \nZUFSP         8.142718   8.104419   7.153235   7.832600    ...       7.747949   \nZW10         10.107660   9.909033   9.802782   9.630733    ...       9.719796   \nZWILCH        9.510691  10.125400   9.636026  10.352660    ...      10.873210   \nZWINT        12.356410  12.411690  11.983480  12.213640    ...      12.292380   \nZXDA          5.986959   5.860412   4.821368   5.049491    ...       5.506668   \nZXDB          5.555560        NaN   5.149921   5.797910    ...       5.576138   \nZXDC          6.407387   6.753649   4.896261   6.718253    ...       6.016499   \nZYG11A        6.646481        NaN        NaN        NaN    ...       8.119946   \nZYG11B        9.348654   9.351545   7.514766   8.251154    ...       8.897943   \nZYX           7.275881   8.807075   9.281140   7.862486    ...       9.169788   \nZZEF1         6.080077   6.079540   6.044560   5.848208    ...       5.919734   \nZZZ3          9.137805   9.803556   9.328253   9.115391    ...      10.037540   \n\n              MDAMB453   MDAMB468      SKBR3       T47D    UACC812    UACC893  \\\n1/2-SBSRNA4   5.178795   4.992288   5.285821        NaN   6.137365   5.673962   \nA1BG          7.822566        NaN        NaN   6.638034   7.041119        NaN   \nA1BG-AS1           NaN        NaN        NaN        NaN   5.584081        NaN   \nA2LD1         4.966001   6.616900   6.069765   6.190813   4.239530   6.767208   \nA2M                NaN   7.406219        NaN        NaN        NaN        NaN   \nA2ML1              NaN        NaN   5.900330        NaN        NaN   4.164136   \nA4GALT             NaN        NaN        NaN        NaN        NaN        NaN   \nA4GNT              NaN        NaN        NaN        NaN        NaN        NaN   \nAA06          4.168221        NaN        NaN        NaN        NaN        NaN   \nAAAS          8.429693   8.486038   8.545306   8.629433   8.173907   8.252124   \nAACS          9.605350   8.894754   9.517088   9.284242   9.208145   8.029938   \nAACSP1             NaN        NaN        NaN        NaN        NaN        NaN   \nAADAC              NaN        NaN        NaN        NaN        NaN        NaN   \nAADAT              NaN        NaN        NaN        NaN   6.806400   8.915041   \nAAGAB         8.782118   7.774441   7.653187   7.937500   8.186781   8.469779   \nAAK1          4.585792   4.946612   4.767722        NaN   4.672083   4.502843   \nAAMP          9.745142   9.474694   9.055880   8.777973   8.455665   9.095028   \nAARS         10.403840  10.264270   9.561374  10.919070  10.219930  10.938930   \nAARS2         7.058317   6.476547   6.760015   6.761700   8.058346   6.866194   \nAARSD1        4.330661   4.614783        NaN        NaN        NaN   4.281547   \nAASDH         8.025286   7.105355   8.415030   8.633640   7.448323   7.539519   \nAASDHPPT      9.953846  10.181720   9.491801  10.491160   9.911799   9.462094   \nAASS               NaN        NaN        NaN        NaN        NaN        NaN   \nAATF         10.858490  10.342990  10.015320  10.394340  10.846720  10.184270   \nAATK               NaN        NaN        NaN        NaN        NaN        NaN   \nABAT          7.287071   5.213668   4.664408   9.509522  10.432790   4.547066   \nABCA1              NaN        NaN   5.426454   5.051885   5.023736   6.888092   \nABCA11P       6.179356   4.396465   5.712473   7.136001   5.869844   5.677229   \nABCA12        8.513917   4.430781   8.381972   8.699961   6.859760   5.767731   \nABCA13             NaN        NaN        NaN        NaN        NaN        NaN   \n...                ...        ...        ...        ...        ...        ...   \nZSCAN1             NaN        NaN        NaN        NaN        NaN        NaN   \nZSCAN12       4.492391   4.114480   4.452775        NaN        NaN        NaN   \nZSCAN16       7.446225   8.104886   7.002219   8.143650   7.796094   7.280588   \nZSCAN18            NaN  10.252400        NaN   9.335976   8.829829   7.318254   \nZSCAN2             NaN        NaN        NaN   5.389772   5.195696   5.903602   \nZSCAN20            NaN        NaN   4.325872        NaN        NaN        NaN   \nZSCAN21       8.393926   7.786510   8.731034   8.139547   7.311099   8.436025   \nZSCAN22       6.146975   6.305369   6.830027   6.141580   6.298183   5.922633   \nZSCAN23            NaN        NaN        NaN        NaN        NaN        NaN   \nZSCAN29       8.958674   7.289526   8.577037   8.130506   8.154562   8.458700   \nZSCAN30       6.044507   5.789701        NaN   6.335481   6.351107        NaN   \nZSCAN4             NaN   4.329499        NaN        NaN        NaN        NaN   \nZSCAN5A       6.752105   6.203394   6.496085        NaN   4.700283        NaN   \nZSWIM1        7.095438   6.789234   8.036248   7.428427   7.138898   7.368541   \nZSWIM3        6.288714        NaN        NaN        NaN        NaN        NaN   \nZSWIM5        4.988909   6.287229        NaN        NaN   6.083219        NaN   \nZSWIM6        7.274949   7.671754   6.137067   7.474859   9.404527   6.902036   \nZSWIM7        8.050698   7.078139   7.053482   7.225688   7.428633   6.549287   \nZUFSP         8.372729   7.924757   7.658010   7.543463   8.355267   9.643117   \nZW10          9.861009  10.213070   9.672779  10.759320   9.396257   9.133978   \nZWILCH       10.813400   9.701169  10.201880  10.210170   9.262472   9.986816   \nZWINT        12.773760  12.273890  12.882160  12.825140  12.284360  11.855430   \nZXDA          5.136422   6.028195   5.099157   5.395938   5.423396   5.727188   \nZXDB          5.245288   5.803195   5.105470   5.032590   5.048845   5.777585   \nZXDC          6.921565   6.344338   6.199790   6.574778   7.403573   6.842925   \nZYG11A        8.423384   8.146307        NaN   8.013076   7.919800        NaN   \nZYG11B        8.856997   9.023488   9.273552   8.684761   8.474782   7.813156   \nZYX           6.943276   8.704727   8.884001        NaN   7.386169   9.400195   \nZZEF1         6.107978   6.031191   6.155779   6.034748   6.628869   6.326017   \nZZZ3          9.292901  10.502180   9.181607   9.057616   8.273064   8.376453   \n\n                  YMB1      ZR751     ZR7530  \n1/2-SBSRNA4   5.461494        NaN   5.352480  \nA1BG          8.521523   7.731496   6.945533  \nA1BG-AS1           NaN        NaN        NaN  \nA2LD1         6.553315   6.368450   6.027463  \nA2M                NaN        NaN        NaN  \nA2ML1              NaN        NaN        NaN  \nA4GALT             NaN        NaN        NaN  \nA4GNT              NaN   4.388632        NaN  \nAA06               NaN        NaN        NaN  \nAAAS          7.589940        NaN   7.935206  \nAACS          9.604330   9.366894   9.054392  \nAACSP1             NaN        NaN        NaN  \nAADAC              NaN        NaN        NaN  \nAADAT         8.033582   6.746711        NaN  \nAAGAB         8.348037   8.309408   8.758870  \nAAK1          4.563789   4.625151   4.706801  \nAAMP          8.992434   8.710091   8.564691  \nAARS         11.440810  10.206370   9.500120  \nAARS2         6.706370        NaN   6.600794  \nAARSD1             NaN        NaN        NaN  \nAASDH         8.448802   8.685290   8.258714  \nAASDHPPT      9.566819   9.993601   8.996769  \nAASS               NaN        NaN        NaN  \nAATF         10.505390   9.425864  12.487220  \nAATK               NaN        NaN        NaN  \nABAT          8.745520   9.319051   9.866115  \nABCA1         8.325855   7.468163   6.674429  \nABCA11P       6.429127   5.904540   5.748567  \nABCA12        9.758344   8.097042        NaN  \nABCA13             NaN        NaN        NaN  \n...                ...        ...        ...  \nZSCAN1             NaN        NaN        NaN  \nZSCAN12            NaN        NaN   4.117767  \nZSCAN16       7.528583   7.915255   7.242831  \nZSCAN18            NaN        NaN        NaN  \nZSCAN2        5.387585        NaN   5.646473  \nZSCAN20            NaN        NaN   4.289713  \nZSCAN21       8.149582   7.938695   7.710341  \nZSCAN22       6.013011   5.908308   6.403885  \nZSCAN23            NaN        NaN        NaN  \nZSCAN29       9.013274   8.303932   8.008774  \nZSCAN30       5.987273   6.343423   5.876367  \nZSCAN4             NaN        NaN        NaN  \nZSCAN5A            NaN        NaN        NaN  \nZSWIM1        6.945576   6.610644   6.999290  \nZSWIM3             NaN        NaN        NaN  \nZSWIM5             NaN   5.593190   5.537770  \nZSWIM6        5.972131   8.052469   9.109592  \nZSWIM7        7.209974   7.042388   5.585066  \nZUFSP         6.979407   7.274042   7.718757  \nZW10          9.017020   9.225289   9.012209  \nZWILCH       10.277460  10.398470   9.650302  \nZWINT        12.249660  12.621280  11.530060  \nZXDA          5.330254   5.008054   5.339243  \nZXDB          5.296610   5.069002   5.428846  \nZXDC          6.678727   6.836028   6.956828  \nZYG11A        7.691551   7.285720   7.280116  \nZYG11B        8.154350   8.469786   9.191729  \nZYX           6.802321   6.434814   8.194097  \nZZEF1         5.835767        NaN   5.870717  \nZZZ3          8.979249   9.373826   9.153612  \n\n[16237 rows x 59 columns]",
      "\nDuring handling of the above exception, another exception occurred:\n",
      "\u001b[1;31mTypeError\u001b[0m                                 Traceback (most recent call last)",
      "\u001b[1;32m<ipython-input-92-2f1602fdfbbd>\u001b[0m in \u001b[0;36m<module>\u001b[1;34m()\u001b[0m\n\u001b[1;32m----> 1\u001b[1;33m \u001b[0medf_f\u001b[0m\u001b[1;33m,\u001b[0m \u001b[0mcdf_f\u001b[0m \u001b[1;33m=\u001b[0m \u001b[0mmainFitler\u001b[0m\u001b[1;33m(\u001b[0m\u001b[0medf\u001b[0m\u001b[1;33m,\u001b[0m \u001b[0mcnvdf_fh\u001b[0m\u001b[1;33m=\u001b[0m\u001b[0mcdf\u001b[0m\u001b[1;33m,\u001b[0m \u001b[0mvar\u001b[0m\u001b[1;33m=\u001b[0m\u001b[1;36m0.2\u001b[0m\u001b[1;33m,\u001b[0m \u001b[0mn\u001b[0m\u001b[1;33m=\u001b[0m\u001b[1;36m2\u001b[0m\u001b[1;33m,\u001b[0m \u001b[0mamp_fh\u001b[0m\u001b[1;33m=\u001b[0m\u001b[1;32mFalse\u001b[0m\u001b[1;33m,\u001b[0m \u001b[0mdele_fh\u001b[0m\u001b[1;33m=\u001b[0m\u001b[1;32mFalse\u001b[0m\u001b[1;33m,\u001b[0m \u001b[0mmut_fh\u001b[0m\u001b[1;33m=\u001b[0m\u001b[1;32mFalse\u001b[0m\u001b[1;33m,\u001b[0m \u001b[0msave\u001b[0m\u001b[1;33m=\u001b[0m\u001b[1;32mFalse\u001b[0m\u001b[1;33m)\u001b[0m\u001b[1;33m\u001b[0m\u001b[0m\n\u001b[0m\u001b[0;32m      2\u001b[0m \u001b[0mdf\u001b[0m \u001b[1;33m=\u001b[0m \u001b[0mexplicitPairContextStat\u001b[0m\u001b[1;33m(\u001b[0m\u001b[0medf\u001b[0m\u001b[1;33m,\u001b[0m \u001b[0mcdf\u001b[0m\u001b[1;33m,\u001b[0m \u001b[0mexp_lis\u001b[0m\u001b[1;33m=\u001b[0m\u001b[0me_samp\u001b[0m\u001b[1;33m,\u001b[0m \u001b[0mcnv_lis\u001b[0m\u001b[1;33m=\u001b[0m\u001b[0mc_samp\u001b[0m\u001b[1;33m)\u001b[0m\u001b[1;33m\u001b[0m\u001b[0m\n",
      "\u001b[1;32m/home/tjm/Downloads/python_scripts/clove/cloveFunctions.py\u001b[0m in \u001b[0;36mmainFitler\u001b[1;34m(expdf_fh, cnvdf_fh, var, n, amp_fh, dele_fh, mut_fh, save)\u001b[0m\n\u001b[0;32m    198\u001b[0m     \"\"\"\n\u001b[0;32m    199\u001b[0m     \u001b[1;31m# filter on power\u001b[0m\u001b[1;33m\u001b[0m\u001b[1;33m\u001b[0m\u001b[0m\n\u001b[1;32m--> 200\u001b[1;33m     \u001b[0mexpdf\u001b[0m\u001b[1;33m,\u001b[0m \u001b[0mcnvdf\u001b[0m \u001b[1;33m=\u001b[0m \u001b[0mpowerFilter\u001b[0m\u001b[1;33m(\u001b[0m\u001b[0mexpdf\u001b[0m\u001b[1;33m,\u001b[0m \u001b[0mcnvdf\u001b[0m\u001b[1;33m,\u001b[0m \u001b[0mvar\u001b[0m\u001b[1;33m,\u001b[0m \u001b[0mn\u001b[0m\u001b[1;33m)\u001b[0m\u001b[1;33m\u001b[0m\u001b[0m\n\u001b[0m\u001b[0;32m    201\u001b[0m \u001b[1;33m\u001b[0m\u001b[0m\n\u001b[0;32m    202\u001b[0m     \u001b[1;31m# filter out abberations\u001b[0m\u001b[1;33m\u001b[0m\u001b[1;33m\u001b[0m\u001b[0m\n",
      "\u001b[1;32m/home/tjm/anaconda3/lib/python3.4/site-packages/pandas/io/pickle.py\u001b[0m in \u001b[0;36mread_pickle\u001b[1;34m(path)\u001b[0m\n\u001b[0;32m     61\u001b[0m     \u001b[1;32mexcept\u001b[0m\u001b[1;33m:\u001b[0m\u001b[1;33m\u001b[0m\u001b[0m\n\u001b[0;32m     62\u001b[0m         \u001b[1;32mif\u001b[0m \u001b[0mPY3\u001b[0m\u001b[1;33m:\u001b[0m\u001b[1;33m\u001b[0m\u001b[0m\n\u001b[1;32m---> 63\u001b[1;33m             \u001b[1;32mreturn\u001b[0m \u001b[0mtry_read\u001b[0m\u001b[1;33m(\u001b[0m\u001b[0mpath\u001b[0m\u001b[1;33m,\u001b[0m \u001b[0mencoding\u001b[0m\u001b[1;33m=\u001b[0m\u001b[1;34m'latin1'\u001b[0m\u001b[1;33m)\u001b[0m\u001b[1;33m\u001b[0m\u001b[0m\n\u001b[0m\u001b[0;32m     64\u001b[0m         \u001b[1;32mraise\u001b[0m\u001b[1;33m\u001b[0m\u001b[0m\n",
      "\u001b[1;32m/home/tjm/anaconda3/lib/python3.4/site-packages/pandas/io/pickle.py\u001b[0m in \u001b[0;36mtry_read\u001b[1;34m(path, encoding)\u001b[0m\n\u001b[0;32m     54\u001b[0m             \u001b[1;31m# compat pickle\u001b[0m\u001b[1;33m\u001b[0m\u001b[1;33m\u001b[0m\u001b[0m\n\u001b[0;32m     55\u001b[0m             \u001b[1;32mexcept\u001b[0m\u001b[1;33m:\u001b[0m\u001b[1;33m\u001b[0m\u001b[0m\n\u001b[1;32m---> 56\u001b[1;33m                 \u001b[1;32mwith\u001b[0m \u001b[0mopen\u001b[0m\u001b[1;33m(\u001b[0m\u001b[0mpath\u001b[0m\u001b[1;33m,\u001b[0m \u001b[1;34m'rb'\u001b[0m\u001b[1;33m)\u001b[0m \u001b[1;32mas\u001b[0m \u001b[0mfh\u001b[0m\u001b[1;33m:\u001b[0m\u001b[1;33m\u001b[0m\u001b[0m\n\u001b[0m\u001b[0;32m     57\u001b[0m                     \u001b[1;32mreturn\u001b[0m \u001b[0mpc\u001b[0m\u001b[1;33m.\u001b[0m\u001b[0mload\u001b[0m\u001b[1;33m(\u001b[0m\u001b[0mfh\u001b[0m\u001b[1;33m,\u001b[0m \u001b[0mencoding\u001b[0m\u001b[1;33m=\u001b[0m\u001b[0mencoding\u001b[0m\u001b[1;33m,\u001b[0m \u001b[0mcompat\u001b[0m\u001b[1;33m=\u001b[0m\u001b[1;32mTrue\u001b[0m\u001b[1;33m)\u001b[0m\u001b[1;33m\u001b[0m\u001b[0m\n\u001b[0;32m     58\u001b[0m \u001b[1;33m\u001b[0m\u001b[0m\n",
      "\u001b[1;31mTypeError\u001b[0m: invalid file:                  AU565       BT20      BT474      BT483      BT549     CAL120  \\\n1/2-SBSRNA4        NaN        NaN   5.401017   5.717574   5.030948   6.448201   \nA1BG               NaN        NaN        NaN   6.799552   7.599171   8.221060   \nA1BG-AS1           NaN        NaN        NaN        NaN        NaN        NaN   \nA2LD1              NaN        NaN   6.085782   6.441127   7.877578   5.075992   \nA2M                NaN        NaN        NaN        NaN        NaN        NaN   \nA2ML1         4.818356   4.184284        NaN        NaN        NaN        NaN   \nA4GALT             NaN        NaN        NaN        NaN        NaN        NaN   \nA4GNT              NaN        NaN        NaN        NaN        NaN        NaN   \nAA06               NaN        NaN        NaN        NaN        NaN        NaN   \nAAAS          9.229649   8.208900   7.934789   7.726963   8.577770   7.685151   \nAACS          9.992298   9.378825   8.946910   9.248846   7.269798   8.656520   \nAACSP1             NaN        NaN        NaN        NaN        NaN        NaN   \nAADAC              NaN        NaN        NaN        NaN        NaN        NaN   \nAADAT              NaN        NaN   6.254454   6.627580        NaN   6.339025   \nAAGAB         7.578082   8.650473   7.721881   8.325902        NaN   7.472990   \nAAK1          4.891353   5.217003   4.451226   4.487502   4.646080   4.716834   \nAAMP          9.679279   9.168416   9.153500   8.451337   8.564627   9.017830   \nAARS          9.550180  11.171280  11.074530  10.441280  10.388020  10.370440   \nAARS2         7.150403   7.563896   6.649362   6.591405        NaN   6.694557   \nAARSD1             NaN   4.470384        NaN   4.516075        NaN   4.399421   \nAASDH         8.159118   7.676645   8.296540   8.234043   7.339728   8.152327   \nAASDHPPT      9.759328   9.995366  10.193500   9.561549  10.028500  10.214240   \nAASS               NaN   4.397417   4.109508        NaN        NaN   6.690876   \nAATF         10.261070  11.319320  11.287300  10.396740  10.578690  10.697130   \nAATK               NaN        NaN        NaN        NaN        NaN   5.174114   \nABAT          5.374396   8.057765   8.954705  10.049300        NaN        NaN   \nABCA1         5.286819   5.555085   4.658617   4.936168   4.453195   9.932750   \nABCA11P       4.601520   6.700054   8.166716   7.462878   5.762992   6.696349   \nABCA12        7.178539   6.416960   4.805860   6.445141        NaN        NaN   \nABCA13        4.620888        NaN        NaN        NaN        NaN        NaN   \n...                ...        ...        ...        ...        ...        ...   \nZSCAN1             NaN        NaN        NaN        NaN        NaN        NaN   \nZSCAN12       4.190345   4.194638   4.115327        NaN        NaN   4.331519   \nZSCAN16       6.956788   7.698805   8.370701   7.018322   5.990665   7.110038   \nZSCAN18            NaN   7.872182   9.017076   9.843330   8.991950  10.368650   \nZSCAN2             NaN        NaN   5.739653   5.351689   5.731398   5.178578   \nZSCAN20            NaN        NaN   4.069165        NaN        NaN   4.178654   \nZSCAN21       8.725225   7.617147   8.382343   8.320641   8.263767   8.114889   \nZSCAN22       5.958741   6.416857   6.329459   6.188894   5.960686   6.800494   \nZSCAN23            NaN        NaN        NaN        NaN        NaN        NaN   \nZSCAN29       8.480873   8.242375   8.339835   8.031781   7.390029   7.335942   \nZSCAN30            NaN        NaN   6.543900   6.585787   5.893547   6.664070   \nZSCAN4             NaN        NaN        NaN        NaN        NaN        NaN   \nZSCAN5A       6.712712   5.092116        NaN        NaN        NaN   6.824927   \nZSWIM1        7.730974   7.696359   7.032717   7.227403   7.065143   6.829857   \nZSWIM3             NaN        NaN        NaN        NaN        NaN   5.708715   \nZSWIM5             NaN        NaN   5.012450   6.331182        NaN        NaN   \nZSWIM6        5.059113   7.811076   8.034542   8.475565   8.731724  10.211730   \nZSWIM7        6.776535   7.377791   7.177923   6.118944   6.935172   6.290571   \nZUFSP         7.656923   8.983916   8.818097   7.226705   7.693307   7.817564   \nZW10          9.862230  10.276770   9.692453   9.672103  10.281400  10.042920   \nZWILCH       10.114430  10.816400  10.108540   9.005857  10.355110   9.697626   \nZWINT        12.306900  12.070270  12.305410  11.790140  12.285510  12.080140   \nZXDA          4.208478   5.618784   5.817537   5.668045   4.776957   5.682596   \nZXDB          5.257425   5.399877   6.162034   5.551925   4.737779   5.453927   \nZXDC          6.268052   6.764904   6.845357   6.767751   5.776595   6.020465   \nZYG11A             NaN   7.563141        NaN   8.407823   7.605774   8.026693   \nZYG11B        8.575357   8.340189   8.753212   8.545071   8.353551   9.014222   \nZYX          10.261830   9.331145   7.264385   7.635322  10.084580   8.492724   \nZZEF1         6.471422   6.338926   6.240221   5.743932   6.728235   5.838322   \nZZZ3          8.962359   9.938775   9.785010   8.855000   9.749450  10.382230   \n\n                CAL148      CAL51     CAL851      CAMA1    ...       MDAMB436  \\\n1/2-SBSRNA4   5.862162   6.607692   4.712810   5.230651    ...            NaN   \nA1BG          6.371130   6.126693        NaN   7.742350    ...       6.824272   \nA1BG-AS1           NaN        NaN        NaN        NaN    ...            NaN   \nA2LD1         6.696254   7.141233   6.933365   6.505857    ...       6.193615   \nA2M                NaN        NaN        NaN        NaN    ...            NaN   \nA2ML1         6.730723        NaN   6.400949        NaN    ...            NaN   \nA4GALT             NaN        NaN        NaN        NaN    ...            NaN   \nA4GNT              NaN        NaN        NaN        NaN    ...            NaN   \nAA06               NaN        NaN        NaN        NaN    ...            NaN   \nAAAS          8.476448   8.478623        NaN        NaN    ...       7.993578   \nAACS          8.605605   8.215746   9.288716   6.600951    ...       9.363530   \nAACSP1             NaN        NaN        NaN        NaN    ...            NaN   \nAADAC              NaN        NaN        NaN        NaN    ...            NaN   \nAADAT              NaN   8.351869        NaN   7.170359    ...       6.382376   \nAAGAB         8.366566   7.789415   7.635354   8.075536    ...       8.350380   \nAAK1          4.413313   4.435174   4.885669   4.536779    ...       4.926903   \nAAMP          9.028979   8.434494   8.914895   9.119010    ...       9.318343   \nAARS          9.066320  10.399480  10.489330  10.294340    ...      10.367540   \nAARS2         6.973182   7.171527   6.612123   7.724721    ...       6.197298   \nAARSD1        4.428601   4.560750   4.575146   4.923492    ...       4.665651   \nAASDH         8.041343   8.651756   7.204428   8.537359    ...       9.277981   \nAASDHPPT      9.713813  10.673880   9.476205   9.759420    ...       9.762572   \nAASS               NaN   6.376552        NaN        NaN    ...       4.272343   \nAATF         11.371680  10.408230  10.917820  10.763880    ...      10.703100   \nAATK               NaN   5.534264        NaN   6.215613    ...            NaN   \nABAT          5.800044   5.232220   6.096316  10.244410    ...       4.750387   \nABCA1              NaN   7.528114   6.487035   7.781025    ...      10.101480   \nABCA11P       6.799648   6.829173   4.648600   7.045971    ...       6.291848   \nABCA12        4.028794        NaN   4.837690        NaN    ...            NaN   \nABCA13             NaN        NaN        NaN   3.494250    ...            NaN   \n...                ...        ...        ...        ...    ...            ...   \nZSCAN1             NaN        NaN        NaN        NaN    ...            NaN   \nZSCAN12       4.227465        NaN   4.351954   4.217842    ...       4.154917   \nZSCAN16       8.446662   7.308503   7.460758   8.801527    ...       5.440765   \nZSCAN18            NaN   8.606428   8.684165   7.870384    ...       8.709539   \nZSCAN2        6.371268   6.206897        NaN        NaN    ...            NaN   \nZSCAN20            NaN        NaN        NaN        NaN    ...            NaN   \nZSCAN21       8.941499   8.279793        NaN   8.523518    ...       8.549068   \nZSCAN22       7.152042   6.659347   5.962933   6.223348    ...       6.694190   \nZSCAN23            NaN        NaN        NaN        NaN    ...            NaN   \nZSCAN29       8.594872   8.384741   6.697005   9.059508    ...       8.215356   \nZSCAN30       6.697018   7.164075        NaN   6.342103    ...       6.306116   \nZSCAN4             NaN        NaN        NaN        NaN    ...            NaN   \nZSCAN5A       6.115686   6.103238   5.716368        NaN    ...       6.567625   \nZSWIM1        7.185990   6.794718        NaN   7.058635    ...       6.476053   \nZSWIM3             NaN        NaN        NaN        NaN    ...            NaN   \nZSWIM5        6.925499   4.805001        NaN        NaN    ...            NaN   \nZSWIM6        7.766529   8.657669   8.129996   7.321884    ...       8.384978   \nZSWIM7        7.828040   7.173896   7.493884   7.285599    ...       6.491092   \nZUFSP         8.142718   8.104419   7.153235   7.832600    ...       7.747949   \nZW10         10.107660   9.909033   9.802782   9.630733    ...       9.719796   \nZWILCH        9.510691  10.125400   9.636026  10.352660    ...      10.873210   \nZWINT        12.356410  12.411690  11.983480  12.213640    ...      12.292380   \nZXDA          5.986959   5.860412   4.821368   5.049491    ...       5.506668   \nZXDB          5.555560        NaN   5.149921   5.797910    ...       5.576138   \nZXDC          6.407387   6.753649   4.896261   6.718253    ...       6.016499   \nZYG11A        6.646481        NaN        NaN        NaN    ...       8.119946   \nZYG11B        9.348654   9.351545   7.514766   8.251154    ...       8.897943   \nZYX           7.275881   8.807075   9.281140   7.862486    ...       9.169788   \nZZEF1         6.080077   6.079540   6.044560   5.848208    ...       5.919734   \nZZZ3          9.137805   9.803556   9.328253   9.115391    ...      10.037540   \n\n              MDAMB453   MDAMB468      SKBR3       T47D    UACC812    UACC893  \\\n1/2-SBSRNA4   5.178795   4.992288   5.285821        NaN   6.137365   5.673962   \nA1BG          7.822566        NaN        NaN   6.638034   7.041119        NaN   \nA1BG-AS1           NaN        NaN        NaN        NaN   5.584081        NaN   \nA2LD1         4.966001   6.616900   6.069765   6.190813   4.239530   6.767208   \nA2M                NaN   7.406219        NaN        NaN        NaN        NaN   \nA2ML1              NaN        NaN   5.900330        NaN        NaN   4.164136   \nA4GALT             NaN        NaN        NaN        NaN        NaN        NaN   \nA4GNT              NaN        NaN        NaN        NaN        NaN        NaN   \nAA06          4.168221        NaN        NaN        NaN        NaN        NaN   \nAAAS          8.429693   8.486038   8.545306   8.629433   8.173907   8.252124   \nAACS          9.605350   8.894754   9.517088   9.284242   9.208145   8.029938   \nAACSP1             NaN        NaN        NaN        NaN        NaN        NaN   \nAADAC              NaN        NaN        NaN        NaN        NaN        NaN   \nAADAT              NaN        NaN        NaN        NaN   6.806400   8.915041   \nAAGAB         8.782118   7.774441   7.653187   7.937500   8.186781   8.469779   \nAAK1          4.585792   4.946612   4.767722        NaN   4.672083   4.502843   \nAAMP          9.745142   9.474694   9.055880   8.777973   8.455665   9.095028   \nAARS         10.403840  10.264270   9.561374  10.919070  10.219930  10.938930   \nAARS2         7.058317   6.476547   6.760015   6.761700   8.058346   6.866194   \nAARSD1        4.330661   4.614783        NaN        NaN        NaN   4.281547   \nAASDH         8.025286   7.105355   8.415030   8.633640   7.448323   7.539519   \nAASDHPPT      9.953846  10.181720   9.491801  10.491160   9.911799   9.462094   \nAASS               NaN        NaN        NaN        NaN        NaN        NaN   \nAATF         10.858490  10.342990  10.015320  10.394340  10.846720  10.184270   \nAATK               NaN        NaN        NaN        NaN        NaN        NaN   \nABAT          7.287071   5.213668   4.664408   9.509522  10.432790   4.547066   \nABCA1              NaN        NaN   5.426454   5.051885   5.023736   6.888092   \nABCA11P       6.179356   4.396465   5.712473   7.136001   5.869844   5.677229   \nABCA12        8.513917   4.430781   8.381972   8.699961   6.859760   5.767731   \nABCA13             NaN        NaN        NaN        NaN        NaN        NaN   \n...                ...        ...        ...        ...        ...        ...   \nZSCAN1             NaN        NaN        NaN        NaN        NaN        NaN   \nZSCAN12       4.492391   4.114480   4.452775        NaN        NaN        NaN   \nZSCAN16       7.446225   8.104886   7.002219   8.143650   7.796094   7.280588   \nZSCAN18            NaN  10.252400        NaN   9.335976   8.829829   7.318254   \nZSCAN2             NaN        NaN        NaN   5.389772   5.195696   5.903602   \nZSCAN20            NaN        NaN   4.325872        NaN        NaN        NaN   \nZSCAN21       8.393926   7.786510   8.731034   8.139547   7.311099   8.436025   \nZSCAN22       6.146975   6.305369   6.830027   6.141580   6.298183   5.922633   \nZSCAN23            NaN        NaN        NaN        NaN        NaN        NaN   \nZSCAN29       8.958674   7.289526   8.577037   8.130506   8.154562   8.458700   \nZSCAN30       6.044507   5.789701        NaN   6.335481   6.351107        NaN   \nZSCAN4             NaN   4.329499        NaN        NaN        NaN        NaN   \nZSCAN5A       6.752105   6.203394   6.496085        NaN   4.700283        NaN   \nZSWIM1        7.095438   6.789234   8.036248   7.428427   7.138898   7.368541   \nZSWIM3        6.288714        NaN        NaN        NaN        NaN        NaN   \nZSWIM5        4.988909   6.287229        NaN        NaN   6.083219        NaN   \nZSWIM6        7.274949   7.671754   6.137067   7.474859   9.404527   6.902036   \nZSWIM7        8.050698   7.078139   7.053482   7.225688   7.428633   6.549287   \nZUFSP         8.372729   7.924757   7.658010   7.543463   8.355267   9.643117   \nZW10          9.861009  10.213070   9.672779  10.759320   9.396257   9.133978   \nZWILCH       10.813400   9.701169  10.201880  10.210170   9.262472   9.986816   \nZWINT        12.773760  12.273890  12.882160  12.825140  12.284360  11.855430   \nZXDA          5.136422   6.028195   5.099157   5.395938   5.423396   5.727188   \nZXDB          5.245288   5.803195   5.105470   5.032590   5.048845   5.777585   \nZXDC          6.921565   6.344338   6.199790   6.574778   7.403573   6.842925   \nZYG11A        8.423384   8.146307        NaN   8.013076   7.919800        NaN   \nZYG11B        8.856997   9.023488   9.273552   8.684761   8.474782   7.813156   \nZYX           6.943276   8.704727   8.884001        NaN   7.386169   9.400195   \nZZEF1         6.107978   6.031191   6.155779   6.034748   6.628869   6.326017   \nZZZ3          9.292901  10.502180   9.181607   9.057616   8.273064   8.376453   \n\n                  YMB1      ZR751     ZR7530  \n1/2-SBSRNA4   5.461494        NaN   5.352480  \nA1BG          8.521523   7.731496   6.945533  \nA1BG-AS1           NaN        NaN        NaN  \nA2LD1         6.553315   6.368450   6.027463  \nA2M                NaN        NaN        NaN  \nA2ML1              NaN        NaN        NaN  \nA4GALT             NaN        NaN        NaN  \nA4GNT              NaN   4.388632        NaN  \nAA06               NaN        NaN        NaN  \nAAAS          7.589940        NaN   7.935206  \nAACS          9.604330   9.366894   9.054392  \nAACSP1             NaN        NaN        NaN  \nAADAC              NaN        NaN        NaN  \nAADAT         8.033582   6.746711        NaN  \nAAGAB         8.348037   8.309408   8.758870  \nAAK1          4.563789   4.625151   4.706801  \nAAMP          8.992434   8.710091   8.564691  \nAARS         11.440810  10.206370   9.500120  \nAARS2         6.706370        NaN   6.600794  \nAARSD1             NaN        NaN        NaN  \nAASDH         8.448802   8.685290   8.258714  \nAASDHPPT      9.566819   9.993601   8.996769  \nAASS               NaN        NaN        NaN  \nAATF         10.505390   9.425864  12.487220  \nAATK               NaN        NaN        NaN  \nABAT          8.745520   9.319051   9.866115  \nABCA1         8.325855   7.468163   6.674429  \nABCA11P       6.429127   5.904540   5.748567  \nABCA12        9.758344   8.097042        NaN  \nABCA13             NaN        NaN        NaN  \n...                ...        ...        ...  \nZSCAN1             NaN        NaN        NaN  \nZSCAN12            NaN        NaN   4.117767  \nZSCAN16       7.528583   7.915255   7.242831  \nZSCAN18            NaN        NaN        NaN  \nZSCAN2        5.387585        NaN   5.646473  \nZSCAN20            NaN        NaN   4.289713  \nZSCAN21       8.149582   7.938695   7.710341  \nZSCAN22       6.013011   5.908308   6.403885  \nZSCAN23            NaN        NaN        NaN  \nZSCAN29       9.013274   8.303932   8.008774  \nZSCAN30       5.987273   6.343423   5.876367  \nZSCAN4             NaN        NaN        NaN  \nZSCAN5A            NaN        NaN        NaN  \nZSWIM1        6.945576   6.610644   6.999290  \nZSWIM3             NaN        NaN        NaN  \nZSWIM5             NaN   5.593190   5.537770  \nZSWIM6        5.972131   8.052469   9.109592  \nZSWIM7        7.209974   7.042388   5.585066  \nZUFSP         6.979407   7.274042   7.718757  \nZW10          9.017020   9.225289   9.012209  \nZWILCH       10.277460  10.398470   9.650302  \nZWINT        12.249660  12.621280  11.530060  \nZXDA          5.330254   5.008054   5.339243  \nZXDB          5.296610   5.069002   5.428846  \nZXDC          6.678727   6.836028   6.956828  \nZYG11A        7.691551   7.285720   7.280116  \nZYG11B        8.154350   8.469786   9.191729  \nZYX           6.802321   6.434814   8.194097  \nZZEF1         5.835767        NaN   5.870717  \nZZZ3          8.979249   9.373826   9.153612  \n\n[16237 rows x 59 columns]"
     ]
    }
   ],
   "source": [
    "edf_f, cdf_f = mainFitler(edf, cnvdf_fh=cdf, var=0.2, n=2, amp_fh=False, dele_fh=False, mut_fh=False, save=False)\n",
    "df = explicitPairContextStat(edf, cdf, exp_lis=e_samp, cnv_lis=c_samp)"
   ]
  },
  {
   "cell_type": "code",
   "execution_count": 68,
   "metadata": {
    "collapsed": false
   },
   "outputs": [
    {
     "data": {
      "text/plain": [
       "array(['A1BG'], dtype=object)"
      ]
     },
     "execution_count": 68,
     "metadata": {},
     "output_type": "execute_result"
    }
   ],
   "source": [
    "df['exp'].unique()"
   ]
  },
  {
   "cell_type": "code",
   "execution_count": 69,
   "metadata": {
    "collapsed": false
   },
   "outputs": [
    {
     "data": {
      "text/html": [
       "<div>\n",
       "<table border=\"1\" class=\"dataframe\">\n",
       "  <thead>\n",
       "    <tr style=\"text-align: right;\">\n",
       "      <th></th>\n",
       "      <th>cnv</th>\n",
       "      <th>exp</th>\n",
       "    </tr>\n",
       "  </thead>\n",
       "  <tbody>\n",
       "    <tr>\n",
       "      <th>0</th>\n",
       "      <td>A2LD1</td>\n",
       "      <td>A1BG</td>\n",
       "    </tr>\n",
       "    <tr>\n",
       "      <th>1</th>\n",
       "      <td>A2M</td>\n",
       "      <td>A1BG</td>\n",
       "    </tr>\n",
       "  </tbody>\n",
       "</table>\n",
       "</div>"
      ],
      "text/plain": [
       "     cnv   exp\n",
       "0  A2LD1  A1BG\n",
       "1    A2M  A1BG"
      ]
     },
     "execution_count": 69,
     "metadata": {},
     "output_type": "execute_result"
    }
   ],
   "source": [
    "df"
   ]
  },
  {
   "cell_type": "code",
   "execution_count": null,
   "metadata": {
    "collapsed": true
   },
   "outputs": [],
   "source": []
  }
 ],
 "metadata": {
  "kernelspec": {
   "display_name": "Python 3",
   "language": "python",
   "name": "python3"
  },
  "language_info": {
   "codemirror_mode": {
    "name": "ipython",
    "version": 3
   },
   "file_extension": ".py",
   "mimetype": "text/x-python",
   "name": "python",
   "nbconvert_exporter": "python",
   "pygments_lexer": "ipython3",
   "version": "3.4.5"
  }
 },
 "nbformat": 4,
 "nbformat_minor": 0
}
