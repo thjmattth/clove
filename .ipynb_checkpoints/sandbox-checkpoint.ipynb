{
 "cells": [
  {
   "cell_type": "code",
   "execution_count": 24,
   "metadata": {
    "collapsed": false
   },
   "outputs": [
    {
     "data": {
      "text/html": [
       "<div>\n",
       "<table border=\"1\" class=\"dataframe\">\n",
       "  <thead>\n",
       "    <tr style=\"text-align: right;\">\n",
       "      <th></th>\n",
       "      <th>cell1</th>\n",
       "      <th>cell2</th>\n",
       "      <th>cnv</th>\n",
       "      <th>gene</th>\n",
       "      <th>location</th>\n",
       "      <th>np_t_w</th>\n",
       "    </tr>\n",
       "  </thead>\n",
       "  <tbody>\n",
       "    <tr>\n",
       "      <th>0</th>\n",
       "      <td>5</td>\n",
       "      <td>12</td>\n",
       "      <td>a</td>\n",
       "      <td>1 // foo // blabla</td>\n",
       "      <td>1</td>\n",
       "      <td>1</td>\n",
       "    </tr>\n",
       "    <tr>\n",
       "      <th>1</th>\n",
       "      <td>9</td>\n",
       "      <td>90</td>\n",
       "      <td>b</td>\n",
       "      <td>2 // bar // lalala</td>\n",
       "      <td>13.4</td>\n",
       "      <td>13.4</td>\n",
       "    </tr>\n",
       "    <tr>\n",
       "      <th>2</th>\n",
       "      <td>1</td>\n",
       "      <td>13</td>\n",
       "      <td>c</td>\n",
       "      <td>3 // qux // trilil</td>\n",
       "      <td>1.1-2</td>\n",
       "      <td>1.1</td>\n",
       "    </tr>\n",
       "    <tr>\n",
       "      <th>3</th>\n",
       "      <td>7</td>\n",
       "      <td>87</td>\n",
       "      <td>d</td>\n",
       "      <td>4 // woz // hohoho</td>\n",
       "      <td>1.2-p22</td>\n",
       "      <td>2</td>\n",
       "    </tr>\n",
       "    <tr>\n",
       "      <th>4</th>\n",
       "      <td>9</td>\n",
       "      <td>9</td>\n",
       "      <td>e</td>\n",
       "      <td>nopeynope</td>\n",
       "      <td>43-q44</td>\n",
       "      <td>3</td>\n",
       "    </tr>\n",
       "  </tbody>\n",
       "</table>\n",
       "</div>"
      ],
      "text/plain": [
       "   cell1  cell2 cnv                gene location np_t_w\n",
       "0      5     12   a  1 // foo // blabla        1      1\n",
       "1      9     90   b  2 // bar // lalala     13.4   13.4\n",
       "2      1     13   c  3 // qux // trilil    1.1-2    1.1\n",
       "3      7     87   d  4 // woz // hohoho  1.2-p22      2\n",
       "4      9      9   e           nopeynope   43-q44      3"
      ]
     },
     "execution_count": 24,
     "metadata": {},
     "output_type": "execute_result"
    }
   ],
   "source": [
    "import pandas as pd\n",
    "df = pd.DataFrame({ 'gene':[\"1 // foo // blabla\",\n",
    "                                   \"2 // bar // lalala\",\n",
    "                                   \"3 // qux // trilil\",\n",
    "                                   \"4 // woz // hohoho\",\n",
    "                                   \"nopeynope\"], \n",
    "                   'cnv':['a','b','c','d','e'],\n",
    "                   'cell1':[5,9,1,7,9], \n",
    "                   'cell2':[12,90,13,87,9],\n",
    "                   'location':['1', '13.4', '1.1-2', '1.2-p22', '43-q44'],\n",
    "                  'np_t_w': ['1','13.4','1.1','2','3']})\n",
    "df"
   ]
  },
  {
   "cell_type": "code",
   "execution_count": 10,
   "metadata": {
    "collapsed": true
   },
   "outputs": [
    {
     "data": {
      "text/html": [
       "<div>\n",
       "<table border=\"1\" class=\"dataframe\">\n",
       "  <thead>\n",
       "    <tr style=\"text-align: right;\">\n",
       "      <th></th>\n",
       "      <th>0</th>\n",
       "    </tr>\n",
       "  </thead>\n",
       "  <tbody>\n",
       "    <tr>\n",
       "      <th>0</th>\n",
       "      <td>NaN</td>\n",
       "    </tr>\n",
       "    <tr>\n",
       "      <th>1</th>\n",
       "      <td>NaN</td>\n",
       "    </tr>\n",
       "    <tr>\n",
       "      <th>2</th>\n",
       "      <td>-</td>\n",
       "    </tr>\n",
       "    <tr>\n",
       "      <th>3</th>\n",
       "      <td>-</td>\n",
       "    </tr>\n",
       "    <tr>\n",
       "      <th>4</th>\n",
       "      <td>-</td>\n",
       "    </tr>\n",
       "  </tbody>\n",
       "</table>\n",
       "</div>"
      ],
      "text/plain": [
       "     0\n",
       "0  NaN\n",
       "1  NaN\n",
       "2    -\n",
       "3    -\n",
       "4    -"
      ]
     },
     "execution_count": 10,
     "metadata": {},
     "output_type": "execute_result"
    }
   ],
   "source": [
    "df['location'].str.extract('(-)', expand=True)"
   ]
  },
  {
   "cell_type": "code",
   "execution_count": 7,
   "metadata": {
    "collapsed": false
   },
   "outputs": [
    {
     "data": {
      "text/html": [
       "<div>\n",
       "<table border=\"1\" class=\"dataframe\">\n",
       "  <thead>\n",
       "    <tr style=\"text-align: right;\">\n",
       "      <th></th>\n",
       "      <th>cnv</th>\n",
       "      <th>exp</th>\n",
       "      <th>np_t_w</th>\n",
       "    </tr>\n",
       "  </thead>\n",
       "  <tbody>\n",
       "    <tr>\n",
       "      <th>0</th>\n",
       "      <td>a</td>\n",
       "      <td>b</td>\n",
       "      <td>1.0</td>\n",
       "    </tr>\n",
       "    <tr>\n",
       "      <th>1</th>\n",
       "      <td>a</td>\n",
       "      <td>c</td>\n",
       "      <td>1.9</td>\n",
       "    </tr>\n",
       "    <tr>\n",
       "      <th>2</th>\n",
       "      <td>a</td>\n",
       "      <td>d</td>\n",
       "      <td>45.0</td>\n",
       "    </tr>\n",
       "    <tr>\n",
       "      <th>3</th>\n",
       "      <td>a</td>\n",
       "      <td>e</td>\n",
       "      <td>3.9</td>\n",
       "    </tr>\n",
       "    <tr>\n",
       "      <th>4</th>\n",
       "      <td>b</td>\n",
       "      <td>c</td>\n",
       "      <td>2.1</td>\n",
       "    </tr>\n",
       "    <tr>\n",
       "      <th>5</th>\n",
       "      <td>b</td>\n",
       "      <td>d</td>\n",
       "      <td>-2.0</td>\n",
       "    </tr>\n",
       "    <tr>\n",
       "      <th>6</th>\n",
       "      <td>b</td>\n",
       "      <td>e</td>\n",
       "      <td>4.1</td>\n",
       "    </tr>\n",
       "  </tbody>\n",
       "</table>\n",
       "</div>"
      ],
      "text/plain": [
       "  cnv exp  np_t_w\n",
       "0   a   b     1.0\n",
       "1   a   c     1.9\n",
       "2   a   d    45.0\n",
       "3   a   e     3.9\n",
       "4   b   c     2.1\n",
       "5   b   d    -2.0\n",
       "6   b   e     4.1"
      ]
     },
     "execution_count": 7,
     "metadata": {},
     "output_type": "execute_result"
    }
   ],
   "source": [
    "df = pd.DataFrame([['a','b',1],\n",
    "                  ['a','c',1.9],\n",
    "                  ['a','d',45],\n",
    "                  ['a','e',3.9],\n",
    "                  ['b','c', 2.1],\n",
    "                  ['b','d',-2],\n",
    "                  ['b','e',4.1]],\n",
    "                 columns = ['cnv','exp','np_t_w'])\n",
    "df"
   ]
  },
  {
   "cell_type": "code",
   "execution_count": 8,
   "metadata": {
    "collapsed": true
   },
   "outputs": [],
   "source": [
    "### OLD\n",
    "from scipy.stats import pearsonr\n",
    "def rolling_pearson(df, group='cnv', data='np_t_w'):\n",
    "    \"\"\"\n",
    "    computes pearson between array of data for one gene partners and each successive chromosomal neighbor\n",
    "    \n",
    "    :param df: pd df, clove results, sorted in ascending order of chromosome locus\n",
    "    :param group: str, df column label on which to form gene neigbors, default 'cnv'\n",
    "    :param data: str, df column label of source data to populate arrays, default 'np_t_w' (clove t-stats)\n",
    "    \"\"\"\n",
    "    \n",
    "    unique_genes = df[group].unique()\n",
    "    results = []\n",
    "    for idx, g0 in enumerate(unique_genes):\n",
    "        g0_arr = df[df[group] == g0][data].values\n",
    "        if idx < len(unique_genes) - 1:\n",
    "            for g1 in unique_genes[idx+1:]:\n",
    "                g1_arr = df[df[group] == g1][data].values\n",
    "                print(g1_arr)\n",
    "                pearson, pval = pearsonr(g0_arr, g1_arr)\n",
    "                results.append([g0, g1, pearson, pval])\n",
    "\n",
    "    return pd.DataFrame(results, columns=[group, group+'_k', 'pearson', 'pval'])"
   ]
  },
  {
   "cell_type": "code",
   "execution_count": 95,
   "metadata": {
    "collapsed": false
   },
   "outputs": [],
   "source": [
    "### NEW\n",
    "from scipy.stats import pearsonr\n",
    "from scipy.spatial import distance\n",
    "def rolling_similarity(df, group='cnv', data='np_t_w', how='pearson'):\n",
    "    \"\"\"\n",
    "    computes similarity between array of data for one gene partners and each successive chromosomal neighbor\n",
    "    \n",
    "    :param df: pd df, clove results, sorted in ascending order of chromosome locus\n",
    "    :param group: str, df column label on which to form gene neigbors, default 'cnv'\n",
    "    :param data: str, df column label of source data to populate arrays, default 'np_t_w' (clove t-stats)\n",
    "    :param how: str, choice of: {pearson, euclidian, cosine}\n",
    "    \"\"\"\n",
    "    \n",
    "    unique_genes = df[group].unique()\n",
    "    results = []\n",
    "    for idx, g0 in enumerate(unique_genes):\n",
    "        if idx < len(unique_genes) - 1:\n",
    "            g1 = unique_genes[idx+1]\n",
    "            merged = pd.merge(df[df[group] == g0], df[df[group] == g1], how='inner', on='exp')\n",
    "            merged.columns = ['cnv_g0','exp','clove_g0','cnv_g1','clove_g1']\n",
    "            if how == 'pearson':\n",
    "                cols = [g0, g1, how ,'pval']\n",
    "                pear, pval = pearsonr(merged['clove_g0'], merged['clove_g1'])\n",
    "                results.append([g0,g1,pear,pval])\n",
    "            elif how == 'euclidian':\n",
    "                cols = [g0, g1, how]\n",
    "                results.append([g0, g1, distance.euclidean(merged['clove_g0'], merged['clove_g1'])])\n",
    "            elif how == 'cosine':\n",
    "                cols = [g0, g1, how]\n",
    "                results.append([g0, g1, distance.cosine(merged['clove_g0'], merged['clove_g1'])])\n",
    "\n",
    "    return pd.DataFrame(results, columns=cols)"
   ]
  },
  {
   "cell_type": "code",
   "execution_count": 94,
   "metadata": {
    "collapsed": false
   },
   "outputs": [
    {
     "name": "stdout",
     "output_type": "stream",
     "text": [
      "q\n"
     ]
    },
    {
     "data": {
      "text/html": [
       "<div>\n",
       "<table border=\"1\" class=\"dataframe\">\n",
       "  <thead>\n",
       "    <tr style=\"text-align: right;\">\n",
       "      <th></th>\n",
       "      <th>a</th>\n",
       "      <th>b</th>\n",
       "      <th>pearson</th>\n",
       "      <th>pval</th>\n",
       "    </tr>\n",
       "  </thead>\n",
       "  <tbody>\n",
       "    <tr>\n",
       "      <th>0</th>\n",
       "      <td>a</td>\n",
       "      <td>b</td>\n",
       "      <td>-0.932864</td>\n",
       "      <td>0.234603</td>\n",
       "    </tr>\n",
       "  </tbody>\n",
       "</table>\n",
       "</div>"
      ],
      "text/plain": [
       "   a  b   pearson      pval\n",
       "0  a  b -0.932864  0.234603"
      ]
     },
     "execution_count": 94,
     "metadata": {},
     "output_type": "execute_result"
    }
   ],
   "source": [
    "rolling_similarity(df, group='cnv',data='np_t_w')"
   ]
  },
  {
   "cell_type": "code",
   "execution_count": 27,
   "metadata": {
    "collapsed": false
   },
   "outputs": [
    {
     "data": {
      "text/html": [
       "<div>\n",
       "<table border=\"1\" class=\"dataframe\">\n",
       "  <thead>\n",
       "    <tr style=\"text-align: right;\">\n",
       "      <th></th>\n",
       "      <th>cell1</th>\n",
       "      <th>cell2</th>\n",
       "      <th>cnv</th>\n",
       "      <th>gene</th>\n",
       "      <th>location</th>\n",
       "      <th>np_t_w</th>\n",
       "    </tr>\n",
       "  </thead>\n",
       "  <tbody>\n",
       "    <tr>\n",
       "      <th>0</th>\n",
       "      <td>5</td>\n",
       "      <td>12</td>\n",
       "      <td>a</td>\n",
       "      <td>1 // foo // blabla</td>\n",
       "      <td>1</td>\n",
       "      <td>1</td>\n",
       "    </tr>\n",
       "    <tr>\n",
       "      <th>1</th>\n",
       "      <td>9</td>\n",
       "      <td>90</td>\n",
       "      <td>b</td>\n",
       "      <td>2 // bar // lalala</td>\n",
       "      <td>13.4</td>\n",
       "      <td>13.4</td>\n",
       "    </tr>\n",
       "    <tr>\n",
       "      <th>2</th>\n",
       "      <td>1</td>\n",
       "      <td>13</td>\n",
       "      <td>c</td>\n",
       "      <td>3 // qux // trilil</td>\n",
       "      <td>1.1-2</td>\n",
       "      <td>1.1</td>\n",
       "    </tr>\n",
       "    <tr>\n",
       "      <th>3</th>\n",
       "      <td>7</td>\n",
       "      <td>87</td>\n",
       "      <td>d</td>\n",
       "      <td>4 // woz // hohoho</td>\n",
       "      <td>1.2-p22</td>\n",
       "      <td>2</td>\n",
       "    </tr>\n",
       "    <tr>\n",
       "      <th>4</th>\n",
       "      <td>9</td>\n",
       "      <td>9</td>\n",
       "      <td>e</td>\n",
       "      <td>nopeynope</td>\n",
       "      <td>43-q44</td>\n",
       "      <td>3</td>\n",
       "    </tr>\n",
       "  </tbody>\n",
       "</table>\n",
       "</div>"
      ],
      "text/plain": [
       "   cell1  cell2 cnv                gene location np_t_w\n",
       "0      5     12   a  1 // foo // blabla        1      1\n",
       "1      9     90   b  2 // bar // lalala     13.4   13.4\n",
       "2      1     13   c  3 // qux // trilil    1.1-2    1.1\n",
       "3      7     87   d  4 // woz // hohoho  1.2-p22      2\n",
       "4      9      9   e           nopeynope   43-q44      3"
      ]
     },
     "execution_count": 27,
     "metadata": {},
     "output_type": "execute_result"
    }
   ],
   "source": [
    "df"
   ]
  },
  {
   "cell_type": "code",
   "execution_count": 13,
   "metadata": {
    "collapsed": true
   },
   "outputs": [],
   "source": [
    "pearsonr?"
   ]
  },
  {
   "cell_type": "code",
   "execution_count": 22,
   "metadata": {
    "collapsed": false
   },
   "outputs": [
    {
     "data": {
      "text/plain": [
       "array([0, 1])"
      ]
     },
     "execution_count": 22,
     "metadata": {},
     "output_type": "execute_result"
    }
   ],
   "source": [
    "import numpy as np\n",
    "x = np.array([0, 1, 2, 3, 4, 5, 6, 7, 8, 9])\n",
    "x[:2]"
   ]
  },
  {
   "cell_type": "code",
   "execution_count": 23,
   "metadata": {
    "collapsed": false
   },
   "outputs": [
    {
     "ename": "TypeError",
     "evalue": "'NoneType' object is not subscriptable",
     "output_type": "error",
     "traceback": [
      "\u001b[1;31m---------------------------------------------------------------------------\u001b[0m",
      "\u001b[1;31mTypeError\u001b[0m                                 Traceback (most recent call last)",
      "\u001b[1;32m<ipython-input-23-c415a77dbd90>\u001b[0m in \u001b[0;36m<module>\u001b[1;34m()\u001b[0m\n\u001b[1;32m----> 1\u001b[1;33m \u001b[0mnp\u001b[0m\u001b[1;33m.\u001b[0m\u001b[0mrandom\u001b[0m\u001b[1;33m.\u001b[0m\u001b[0mshuffle\u001b[0m\u001b[1;33m(\u001b[0m\u001b[0mx\u001b[0m\u001b[1;33m)\u001b[0m\u001b[1;33m[\u001b[0m\u001b[1;33m:\u001b[0m\u001b[1;36m2\u001b[0m\u001b[1;33m]\u001b[0m\u001b[1;33m\u001b[0m\u001b[0m\n\u001b[0m",
      "\u001b[1;31mTypeError\u001b[0m: 'NoneType' object is not subscriptable"
     ]
    }
   ],
   "source": [
    "np.random.shuffle(x)\n"
   ]
  },
  {
   "cell_type": "markdown",
   "metadata": {},
   "source": [
    "develop explicit way to define certain combinations of genes on which to compute CLOvEs"
   ]
  },
  {
   "cell_type": "code",
   "execution_count": 1,
   "metadata": {
    "collapsed": false
   },
   "outputs": [],
   "source": [
    "import pandas as pd\n",
    "import numpy as np\n",
    "from scipy import stats\n",
    "from cloveFunctions import *\n",
    "import itertools"
   ]
  },
  {
   "cell_type": "code",
   "execution_count": 2,
   "metadata": {
    "collapsed": true
   },
   "outputs": [],
   "source": [
    "edf = pd.read_csv('data/breast_mrna.tab.gz', compression='gzip', sep='\\t', index_col=0)\n",
    "cdf = pd.read_csv('data/breast_CCLE_DEL_calls.csv.gz', compression='gzip', index_col=0)"
   ]
  },
  {
   "cell_type": "code",
   "execution_count": 3,
   "metadata": {
    "collapsed": false
   },
   "outputs": [],
   "source": [
    "e_samp = edf.index[1:3].values\n",
    "c_samp = cdf.index[3:5].values"
   ]
  },
  {
   "cell_type": "code",
   "execution_count": 4,
   "metadata": {
    "collapsed": false
   },
   "outputs": [
    {
     "data": {
      "text/plain": [
       "array(['A2LD1', 'A2M'], dtype=object)"
      ]
     },
     "execution_count": 4,
     "metadata": {},
     "output_type": "execute_result"
    }
   ],
   "source": [
    "c_samp"
   ]
  },
  {
   "cell_type": "code",
   "execution_count": 33,
   "metadata": {
    "collapsed": false
   },
   "outputs": [],
   "source": [
    "def explicitPairContextStat(expdf, cnvdf, exp_lis=False, cnv_lis=False, cat_df=False, nan_style='omit', permute=False):\n",
    "    \"\"\"\n",
    "    takes exp and cnv genes (either all or explicitand returns pair summary statistics\n",
    "    \n",
    "    :param n_samp: int, number of random samples to take\n",
    "    :param expdf: pandas dataframe, expression by sample \n",
    "                    (hopefully filtered with mainFilter, tissue specific, with matching samples in cnv)\n",
    "    :param cnvdf: pandas dataframe, binarized mask 5(1=del, 0=nodel) deletion by sample \n",
    "                    (hopefully filtered with mainFilter, tissue specific, with matching samples in exp)\n",
    "    :param exp_lis: list of str, HUGO gene names in expdf to restrict to, default is False (use all genes in expdf)\n",
    "    :param exp_lis: list of str, HUGO gene names in cnvdf to restrict to, default is False (use all genes in cnvdf)\n",
    "    :param in_df: pandas dataframe, previous calculations to concat new results to, used in while loop to get n_samp\n",
    "    :param nan_style: str, how the stats.ttest_ind treats NANs, {‘propagate’, ‘raise’, ‘omit’}\n",
    "    :param permute: bool, True will calculate pairs with randomly permuted expression matrix as null model\n",
    "    \n",
    "    returns df[['exp', 'cnv', 'cntxt_pos_mu', 'cntxt_neg_mu', \n",
    "                'cntxt_pos_var', 'cntxt_neg_var', \n",
    "                'cntxt_pos_n', 'cntxt_neg_n']]\n",
    "    \"\"\"\n",
    "    \n",
    "    cells = list(set(cnvdf.columns).intersection(expdf.columns))\n",
    "    expdf = expdf[cells]\n",
    "    cmask = cnvdf[cells] == 1\n",
    "    \n",
    "    if type(exp_lis) != bool:\n",
    "        exp_samp = set(expdf.index).intersection(exp_lis)\n",
    "        for gene in exp_lis:\n",
    "            if gene not in expdf.index:\n",
    "                print('{} not found in expdf.index.  Omitted'.format(gene))\n",
    "    else:\n",
    "        exp_samp = expdf.index\n",
    "    \n",
    "    if type(cnv_lis) != bool:\n",
    "        cnv_samp = set(cnvdf.index).intersection(cnv_lis)\n",
    "        for gene in cnv_lis:\n",
    "            if gene not in cnvdf.index:\n",
    "                print('{} not found in cnvdf.index.  Omitted'.format(gene))\n",
    "    else:\n",
    "        cnv_samp = cnvdf.index\n",
    "    print('attempting {} comparisons with current parameters'.format(len(exp_samp) * len(cnv_samp)))\n",
    "    r={'exp':[],'cnv':[]}\n",
    "    for pair in itertools.product(exp_samp, cnv_samp):\n",
    "        r['exp'].append(pair[0])\n",
    "        r['cnv'].append(pair[1])\n",
    "    df = pd.DataFrame(r)\n",
    "    \n",
    "    pos_n, neg_n, = [], []\n",
    "    pos_mu, neg_mu = [], []\n",
    "    pos_var, neg_var = [], []\n",
    "    cohens_d = []\n",
    "    np_t_s, np_p_s = [], []\n",
    "    np_t_w, np_p_w = [], []\n",
    "    \n",
    "    df\n",
    "    \n",
    "    for row in df.itertuples():\n",
    "        # mask cnv contexts onto expression data\n",
    "        pos = np.array(expdf.loc[row.exp][cmask.loc[row.cnv]])\n",
    "        neg = np.array(expdf.loc[row.exp][~cmask.loc[row.cnv]])\n",
    "        \n",
    "        # calculate n\n",
    "        pos_n.append(len(pos))\n",
    "        neg_n.append(len(neg))\n",
    "        \n",
    "        # calculate mu\n",
    "        pos_mu.append(pos.mean())\n",
    "        neg_mu.append(neg.mean())\n",
    "        \n",
    "        # calculate var\n",
    "        pos_var.append(pos.var())\n",
    "        neg_var.append(neg.var())\n",
    "        \n",
    "        # calculate cohen's d\n",
    "        cohens_d.append(cohenD(pos, neg))\n",
    "        \n",
    "        # calculate t_stat, welch\n",
    "        t, p = stats.ttest_ind(pos, neg, nan_policy=nan_style, equal_var=True)\n",
    "        np_t_w.append(t)\n",
    "        np_p_w.append(p)\n",
    "        \n",
    "        if permute:\n",
    "            pos = np.array(expdf.loc[row.exp][cmask_n.loc[row.cnv]])\n",
    "            neg = np.array(expdf.loc[row.exp][~cmask_n.loc[row.cnv]])\n",
    "            t, p = stats.ttest_ind(pos, neg, nan_policy=nan_style, equal_var=True)\n",
    "            np_t_w_null.append(t)\n",
    "            np_p_w_null.append(p)\n",
    "            \n",
    "    df['pos_n'] = pos_n\n",
    "    df['neg_n'] = neg_n\n",
    "    df['pos_mu'] = pos_mu\n",
    "    df['neg_mu'] = neg_mu\n",
    "    df['pos_var'] = pos_var\n",
    "    df['neg_var'] = neg_var\n",
    "    df['cohens_d'] = cohens_d\n",
    "    df['np_t_w'] = np_t_w\n",
    "    df['np_p_w'] = np_p_w\n",
    "    \n",
    "    if permute:\n",
    "        df['np_t_w_null'] = np_t_w_null\n",
    "        df['np_t_w_null'] = np_t_w_null\n",
    "    \n",
    "    df.dropna(inplace=True)\n",
    "\n",
    "    right = expdf.rename_axis('exp', axis=0) \n",
    "    right['gene_var_exp'] = right.var(axis=1)\n",
    "    right = right.reset_index()\n",
    "    \n",
    "    df = pd.merge(df, right[['exp','gene_var_exp']], on='exp')\n",
    "    \n",
    "    if cat_df:\n",
    "        return pd.concat([cat_df, df])\n",
    "        \n",
    "    return df"
   ]
  },
  {
   "cell_type": "code",
   "execution_count": 36,
   "metadata": {
    "collapsed": false
   },
   "outputs": [
    {
     "name": "stdout",
     "output_type": "stream",
     "text": [
      "filtering done\n"
     ]
    }
   ],
   "source": [
    "edf_f, cdf_f = mainFitler(edf, cdf, var=2, n=6, amp_fh=False, dele_fh=False, mut_fh=False, save=False)\n",
    "df = explicitPairContextStat(edf_f, cdf_f, cnv_lis=c_samp)"
   ]
  },
  {
   "cell_type": "code",
   "execution_count": 37,
   "metadata": {
    "collapsed": false
   },
   "outputs": [
    {
     "data": {
      "text/plain": [
       "array(['AP1S2', 'CD9', 'CEBPD', 'COTL1', 'CREB3L4', 'CXXC5', 'DNAJB4',\n",
       "       'DYNLT3', 'ELL3', 'EXT1', 'FAM46A', 'FAM69A', 'FRMD6', 'HES1',\n",
       "       'HIST1H2BD', 'HIST2H2BE', 'ID1', 'IKBIP', 'IL6ST', 'KDELR3',\n",
       "       'LOC100128822', 'MAFF', 'MIEN1', 'MLPH', 'MREG', 'NAT1', 'OPN3',\n",
       "       'PDCD4', 'PLEKHF2', 'PLK2', 'RAB11FIP1', 'RHOBTB3', 'RHPN2', 'RND3',\n",
       "       'SFN', 'SH3YL1', 'SLC7A11', 'SNHG5', 'TFAP2A', 'TRPS1', 'TSPAN13'], dtype=object)"
      ]
     },
     "execution_count": 37,
     "metadata": {},
     "output_type": "execute_result"
    }
   ],
   "source": [
    "df['exp'].unique()"
   ]
  },
  {
   "cell_type": "code",
   "execution_count": 39,
   "metadata": {
    "collapsed": false
   },
   "outputs": [
    {
     "data": {
      "text/plain": [
       "SH3YL1          2\n",
       "RHPN2           2\n",
       "HIST1H2BD       2\n",
       "OPN3            2\n",
       "HIST2H2BE       2\n",
       "PLEKHF2         2\n",
       "LOC100128822    2\n",
       "MLPH            2\n",
       "PLK2            2\n",
       "SNHG5           2\n",
       "NAT1            2\n",
       "IL6ST           2\n",
       "TSPAN13         2\n",
       "CXXC5           2\n",
       "RND3            2\n",
       "DYNLT3          2\n",
       "TRPS1           2\n",
       "DNAJB4          2\n",
       "RAB11FIP1       2\n",
       "COTL1           2\n",
       "FAM69A          2\n",
       "MREG            2\n",
       "IKBIP           2\n",
       "AP1S2           2\n",
       "SFN             2\n",
       "KDELR3          2\n",
       "RHOBTB3         2\n",
       "MIEN1           2\n",
       "CD9             2\n",
       "FRMD6           2\n",
       "HES1            2\n",
       "TFAP2A          2\n",
       "CEBPD           2\n",
       "CREB3L4         2\n",
       "SLC7A11         2\n",
       "FAM46A          2\n",
       "ID1             2\n",
       "EXT1            2\n",
       "MAFF            2\n",
       "PDCD4           2\n",
       "ELL3            2\n",
       "Name: exp, dtype: int64"
      ]
     },
     "execution_count": 39,
     "metadata": {},
     "output_type": "execute_result"
    }
   ],
   "source": [
    "df['exp'].value_counts()"
   ]
  },
  {
   "cell_type": "code",
   "execution_count": null,
   "metadata": {
    "collapsed": true
   },
   "outputs": [],
   "source": []
  }
 ],
 "metadata": {
  "kernelspec": {
   "display_name": "Python 3",
   "language": "python",
   "name": "python3"
  },
  "language_info": {
   "codemirror_mode": {
    "name": "ipython",
    "version": 3
   },
   "file_extension": ".py",
   "mimetype": "text/x-python",
   "name": "python",
   "nbconvert_exporter": "python",
   "pygments_lexer": "ipython3",
   "version": "3.4.5"
  }
 },
 "nbformat": 4,
 "nbformat_minor": 0
}
