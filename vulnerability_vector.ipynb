{
 "cells": [
  {
   "cell_type": "code",
   "execution_count": 26,
   "metadata": {
    "collapsed": false
   },
   "outputs": [],
   "source": [
    "import pandas as pd\n",
    "import numpy as np\n",
    "import itertools\n",
    "import seaborn as sns\n",
    "import cloveFunctions as clv\n",
    "from collections import Counter\n",
    "from scipy.stats import pearsonr\n",
    "# from IPython.display import display, HTML\n",
    "\n",
    "# HTML('<style>.output {flex-direction: row;}</style>')"
   ]
  },
  {
   "cell_type": "markdown",
   "metadata": {},
   "source": [
    "### toy example: count"
   ]
  },
  {
   "cell_type": "code",
   "execution_count": 342,
   "metadata": {
    "collapsed": false
   },
   "outputs": [],
   "source": [
    "# intersection of all expression vertices between cohort-level CLOvE pairs and the pairs in a sample (with that specific context)\n",
    "cohort = pd.DataFrame(np.random.randint(0,10,size=(16, 1)), columns=['score'])\n",
    "cohort['exp'] = ['a','b','c','d','a','b','c','d','a','b','c','d','a','b','c','d']\n",
    "cohort['cnv'] = ['A','A','A','A','B','B','B','B','C','C','C','C','D','D','D','D']\n",
    "\n",
    "cnv_s = pd.DataFrame(np.random.randint(0,2,size=(4, 4)), columns=['p1','p2','p3','p4'])\n",
    "exp_s = pd.DataFrame(np.random.rand(4, 4), columns=['p1','p2','p3','p4'])"
   ]
  },
  {
   "cell_type": "code",
   "execution_count": 343,
   "metadata": {
    "collapsed": false
   },
   "outputs": [
    {
     "data": {
      "text/html": [
       "<div>\n",
       "<table border=\"1\" class=\"dataframe\">\n",
       "  <thead>\n",
       "    <tr style=\"text-align: right;\">\n",
       "      <th></th>\n",
       "      <th>p1</th>\n",
       "      <th>p2</th>\n",
       "      <th>p3</th>\n",
       "      <th>p4</th>\n",
       "    </tr>\n",
       "  </thead>\n",
       "  <tbody>\n",
       "    <tr>\n",
       "      <th>0</th>\n",
       "      <td>0.903135</td>\n",
       "      <td>0.221591</td>\n",
       "      <td>0.727339</td>\n",
       "      <td>0.617464</td>\n",
       "    </tr>\n",
       "    <tr>\n",
       "      <th>1</th>\n",
       "      <td>0.207924</td>\n",
       "      <td>0.028553</td>\n",
       "      <td>0.991886</td>\n",
       "      <td>0.289566</td>\n",
       "    </tr>\n",
       "    <tr>\n",
       "      <th>2</th>\n",
       "      <td>0.874191</td>\n",
       "      <td>0.064179</td>\n",
       "      <td>0.047417</td>\n",
       "      <td>0.648652</td>\n",
       "    </tr>\n",
       "    <tr>\n",
       "      <th>3</th>\n",
       "      <td>0.336999</td>\n",
       "      <td>0.585830</td>\n",
       "      <td>0.146329</td>\n",
       "      <td>0.127086</td>\n",
       "    </tr>\n",
       "  </tbody>\n",
       "</table>\n",
       "</div>"
      ],
      "text/plain": [
       "         p1        p2        p3        p4\n",
       "0  0.903135  0.221591  0.727339  0.617464\n",
       "1  0.207924  0.028553  0.991886  0.289566\n",
       "2  0.874191  0.064179  0.047417  0.648652\n",
       "3  0.336999  0.585830  0.146329  0.127086"
      ]
     },
     "execution_count": 343,
     "metadata": {},
     "output_type": "execute_result"
    }
   ],
   "source": [
    "exp_s"
   ]
  },
  {
   "cell_type": "code",
   "execution_count": 352,
   "metadata": {
    "collapsed": false
   },
   "outputs": [],
   "source": [
    "exp_s = exp_s[exp_s > 0.4]"
   ]
  },
  {
   "cell_type": "code",
   "execution_count": 353,
   "metadata": {
    "collapsed": false
   },
   "outputs": [
    {
     "name": "stderr",
     "output_type": "stream",
     "text": [
      "C:\\Users\\test\\Anaconda3\\lib\\site-packages\\ipykernel\\__main__.py:8: SettingWithCopyWarning: \n",
      "A value is trying to be set on a copy of a slice from a DataFrame.\n",
      "Try using .loc[row_indexer,col_indexer] = value instead\n",
      "\n",
      "See the caveats in the documentation: http://pandas.pydata.org/pandas-docs/stable/indexing.html#indexing-view-versus-copy\n"
     ]
    }
   ],
   "source": [
    "cnv_s['genes'] = ['A','B','C','D']\n",
    "cnv_s.set_index(keys='genes', drop=True,  inplace=True)\n",
    "\n",
    "exp_s['genes'] = ['a','b','c','d']\n",
    "exp_s.set_index(keys='genes', drop=True,  inplace=True)\n",
    "\n",
    "hits_s = cohort[cohort['score'] > 4]  # models significance cutoff\n",
    "hits_s['pair'] = hits_s['exp'] + hits_s['cnv']"
   ]
  },
  {
   "cell_type": "code",
   "execution_count": 354,
   "metadata": {
    "collapsed": false
   },
   "outputs": [
    {
     "data": {
      "text/html": [
       "<div>\n",
       "<table border=\"1\" class=\"dataframe\">\n",
       "  <thead>\n",
       "    <tr style=\"text-align: right;\">\n",
       "      <th></th>\n",
       "      <th>score</th>\n",
       "      <th>exp</th>\n",
       "      <th>cnv</th>\n",
       "      <th>pair</th>\n",
       "    </tr>\n",
       "  </thead>\n",
       "  <tbody>\n",
       "    <tr>\n",
       "      <th>0</th>\n",
       "      <td>9</td>\n",
       "      <td>a</td>\n",
       "      <td>A</td>\n",
       "      <td>aA</td>\n",
       "    </tr>\n",
       "    <tr>\n",
       "      <th>1</th>\n",
       "      <td>8</td>\n",
       "      <td>b</td>\n",
       "      <td>A</td>\n",
       "      <td>bA</td>\n",
       "    </tr>\n",
       "    <tr>\n",
       "      <th>3</th>\n",
       "      <td>5</td>\n",
       "      <td>d</td>\n",
       "      <td>A</td>\n",
       "      <td>dA</td>\n",
       "    </tr>\n",
       "    <tr>\n",
       "      <th>4</th>\n",
       "      <td>9</td>\n",
       "      <td>a</td>\n",
       "      <td>B</td>\n",
       "      <td>aB</td>\n",
       "    </tr>\n",
       "    <tr>\n",
       "      <th>5</th>\n",
       "      <td>5</td>\n",
       "      <td>b</td>\n",
       "      <td>B</td>\n",
       "      <td>bB</td>\n",
       "    </tr>\n",
       "    <tr>\n",
       "      <th>6</th>\n",
       "      <td>7</td>\n",
       "      <td>c</td>\n",
       "      <td>B</td>\n",
       "      <td>cB</td>\n",
       "    </tr>\n",
       "    <tr>\n",
       "      <th>9</th>\n",
       "      <td>6</td>\n",
       "      <td>b</td>\n",
       "      <td>C</td>\n",
       "      <td>bC</td>\n",
       "    </tr>\n",
       "    <tr>\n",
       "      <th>10</th>\n",
       "      <td>6</td>\n",
       "      <td>c</td>\n",
       "      <td>C</td>\n",
       "      <td>cC</td>\n",
       "    </tr>\n",
       "    <tr>\n",
       "      <th>11</th>\n",
       "      <td>8</td>\n",
       "      <td>d</td>\n",
       "      <td>C</td>\n",
       "      <td>dC</td>\n",
       "    </tr>\n",
       "    <tr>\n",
       "      <th>13</th>\n",
       "      <td>5</td>\n",
       "      <td>b</td>\n",
       "      <td>D</td>\n",
       "      <td>bD</td>\n",
       "    </tr>\n",
       "    <tr>\n",
       "      <th>15</th>\n",
       "      <td>6</td>\n",
       "      <td>d</td>\n",
       "      <td>D</td>\n",
       "      <td>dD</td>\n",
       "    </tr>\n",
       "  </tbody>\n",
       "</table>\n",
       "</div>"
      ],
      "text/plain": [
       "    score exp cnv pair\n",
       "0       9   a   A   aA\n",
       "1       8   b   A   bA\n",
       "3       5   d   A   dA\n",
       "4       9   a   B   aB\n",
       "5       5   b   B   bB\n",
       "6       7   c   B   cB\n",
       "9       6   b   C   bC\n",
       "10      6   c   C   cC\n",
       "11      8   d   C   dC\n",
       "13      5   b   D   bD\n",
       "15      6   d   D   dD"
      ]
     },
     "metadata": {},
     "output_type": "display_data"
    },
    {
     "data": {
      "text/html": [
       "<div>\n",
       "<table border=\"1\" class=\"dataframe\">\n",
       "  <thead>\n",
       "    <tr style=\"text-align: right;\">\n",
       "      <th></th>\n",
       "      <th>p1</th>\n",
       "      <th>p2</th>\n",
       "      <th>p3</th>\n",
       "      <th>p4</th>\n",
       "    </tr>\n",
       "    <tr>\n",
       "      <th>genes</th>\n",
       "      <th></th>\n",
       "      <th></th>\n",
       "      <th></th>\n",
       "      <th></th>\n",
       "    </tr>\n",
       "  </thead>\n",
       "  <tbody>\n",
       "    <tr>\n",
       "      <th>A</th>\n",
       "      <td>1</td>\n",
       "      <td>0</td>\n",
       "      <td>0</td>\n",
       "      <td>1</td>\n",
       "    </tr>\n",
       "    <tr>\n",
       "      <th>B</th>\n",
       "      <td>1</td>\n",
       "      <td>1</td>\n",
       "      <td>0</td>\n",
       "      <td>1</td>\n",
       "    </tr>\n",
       "    <tr>\n",
       "      <th>C</th>\n",
       "      <td>0</td>\n",
       "      <td>1</td>\n",
       "      <td>0</td>\n",
       "      <td>0</td>\n",
       "    </tr>\n",
       "    <tr>\n",
       "      <th>D</th>\n",
       "      <td>0</td>\n",
       "      <td>0</td>\n",
       "      <td>1</td>\n",
       "      <td>0</td>\n",
       "    </tr>\n",
       "  </tbody>\n",
       "</table>\n",
       "</div>"
      ],
      "text/plain": [
       "       p1  p2  p3  p4\n",
       "genes                \n",
       "A       1   0   0   1\n",
       "B       1   1   0   1\n",
       "C       0   1   0   0\n",
       "D       0   0   1   0"
      ]
     },
     "metadata": {},
     "output_type": "display_data"
    },
    {
     "data": {
      "text/html": [
       "<div>\n",
       "<table border=\"1\" class=\"dataframe\">\n",
       "  <thead>\n",
       "    <tr style=\"text-align: right;\">\n",
       "      <th></th>\n",
       "      <th>p1</th>\n",
       "      <th>p2</th>\n",
       "      <th>p3</th>\n",
       "      <th>p4</th>\n",
       "    </tr>\n",
       "    <tr>\n",
       "      <th>genes</th>\n",
       "      <th></th>\n",
       "      <th></th>\n",
       "      <th></th>\n",
       "      <th></th>\n",
       "    </tr>\n",
       "  </thead>\n",
       "  <tbody>\n",
       "    <tr>\n",
       "      <th>a</th>\n",
       "      <td>0.903135</td>\n",
       "      <td>NaN</td>\n",
       "      <td>0.727339</td>\n",
       "      <td>0.617464</td>\n",
       "    </tr>\n",
       "    <tr>\n",
       "      <th>b</th>\n",
       "      <td>NaN</td>\n",
       "      <td>NaN</td>\n",
       "      <td>0.991886</td>\n",
       "      <td>NaN</td>\n",
       "    </tr>\n",
       "    <tr>\n",
       "      <th>c</th>\n",
       "      <td>0.874191</td>\n",
       "      <td>NaN</td>\n",
       "      <td>NaN</td>\n",
       "      <td>0.648652</td>\n",
       "    </tr>\n",
       "    <tr>\n",
       "      <th>d</th>\n",
       "      <td>NaN</td>\n",
       "      <td>0.58583</td>\n",
       "      <td>NaN</td>\n",
       "      <td>NaN</td>\n",
       "    </tr>\n",
       "  </tbody>\n",
       "</table>\n",
       "</div>"
      ],
      "text/plain": [
       "             p1       p2        p3        p4\n",
       "genes                                       \n",
       "a      0.903135      NaN  0.727339  0.617464\n",
       "b           NaN      NaN  0.991886       NaN\n",
       "c      0.874191      NaN       NaN  0.648652\n",
       "d           NaN  0.58583       NaN       NaN"
      ]
     },
     "metadata": {},
     "output_type": "display_data"
    }
   ],
   "source": [
    "display(hits_s)\n",
    "display(cnv_s)\n",
    "display(exp_s)"
   ]
  },
  {
   "cell_type": "code",
   "execution_count": 350,
   "metadata": {
    "collapsed": false
   },
   "outputs": [
    {
     "name": "stdout",
     "output_type": "stream",
     "text": [
      "p1\n",
      "['aA', 'aB', 'cA', 'cB', 'dA', 'dB']\n",
      "['d', 'a', 'a', 'c'] \n",
      "\n",
      "p2\n",
      "['dB', 'dC']\n",
      "['d'] \n",
      "\n",
      "p3\n",
      "['aD', 'bD']\n",
      "['b'] \n",
      "\n",
      "p4\n",
      "['aA', 'aB', 'cA', 'cB']\n",
      "['a', 'a', 'c'] \n",
      "\n"
     ]
    },
    {
     "data": {
      "text/html": [
       "<div>\n",
       "<table border=\"1\" class=\"dataframe\">\n",
       "  <thead>\n",
       "    <tr style=\"text-align: right;\">\n",
       "      <th></th>\n",
       "      <th>p1</th>\n",
       "      <th>p2</th>\n",
       "      <th>p3</th>\n",
       "      <th>p4</th>\n",
       "    </tr>\n",
       "    <tr>\n",
       "      <th>genes</th>\n",
       "      <th></th>\n",
       "      <th></th>\n",
       "      <th></th>\n",
       "      <th></th>\n",
       "    </tr>\n",
       "  </thead>\n",
       "  <tbody>\n",
       "    <tr>\n",
       "      <th>a</th>\n",
       "      <td>2</td>\n",
       "      <td>0</td>\n",
       "      <td>0</td>\n",
       "      <td>2</td>\n",
       "    </tr>\n",
       "    <tr>\n",
       "      <th>b</th>\n",
       "      <td>0</td>\n",
       "      <td>0</td>\n",
       "      <td>1</td>\n",
       "      <td>0</td>\n",
       "    </tr>\n",
       "    <tr>\n",
       "      <th>c</th>\n",
       "      <td>1</td>\n",
       "      <td>0</td>\n",
       "      <td>0</td>\n",
       "      <td>1</td>\n",
       "    </tr>\n",
       "    <tr>\n",
       "      <th>d</th>\n",
       "      <td>1</td>\n",
       "      <td>1</td>\n",
       "      <td>0</td>\n",
       "      <td>0</td>\n",
       "    </tr>\n",
       "  </tbody>\n",
       "</table>\n",
       "</div>"
      ],
      "text/plain": [
       "       p1  p2  p3  p4\n",
       "genes                \n",
       "a       2   0   0   2\n",
       "b       0   0   1   0\n",
       "c       1   0   0   1\n",
       "d       1   1   0   0"
      ]
     },
     "execution_count": 350,
     "metadata": {},
     "output_type": "execute_result"
    }
   ],
   "source": [
    "vulnerability_vector_count(exp_s, cnv_s, hits_s)"
   ]
  },
  {
   "cell_type": "code",
   "execution_count": 360,
   "metadata": {
    "collapsed": false
   },
   "outputs": [
    {
     "data": {
      "text/html": [
       "<div>\n",
       "<table border=\"1\" class=\"dataframe\">\n",
       "  <thead>\n",
       "    <tr style=\"text-align: right;\">\n",
       "      <th></th>\n",
       "      <th>p1</th>\n",
       "      <th>p2</th>\n",
       "      <th>p3</th>\n",
       "      <th>p4</th>\n",
       "    </tr>\n",
       "    <tr>\n",
       "      <th>genes</th>\n",
       "      <th></th>\n",
       "      <th></th>\n",
       "      <th></th>\n",
       "      <th></th>\n",
       "    </tr>\n",
       "  </thead>\n",
       "  <tbody>\n",
       "    <tr>\n",
       "      <th>a</th>\n",
       "      <td>2</td>\n",
       "      <td>0</td>\n",
       "      <td>0</td>\n",
       "      <td>2</td>\n",
       "    </tr>\n",
       "    <tr>\n",
       "      <th>b</th>\n",
       "      <td>0</td>\n",
       "      <td>0</td>\n",
       "      <td>1</td>\n",
       "      <td>0</td>\n",
       "    </tr>\n",
       "    <tr>\n",
       "      <th>c</th>\n",
       "      <td>1</td>\n",
       "      <td>0</td>\n",
       "      <td>0</td>\n",
       "      <td>1</td>\n",
       "    </tr>\n",
       "    <tr>\n",
       "      <th>d</th>\n",
       "      <td>0</td>\n",
       "      <td>1</td>\n",
       "      <td>0</td>\n",
       "      <td>0</td>\n",
       "    </tr>\n",
       "  </tbody>\n",
       "</table>\n",
       "</div>"
      ],
      "text/plain": [
       "       p1  p2  p3  p4\n",
       "genes                \n",
       "a       2   0   0   2\n",
       "b       0   0   1   0\n",
       "c       1   0   0   1\n",
       "d       0   1   0   0"
      ]
     },
     "execution_count": 360,
     "metadata": {},
     "output_type": "execute_result"
    }
   ],
   "source": [
    "vulnerability_vector_count(exp_s, cnv_s, hits_s)"
   ]
  },
  {
   "cell_type": "code",
   "execution_count": 363,
   "metadata": {
    "collapsed": false
   },
   "outputs": [],
   "source": [
    "def vulnerability_vector_count(exp, cnv, hits):\n",
    "    \"\"\"Counts meaningful clDEGs (copy-loss differential expression genes) from loss contexts\n",
    "    \n",
    "    :param exp: df, gene x sample microarray or RNAseq, nan where no expression counts exist\n",
    "    :param cnv: df, gene x sample calls from GISTIC, 0=WT 1=loss\n",
    "    :param hits: df, pair x calculations from clove output, cutoff to sig, with 'pair' col\n",
    "    \n",
    "    returns gene x sample df of counts of significant expression linkages\"\"\"\n",
    "    \n",
    "    pat_essential = pd.DataFrame(0, index=exp.index, columns=exp.columns)\n",
    "    \n",
    "    for col in exp.columns:\n",
    "        \n",
    "        g_exp = exp[col].dropna().index.tolist()  # non-NaN genes from exp matrix\n",
    "        g_cnv = cnv[cnv[col] == 1][col].index.tolist()  # genes with value 1 from cnv matrix\n",
    "        \n",
    "        df = hits.loc[(hits['exp'].isin(g_exp)) & (hits['cnv'].isin(g_cnv))]\n",
    "        df = pd.DataFrame(df['exp'].value_counts())\n",
    "        \n",
    "        if df.shape[0] != 0:\n",
    "            df.columns=[col]\n",
    "            pat_essential[col] = df\n",
    "            \n",
    "    pat_essential.replace(np.nan, 0, inplace=True)\n",
    "    return pat_essential.astype(np.int32)"
   ]
  },
  {
   "cell_type": "code",
   "execution_count": 317,
   "metadata": {
    "collapsed": false
   },
   "outputs": [],
   "source": [
    "def vulnerability_vector_count_himem(exp, cnv, hits):\n",
    "    \"\"\"Counts meaningful gene expression linkages from loss contexts\n",
    "    \n",
    "    :param exp: df, gene x sample microarray or RNAseq, nan where no expression counts exist\n",
    "    :param cnv: df, gene x sample calls from GISTIC, 0=WT 1=loss\n",
    "    :param hits: df, pair x calculations from clove output, cutoff to sig, with 'pair' col\n",
    "    \n",
    "    returns gene x sample df of counts of significant expression linkages\"\"\"\n",
    "    \n",
    "    pat_essential = pd.DataFrame(0, index=exp.index, columns=exp.columns)\n",
    "    for col in exp.columns:\n",
    "        g_exp = exp[col].dropna().index.tolist()  # non-NaN genes from exp matrix\n",
    "        g_cnv = cnv[cnv[col] == 1][col].index.tolist()  # genes with value 1 from cnv matrix\n",
    "        \n",
    "        # building all combinations of pairs from exp and cnv is not needed (Mem Err)\n",
    "        pairs_list = [''.join(pair) for pair in itertools.product(g_exp, g_cnv)]  # form column as joined pair\n",
    "        essential = [g[0] for g in set(hits['pair']).intersection(pairs_list)]\n",
    "        print(col)\n",
    "        print(pairs_list)\n",
    "        print(essential,'\\n')\n",
    "        \n",
    "        # try instead to pull from hits['pair']\n",
    "        df = pd.DataFrame.from_dict(dict(Counter(essential)), orient='index')\n",
    "        if df.shape[0] != 0:\n",
    "            df.columns=[col]\n",
    "            pat_essential[col] = df\n",
    "    pat_essential.replace(np.nan, 0, inplace=True)\n",
    "    return pat_essential.astype(np.int32)"
   ]
  },
  {
   "cell_type": "code",
   "execution_count": 281,
   "metadata": {
    "collapsed": true
   },
   "outputs": [],
   "source": [
    "def prepare_vv(exp, cnv, cloves, sig=0.01):\n",
    "    \"\"\"Prepare CLoVE computations df for vulnerability vector\n",
    "    \n",
    "    :param cloves: df, pair x calculations from clove output\n",
    "    :param exp: df, gene x sample microarray or RNAseq, nan where no expression counts exist\n",
    "    :param cnv: df, gene x sample calls from GISTIC, 0=WT 1=loss\n",
    "    :param sig: float, p-value threshold for signifiance, default=0.01\n",
    "    \n",
    "    returns cutoff'd pair x calculations df from clove output with 'pair' col\n",
    "    \"\"\"\n",
    "    \n",
    "    if 'pair' not in cloves.columns:\n",
    "        cloves['pair'] = cloves['exp'] + cloves['cnv']\n",
    "#         for df in [exp, cnv]:\n",
    "#             if df.index.dtype != 'object':\n",
    "#                 df.set_index(keys='gene_id', drop=True, inplace=True)\n",
    "    if exp.index.dtype != 'object':\n",
    "        exp.set_index(keys='gene_id', drop=True, inplace=True)\n",
    "    if cnv.index.dtype != 'object':\n",
    "        cnv.set_index(keys='gene_id', drop=True, inplace=True)\n",
    "    \n",
    "    return exp, cnv, cloves[cloves['np_p_w'] <= sig]\n"
   ]
  },
  {
   "cell_type": "code",
   "execution_count": 361,
   "metadata": {
    "collapsed": false
   },
   "outputs": [],
   "source": [
    "exp = pd.read_csv('brca_exp.tab.gz', sep='\\t', compression='gzip')\n",
    "cnv = pd.read_csv('brca_cnv_het.tab.gz', sep='\\t', compression='gzip')\n",
    "scores = pd.read_csv('brca_1M_clove.tab.gz', sep='\\t', compression='gzip')"
   ]
  },
  {
   "cell_type": "code",
   "execution_count": 364,
   "metadata": {
    "collapsed": false
   },
   "outputs": [],
   "source": [
    "exp, cnv, scores = prepare_vv(exp, cnv, scores, sig=0.001)\n",
    "counts = vulnerability_vector_count(exp, cnv, scores)\n",
    "# counts.to_csv('brca_het_clDEG_count.tab.gz', sep='\\t', compression='gzip')"
   ]
  },
  {
   "cell_type": "markdown",
   "metadata": {},
   "source": [
    "## Validate clDEG counts"
   ]
  },
  {
   "cell_type": "code",
   "execution_count": 30,
   "metadata": {
    "collapsed": false
   },
   "outputs": [],
   "source": [
    "demeter = pd.read_csv('data/breast_Achilles_ExpandedGeneZSolsCleaned.csv.gz')\n",
    "demeter.rename(columns={'Unnamed: 0':'gene'}, inplace=True)\n",
    "demeter.set_index('gene', inplace=True)\n",
    "counts = pd.read_csv('data/breast_het_clDEG_count.tab.gz', sep='\\t',  index_col=0)\n",
    "\n",
    "genes = demeter.index.intersection(counts.index)"
   ]
  },
  {
   "cell_type": "code",
   "execution_count": 17,
   "metadata": {
    "collapsed": false
   },
   "outputs": [],
   "source": [
    "nci60_imp = set(['BT483', 'HCC1500', 'ZR7530', 'CAMA1', 'T47D', 'HCC2218']).intersection(demeter.columns)\n",
    "nci60 = set(['BT549','HS578T','MCF7','MDAMB231','MDAMB468','T47D']).intersection(demeter.columns)"
   ]
  },
  {
   "cell_type": "code",
   "execution_count": 56,
   "metadata": {
    "collapsed": false
   },
   "outputs": [
    {
     "ename": "ValueError",
     "evalue": "No axis named 1 for object type <class 'pandas.core.series.Series'>",
     "output_type": "error",
     "traceback": [
      "\u001b[0;31m---------------------------------------------------------------------------\u001b[0m",
      "\u001b[0;31mValueError\u001b[0m                                Traceback (most recent call last)",
      "\u001b[0;32m<ipython-input-56-6926fc087461>\u001b[0m in \u001b[0;36m<module>\u001b[0;34m()\u001b[0m\n\u001b[1;32m      2\u001b[0m \u001b[0;32mfor\u001b[0m \u001b[0mcell\u001b[0m \u001b[0;32min\u001b[0m \u001b[0mnci60\u001b[0m\u001b[0;34m:\u001b[0m\u001b[0;34m\u001b[0m\u001b[0m\n\u001b[1;32m      3\u001b[0m     \u001b[0md\u001b[0m\u001b[0;34m=\u001b[0m\u001b[0mdemeter\u001b[0m\u001b[0;34m[\u001b[0m\u001b[0mdemeter\u001b[0m\u001b[0;34m.\u001b[0m\u001b[0msum\u001b[0m\u001b[0;34m(\u001b[0m\u001b[0maxis\u001b[0m\u001b[0;34m=\u001b[0m\u001b[0;36m1\u001b[0m\u001b[0;34m)\u001b[0m\u001b[0;34m>\u001b[0m\u001b[0;36m0\u001b[0m\u001b[0;34m]\u001b[0m\u001b[0;34m[\u001b[0m\u001b[0mcell\u001b[0m\u001b[0;34m]\u001b[0m\u001b[0;34m.\u001b[0m\u001b[0mdropna\u001b[0m\u001b[0;34m(\u001b[0m\u001b[0;34m)\u001b[0m\u001b[0;34m\u001b[0m\u001b[0m\n\u001b[0;32m----> 4\u001b[0;31m     \u001b[0md\u001b[0m\u001b[0;34m=\u001b[0m\u001b[0md\u001b[0m\u001b[0;34m.\u001b[0m\u001b[0mloc\u001b[0m\u001b[0;34m[\u001b[0m\u001b[0md\u001b[0m\u001b[0;34m.\u001b[0m\u001b[0msum\u001b[0m\u001b[0;34m(\u001b[0m\u001b[0maxis\u001b[0m\u001b[0;34m=\u001b[0m\u001b[0;36m1\u001b[0m\u001b[0;34m)\u001b[0m\u001b[0;34m.\u001b[0m\u001b[0msort_values\u001b[0m\u001b[0;34m(\u001b[0m\u001b[0mascending\u001b[0m\u001b[0;34m=\u001b[0m\u001b[0;32mFalse\u001b[0m\u001b[0;34m)\u001b[0m\u001b[0;34m.\u001b[0m\u001b[0mhead\u001b[0m\u001b[0;34m(\u001b[0m\u001b[0mn\u001b[0m\u001b[0;34m)\u001b[0m\u001b[0;34m.\u001b[0m\u001b[0mindex\u001b[0m\u001b[0;34m]\u001b[0m\u001b[0;34m\u001b[0m\u001b[0m\n\u001b[0m\u001b[1;32m      5\u001b[0m     \u001b[0mc\u001b[0m\u001b[0;34m=\u001b[0m\u001b[0mcounts\u001b[0m\u001b[0;34m[\u001b[0m\u001b[0mcounts\u001b[0m\u001b[0;34m.\u001b[0m\u001b[0msum\u001b[0m\u001b[0;34m(\u001b[0m\u001b[0maxis\u001b[0m\u001b[0;34m=\u001b[0m\u001b[0;36m1\u001b[0m\u001b[0;34m)\u001b[0m\u001b[0;34m>\u001b[0m\u001b[0;36m0\u001b[0m\u001b[0;34m]\u001b[0m\u001b[0;34m[\u001b[0m\u001b[0mlist\u001b[0m\u001b[0;34m(\u001b[0m\u001b[0mnci60\u001b[0m\u001b[0;34m)\u001b[0m\u001b[0;34m]\u001b[0m\u001b[0;34m.\u001b[0m\u001b[0mdropna\u001b[0m\u001b[0;34m(\u001b[0m\u001b[0;34m)\u001b[0m\u001b[0;34m\u001b[0m\u001b[0m\n\u001b[1;32m      6\u001b[0m     \u001b[0mc\u001b[0m\u001b[0;34m=\u001b[0m\u001b[0mc\u001b[0m\u001b[0;34m.\u001b[0m\u001b[0mloc\u001b[0m\u001b[0;34m[\u001b[0m\u001b[0mc\u001b[0m\u001b[0;34m.\u001b[0m\u001b[0msum\u001b[0m\u001b[0;34m(\u001b[0m\u001b[0maxis\u001b[0m\u001b[0;34m=\u001b[0m\u001b[0;36m1\u001b[0m\u001b[0;34m)\u001b[0m\u001b[0;34m.\u001b[0m\u001b[0msort_values\u001b[0m\u001b[0;34m(\u001b[0m\u001b[0mascending\u001b[0m\u001b[0;34m=\u001b[0m\u001b[0;32mFalse\u001b[0m\u001b[0;34m)\u001b[0m\u001b[0;34m.\u001b[0m\u001b[0mhead\u001b[0m\u001b[0;34m(\u001b[0m\u001b[0mn\u001b[0m\u001b[0;34m)\u001b[0m\u001b[0;34m.\u001b[0m\u001b[0mindex\u001b[0m\u001b[0;34m]\u001b[0m\u001b[0;34m\u001b[0m\u001b[0m\n",
      "\u001b[0;32m/home/tjm/anaconda3/lib/python3.4/site-packages/pandas/core/generic.py\u001b[0m in \u001b[0;36mstat_func\u001b[0;34m(self, axis, skipna, level, numeric_only, **kwargs)\u001b[0m\n\u001b[1;32m   5630\u001b[0m                                       skipna=skipna)\n\u001b[1;32m   5631\u001b[0m         return self._reduce(f, name, axis=axis, skipna=skipna,\n\u001b[0;32m-> 5632\u001b[0;31m                             numeric_only=numeric_only)\n\u001b[0m\u001b[1;32m   5633\u001b[0m \u001b[0;34m\u001b[0m\u001b[0m\n\u001b[1;32m   5634\u001b[0m     \u001b[0;32mreturn\u001b[0m \u001b[0mset_function_name\u001b[0m\u001b[0;34m(\u001b[0m\u001b[0mstat_func\u001b[0m\u001b[0;34m,\u001b[0m \u001b[0mname\u001b[0m\u001b[0;34m,\u001b[0m \u001b[0mcls\u001b[0m\u001b[0;34m)\u001b[0m\u001b[0;34m\u001b[0m\u001b[0m\n",
      "\u001b[0;32m/home/tjm/anaconda3/lib/python3.4/site-packages/pandas/core/series.py\u001b[0m in \u001b[0;36m_reduce\u001b[0;34m(self, op, name, axis, skipna, numeric_only, filter_type, **kwds)\u001b[0m\n\u001b[1;32m   2313\u001b[0m         \u001b[0;32mif\u001b[0m \u001b[0misinstance\u001b[0m\u001b[0;34m(\u001b[0m\u001b[0mdelegate\u001b[0m\u001b[0;34m,\u001b[0m \u001b[0mnp\u001b[0m\u001b[0;34m.\u001b[0m\u001b[0mndarray\u001b[0m\u001b[0;34m)\u001b[0m\u001b[0;34m:\u001b[0m\u001b[0;34m\u001b[0m\u001b[0m\n\u001b[1;32m   2314\u001b[0m             \u001b[0;31m# Validate that 'axis' is consistent with Series's single axis.\u001b[0m\u001b[0;34m\u001b[0m\u001b[0;34m\u001b[0m\u001b[0m\n\u001b[0;32m-> 2315\u001b[0;31m             \u001b[0mself\u001b[0m\u001b[0;34m.\u001b[0m\u001b[0m_get_axis_number\u001b[0m\u001b[0;34m(\u001b[0m\u001b[0maxis\u001b[0m\u001b[0;34m)\u001b[0m\u001b[0;34m\u001b[0m\u001b[0m\n\u001b[0m\u001b[1;32m   2316\u001b[0m             \u001b[0;32mif\u001b[0m \u001b[0mnumeric_only\u001b[0m\u001b[0;34m:\u001b[0m\u001b[0;34m\u001b[0m\u001b[0m\n\u001b[1;32m   2317\u001b[0m                 raise NotImplementedError('Series.{0} does not implement '\n",
      "\u001b[0;32m/home/tjm/anaconda3/lib/python3.4/site-packages/pandas/core/generic.py\u001b[0m in \u001b[0;36m_get_axis_number\u001b[0;34m(self, axis)\u001b[0m\n\u001b[1;32m    336\u001b[0m                 \u001b[0;32mpass\u001b[0m\u001b[0;34m\u001b[0m\u001b[0m\n\u001b[1;32m    337\u001b[0m         raise ValueError('No axis named {0} for object type {1}'\n\u001b[0;32m--> 338\u001b[0;31m                          .format(axis, type(self)))\n\u001b[0m\u001b[1;32m    339\u001b[0m \u001b[0;34m\u001b[0m\u001b[0m\n\u001b[1;32m    340\u001b[0m     \u001b[0;32mdef\u001b[0m \u001b[0m_get_axis_name\u001b[0m\u001b[0;34m(\u001b[0m\u001b[0mself\u001b[0m\u001b[0;34m,\u001b[0m \u001b[0maxis\u001b[0m\u001b[0;34m)\u001b[0m\u001b[0;34m:\u001b[0m\u001b[0;34m\u001b[0m\u001b[0m\n",
      "\u001b[0;31mValueError\u001b[0m: No axis named 1 for object type <class 'pandas.core.series.Series'>"
     ]
    }
   ],
   "source": [
    "n=10\n",
    "for cell in nci60:\n",
    "    d=demeter[demeter.sum(axis=1)>0][list(nci60)].dropna()\n",
    "    d=d.loc[d.sum(axis=1).sort_values(ascending=False).head(n).index]\n",
    "    c=counts[counts.sum(axis=1)>0][list(nci60)].dropna()\n",
    "    c=c.loc[c.sum(axis=1).sort_values(ascending=False).head(n).index]\n",
    "    corr = pearsonr(d.loc[genes][cell], c.loc[genes][cell])\n",
    "    print(cell, corr)"
   ]
  },
  {
   "cell_type": "code",
   "execution_count": 53,
   "metadata": {
    "collapsed": false
   },
   "outputs": [
    {
     "data": {
      "text/html": [
       "<div>\n",
       "<table border=\"1\" class=\"dataframe\">\n",
       "  <thead>\n",
       "    <tr style=\"text-align: right;\">\n",
       "      <th></th>\n",
       "      <th>MDAMB231</th>\n",
       "      <th>ZR7530</th>\n",
       "      <th>T47D</th>\n",
       "      <th>MCF7</th>\n",
       "      <th>HCC1500</th>\n",
       "      <th>MDAMB468</th>\n",
       "      <th>HS578T</th>\n",
       "      <th>HCC2218</th>\n",
       "    </tr>\n",
       "    <tr>\n",
       "      <th>gene</th>\n",
       "      <th></th>\n",
       "      <th></th>\n",
       "      <th></th>\n",
       "      <th></th>\n",
       "      <th></th>\n",
       "      <th></th>\n",
       "      <th></th>\n",
       "      <th></th>\n",
       "    </tr>\n",
       "  </thead>\n",
       "  <tbody>\n",
       "    <tr>\n",
       "      <th>RPS6KA1</th>\n",
       "      <td>0.538941</td>\n",
       "      <td>2.628421</td>\n",
       "      <td>-1.342581</td>\n",
       "      <td>0.255247</td>\n",
       "      <td>0.452589</td>\n",
       "      <td>1.501092</td>\n",
       "      <td>0.597961</td>\n",
       "      <td>1.950677</td>\n",
       "    </tr>\n",
       "    <tr>\n",
       "      <th>IGF1R</th>\n",
       "      <td>0.658170</td>\n",
       "      <td>1.509014</td>\n",
       "      <td>1.688452</td>\n",
       "      <td>0.246136</td>\n",
       "      <td>1.439695</td>\n",
       "      <td>2.102783</td>\n",
       "      <td>2.273903</td>\n",
       "      <td>0.312247</td>\n",
       "    </tr>\n",
       "    <tr>\n",
       "      <th>EXO1</th>\n",
       "      <td>0.847907</td>\n",
       "      <td>0.858206</td>\n",
       "      <td>0.478336</td>\n",
       "      <td>-0.080773</td>\n",
       "      <td>0.752840</td>\n",
       "      <td>-0.269995</td>\n",
       "      <td>0.450212</td>\n",
       "      <td>-0.870815</td>\n",
       "    </tr>\n",
       "    <tr>\n",
       "      <th>AFG3L1P</th>\n",
       "      <td>1.568431</td>\n",
       "      <td>1.823526</td>\n",
       "      <td>1.149346</td>\n",
       "      <td>-2.047261</td>\n",
       "      <td>-0.041836</td>\n",
       "      <td>-0.851801</td>\n",
       "      <td>-0.808625</td>\n",
       "      <td>-0.265004</td>\n",
       "    </tr>\n",
       "    <tr>\n",
       "      <th>TXNDC8</th>\n",
       "      <td>-0.088616</td>\n",
       "      <td>1.452767</td>\n",
       "      <td>-0.912010</td>\n",
       "      <td>1.034078</td>\n",
       "      <td>-0.007901</td>\n",
       "      <td>-0.828827</td>\n",
       "      <td>0.187076</td>\n",
       "      <td>1.658744</td>\n",
       "    </tr>\n",
       "    <tr>\n",
       "      <th>KRR1</th>\n",
       "      <td>-4.166449</td>\n",
       "      <td>3.028096</td>\n",
       "      <td>0.587266</td>\n",
       "      <td>0.452193</td>\n",
       "      <td>0.347699</td>\n",
       "      <td>-2.839877</td>\n",
       "      <td>0.146356</td>\n",
       "      <td>0.028216</td>\n",
       "    </tr>\n",
       "    <tr>\n",
       "      <th>FBXO2</th>\n",
       "      <td>-0.453315</td>\n",
       "      <td>-0.603044</td>\n",
       "      <td>0.603903</td>\n",
       "      <td>1.214704</td>\n",
       "      <td>1.646860</td>\n",
       "      <td>-0.242782</td>\n",
       "      <td>1.598535</td>\n",
       "      <td>0.061589</td>\n",
       "    </tr>\n",
       "    <tr>\n",
       "      <th>SNAP29</th>\n",
       "      <td>0.149604</td>\n",
       "      <td>-0.209826</td>\n",
       "      <td>-0.540855</td>\n",
       "      <td>0.015375</td>\n",
       "      <td>0.514382</td>\n",
       "      <td>-0.133060</td>\n",
       "      <td>0.529434</td>\n",
       "      <td>0.390320</td>\n",
       "    </tr>\n",
       "    <tr>\n",
       "      <th>CHRNA1</th>\n",
       "      <td>0.481109</td>\n",
       "      <td>0.180739</td>\n",
       "      <td>0.664112</td>\n",
       "      <td>0.509233</td>\n",
       "      <td>0.722736</td>\n",
       "      <td>0.489031</td>\n",
       "      <td>0.145643</td>\n",
       "      <td>-0.658103</td>\n",
       "    </tr>\n",
       "    <tr>\n",
       "      <th>ATP6V1F</th>\n",
       "      <td>-2.060333</td>\n",
       "      <td>-0.598291</td>\n",
       "      <td>0.307217</td>\n",
       "      <td>0.972285</td>\n",
       "      <td>1.244017</td>\n",
       "      <td>-0.759904</td>\n",
       "      <td>-0.951621</td>\n",
       "      <td>0.932278</td>\n",
       "    </tr>\n",
       "    <tr>\n",
       "      <th>MT1F</th>\n",
       "      <td>-0.899334</td>\n",
       "      <td>1.666270</td>\n",
       "      <td>-0.699695</td>\n",
       "      <td>-0.228839</td>\n",
       "      <td>0.065035</td>\n",
       "      <td>0.317159</td>\n",
       "      <td>0.015081</td>\n",
       "      <td>1.061014</td>\n",
       "    </tr>\n",
       "    <tr>\n",
       "      <th>HSP90AB1</th>\n",
       "      <td>-0.047738</td>\n",
       "      <td>0.696197</td>\n",
       "      <td>0.686690</td>\n",
       "      <td>0.331934</td>\n",
       "      <td>0.287530</td>\n",
       "      <td>0.175352</td>\n",
       "      <td>-0.227334</td>\n",
       "      <td>0.779380</td>\n",
       "    </tr>\n",
       "    <tr>\n",
       "      <th>ZNRF1</th>\n",
       "      <td>0.362791</td>\n",
       "      <td>0.607468</td>\n",
       "      <td>-0.214104</td>\n",
       "      <td>-1.203943</td>\n",
       "      <td>-1.947838</td>\n",
       "      <td>-0.298752</td>\n",
       "      <td>0.191077</td>\n",
       "      <td>2.086939</td>\n",
       "    </tr>\n",
       "    <tr>\n",
       "      <th>PTPRQ</th>\n",
       "      <td>0.184462</td>\n",
       "      <td>1.788272</td>\n",
       "      <td>0.236352</td>\n",
       "      <td>-1.249496</td>\n",
       "      <td>0.258495</td>\n",
       "      <td>0.238571</td>\n",
       "      <td>-0.846652</td>\n",
       "      <td>-0.152509</td>\n",
       "    </tr>\n",
       "    <tr>\n",
       "      <th>KLK1</th>\n",
       "      <td>-0.278432</td>\n",
       "      <td>1.708654</td>\n",
       "      <td>1.690036</td>\n",
       "      <td>-1.815933</td>\n",
       "      <td>-0.963900</td>\n",
       "      <td>1.080819</td>\n",
       "      <td>0.992091</td>\n",
       "      <td>0.704515</td>\n",
       "    </tr>\n",
       "    <tr>\n",
       "      <th>CAMK2B</th>\n",
       "      <td>0.263288</td>\n",
       "      <td>-0.010729</td>\n",
       "      <td>0.724716</td>\n",
       "      <td>-0.083071</td>\n",
       "      <td>0.124768</td>\n",
       "      <td>1.013877</td>\n",
       "      <td>-0.701279</td>\n",
       "      <td>0.244275</td>\n",
       "    </tr>\n",
       "    <tr>\n",
       "      <th>CAMKK1</th>\n",
       "      <td>0.735411</td>\n",
       "      <td>-0.297683</td>\n",
       "      <td>1.827487</td>\n",
       "      <td>2.084166</td>\n",
       "      <td>1.446033</td>\n",
       "      <td>-1.278016</td>\n",
       "      <td>0.165726</td>\n",
       "      <td>0.994863</td>\n",
       "    </tr>\n",
       "    <tr>\n",
       "      <th>RSC1A1</th>\n",
       "      <td>0.590039</td>\n",
       "      <td>0.883160</td>\n",
       "      <td>-0.362170</td>\n",
       "      <td>0.817010</td>\n",
       "      <td>1.020214</td>\n",
       "      <td>0.989714</td>\n",
       "      <td>-0.698903</td>\n",
       "      <td>0.736204</td>\n",
       "    </tr>\n",
       "    <tr>\n",
       "      <th>MCHR2</th>\n",
       "      <td>0.204664</td>\n",
       "      <td>-0.502828</td>\n",
       "      <td>0.963175</td>\n",
       "      <td>0.113796</td>\n",
       "      <td>0.078384</td>\n",
       "      <td>-0.645428</td>\n",
       "      <td>0.449420</td>\n",
       "      <td>-0.548381</td>\n",
       "    </tr>\n",
       "    <tr>\n",
       "      <th>SP7</th>\n",
       "      <td>0.127620</td>\n",
       "      <td>-0.516296</td>\n",
       "      <td>0.521116</td>\n",
       "      <td>0.358790</td>\n",
       "      <td>0.445063</td>\n",
       "      <td>0.078186</td>\n",
       "      <td>0.135344</td>\n",
       "      <td>-0.075861</td>\n",
       "    </tr>\n",
       "    <tr>\n",
       "      <th>NXF3</th>\n",
       "      <td>-0.463217</td>\n",
       "      <td>-0.694942</td>\n",
       "      <td>-1.502214</td>\n",
       "      <td>0.761555</td>\n",
       "      <td>0.267209</td>\n",
       "      <td>0.840381</td>\n",
       "      <td>-0.611362</td>\n",
       "      <td>-1.219787</td>\n",
       "    </tr>\n",
       "    <tr>\n",
       "      <th>SCG5</th>\n",
       "      <td>0.511609</td>\n",
       "      <td>0.419712</td>\n",
       "      <td>0.399906</td>\n",
       "      <td>-0.263459</td>\n",
       "      <td>-0.487776</td>\n",
       "      <td>-0.494510</td>\n",
       "      <td>1.381071</td>\n",
       "      <td>0.601130</td>\n",
       "    </tr>\n",
       "    <tr>\n",
       "      <th>DUSP3</th>\n",
       "      <td>0.347976</td>\n",
       "      <td>1.550210</td>\n",
       "      <td>0.282341</td>\n",
       "      <td>0.225380</td>\n",
       "      <td>-0.128504</td>\n",
       "      <td>0.401095</td>\n",
       "      <td>-0.381975</td>\n",
       "      <td>1.918196</td>\n",
       "    </tr>\n",
       "    <tr>\n",
       "      <th>WFDC12</th>\n",
       "      <td>0.618955</td>\n",
       "      <td>1.350174</td>\n",
       "      <td>0.051528</td>\n",
       "      <td>-1.387342</td>\n",
       "      <td>-0.399840</td>\n",
       "      <td>0.247760</td>\n",
       "      <td>1.625867</td>\n",
       "      <td>1.986723</td>\n",
       "    </tr>\n",
       "    <tr>\n",
       "      <th>MTCH1</th>\n",
       "      <td>-0.158965</td>\n",
       "      <td>0.634799</td>\n",
       "      <td>0.142593</td>\n",
       "      <td>1.087553</td>\n",
       "      <td>1.167964</td>\n",
       "      <td>-0.468763</td>\n",
       "      <td>0.457342</td>\n",
       "      <td>0.253544</td>\n",
       "    </tr>\n",
       "    <tr>\n",
       "      <th>C14orf166</th>\n",
       "      <td>-0.635129</td>\n",
       "      <td>-0.231493</td>\n",
       "      <td>0.313515</td>\n",
       "      <td>-0.429152</td>\n",
       "      <td>-0.406970</td>\n",
       "      <td>-0.872399</td>\n",
       "      <td>0.304721</td>\n",
       "      <td>-0.992816</td>\n",
       "    </tr>\n",
       "    <tr>\n",
       "      <th>CAMK2N1</th>\n",
       "      <td>-1.912980</td>\n",
       "      <td>1.341064</td>\n",
       "      <td>0.209694</td>\n",
       "      <td>1.028929</td>\n",
       "      <td>-0.652558</td>\n",
       "      <td>0.342589</td>\n",
       "      <td>0.473187</td>\n",
       "      <td>-0.681474</td>\n",
       "    </tr>\n",
       "    <tr>\n",
       "      <th>ANAPC10</th>\n",
       "      <td>-0.247615</td>\n",
       "      <td>-0.159916</td>\n",
       "      <td>-0.620473</td>\n",
       "      <td>-0.065008</td>\n",
       "      <td>-0.116225</td>\n",
       "      <td>-0.074119</td>\n",
       "      <td>-0.194061</td>\n",
       "      <td>-0.144428</td>\n",
       "    </tr>\n",
       "    <tr>\n",
       "      <th>C3AR1</th>\n",
       "      <td>0.125244</td>\n",
       "      <td>1.659140</td>\n",
       "      <td>-0.807437</td>\n",
       "      <td>-0.578485</td>\n",
       "      <td>0.148812</td>\n",
       "      <td>-0.037585</td>\n",
       "      <td>-0.901711</td>\n",
       "      <td>-0.257003</td>\n",
       "    </tr>\n",
       "    <tr>\n",
       "      <th>HGD</th>\n",
       "      <td>-1.139377</td>\n",
       "      <td>0.745314</td>\n",
       "      <td>0.629650</td>\n",
       "      <td>0.897817</td>\n",
       "      <td>-1.818310</td>\n",
       "      <td>-0.790800</td>\n",
       "      <td>1.216289</td>\n",
       "      <td>0.008066</td>\n",
       "    </tr>\n",
       "    <tr>\n",
       "      <th>...</th>\n",
       "      <td>...</td>\n",
       "      <td>...</td>\n",
       "      <td>...</td>\n",
       "      <td>...</td>\n",
       "      <td>...</td>\n",
       "      <td>...</td>\n",
       "      <td>...</td>\n",
       "      <td>...</td>\n",
       "    </tr>\n",
       "    <tr>\n",
       "      <th>PLS3</th>\n",
       "      <td>0.518343</td>\n",
       "      <td>-0.909633</td>\n",
       "      <td>0.794828</td>\n",
       "      <td>-1.113630</td>\n",
       "      <td>0.445855</td>\n",
       "      <td>-0.019733</td>\n",
       "      <td>0.501707</td>\n",
       "      <td>0.304523</td>\n",
       "    </tr>\n",
       "    <tr>\n",
       "      <th>MSH6</th>\n",
       "      <td>0.212942</td>\n",
       "      <td>-0.899731</td>\n",
       "      <td>0.094387</td>\n",
       "      <td>0.275765</td>\n",
       "      <td>0.211239</td>\n",
       "      <td>0.198841</td>\n",
       "      <td>-0.802684</td>\n",
       "      <td>0.333320</td>\n",
       "    </tr>\n",
       "    <tr>\n",
       "      <th>CERS5</th>\n",
       "      <td>0.565876</td>\n",
       "      <td>1.255504</td>\n",
       "      <td>0.494973</td>\n",
       "      <td>0.845530</td>\n",
       "      <td>2.239045</td>\n",
       "      <td>0.895044</td>\n",
       "      <td>-0.226423</td>\n",
       "      <td>0.985753</td>\n",
       "    </tr>\n",
       "    <tr>\n",
       "      <th>HSPA14</th>\n",
       "      <td>0.268358</td>\n",
       "      <td>-0.172671</td>\n",
       "      <td>-0.583635</td>\n",
       "      <td>-0.281205</td>\n",
       "      <td>0.356255</td>\n",
       "      <td>0.126907</td>\n",
       "      <td>0.452985</td>\n",
       "      <td>0.413770</td>\n",
       "    </tr>\n",
       "    <tr>\n",
       "      <th>ZNF256</th>\n",
       "      <td>-0.964693</td>\n",
       "      <td>-0.216995</td>\n",
       "      <td>0.071808</td>\n",
       "      <td>1.403253</td>\n",
       "      <td>-0.346642</td>\n",
       "      <td>0.936635</td>\n",
       "      <td>0.062381</td>\n",
       "      <td>1.993457</td>\n",
       "    </tr>\n",
       "    <tr>\n",
       "      <th>CCAR1</th>\n",
       "      <td>-0.140625</td>\n",
       "      <td>3.433713</td>\n",
       "      <td>0.130710</td>\n",
       "      <td>0.820179</td>\n",
       "      <td>0.187274</td>\n",
       "      <td>-0.290632</td>\n",
       "      <td>0.799977</td>\n",
       "      <td>2.830833</td>\n",
       "    </tr>\n",
       "    <tr>\n",
       "      <th>ABCA3</th>\n",
       "      <td>0.223954</td>\n",
       "      <td>0.437933</td>\n",
       "      <td>0.707288</td>\n",
       "      <td>1.205198</td>\n",
       "      <td>1.570015</td>\n",
       "      <td>0.470810</td>\n",
       "      <td>0.333796</td>\n",
       "      <td>0.149486</td>\n",
       "    </tr>\n",
       "    <tr>\n",
       "      <th>SCN2A</th>\n",
       "      <td>-0.448561</td>\n",
       "      <td>-0.052887</td>\n",
       "      <td>-1.223352</td>\n",
       "      <td>0.799977</td>\n",
       "      <td>0.026351</td>\n",
       "      <td>0.607864</td>\n",
       "      <td>-0.177543</td>\n",
       "      <td>0.359780</td>\n",
       "    </tr>\n",
       "    <tr>\n",
       "      <th>ERI1</th>\n",
       "      <td>-0.667610</td>\n",
       "      <td>-0.002471</td>\n",
       "      <td>-0.204399</td>\n",
       "      <td>0.118074</td>\n",
       "      <td>-0.087111</td>\n",
       "      <td>-0.105807</td>\n",
       "      <td>0.220072</td>\n",
       "      <td>1.209951</td>\n",
       "    </tr>\n",
       "    <tr>\n",
       "      <th>TRPC1</th>\n",
       "      <td>-1.459434</td>\n",
       "      <td>0.609448</td>\n",
       "      <td>-0.107748</td>\n",
       "      <td>0.384735</td>\n",
       "      <td>0.321476</td>\n",
       "      <td>-0.340899</td>\n",
       "      <td>-0.765449</td>\n",
       "      <td>-0.640675</td>\n",
       "    </tr>\n",
       "    <tr>\n",
       "      <th>HERC1</th>\n",
       "      <td>-0.417665</td>\n",
       "      <td>1.008727</td>\n",
       "      <td>-0.397463</td>\n",
       "      <td>0.608656</td>\n",
       "      <td>1.343836</td>\n",
       "      <td>-1.020148</td>\n",
       "      <td>0.614598</td>\n",
       "      <td>0.573006</td>\n",
       "    </tr>\n",
       "    <tr>\n",
       "      <th>CD2BP2</th>\n",
       "      <td>0.270814</td>\n",
       "      <td>-0.382332</td>\n",
       "      <td>-0.366883</td>\n",
       "      <td>2.155070</td>\n",
       "      <td>-0.161936</td>\n",
       "      <td>1.033286</td>\n",
       "      <td>-0.265955</td>\n",
       "      <td>0.418920</td>\n",
       "    </tr>\n",
       "    <tr>\n",
       "      <th>ABHD17B</th>\n",
       "      <td>-0.439451</td>\n",
       "      <td>0.628066</td>\n",
       "      <td>0.252831</td>\n",
       "      <td>0.515570</td>\n",
       "      <td>0.374912</td>\n",
       "      <td>0.502499</td>\n",
       "      <td>-0.443016</td>\n",
       "      <td>0.619351</td>\n",
       "    </tr>\n",
       "    <tr>\n",
       "      <th>KIF1B</th>\n",
       "      <td>0.105478</td>\n",
       "      <td>-0.208677</td>\n",
       "      <td>-0.038591</td>\n",
       "      <td>-0.249754</td>\n",
       "      <td>0.383903</td>\n",
       "      <td>-0.182771</td>\n",
       "      <td>0.111023</td>\n",
       "      <td>0.346907</td>\n",
       "    </tr>\n",
       "    <tr>\n",
       "      <th>ZNF790</th>\n",
       "      <td>1.105378</td>\n",
       "      <td>0.032384</td>\n",
       "      <td>0.473187</td>\n",
       "      <td>-0.818132</td>\n",
       "      <td>0.502895</td>\n",
       "      <td>0.131106</td>\n",
       "      <td>-0.197111</td>\n",
       "      <td>-0.743267</td>\n",
       "    </tr>\n",
       "    <tr>\n",
       "      <th>RNASE9</th>\n",
       "      <td>-0.108026</td>\n",
       "      <td>-0.340978</td>\n",
       "      <td>-0.210539</td>\n",
       "      <td>-0.180672</td>\n",
       "      <td>0.456154</td>\n",
       "      <td>-0.681474</td>\n",
       "      <td>0.588059</td>\n",
       "      <td>-0.138051</td>\n",
       "    </tr>\n",
       "    <tr>\n",
       "      <th>NRIP1</th>\n",
       "      <td>0.325398</td>\n",
       "      <td>0.016694</td>\n",
       "      <td>-0.145498</td>\n",
       "      <td>0.339975</td>\n",
       "      <td>-0.287345</td>\n",
       "      <td>-0.114126</td>\n",
       "      <td>-0.408554</td>\n",
       "      <td>-0.150607</td>\n",
       "    </tr>\n",
       "    <tr>\n",
       "      <th>TAS2R30</th>\n",
       "      <td>0.034804</td>\n",
       "      <td>-0.753962</td>\n",
       "      <td>-1.018960</td>\n",
       "      <td>3.348945</td>\n",
       "      <td>-1.186910</td>\n",
       "      <td>2.572173</td>\n",
       "      <td>1.973651</td>\n",
       "      <td>3.842894</td>\n",
       "    </tr>\n",
       "    <tr>\n",
       "      <th>ATP6V1B1</th>\n",
       "      <td>-0.525803</td>\n",
       "      <td>1.787479</td>\n",
       "      <td>1.289965</td>\n",
       "      <td>0.899797</td>\n",
       "      <td>1.311751</td>\n",
       "      <td>0.199752</td>\n",
       "      <td>-0.079387</td>\n",
       "      <td>0.171351</td>\n",
       "    </tr>\n",
       "    <tr>\n",
       "      <th>IRX4</th>\n",
       "      <td>-0.188792</td>\n",
       "      <td>0.278855</td>\n",
       "      <td>0.123461</td>\n",
       "      <td>0.020504</td>\n",
       "      <td>-0.418457</td>\n",
       "      <td>0.952876</td>\n",
       "      <td>-0.681474</td>\n",
       "      <td>1.195691</td>\n",
       "    </tr>\n",
       "    <tr>\n",
       "      <th>CYP2B7P</th>\n",
       "      <td>-0.782878</td>\n",
       "      <td>-0.125573</td>\n",
       "      <td>1.040416</td>\n",
       "      <td>-1.139377</td>\n",
       "      <td>0.936635</td>\n",
       "      <td>0.605091</td>\n",
       "      <td>0.019918</td>\n",
       "      <td>-0.744455</td>\n",
       "    </tr>\n",
       "    <tr>\n",
       "      <th>SRPRB</th>\n",
       "      <td>1.052696</td>\n",
       "      <td>-0.248011</td>\n",
       "      <td>-0.669987</td>\n",
       "      <td>0.780964</td>\n",
       "      <td>0.329121</td>\n",
       "      <td>-0.360189</td>\n",
       "      <td>0.477544</td>\n",
       "      <td>-0.519069</td>\n",
       "    </tr>\n",
       "    <tr>\n",
       "      <th>ATF5</th>\n",
       "      <td>-0.020212</td>\n",
       "      <td>3.176637</td>\n",
       "      <td>0.362474</td>\n",
       "      <td>2.377287</td>\n",
       "      <td>0.130551</td>\n",
       "      <td>0.917226</td>\n",
       "      <td>-0.467971</td>\n",
       "      <td>0.008977</td>\n",
       "    </tr>\n",
       "    <tr>\n",
       "      <th>NOXO1</th>\n",
       "      <td>0.058182</td>\n",
       "      <td>0.661735</td>\n",
       "      <td>-0.706825</td>\n",
       "      <td>0.729866</td>\n",
       "      <td>0.827705</td>\n",
       "      <td>-0.767826</td>\n",
       "      <td>1.998606</td>\n",
       "      <td>-0.360189</td>\n",
       "    </tr>\n",
       "    <tr>\n",
       "      <th>NAPSB</th>\n",
       "      <td>-0.858535</td>\n",
       "      <td>-0.254230</td>\n",
       "      <td>-0.195249</td>\n",
       "      <td>0.275884</td>\n",
       "      <td>-1.045103</td>\n",
       "      <td>0.713229</td>\n",
       "      <td>1.888488</td>\n",
       "      <td>0.511609</td>\n",
       "    </tr>\n",
       "    <tr>\n",
       "      <th>SUGP1</th>\n",
       "      <td>-0.930231</td>\n",
       "      <td>0.551220</td>\n",
       "      <td>0.874842</td>\n",
       "      <td>0.880388</td>\n",
       "      <td>1.358096</td>\n",
       "      <td>0.613806</td>\n",
       "      <td>3.056616</td>\n",
       "      <td>-0.018473</td>\n",
       "    </tr>\n",
       "    <tr>\n",
       "      <th>PAPSS1</th>\n",
       "      <td>0.160458</td>\n",
       "      <td>-0.130168</td>\n",
       "      <td>0.406640</td>\n",
       "      <td>-0.072891</td>\n",
       "      <td>-0.297683</td>\n",
       "      <td>0.232946</td>\n",
       "      <td>-0.550362</td>\n",
       "      <td>1.361265</td>\n",
       "    </tr>\n",
       "    <tr>\n",
       "      <th>TFF3</th>\n",
       "      <td>0.108250</td>\n",
       "      <td>-0.912802</td>\n",
       "      <td>1.291154</td>\n",
       "      <td>0.458927</td>\n",
       "      <td>0.431595</td>\n",
       "      <td>0.810276</td>\n",
       "      <td>1.009916</td>\n",
       "      <td>-0.278789</td>\n",
       "    </tr>\n",
       "    <tr>\n",
       "      <th>HOXA7</th>\n",
       "      <td>-0.731384</td>\n",
       "      <td>-1.002323</td>\n",
       "      <td>-0.710390</td>\n",
       "      <td>-2.006858</td>\n",
       "      <td>-1.630950</td>\n",
       "      <td>0.936635</td>\n",
       "      <td>0.818991</td>\n",
       "      <td>-1.058175</td>\n",
       "    </tr>\n",
       "    <tr>\n",
       "      <th>DFFA</th>\n",
       "      <td>-0.015245</td>\n",
       "      <td>0.041149</td>\n",
       "      <td>-0.118245</td>\n",
       "      <td>0.451797</td>\n",
       "      <td>-0.337967</td>\n",
       "      <td>-0.197705</td>\n",
       "      <td>0.431991</td>\n",
       "      <td>0.293749</td>\n",
       "    </tr>\n",
       "  </tbody>\n",
       "</table>\n",
       "<p>5696 rows × 8 columns</p>\n",
       "</div>"
      ],
      "text/plain": [
       "           MDAMB231    ZR7530      T47D      MCF7   HCC1500  MDAMB468  \\\n",
       "gene                                                                    \n",
       "RPS6KA1    0.538941  2.628421 -1.342581  0.255247  0.452589  1.501092   \n",
       "IGF1R      0.658170  1.509014  1.688452  0.246136  1.439695  2.102783   \n",
       "EXO1       0.847907  0.858206  0.478336 -0.080773  0.752840 -0.269995   \n",
       "AFG3L1P    1.568431  1.823526  1.149346 -2.047261 -0.041836 -0.851801   \n",
       "TXNDC8    -0.088616  1.452767 -0.912010  1.034078 -0.007901 -0.828827   \n",
       "KRR1      -4.166449  3.028096  0.587266  0.452193  0.347699 -2.839877   \n",
       "FBXO2     -0.453315 -0.603044  0.603903  1.214704  1.646860 -0.242782   \n",
       "SNAP29     0.149604 -0.209826 -0.540855  0.015375  0.514382 -0.133060   \n",
       "CHRNA1     0.481109  0.180739  0.664112  0.509233  0.722736  0.489031   \n",
       "ATP6V1F   -2.060333 -0.598291  0.307217  0.972285  1.244017 -0.759904   \n",
       "MT1F      -0.899334  1.666270 -0.699695 -0.228839  0.065035  0.317159   \n",
       "HSP90AB1  -0.047738  0.696197  0.686690  0.331934  0.287530  0.175352   \n",
       "ZNRF1      0.362791  0.607468 -0.214104 -1.203943 -1.947838 -0.298752   \n",
       "PTPRQ      0.184462  1.788272  0.236352 -1.249496  0.258495  0.238571   \n",
       "KLK1      -0.278432  1.708654  1.690036 -1.815933 -0.963900  1.080819   \n",
       "CAMK2B     0.263288 -0.010729  0.724716 -0.083071  0.124768  1.013877   \n",
       "CAMKK1     0.735411 -0.297683  1.827487  2.084166  1.446033 -1.278016   \n",
       "RSC1A1     0.590039  0.883160 -0.362170  0.817010  1.020214  0.989714   \n",
       "MCHR2      0.204664 -0.502828  0.963175  0.113796  0.078384 -0.645428   \n",
       "SP7        0.127620 -0.516296  0.521116  0.358790  0.445063  0.078186   \n",
       "NXF3      -0.463217 -0.694942 -1.502214  0.761555  0.267209  0.840381   \n",
       "SCG5       0.511609  0.419712  0.399906 -0.263459 -0.487776 -0.494510   \n",
       "DUSP3      0.347976  1.550210  0.282341  0.225380 -0.128504  0.401095   \n",
       "WFDC12     0.618955  1.350174  0.051528 -1.387342 -0.399840  0.247760   \n",
       "MTCH1     -0.158965  0.634799  0.142593  1.087553  1.167964 -0.468763   \n",
       "C14orf166 -0.635129 -0.231493  0.313515 -0.429152 -0.406970 -0.872399   \n",
       "CAMK2N1   -1.912980  1.341064  0.209694  1.028929 -0.652558  0.342589   \n",
       "ANAPC10   -0.247615 -0.159916 -0.620473 -0.065008 -0.116225 -0.074119   \n",
       "C3AR1      0.125244  1.659140 -0.807437 -0.578485  0.148812 -0.037585   \n",
       "HGD       -1.139377  0.745314  0.629650  0.897817 -1.818310 -0.790800   \n",
       "...             ...       ...       ...       ...       ...       ...   \n",
       "PLS3       0.518343 -0.909633  0.794828 -1.113630  0.445855 -0.019733   \n",
       "MSH6       0.212942 -0.899731  0.094387  0.275765  0.211239  0.198841   \n",
       "CERS5      0.565876  1.255504  0.494973  0.845530  2.239045  0.895044   \n",
       "HSPA14     0.268358 -0.172671 -0.583635 -0.281205  0.356255  0.126907   \n",
       "ZNF256    -0.964693 -0.216995  0.071808  1.403253 -0.346642  0.936635   \n",
       "CCAR1     -0.140625  3.433713  0.130710  0.820179  0.187274 -0.290632   \n",
       "ABCA3      0.223954  0.437933  0.707288  1.205198  1.570015  0.470810   \n",
       "SCN2A     -0.448561 -0.052887 -1.223352  0.799977  0.026351  0.607864   \n",
       "ERI1      -0.667610 -0.002471 -0.204399  0.118074 -0.087111 -0.105807   \n",
       "TRPC1     -1.459434  0.609448 -0.107748  0.384735  0.321476 -0.340899   \n",
       "HERC1     -0.417665  1.008727 -0.397463  0.608656  1.343836 -1.020148   \n",
       "CD2BP2     0.270814 -0.382332 -0.366883  2.155070 -0.161936  1.033286   \n",
       "ABHD17B   -0.439451  0.628066  0.252831  0.515570  0.374912  0.502499   \n",
       "KIF1B      0.105478 -0.208677 -0.038591 -0.249754  0.383903 -0.182771   \n",
       "ZNF790     1.105378  0.032384  0.473187 -0.818132  0.502895  0.131106   \n",
       "RNASE9    -0.108026 -0.340978 -0.210539 -0.180672  0.456154 -0.681474   \n",
       "NRIP1      0.325398  0.016694 -0.145498  0.339975 -0.287345 -0.114126   \n",
       "TAS2R30    0.034804 -0.753962 -1.018960  3.348945 -1.186910  2.572173   \n",
       "ATP6V1B1  -0.525803  1.787479  1.289965  0.899797  1.311751  0.199752   \n",
       "IRX4      -0.188792  0.278855  0.123461  0.020504 -0.418457  0.952876   \n",
       "CYP2B7P   -0.782878 -0.125573  1.040416 -1.139377  0.936635  0.605091   \n",
       "SRPRB      1.052696 -0.248011 -0.669987  0.780964  0.329121 -0.360189   \n",
       "ATF5      -0.020212  3.176637  0.362474  2.377287  0.130551  0.917226   \n",
       "NOXO1      0.058182  0.661735 -0.706825  0.729866  0.827705 -0.767826   \n",
       "NAPSB     -0.858535 -0.254230 -0.195249  0.275884 -1.045103  0.713229   \n",
       "SUGP1     -0.930231  0.551220  0.874842  0.880388  1.358096  0.613806   \n",
       "PAPSS1     0.160458 -0.130168  0.406640 -0.072891 -0.297683  0.232946   \n",
       "TFF3       0.108250 -0.912802  1.291154  0.458927  0.431595  0.810276   \n",
       "HOXA7     -0.731384 -1.002323 -0.710390 -2.006858 -1.630950  0.936635   \n",
       "DFFA      -0.015245  0.041149 -0.118245  0.451797 -0.337967 -0.197705   \n",
       "\n",
       "             HS578T   HCC2218  \n",
       "gene                           \n",
       "RPS6KA1    0.597961  1.950677  \n",
       "IGF1R      2.273903  0.312247  \n",
       "EXO1       0.450212 -0.870815  \n",
       "AFG3L1P   -0.808625 -0.265004  \n",
       "TXNDC8     0.187076  1.658744  \n",
       "KRR1       0.146356  0.028216  \n",
       "FBXO2      1.598535  0.061589  \n",
       "SNAP29     0.529434  0.390320  \n",
       "CHRNA1     0.145643 -0.658103  \n",
       "ATP6V1F   -0.951621  0.932278  \n",
       "MT1F       0.015081  1.061014  \n",
       "HSP90AB1  -0.227334  0.779380  \n",
       "ZNRF1      0.191077  2.086939  \n",
       "PTPRQ     -0.846652 -0.152509  \n",
       "KLK1       0.992091  0.704515  \n",
       "CAMK2B    -0.701279  0.244275  \n",
       "CAMKK1     0.165726  0.994863  \n",
       "RSC1A1    -0.698903  0.736204  \n",
       "MCHR2      0.449420 -0.548381  \n",
       "SP7        0.135344 -0.075861  \n",
       "NXF3      -0.611362 -1.219787  \n",
       "SCG5       1.381071  0.601130  \n",
       "DUSP3     -0.381975  1.918196  \n",
       "WFDC12     1.625867  1.986723  \n",
       "MTCH1      0.457342  0.253544  \n",
       "C14orf166  0.304721 -0.992816  \n",
       "CAMK2N1    0.473187 -0.681474  \n",
       "ANAPC10   -0.194061 -0.144428  \n",
       "C3AR1     -0.901711 -0.257003  \n",
       "HGD        1.216289  0.008066  \n",
       "...             ...       ...  \n",
       "PLS3       0.501707  0.304523  \n",
       "MSH6      -0.802684  0.333320  \n",
       "CERS5     -0.226423  0.985753  \n",
       "HSPA14     0.452985  0.413770  \n",
       "ZNF256     0.062381  1.993457  \n",
       "CCAR1      0.799977  2.830833  \n",
       "ABCA3      0.333796  0.149486  \n",
       "SCN2A     -0.177543  0.359780  \n",
       "ERI1       0.220072  1.209951  \n",
       "TRPC1     -0.765449 -0.640675  \n",
       "HERC1      0.614598  0.573006  \n",
       "CD2BP2    -0.265955  0.418920  \n",
       "ABHD17B   -0.443016  0.619351  \n",
       "KIF1B      0.111023  0.346907  \n",
       "ZNF790    -0.197111 -0.743267  \n",
       "RNASE9     0.588059 -0.138051  \n",
       "NRIP1     -0.408554 -0.150607  \n",
       "TAS2R30    1.973651  3.842894  \n",
       "ATP6V1B1  -0.079387  0.171351  \n",
       "IRX4      -0.681474  1.195691  \n",
       "CYP2B7P    0.019918 -0.744455  \n",
       "SRPRB      0.477544 -0.519069  \n",
       "ATF5      -0.467971  0.008977  \n",
       "NOXO1      1.998606 -0.360189  \n",
       "NAPSB      1.888488  0.511609  \n",
       "SUGP1      3.056616 -0.018473  \n",
       "PAPSS1    -0.550362  1.361265  \n",
       "TFF3       1.009916 -0.278789  \n",
       "HOXA7      0.818991 -1.058175  \n",
       "DFFA       0.431991  0.293749  \n",
       "\n",
       "[5696 rows x 8 columns]"
      ]
     },
     "execution_count": 53,
     "metadata": {},
     "output_type": "execute_result"
    }
   ],
   "source": [
    "demeter[demeter.sum(axis=1)>0][list(nci60)].dropna()"
   ]
  },
  {
   "cell_type": "code",
   "execution_count": 35,
   "metadata": {
    "collapsed": false
   },
   "outputs": [
    {
     "name": "stdout",
     "output_type": "stream",
     "text": [
      "Using matplotlib backend: Qt5Agg\n"
     ]
    },
    {
     "data": {
      "text/plain": [
       "<seaborn.axisgrid.JointGrid at 0x7f420a5b5fd0>"
      ]
     },
     "execution_count": 35,
     "metadata": {},
     "output_type": "execute_result"
    }
   ],
   "source": [
    "%matplotlib\n",
    "sns.jointplot(demeter.loc[genes][cell], counts.loc[genes][cell])"
   ]
  },
  {
   "cell_type": "markdown",
   "metadata": {},
   "source": [
    "tcga v demeter cldegs"
   ]
  },
  {
   "cell_type": "code",
   "execution_count": 2,
   "metadata": {
    "collapsed": false
   },
   "outputs": [],
   "source": [
    "\n",
    "counts = pd.read_csv('data/brca_het_clDEG_count.tab.gz', sep='\\t', compression='gzip', index_col=0)"
   ]
  },
  {
   "cell_type": "code",
   "execution_count": 7,
   "metadata": {
    "collapsed": true
   },
   "outputs": [],
   "source": [
    "demeter = pd.read_csv('data/Achilles_ExpandedGeneZSolsCleaned.csv')\n",
    "demeter.rename(columns={'Unnamed: 0':'gene'}, inplace=True)\n",
    "demeter.set_index('gene', inplace=True)"
   ]
  },
  {
   "cell_type": "code",
   "execution_count": 10,
   "metadata": {
    "collapsed": false
   },
   "outputs": [
    {
     "name": "stderr",
     "output_type": "stream",
     "text": [
      "/home/tjm/anaconda3/lib/python3.4/site-packages/ipykernel/__main__.py:2: SettingWithCopyWarning: \n",
      "A value is trying to be set on a copy of a slice from a DataFrame.\n",
      "Try using .loc[row_indexer,col_indexer] = value instead\n",
      "\n",
      "See the caveats in the documentation: http://pandas.pydata.org/pandas-docs/stable/indexing.html#indexing-view-versus-copy\n",
      "  from ipykernel import kernelapp as app\n"
     ]
    }
   ],
   "source": [
    "demeter_brca = demeter[[col for col in demeter.columns if 'BREAST' in col]]\n",
    "demeter_brca['demeter_avg'] = demeter_brca.mean(axis=1)"
   ]
  },
  {
   "cell_type": "code",
   "execution_count": null,
   "metadata": {
    "collapsed": true
   },
   "outputs": [],
   "source": []
  },
  {
   "cell_type": "code",
   "execution_count": 15,
   "metadata": {
    "collapsed": false
   },
   "outputs": [
    {
     "data": {
      "text/html": [
       "<div>\n",
       "<table border=\"1\" class=\"dataframe\">\n",
       "  <thead>\n",
       "    <tr style=\"text-align: right;\">\n",
       "      <th></th>\n",
       "      <th>TCGA-AR-A24V-01A</th>\n",
       "      <th>TCGA-A7-A26H-01A</th>\n",
       "      <th>TCGA-EW-A6SB-01A</th>\n",
       "      <th>TCGA-C8-A137-01A</th>\n",
       "      <th>TCGA-S3-A6ZG-01A</th>\n",
       "      <th>TCGA-BH-A42T-01A</th>\n",
       "      <th>TCGA-OL-A5RU-01A</th>\n",
       "      <th>TCGA-AQ-A54N-01A</th>\n",
       "      <th>TCGA-AO-A0J3-01A</th>\n",
       "      <th>TCGA-A7-A5ZV-01A</th>\n",
       "      <th>...</th>\n",
       "      <th>TCGA-BH-A18L-01A</th>\n",
       "      <th>TCGA-AO-A1KT-01A</th>\n",
       "      <th>TCGA-AR-A24S-01A</th>\n",
       "      <th>TCGA-AO-A1KS-01A</th>\n",
       "      <th>TCGA-GM-A3XN-01A</th>\n",
       "      <th>TCGA-A2-A25E-01A</th>\n",
       "      <th>TCGA-E2-A15O-01A</th>\n",
       "      <th>TCGA-AR-A5QP-01A</th>\n",
       "      <th>TCGA-E9-A24A-01A</th>\n",
       "      <th>TCGA-AN-A0FJ-01A</th>\n",
       "    </tr>\n",
       "    <tr>\n",
       "      <th>gene_id</th>\n",
       "      <th></th>\n",
       "      <th></th>\n",
       "      <th></th>\n",
       "      <th></th>\n",
       "      <th></th>\n",
       "      <th></th>\n",
       "      <th></th>\n",
       "      <th></th>\n",
       "      <th></th>\n",
       "      <th></th>\n",
       "      <th></th>\n",
       "      <th></th>\n",
       "      <th></th>\n",
       "      <th></th>\n",
       "      <th></th>\n",
       "      <th></th>\n",
       "      <th></th>\n",
       "      <th></th>\n",
       "      <th></th>\n",
       "      <th></th>\n",
       "      <th></th>\n",
       "    </tr>\n",
       "  </thead>\n",
       "  <tbody>\n",
       "    <tr>\n",
       "      <th>A1BG</th>\n",
       "      <td>0</td>\n",
       "      <td>0</td>\n",
       "      <td>0</td>\n",
       "      <td>0</td>\n",
       "      <td>0</td>\n",
       "      <td>0</td>\n",
       "      <td>0</td>\n",
       "      <td>0</td>\n",
       "      <td>0</td>\n",
       "      <td>0</td>\n",
       "      <td>...</td>\n",
       "      <td>0</td>\n",
       "      <td>0</td>\n",
       "      <td>0</td>\n",
       "      <td>0</td>\n",
       "      <td>0</td>\n",
       "      <td>0</td>\n",
       "      <td>0</td>\n",
       "      <td>0</td>\n",
       "      <td>0</td>\n",
       "      <td>0</td>\n",
       "    </tr>\n",
       "    <tr>\n",
       "      <th>A1CF</th>\n",
       "      <td>0</td>\n",
       "      <td>0</td>\n",
       "      <td>1</td>\n",
       "      <td>1</td>\n",
       "      <td>0</td>\n",
       "      <td>1</td>\n",
       "      <td>0</td>\n",
       "      <td>2</td>\n",
       "      <td>2</td>\n",
       "      <td>0</td>\n",
       "      <td>...</td>\n",
       "      <td>0</td>\n",
       "      <td>0</td>\n",
       "      <td>2</td>\n",
       "      <td>0</td>\n",
       "      <td>0</td>\n",
       "      <td>1</td>\n",
       "      <td>0</td>\n",
       "      <td>0</td>\n",
       "      <td>0</td>\n",
       "      <td>2</td>\n",
       "    </tr>\n",
       "    <tr>\n",
       "      <th>A2BP1</th>\n",
       "      <td>0</td>\n",
       "      <td>0</td>\n",
       "      <td>0</td>\n",
       "      <td>0</td>\n",
       "      <td>0</td>\n",
       "      <td>0</td>\n",
       "      <td>0</td>\n",
       "      <td>0</td>\n",
       "      <td>0</td>\n",
       "      <td>0</td>\n",
       "      <td>...</td>\n",
       "      <td>0</td>\n",
       "      <td>0</td>\n",
       "      <td>0</td>\n",
       "      <td>0</td>\n",
       "      <td>0</td>\n",
       "      <td>0</td>\n",
       "      <td>0</td>\n",
       "      <td>0</td>\n",
       "      <td>0</td>\n",
       "      <td>0</td>\n",
       "    </tr>\n",
       "    <tr>\n",
       "      <th>A2LD1</th>\n",
       "      <td>2</td>\n",
       "      <td>2</td>\n",
       "      <td>4</td>\n",
       "      <td>3</td>\n",
       "      <td>0</td>\n",
       "      <td>1</td>\n",
       "      <td>0</td>\n",
       "      <td>4</td>\n",
       "      <td>3</td>\n",
       "      <td>0</td>\n",
       "      <td>...</td>\n",
       "      <td>0</td>\n",
       "      <td>1</td>\n",
       "      <td>3</td>\n",
       "      <td>1</td>\n",
       "      <td>0</td>\n",
       "      <td>1</td>\n",
       "      <td>0</td>\n",
       "      <td>0</td>\n",
       "      <td>0</td>\n",
       "      <td>3</td>\n",
       "    </tr>\n",
       "    <tr>\n",
       "      <th>A2M</th>\n",
       "      <td>0</td>\n",
       "      <td>0</td>\n",
       "      <td>2</td>\n",
       "      <td>0</td>\n",
       "      <td>1</td>\n",
       "      <td>1</td>\n",
       "      <td>0</td>\n",
       "      <td>2</td>\n",
       "      <td>2</td>\n",
       "      <td>0</td>\n",
       "      <td>...</td>\n",
       "      <td>1</td>\n",
       "      <td>0</td>\n",
       "      <td>2</td>\n",
       "      <td>1</td>\n",
       "      <td>1</td>\n",
       "      <td>0</td>\n",
       "      <td>1</td>\n",
       "      <td>1</td>\n",
       "      <td>1</td>\n",
       "      <td>2</td>\n",
       "    </tr>\n",
       "  </tbody>\n",
       "</table>\n",
       "<p>5 rows × 1066 columns</p>\n",
       "</div>"
      ],
      "text/plain": [
       "         TCGA-AR-A24V-01A  TCGA-A7-A26H-01A  TCGA-EW-A6SB-01A  \\\n",
       "gene_id                                                         \n",
       "A1BG                    0                 0                 0   \n",
       "A1CF                    0                 0                 1   \n",
       "A2BP1                   0                 0                 0   \n",
       "A2LD1                   2                 2                 4   \n",
       "A2M                     0                 0                 2   \n",
       "\n",
       "         TCGA-C8-A137-01A  TCGA-S3-A6ZG-01A  TCGA-BH-A42T-01A  \\\n",
       "gene_id                                                         \n",
       "A1BG                    0                 0                 0   \n",
       "A1CF                    1                 0                 1   \n",
       "A2BP1                   0                 0                 0   \n",
       "A2LD1                   3                 0                 1   \n",
       "A2M                     0                 1                 1   \n",
       "\n",
       "         TCGA-OL-A5RU-01A  TCGA-AQ-A54N-01A  TCGA-AO-A0J3-01A  \\\n",
       "gene_id                                                         \n",
       "A1BG                    0                 0                 0   \n",
       "A1CF                    0                 2                 2   \n",
       "A2BP1                   0                 0                 0   \n",
       "A2LD1                   0                 4                 3   \n",
       "A2M                     0                 2                 2   \n",
       "\n",
       "         TCGA-A7-A5ZV-01A        ...         TCGA-BH-A18L-01A  \\\n",
       "gene_id                          ...                            \n",
       "A1BG                    0        ...                        0   \n",
       "A1CF                    0        ...                        0   \n",
       "A2BP1                   0        ...                        0   \n",
       "A2LD1                   0        ...                        0   \n",
       "A2M                     0        ...                        1   \n",
       "\n",
       "         TCGA-AO-A1KT-01A  TCGA-AR-A24S-01A  TCGA-AO-A1KS-01A  \\\n",
       "gene_id                                                         \n",
       "A1BG                    0                 0                 0   \n",
       "A1CF                    0                 2                 0   \n",
       "A2BP1                   0                 0                 0   \n",
       "A2LD1                   1                 3                 1   \n",
       "A2M                     0                 2                 1   \n",
       "\n",
       "         TCGA-GM-A3XN-01A  TCGA-A2-A25E-01A  TCGA-E2-A15O-01A  \\\n",
       "gene_id                                                         \n",
       "A1BG                    0                 0                 0   \n",
       "A1CF                    0                 1                 0   \n",
       "A2BP1                   0                 0                 0   \n",
       "A2LD1                   0                 1                 0   \n",
       "A2M                     1                 0                 1   \n",
       "\n",
       "         TCGA-AR-A5QP-01A  TCGA-E9-A24A-01A  TCGA-AN-A0FJ-01A  \n",
       "gene_id                                                        \n",
       "A1BG                    0                 0                 0  \n",
       "A1CF                    0                 0                 2  \n",
       "A2BP1                   0                 0                 0  \n",
       "A2LD1                   0                 0                 3  \n",
       "A2M                     1                 1                 2  \n",
       "\n",
       "[5 rows x 1066 columns]"
      ]
     },
     "execution_count": 15,
     "metadata": {},
     "output_type": "execute_result"
    }
   ],
   "source": [
    "counts.head()"
   ]
  },
  {
   "cell_type": "code",
   "execution_count": 35,
   "metadata": {
    "collapsed": false
   },
   "outputs": [
    {
     "data": {
      "text/plain": [
       "<seaborn.axisgrid.JointGrid at 0x7f001bebfba8>"
      ]
     },
     "execution_count": 35,
     "metadata": {},
     "output_type": "execute_result"
    },
    {
     "data": {
      "image/png": "[encoded data removed]",
      "text/plain": [
       "<matplotlib.figure.Figure at 0x7f001bf4a9b0>"
      ]
     },
     "metadata": {},
     "output_type": "display_data"
    }
   ],
   "source": [
    "mean_merge = pd.DataFrame(counts.mean(axis=1)).merge(pd.DataFrame(demeter_brca.mean(axis=1)), left_index=True, right_index=True)\n",
    "mean_merge.columns = ['avg clDEG connection', 'avg ATARiS score']\n",
    "%matplotlib inline\n",
    "sns.jointplot(x=\"avg clDEG connection\", y=\"avg ATARiS score\", data=mean_merge, color='purple')"
   ]
  },
  {
   "cell_type": "code",
   "execution_count": 33,
   "metadata": {
    "collapsed": false
   },
   "outputs": [
    {
     "data": {
      "text/plain": [
       "<seaborn.axisgrid.JointGrid at 0x7f001be84e48>"
      ]
     },
     "execution_count": 33,
     "metadata": {},
     "output_type": "execute_result"
    },
    {
     "data": {
      "image/png": "[encoded data removed]",
      "text/plain": [
       "<matplotlib.figure.Figure at 0x7f001be84630>"
      ]
     },
     "metadata": {},
     "output_type": "display_data"
    }
   ],
   "source": [
    "sum_merge = pd.DataFrame(counts.sum(axis=1)).merge(pd.DataFrame(demeter_brca.sum(axis=1)), left_index=True, right_index=True)\n",
    "sum_merge.columns = ['sum clDEG connection', 'sum ATARiS score']\n",
    "%matplotlib inline\n",
    "sns.jointplot(x=\"sum clDEG connection\", y=\"sum ATARiS score\", data=sum_merge, color='purple')"
   ]
  },
  {
   "cell_type": "code",
   "execution_count": 131,
   "metadata": {
    "collapsed": false
   },
   "outputs": [
    {
     "data": {
      "text/plain": [
       "<seaborn.axisgrid.JointGrid at 0x7f0037fc4160>"
      ]
     },
     "execution_count": 131,
     "metadata": {},
     "output_type": "execute_result"
    },
    {
     "data": {
      "image/png": "[encoded data removed]",
      "text/plain": [
       "<matplotlib.figure.Figure at 0x7f003a0ceb70>"
      ]
     },
     "metadata": {},
     "output_type": "display_data"
    }
   ],
   "source": [
    "max_merge = pd.DataFrame(counts.max(axis=1)).merge(pd.DataFrame(demeter_brca.max(axis=1)), left_index=True, right_index=True)\n",
    "max_merge.columns = ['max clDEG connection', 'max ATARiS score']\n",
    "%matplotlib inline\n",
    "sns.jointplot(x=\"max clDEG connection\", y=\"max ATARiS score\", data=max_merge, color='purple')"
   ]
  },
  {
   "cell_type": "code",
   "execution_count": 23,
   "metadata": {
    "collapsed": false
   },
   "outputs": [],
   "source": [
    "pd.DataFrame.merge?"
   ]
  },
  {
   "cell_type": "code",
   "execution_count": 17,
   "metadata": {
    "collapsed": false
   },
   "outputs": [
    {
     "data": {
      "text/html": [
       "<div>\n",
       "<table border=\"1\" class=\"dataframe\">\n",
       "  <thead>\n",
       "    <tr style=\"text-align: right;\">\n",
       "      <th></th>\n",
       "      <th>0</th>\n",
       "    </tr>\n",
       "    <tr>\n",
       "      <th>gene_id</th>\n",
       "      <th></th>\n",
       "    </tr>\n",
       "  </thead>\n",
       "  <tbody>\n",
       "    <tr>\n",
       "      <th>CDK1</th>\n",
       "      <td>14148</td>\n",
       "    </tr>\n",
       "    <tr>\n",
       "      <th>TROAP</th>\n",
       "      <td>13866</td>\n",
       "    </tr>\n",
       "    <tr>\n",
       "      <th>STIP1</th>\n",
       "      <td>13756</td>\n",
       "    </tr>\n",
       "    <tr>\n",
       "      <th>H2AFZ</th>\n",
       "      <td>13664</td>\n",
       "    </tr>\n",
       "    <tr>\n",
       "      <th>GINS1</th>\n",
       "      <td>13319</td>\n",
       "    </tr>\n",
       "    <tr>\n",
       "      <th>CCNB1</th>\n",
       "      <td>13044</td>\n",
       "    </tr>\n",
       "    <tr>\n",
       "      <th>CDC45</th>\n",
       "      <td>13016</td>\n",
       "    </tr>\n",
       "    <tr>\n",
       "      <th>CENPI</th>\n",
       "      <td>12877</td>\n",
       "    </tr>\n",
       "    <tr>\n",
       "      <th>KIAA0247</th>\n",
       "      <td>12772</td>\n",
       "    </tr>\n",
       "    <tr>\n",
       "      <th>JMJD6</th>\n",
       "      <td>12748</td>\n",
       "    </tr>\n",
       "    <tr>\n",
       "      <th>UBXN10</th>\n",
       "      <td>12570</td>\n",
       "    </tr>\n",
       "    <tr>\n",
       "      <th>PLK1</th>\n",
       "      <td>12403</td>\n",
       "    </tr>\n",
       "    <tr>\n",
       "      <th>CENPE</th>\n",
       "      <td>12108</td>\n",
       "    </tr>\n",
       "    <tr>\n",
       "      <th>FOXM1</th>\n",
       "      <td>12106</td>\n",
       "    </tr>\n",
       "    <tr>\n",
       "      <th>RRM2</th>\n",
       "      <td>12071</td>\n",
       "    </tr>\n",
       "    <tr>\n",
       "      <th>CIRBP</th>\n",
       "      <td>12007</td>\n",
       "    </tr>\n",
       "    <tr>\n",
       "      <th>TUBA1C</th>\n",
       "      <td>11869</td>\n",
       "    </tr>\n",
       "    <tr>\n",
       "      <th>C16orf57</th>\n",
       "      <td>11839</td>\n",
       "    </tr>\n",
       "    <tr>\n",
       "      <th>ALG3</th>\n",
       "      <td>11751</td>\n",
       "    </tr>\n",
       "    <tr>\n",
       "      <th>HNRNPAB</th>\n",
       "      <td>11694</td>\n",
       "    </tr>\n",
       "  </tbody>\n",
       "</table>\n",
       "</div>"
      ],
      "text/plain": [
       "              0\n",
       "gene_id        \n",
       "CDK1      14148\n",
       "TROAP     13866\n",
       "STIP1     13756\n",
       "H2AFZ     13664\n",
       "GINS1     13319\n",
       "CCNB1     13044\n",
       "CDC45     13016\n",
       "CENPI     12877\n",
       "KIAA0247  12772\n",
       "JMJD6     12748\n",
       "UBXN10    12570\n",
       "PLK1      12403\n",
       "CENPE     12108\n",
       "FOXM1     12106\n",
       "RRM2      12071\n",
       "CIRBP     12007\n",
       "TUBA1C    11869\n",
       "C16orf57  11839\n",
       "ALG3      11751\n",
       "HNRNPAB   11694"
      ]
     },
     "execution_count": 17,
     "metadata": {},
     "output_type": "execute_result"
    }
   ],
   "source": [
    "pd.DataFrame(counts.sum(axis=1).sort_values(ascending=False)).head(20)"
   ]
  },
  {
   "cell_type": "code",
   "execution_count": 373,
   "metadata": {
    "collapsed": false
   },
   "outputs": [
    {
     "data": {
      "text/plain": [
       "(20502, 1066)"
      ]
     },
     "execution_count": 373,
     "metadata": {},
     "output_type": "execute_result"
    }
   ],
   "source": [
    "counts.shape\n"
   ]
  },
  {
   "cell_type": "code",
   "execution_count": 374,
   "metadata": {
    "collapsed": false
   },
   "outputs": [
    {
     "data": {
      "text/plain": [
       "(160654, 16)"
      ]
     },
     "execution_count": 374,
     "metadata": {},
     "output_type": "execute_result"
    }
   ],
   "source": [
    "scores.shape"
   ]
  },
  {
   "cell_type": "markdown",
   "metadata": {
    "collapsed": true
   },
   "source": [
    "## Validate with avana essentiality scores (CRISPr)"
   ]
  },
  {
   "cell_type": "markdown",
   "metadata": {},
   "source": [
    "### load up that avana"
   ]
  },
  {
   "cell_type": "code",
   "execution_count": 113,
   "metadata": {
    "collapsed": true
   },
   "outputs": [],
   "source": [
    "avana = pd.read_csv('data/avana_gene_dependency.tab.gz', compression='gzip', sep='\\t', index_col=0)\n",
    "avana.columns = [x.split(' ')[0] for x in avana.columns]\n",
    "avana = avana.T\n",
    "avana.columns = [x.split('_')[0] for x in avana.columns]\n",
    "avana = avana.T\n",
    "\n",
    "avana_dim = avana.shape"
   ]
  },
  {
   "cell_type": "code",
   "execution_count": 130,
   "metadata": {
    "collapsed": false
   },
   "outputs": [
    {
     "data": {
      "text/html": [
       "<div>\n",
       "<table border=\"1\" class=\"dataframe\">\n",
       "  <thead>\n",
       "    <tr style=\"text-align: right;\">\n",
       "      <th></th>\n",
       "      <th>index</th>\n",
       "      <th>0</th>\n",
       "    </tr>\n",
       "  </thead>\n",
       "  <tbody>\n",
       "    <tr>\n",
       "      <th>53</th>\n",
       "      <td>AKT2</td>\n",
       "      <td>0.926414</td>\n",
       "    </tr>\n",
       "  </tbody>\n",
       "</table>\n",
       "</div>"
      ],
      "text/plain": [
       "   index         0\n",
       "53  AKT2  0.926414"
      ]
     },
     "execution_count": 130,
     "metadata": {},
     "output_type": "execute_result"
    }
   ],
   "source": [
    "av = pd.DataFrame(avana.max(axis=1)).reset_index()\n",
    "av\n",
    "av[av['index'].str.contains('AKT')]"
   ]
  },
  {
   "cell_type": "code",
   "execution_count": 114,
   "metadata": {
    "collapsed": false
   },
   "outputs": [
    {
     "data": {
      "text/plain": [
       "<matplotlib.axes._subplots.AxesSubplot at 0x7f0037f58e80>"
      ]
     },
     "execution_count": 114,
     "metadata": {},
     "output_type": "execute_result"
    },
    {
     "data": {
      "image/png": "[encoded data removed]",
      "text/plain": [
       "<matplotlib.figure.Figure at 0x7f003acdfe10>"
      ]
     },
     "metadata": {},
     "output_type": "display_data"
    }
   ],
   "source": [
    "avana['var'] = avana.var(axis=1)\n",
    "avana['var'].hist()\n"
   ]
  },
  {
   "cell_type": "code",
   "execution_count": 107,
   "metadata": {
    "collapsed": false
   },
   "outputs": [
    {
     "name": "stdout",
     "output_type": "stream",
     "text": [
      "keeping 2957 of 17673 total genes\n",
      "\n"
     ]
    }
   ],
   "source": [
    "print('keeping {} of {} total genes\\n'.format(str(avana[avana['var'] > 0.02].shape[0]), str(avana_dim[0])))"
   ]
  },
  {
   "cell_type": "code",
   "execution_count": 115,
   "metadata": {
    "collapsed": false
   },
   "outputs": [
    {
     "data": {
      "image/png": "[encoded data removed]",
      "text/plain": [
       "<matplotlib.figure.Figure at 0x7f003a24feb8>"
      ]
     },
     "metadata": {},
     "output_type": "display_data"
    }
   ],
   "source": [
    "avana = avana[avana['var'] > 0.02]\n",
    "sum_merge = pd.DataFrame(counts.sum(axis=1)).merge(pd.DataFrame(avana.sum(axis=1)), left_index=True, right_index=True)\n",
    "sum_merge.columns = ['sum clDEG connection', 'sum avana score']\n",
    "%matplotlib inline\n",
    "sum_merge = sum_merge[sum_merge['sum clDEG connection'] > 3000]\n",
    "sns.jointplot(y=\"sum clDEG connection\", x=\"sum avana score\", data=sum_merge, color='orange', kind='reg')\n",
    "del avana['var']"
   ]
  },
  {
   "cell_type": "code",
   "execution_count": 118,
   "metadata": {
    "collapsed": false
   },
   "outputs": [
    {
     "data": {
      "text/plain": [
       "<seaborn.axisgrid.JointGrid at 0x7f0039ee3630>"
      ]
     },
     "execution_count": 118,
     "metadata": {},
     "output_type": "execute_result"
    },
    {
     "data": {
      "image/png": "[encoded data removed]",
      "text/plain": [
       "<matplotlib.figure.Figure at 0x7f0039deac88>"
      ]
     },
     "metadata": {},
     "output_type": "display_data"
    }
   ],
   "source": [
    "max_merge = pd.DataFrame(counts.max(axis=1)).merge(pd.DataFrame(avana.max(axis=1)), left_index=True, right_index=True)\n",
    "\n",
    "max_merge.columns = ['max_clDEG_connection', 'max_avana_essentialScore']\n",
    "# max_merge = max_merge[max_merge['sum clDEG connection'] > 3000]\n",
    "sns.jointplot(y='max_avana_essentialScore', x='max_clDEG_connection', data=max_merge, color='orange', kind='reg')"
   ]
  },
  {
   "cell_type": "code",
   "execution_count": null,
   "metadata": {
    "collapsed": true
   },
   "outputs": [],
   "source": []
  },
  {
   "cell_type": "markdown",
   "metadata": {},
   "source": [
    "### compare avana with synlethdb"
   ]
  },
  {
   "cell_type": "code",
   "execution_count": 102,
   "metadata": {
    "collapsed": false
   },
   "outputs": [
    {
     "data": {
      "text/plain": [
       "<seaborn.axisgrid.JointGrid at 0x7f003a94fc50>"
      ]
     },
     "execution_count": 102,
     "metadata": {},
     "output_type": "execute_result"
    },
    {
     "data": {
      "image/png": "[encoded data removed]",
      "text/plain": [
       "<matplotlib.figure.Figure at 0x7f003a926c88>"
      ]
     },
     "metadata": {},
     "output_type": "display_data"
    }
   ],
   "source": [
    "syndb = pd.read_pickle('data/synlethdb_sl_human.pickle')\n",
    "syndb.set_index('GeneBSymbol', inplace=True)\n",
    "avg_syn_ava = pd.DataFrame(syndb[['DiseaseScore']]).merge(pd.DataFrame(avana.mean(axis=1)), left_index=True, right_index=True)\n",
    "avg_syn_ava.columns = ['synlethDB_diseaseScore', 'avg_avana_essentialityScore']\n",
    "sns.jointplot(y='synlethDB_diseaseScore', x='avg_avana_essentialityScore', data=avg_syn_ava, color='red')"
   ]
  },
  {
   "cell_type": "code",
   "execution_count": 103,
   "metadata": {
    "collapsed": false
   },
   "outputs": [
    {
     "data": {
      "text/plain": [
       "<seaborn.axisgrid.JointGrid at 0x7f003a5e9a20>"
      ]
     },
     "execution_count": 103,
     "metadata": {},
     "output_type": "execute_result"
    },
    {
     "data": {
      "image/png": "[encoded data removed]",
      "text/plain": [
       "<matplotlib.figure.Figure at 0x7f003a911048>"
      ]
     },
     "metadata": {},
     "output_type": "display_data"
    }
   ],
   "source": [
    "max_syn_ava = pd.DataFrame(syndb[['DiseaseScore']]).merge(pd.DataFrame(avana.max(axis=1)), left_index=True, right_index=True)\n",
    "max_syn_ava.columns = ['synlethDB_diseaseScore', 'max_avana_essentialityScore']\n",
    "sns.jointplot(y='synlethDB_diseaseScore', x='max_avana_essentialityScore', data=max_syn_ava, color='red')\n"
   ]
  },
  {
   "cell_type": "markdown",
   "metadata": {},
   "source": [
    "### compare avana with demeter"
   ]
  },
  {
   "cell_type": "code",
   "execution_count": 82,
   "metadata": {
    "collapsed": false
   },
   "outputs": [],
   "source": [
    "\n",
    "demeter = pd.read_csv('data/Achilles_ExpandedGeneZSolsCleaned.csv')\n",
    "demeter.rename(columns={'Unnamed: 0':'gene'}, inplace=True)\n",
    "demeter.set_index('gene', inplace=True)"
   ]
  },
  {
   "cell_type": "code",
   "execution_count": 94,
   "metadata": {
    "collapsed": false
   },
   "outputs": [
    {
     "data": {
      "text/plain": [
       "<seaborn.axisgrid.JointGrid at 0x7f0014570048>"
      ]
     },
     "execution_count": 94,
     "metadata": {},
     "output_type": "execute_result"
    },
    {
     "data": {
      "image/png": "[encoded data removed]",
      "text/plain": [
       "<matplotlib.figure.Figure at 0x7f0014570a58>"
      ]
     },
     "metadata": {},
     "output_type": "display_data"
    }
   ],
   "source": [
    "max_dem_ava = pd.DataFrame(demeter.max(axis=1)).merge(pd.DataFrame(avana.max(axis=1)), left_index=True, right_index=True)\n",
    "max_dem_ava.columns = ['max_demeter_essentialScore', 'max_avana_essentialScore']\n",
    "sns.jointplot(y='max_demeter_essentialScore', x='max_avana_essentialScore', data=max_dem_ava, color='blue')"
   ]
  },
  {
   "cell_type": "code",
   "execution_count": null,
   "metadata": {
    "collapsed": true
   },
   "outputs": [],
   "source": []
  }
 ],
 "metadata": {
  "kernelspec": {
   "display_name": "Python 3",
   "language": "python",
   "name": "python3"
  },
  "language_info": {
   "codemirror_mode": {
    "name": "ipython",
    "version": 3
   },
   "file_extension": ".py",
   "mimetype": "text/x-python",
   "name": "python",
   "nbconvert_exporter": "python",
   "pygments_lexer": "ipython3",
   "version": "3.4.5"
  }
 },
 "nbformat": 4,
 "nbformat_minor": 0
}
