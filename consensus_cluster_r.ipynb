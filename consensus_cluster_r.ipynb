{
 "cells": [
  {
   "cell_type": "markdown",
   "metadata": {},
   "source": [
    "## install bioconductor and consensus cluster"
   ]
  },
  {
   "cell_type": "code",
   "execution_count": 1,
   "metadata": {
    "collapsed": false
   },
   "outputs": [
    {
     "name": "stderr",
     "output_type": "stream",
     "text": [
      "Bioconductor version 3.6 (BiocInstaller 1.28.0), ?biocLite for help\n",
      "A new version of Bioconductor is available after installing the most recent\n",
      "  version of R; see http://bioconductor.org/install\n"
     ]
    }
   ],
   "source": [
    "source(\"https://bioconductor.org/biocLite.R\")"
   ]
  },
  {
   "cell_type": "code",
   "execution_count": 2,
   "metadata": {
    "collapsed": false
   },
   "outputs": [
    {
     "name": "stderr",
     "output_type": "stream",
     "text": [
      "BioC_mirror: https://bioconductor.org\n",
      "Using Bioconductor 3.6 (BiocInstaller 1.28.0), R 3.4.1 (2017-06-30).\n",
      "Installing package(s) 'ConsensusClusterPlus'\n"
     ]
    },
    {
     "name": "stdout",
     "output_type": "stream",
     "text": [
      "package 'ConsensusClusterPlus' successfully unpacked and MD5 sums checked\n",
      "\n",
      "The downloaded binary packages are in\n",
      "\tC:\\Users\\test\\AppData\\Local\\Temp\\RtmpIRl9hJ\\downloaded_packages\n"
     ]
    },
    {
     "name": "stderr",
     "output_type": "stream",
     "text": [
      "Old packages: 'boot', 'cluster', 'crayon', 'digest', 'evaluate', 'foreign',\n",
      "  'IRdisplay', 'MASS', 'Matrix', 'mgcv', 'nlme', 'pbdZMQ', 'R6', 'repr',\n",
      "  'rpart', 'stringi', 'stringr', 'survival'\n"
     ]
    }
   ],
   "source": [
    "biocLite(\"ConsensusClusterPlus\")"
   ]
  },
  {
   "cell_type": "code",
   "execution_count": 2,
   "metadata": {
    "collapsed": false
   },
   "outputs": [
    {
     "name": "stderr",
     "output_type": "stream",
     "text": [
      "Loading required package: Biobase\n",
      "Warning message:\n",
      "\"package 'Biobase' was built under R version 3.4.2\"Loading required package: BiocGenerics\n",
      "Warning message:\n",
      "\"package 'BiocGenerics' was built under R version 3.4.2\"Loading required package: parallel\n",
      "\n",
      "Attaching package: 'BiocGenerics'\n",
      "\n",
      "The following objects are masked from 'package:parallel':\n",
      "\n",
      "    clusterApply, clusterApplyLB, clusterCall, clusterEvalQ,\n",
      "    clusterExport, clusterMap, parApply, parCapply, parLapply,\n",
      "    parLapplyLB, parRapply, parSapply, parSapplyLB\n",
      "\n",
      "The following objects are masked from 'package:stats':\n",
      "\n",
      "    IQR, mad, sd, var, xtabs\n",
      "\n",
      "The following objects are masked from 'package:base':\n",
      "\n",
      "    anyDuplicated, append, as.data.frame, cbind, colMeans, colnames,\n",
      "    colSums, do.call, duplicated, eval, evalq, Filter, Find, get, grep,\n",
      "    grepl, intersect, is.unsorted, lapply, lengths, Map, mapply, match,\n",
      "    mget, order, paste, pmax, pmax.int, pmin, pmin.int, Position, rank,\n",
      "    rbind, Reduce, rowMeans, rownames, rowSums, sapply, setdiff, sort,\n",
      "    table, tapply, union, unique, unsplit, which, which.max, which.min\n",
      "\n",
      "Welcome to Bioconductor\n",
      "\n",
      "    Vignettes contain introductory material; view with\n",
      "    'browseVignettes()'. To cite Bioconductor, see\n",
      "    'citation(\"Biobase\")', and for packages 'citation(\"pkgname\")'.\n",
      "\n"
     ]
    }
   ],
   "source": [
    "library(ALL)"
   ]
  },
  {
   "cell_type": "markdown",
   "metadata": {},
   "source": [
    "## Data Processing"
   ]
  },
  {
   "cell_type": "code",
   "execution_count": 4,
   "metadata": {
    "collapsed": true
   },
   "outputs": [],
   "source": [
    "data(ALL)"
   ]
  },
  {
   "cell_type": "code",
   "execution_count": 5,
   "metadata": {
    "collapsed": true
   },
   "outputs": [],
   "source": [
    "d=exprs(ALL)"
   ]
  },
  {
   "cell_type": "code",
   "execution_count": 6,
   "metadata": {
    "collapsed": false
   },
   "outputs": [
    {
     "data": {
      "text/html": [
       "<table>\n",
       "<thead><tr><th></th><th scope=col>01005</th><th scope=col>01010</th><th scope=col>03002</th><th scope=col>04006</th><th scope=col>04007</th></tr></thead>\n",
       "<tbody>\n",
       "\t<tr><th scope=row>1000_at</th><td>7.597323</td><td>7.479445</td><td>7.567593</td><td>7.384684</td><td>7.905312</td></tr>\n",
       "\t<tr><th scope=row>1001_at</th><td>5.046194</td><td>4.932537</td><td>4.799294</td><td>4.922627</td><td>4.844565</td></tr>\n",
       "\t<tr><th scope=row>1002_f_at</th><td>3.900466</td><td>4.208155</td><td>3.886169</td><td>4.206798</td><td>3.416923</td></tr>\n",
       "\t<tr><th scope=row>1003_s_at</th><td>5.903856</td><td>6.169024</td><td>5.860459</td><td>6.116890</td><td>5.687997</td></tr>\n",
       "\t<tr><th scope=row>1004_at</th><td>5.925260</td><td>5.912780</td><td>5.893209</td><td>6.170245</td><td>5.615210</td></tr>\n",
       "</tbody>\n",
       "</table>\n"
      ],
      "text/latex": [
       "\\begin{tabular}{r|lllll}\n",
       "  & 01005 & 01010 & 03002 & 04006 & 04007\\\\\n",
       "\\hline\n",
       "\t1000\\_at & 7.597323 & 7.479445 & 7.567593 & 7.384684 & 7.905312\\\\\n",
       "\t1001\\_at & 5.046194 & 4.932537 & 4.799294 & 4.922627 & 4.844565\\\\\n",
       "\t1002\\_f\\_at & 3.900466 & 4.208155 & 3.886169 & 4.206798 & 3.416923\\\\\n",
       "\t1003\\_s\\_at & 5.903856 & 6.169024 & 5.860459 & 6.116890 & 5.687997\\\\\n",
       "\t1004\\_at & 5.925260 & 5.912780 & 5.893209 & 6.170245 & 5.615210\\\\\n",
       "\\end{tabular}\n"
      ],
      "text/markdown": [
       "\n",
       "| <!--/--> | 01005 | 01010 | 03002 | 04006 | 04007 | \n",
       "|---|---|---|---|---|\n",
       "| 1000_at | 7.597323 | 7.479445 | 7.567593 | 7.384684 | 7.905312 | \n",
       "| 1001_at | 5.046194 | 4.932537 | 4.799294 | 4.922627 | 4.844565 | \n",
       "| 1002_f_at | 3.900466 | 4.208155 | 3.886169 | 4.206798 | 3.416923 | \n",
       "| 1003_s_at | 5.903856 | 6.169024 | 5.860459 | 6.116890 | 5.687997 | \n",
       "| 1004_at | 5.925260 | 5.912780 | 5.893209 | 6.170245 | 5.615210 | \n",
       "\n",
       "\n"
      ],
      "text/plain": [
       "          01005    01010    03002    04006    04007   \n",
       "1000_at   7.597323 7.479445 7.567593 7.384684 7.905312\n",
       "1001_at   5.046194 4.932537 4.799294 4.922627 4.844565\n",
       "1002_f_at 3.900466 4.208155 3.886169 4.206798 3.416923\n",
       "1003_s_at 5.903856 6.169024 5.860459 6.116890 5.687997\n",
       "1004_at   5.925260 5.912780 5.893209 6.170245 5.615210"
      ]
     },
     "metadata": {},
     "output_type": "display_data"
    }
   ],
   "source": [
    "d[1:5,1:5]"
   ]
  },
  {
   "cell_type": "code",
   "execution_count": 8,
   "metadata": {
    "collapsed": true
   },
   "outputs": [],
   "source": [
    "mads=apply(d,1,mad)\n",
    "d=d[rev(order(mads))[1:5000],]\n",
    "d = sweep(d,1, apply(d,1,median,na.rm=T))\n"
   ]
  },
  {
   "cell_type": "code",
   "execution_count": 10,
   "metadata": {
    "collapsed": false
   },
   "outputs": [],
   "source": [
    "d = sweep(d,1, apply(d,1,median,na.rm=T))"
   ]
  },
  {
   "cell_type": "code",
   "execution_count": 11,
   "metadata": {
    "collapsed": false
   },
   "outputs": [
    {
     "data": {
      "text/html": [
       "<table>\n",
       "<thead><tr><th></th><th scope=col>01005</th><th scope=col>01010</th><th scope=col>03002</th><th scope=col>04006</th><th scope=col>04007</th></tr></thead>\n",
       "<tbody>\n",
       "\t<tr><th scope=row>36638_at</th><td> 1.5561207 </td><td>0.9521271  </td><td>-0.05018082</td><td> 4.780378  </td><td> 3.93006775</td></tr>\n",
       "\t<tr><th scope=row>39318_at</th><td> 1.1913532 </td><td>2.5013225  </td><td>-2.38793537</td><td>-1.199521  </td><td> 1.93626914</td></tr>\n",
       "\t<tr><th scope=row>38514_at</th><td> 1.0207162 </td><td>3.2785671  </td><td> 1.55949145</td><td>-3.345919  </td><td>-0.01548269</td></tr>\n",
       "\t<tr><th scope=row>266_s_at</th><td> 1.8292604 </td><td>0.3624327  </td><td> 1.54913247</td><td>-1.286294  </td><td> 1.75669694</td></tr>\n",
       "\t<tr><th scope=row>38585_at</th><td>-0.9240204 </td><td>0.1895020  </td><td> 3.44968363</td><td>-2.216822  </td><td> 5.18702726</td></tr>\n",
       "</tbody>\n",
       "</table>\n"
      ],
      "text/latex": [
       "\\begin{tabular}{r|lllll}\n",
       "  & 01005 & 01010 & 03002 & 04006 & 04007\\\\\n",
       "\\hline\n",
       "\t36638\\_at &  1.5561207  & 0.9521271   & -0.05018082 &  4.780378   &  3.93006775\\\\\n",
       "\t39318\\_at &  1.1913532  & 2.5013225   & -2.38793537 & -1.199521   &  1.93626914\\\\\n",
       "\t38514\\_at &  1.0207162  & 3.2785671   &  1.55949145 & -3.345919   & -0.01548269\\\\\n",
       "\t266\\_s\\_at &  1.8292604  & 0.3624327   &  1.54913247 & -1.286294   &  1.75669694\\\\\n",
       "\t38585\\_at & -0.9240204  & 0.1895020   &  3.44968363 & -2.216822   &  5.18702726\\\\\n",
       "\\end{tabular}\n"
      ],
      "text/markdown": [
       "\n",
       "| <!--/--> | 01005 | 01010 | 03002 | 04006 | 04007 | \n",
       "|---|---|---|---|---|\n",
       "| 36638_at |  1.5561207  | 0.9521271   | -0.05018082 |  4.780378   |  3.93006775 | \n",
       "| 39318_at |  1.1913532  | 2.5013225   | -2.38793537 | -1.199521   |  1.93626914 | \n",
       "| 38514_at |  1.0207162  | 3.2785671   |  1.55949145 | -3.345919   | -0.01548269 | \n",
       "| 266_s_at |  1.8292604  | 0.3624327   |  1.54913247 | -1.286294   |  1.75669694 | \n",
       "| 38585_at | -0.9240204  | 0.1895020   |  3.44968363 | -2.216822   |  5.18702726 | \n",
       "\n",
       "\n"
      ],
      "text/plain": [
       "         01005      01010     03002       04006     04007      \n",
       "36638_at  1.5561207 0.9521271 -0.05018082  4.780378  3.93006775\n",
       "39318_at  1.1913532 2.5013225 -2.38793537 -1.199521  1.93626914\n",
       "38514_at  1.0207162 3.2785671  1.55949145 -3.345919 -0.01548269\n",
       "266_s_at  1.8292604 0.3624327  1.54913247 -1.286294  1.75669694\n",
       "38585_at -0.9240204 0.1895020  3.44968363 -2.216822  5.18702726"
      ]
     },
     "metadata": {},
     "output_type": "display_data"
    }
   ],
   "source": [
    "d[1:5,1:5]"
   ]
  },
  {
   "cell_type": "markdown",
   "metadata": {},
   "source": [
    "## Run Consensus Cluster Plus"
   ]
  },
  {
   "cell_type": "markdown",
   "metadata": {},
   "source": [
    "For this tutorial, we selected 80% item resampling (pItem), 80% gene resampling\n",
    "(pFeature), a maximum evalulated k of 6 so that cluster counts of 2,3,4,5,6 are\n",
    "evaluated (maxK), 50 resamplings (reps), agglomerative heirarchical clustering\n",
    "2 algorithm (clusterAlg) upon 1- Pearson correlation distances (distance), gave\n",
    "our output a title (title), and opted to have graphical results written to png\n",
    "files. We also used a specific random seed so that this example is repeatable\n",
    "(seed).\n",
    "\n",
    "Note that clusters are performed on dataframe columns\n",
    "\n",
    "Results are returned in a list, where every element in that list is a cluster \n",
    "assignment matrix of that index's k clusters\n"
   ]
  },
  {
   "cell_type": "code",
   "execution_count": 14,
   "metadata": {
    "collapsed": false
   },
   "outputs": [
    {
     "name": "stderr",
     "output_type": "stream",
     "text": [
      "end fraction\n",
      "clustered\n",
      "clustered\n"
     ]
    },
    {
     "data": {
      "image/png": "[encoded data removed]",
      "text/plain": [
       "Plot with title \"consensus matrix legend\""
      ]
     },
     "metadata": {},
     "output_type": "display_data"
    },
    {
     "name": "stderr",
     "output_type": "stream",
     "text": [
      "clustered\n"
     ]
    },
    {
     "data": {
      "image/png": "[encoded data removed]",
      "text/plain": [
       "Plot with title \"consensus matrix k=2\""
      ]
     },
     "metadata": {},
     "output_type": "display_data"
    },
    {
     "name": "stderr",
     "output_type": "stream",
     "text": [
      "clustered\n"
     ]
    },
    {
     "data": {
      "image/png": "[encoded data removed]",
      "text/plain": [
       "Plot with title \"consensus matrix k=3\""
      ]
     },
     "metadata": {},
     "output_type": "display_data"
    },
    {
     "name": "stderr",
     "output_type": "stream",
     "text": [
      "clustered\n"
     ]
    },
    {
     "data": {
      "image/png": "[encoded data removed]",
      "text/plain": [
       "Plot with title \"consensus matrix k=4\""
      ]
     },
     "metadata": {},
     "output_type": "display_data"
    },
    {
     "data": {
      "image/png": "[encoded data removed]",
      "text/plain": [
       "Plot with title \"consensus matrix k=5\""
      ]
     },
     "metadata": {},
     "output_type": "display_data"
    },
    {
     "data": {
      "image/png": "[encoded data removed]",
      "text/plain": [
       "Plot with title \"consensus matrix k=6\""
      ]
     },
     "metadata": {},
     "output_type": "display_data"
    },
    {
     "data": {
      "image/png": "[encoded data removed]",
      "text/plain": [
       "Plot with title \"consensus CDF\""
      ]
     },
     "metadata": {},
     "output_type": "display_data"
    },
    {
     "data": {
      "image/png": "[encoded data removed]",
      "text/plain": [
       "Plot with title \"Delta area\""
      ]
     },
     "metadata": {},
     "output_type": "display_data"
    },
    {
     "data": {
      "image/png": "[encoded data removed]",
      "text/plain": [
       "Plot with title \"tracking plot\""
      ]
     },
     "metadata": {},
     "output_type": "display_data"
    }
   ],
   "source": [
    "library(ConsensusClusterPlus)\n",
    "title=tempdir()\n",
    "results = ConsensusClusterPlus(d, maxK=6 ,reps=50, pItem=0.8, pFeature=1, \n",
    "                               title=title, clusterAlg=\"hc\", distance=\"pearson\",\n",
    "                               seed=1262118388.71279)\n"
   ]
  },
  {
   "cell_type": "code",
   "execution_count": 13,
   "metadata": {
    "collapsed": false
   },
   "outputs": [
    {
     "data": {
      "text/plain": [
       "\n",
       "Call:\n",
       "hclust(d = as.dist(1 - fm), method = finalLinkage)\n",
       "\n",
       "Cluster method   : average \n",
       "Number of objects: 128 \n"
      ]
     },
     "metadata": {},
     "output_type": "display_data"
    }
   ],
   "source": [
    "results[[2]][[\"consensusTree\"]]"
   ]
  },
  {
   "cell_type": "markdown",
   "metadata": {},
   "source": [
    "## Load TCGA data"
   ]
  },
  {
   "cell_type": "code",
   "execution_count": 13,
   "metadata": {
    "collapsed": false
   },
   "outputs": [],
   "source": [
    "# # read from table\n",
    "# cpiv = read.table(\"brca_1M_clove_pivot.tab\", header=T, sep=\"\\t\", row.names = \"exp\")\n",
    "\n",
    "# # load from rda object\n",
    "\n",
    "load('brca_1M_clove_pivot_df.Rda')  # refer to it as cpiv once loaded (name given at save)"
   ]
  },
  {
   "cell_type": "code",
   "execution_count": null,
   "metadata": {
    "collapsed": false
   },
   "outputs": [],
   "source": [
    "typeof(cpiv)"
   ]
  },
  {
   "cell_type": "code",
   "execution_count": 12,
   "metadata": {
    "collapsed": false
   },
   "outputs": [
    {
     "data": {
      "text/html": [
       "'cpiv'"
      ],
      "text/latex": [
       "'cpiv'"
      ],
      "text/markdown": [
       "'cpiv'"
      ],
      "text/plain": [
       "[1] \"cpiv\""
      ]
     },
     "metadata": {},
     "output_type": "display_data"
    }
   ],
   "source": [
    "# rownames are expressed genes\n",
    "# column names are copy loss genes\n",
    "cpiv"
   ]
  },
  {
   "cell_type": "code",
   "execution_count": 14,
   "metadata": {
    "collapsed": false
   },
   "outputs": [
    {
     "data": {
      "text/html": [
       "8117"
      ],
      "text/latex": [
       "8117"
      ],
      "text/markdown": [
       "8117"
      ],
      "text/plain": [
       "[1] 8117"
      ]
     },
     "metadata": {},
     "output_type": "display_data"
    },
    {
     "data": {
      "text/html": [
       "56000"
      ],
      "text/latex": [
       "56000"
      ],
      "text/markdown": [
       "56000"
      ],
      "text/plain": [
       "[1] 56000"
      ]
     },
     "metadata": {},
     "output_type": "display_data"
    }
   ],
   "source": [
    "memory.limit()\n",
    "memory.limit(size=56000)"
   ]
  },
  {
   "cell_type": "code",
   "execution_count": 31,
   "metadata": {
    "collapsed": true
   },
   "outputs": [],
   "source": [
    "cpiv_sampl = cpiv[sample(nrow(cpiv), 8000), ]\n",
    "cpiv_sampl = t(cpiv_sampl)\n",
    "cpiv_sampl = cpiv[sample(nrow(cpiv), 8000), ]\n",
    "cpiv_sampl = t(cpiv_sampl)"
   ]
  },
  {
   "cell_type": "code",
   "execution_count": 32,
   "metadata": {
    "collapsed": false
   },
   "outputs": [
    {
     "data": {
      "text/html": [
       "<table>\n",
       "<thead><tr><th></th><th scope=col>MAP1D</th><th scope=col>ABHD5</th><th scope=col>CASP5</th><th scope=col>CD28</th><th scope=col>BRCA1</th><th scope=col>USP2</th><th scope=col>KLF17</th><th scope=col>CCNB2</th><th scope=col>MED24</th><th scope=col>C11orf58</th><th scope=col>...</th><th scope=col>CAPN5</th><th scope=col>IL8</th><th scope=col>MED27</th><th scope=col>TDRD12</th><th scope=col>CAMK1</th><th scope=col>VN1R4</th><th scope=col>ZC3H12B</th><th scope=col>PRLHR</th><th scope=col>ZNF431</th><th scope=col>EFR3A</th></tr></thead>\n",
       "<tbody>\n",
       "\t<tr><th scope=row>A1BG</th><td>NA </td><td>NA </td><td>NA </td><td>NA </td><td>NA </td><td>NA </td><td>NA </td><td>NA </td><td>NA </td><td>NA </td><td>...</td><td>NA </td><td>NA </td><td>NA </td><td>NA </td><td>NA </td><td>NA </td><td>NA </td><td>NA </td><td>NA </td><td>NA </td></tr>\n",
       "\t<tr><th scope=row>A1BG.AS1</th><td>NA </td><td>NA </td><td>NA </td><td>NA </td><td>NA </td><td>NA </td><td>NA </td><td>NA </td><td>NA </td><td>NA </td><td>...</td><td>NA </td><td>NA </td><td>NA </td><td>NA </td><td>NA </td><td>NA </td><td>NA </td><td>NA </td><td>NA </td><td>NA </td></tr>\n",
       "\t<tr><th scope=row>A1CF</th><td>NA </td><td>NA </td><td>NA </td><td>NA </td><td>NA </td><td>NA </td><td>NA </td><td>NA </td><td>NA </td><td>NA </td><td>...</td><td>NA </td><td>NA </td><td>NA </td><td>NA </td><td>NA </td><td>NA </td><td>NA </td><td>NA </td><td>NA </td><td>NA </td></tr>\n",
       "\t<tr><th scope=row>A2M</th><td>NA </td><td>NA </td><td>NA </td><td>NA </td><td>NA </td><td>NA </td><td>NA </td><td>NA </td><td>NA </td><td>NA </td><td>...</td><td>NA </td><td>NA </td><td>NA </td><td>NA </td><td>NA </td><td>NA </td><td>NA </td><td>NA </td><td>NA </td><td>NA </td></tr>\n",
       "\t<tr><th scope=row>A2M.AS1</th><td>NA </td><td>NA </td><td>NA </td><td>NA </td><td>NA </td><td>NA </td><td>NA </td><td>NA </td><td>NA </td><td>NA </td><td>...</td><td>NA </td><td>NA </td><td>NA </td><td>NA </td><td>NA </td><td>NA </td><td>NA </td><td>NA </td><td>NA </td><td>NA </td></tr>\n",
       "\t<tr><th scope=row>A2ML1</th><td>NA </td><td>NA </td><td>NA </td><td>NA </td><td>NA </td><td>NA </td><td>NA </td><td>NA </td><td>NA </td><td>NA </td><td>...</td><td>NA </td><td>NA </td><td>NA </td><td>NA </td><td>NA </td><td>NA </td><td>NA </td><td>NA </td><td>NA </td><td>NA </td></tr>\n",
       "</tbody>\n",
       "</table>\n"
      ],
      "text/latex": [
       "\\begin{tabular}{r|llllllllllllllllllllllllllllllllllllllllllllllllllllllllllllllllllllllllllllllllllllllllllllllllllllllllllllllllllllllllllllllllllllllllllllllllllllllllllllllllllllllllllllllllllllllllllllllllllllllllllllllllllllllllllllllllllllllllllllllllllllllllllllllllllllllllllllllllllllllllllllllllllllllllllllllllllllllllllllllllllllllllllllllllllllllllllllllllllllllllllllllllllllllllllllllllllllllllllllllllllllllllllllllllllllllllllllllllllllllllllllllllllllllllllllllllllllllllllllllllllllllllllllllllllllllllllllllllllllllllllllllllllllllllllllllllllllllllllllllllllllllllllllllllllllllllllllllllllllllllllllllllllllllllllllllllllllllllllllllllllllllllllllllllllllllllllllllllllllllllllllllllllllllllllllllllllllllllllllllllllllllllllllllllllllllllllllllllllllllllllllllllllllllllllllllllllllllllllllllllllllllllllllllllllllllllllllllllllllllllllllllllllllllllllllllllllllllllllllllllllllllllllllllllllllllllllllllllllllllllllllllllllllllllllllllllllllllllllllllllllllllllllllllllllllllllllllllllllllllllllllllllllllllllllllllllllllllllllllllllllllllllllllllllllllllllllllllllllllllllllllllllllllllllllllllllllllllllllllllllllllllllllllllllllllllllllllllllllllllllllllllllllllllllllllllllllllllllllllllllllllllllllllllllllllllllllllllllllllllllllllllllllllllllllllllllllllllllllllllllllllllllllllllllllllllllllllllllllllllllllllllllllllllllllllllllllllllllllllllllllllllllllllllllllllllllllllllllllllllllllllllllllllllllllllllllllllllllllllllllllllllllllllllllllllllllllllllllllllllllllllllllllllllllllllllllllllllllllllllllllllllllllllllllllllllllllllllllllllllllllllllllllllllllllllllllllllllllllllllllllllllllllllllllllllllllllllllllllllllllllllllllllllllllllllllllllllllllllllllllllllllllllllllllllllllllllllllllllllllllllllllllllllllllllllllllllllllllllllllllllllllllllllllllllllllllllllllllllllllllllllllllllllllllllllllllllllllllllllllllllllllllllllllllllllllllllllllllllllllllllllllllllllllllllllllllllllllllllllllllllllllllllllllllllllllllllllllllllllllllllllllllllllllllllllllllllllllllllllllllllllllllllllllllllllllllllllllllllllllllllllllllllllllllllllllllllllllllllllllllllllllllllllllllllllllllllllllllllllllllllllllllllllllllllllllllllllllllllllllllllllllllllllllllllllllllllllllllllllllllllllllllllllllllllllllllllllllllllllllllllllllllllllllllllllllllllllllllllllllllllllllllllllllllllllllllllllllllllllllllllllllllllllllllllllllllllllllllllllllllllllllllllllllllllllllllllllllllllllllllllllllllllllllllllllllllllllllllllllllllllllllllllllllllllllllllllllllllllllllllllllllllllllllllllllllllllllllllllllllllllllllllllllllllllllllllllllllllllllllllllllllllllllllllllllllllllllllllllllllllllllllllllllllllllllllllllllllllllllllllllllllllllllllllllllllllllllllllllllllllllllllllllllllllllllllllllllllllllllllllllllllllllllllllllllllllllllllllllllllllllllllllllllllllllllllllllllllllllllllllllllllllllllllllllllllllllllllllllllllllllllllllllllllllllllllllllllllllllllllllllllllllllllllllllllllllllllllllllllllllllllllllllllllllllllllllllllllllllllllllllllllllllllllllllllllllllllllllllllllllllllllllllllllllllllllllllllllllllllllllllllllllllllllllllllllllllllllllllllllllllllllllllllllllllllllllllllllllllllllllllllllllllllllllllllllllllllllllllllllllllllllllllllllllllllllllllllllllllllllllllllllllllllllllllllllllllllllllllllllllllllllllllllllllllllllllllllllllllllllllllllllllllllllllllllllllllllllllllllllllllllllllllllllllllllllllllllllllllllllllllllllllllllllllllllllllllllllllllllllllllllllllllllllllllllllllllllllllllllllllllllllllllllllllllllllllllllllllllllllllllllllllllllllllllllllllllllllllllllllllllllllllllllllllllllllllllllllllllllllllllllllllllllllllllllllllllllllllllllllllllllllllllllllllllllllllllllllllllllllllllllllllllllllllllllllllllllllllllllllllllllllllllllllllllllllllllllllllllllllllllllllllllllllllllllllllllllllllllllllllllllllllllllllllllllllllllllllllllllllllllllllllllllllllllllllllllllllllllllllllllllllllllllllllllllllllllllllllllllllllllllllllllllllllllllllllllllllllllllllllllllllllllllllllllllllllllllllllllllllllllllllllllllllllllllllllllllllllllllllllllllllllllllllllllllllllllllllllllllllllllllllllllllllllllllllllllllllllllllllllllllllllllllllllllllllllllllllllllllllllllllllllllllllllllllllllllllllllllllllllllllllllllllllllllllllllllllllllllllllllllllllllllllllllllllllllllllllllllllllllllllllllllllllllllllllllllllllllllllllllllllllllllllllllllllllllllllllllllllllllllllllllllllllllllllllllllllllllllllllllllllllllllllllllllllllllllllllllllllllllllllllllllllllllllllllllllllllllllllllllllllllllllllllllllllllllllllllllllllllllllllllllllllllllllllllllllllllllllllllllllllllllllllllllllllllllllllllllllllllllllllllllllllllllllllllllllllllllllllllllllllllllllllllllllllllllllllllllllllllllllllllllllllllllllllllllllllllllllllllllllllllllllllllllllllllllllllllllllllllllllllllllllllllllllllllllllllllllllllllllllllllllllllllllllllllllllllllllllllllllllllllllllllllllllllllllllllllllllllllllllllllllllllllllllllllllllllllllllllllllllllllllllllllllllllllllllllllllllllllllllllllllllllllllllllllllllllllllllllllllllllllllllllllllllllllllllllllllllllllllllllllllllllllllllllllllllllllllllllllllllllllllllllllllllllllllllllllllllllllllllllllllllllllllllllllllllllllllllllllllllllllllllllllllllllllllllllllllllllllllllllllllllllllllllllllllllllllllllllllllllllllllllllllllllllllllllllllllllllllllllllllllllllllllllllllllllllllllllllllllllllllllllllllllllllllllllllllllllllllllllllllllllllllllllllllllllllllllllllllllllllllllllllllllllllllllllllllllllllllllllllllllllllllllllllllllllllllllllllllllllllllllllllllllllllllllllllllllllllllllllllllllllllllllllllllllllllllllllllllllllllllllllllllllllllllllllllllllllllllllllllllllllllllllllllllllllllllllllllllllllllllllllllllllllllllllllllllllllllllllllllllllllllllllllllllllllllllllllllllllllllllllllllllllllllllllllllllllllllllllllllllllllllllllllllllllllllllllllllllllllllllllllllllllllllllllllllllllllllllllllllllllllllllllllllllllllllllllllllllllllllllllllllllllllllllllllllllllllllllllllllllllllllllllllllllllllllllllllllllllllllllllllllllllllllllllllllllllllllllllllllllllllllllllllllllllllllllllllllllllllllllllllllllllllllllllllllllllllllllllllllllllllllllllllllllllllllllllllllllllllllllllllllllllllllllllllllllllllllllllllllllllllllllllllllllllllllllllllllllllllllllllllllllllllllllllllllllllllllllllllllllllllllllllllllllllllllllllllllllllllllllllllllllllllllllllllllllllllllllllllllllllllllllllllllllllllllllllllllllllllllllllllllllllllllllllllllllllllllllllllllllllllllllllllllllllllllllllllllllllllllllllllllllllllllllllllllllllllllllllllllllllllllllllllllllllllllllllllllllllllllllllllllllllllllllllllllllllllllllllllllllllllllllllllllllllllllllllllllllllllllllllllllllllllllllllllllllllllllllllllllllllllllllllllllllllllllllllllllllllllllllllllllllllllllllllllllllllllllllllllllllllllllllllllllllllllllllllllllllllllllllllllllllllllllllllllllllllllllllllllllllllllllllllllllllllllllllllllllllllllllllllllllllllllllllllllllllllllllllllllllllllllllllllllllllllllllllllllllllllllllllllllllllllllllllllllllllllllllllllllllllllllllllllllllllllllllllllllllllllllllllllllllllllllllllllllllllllllllllllllllllllllllllllllllllllllllllllllllllllllllllllllllllllllllllllllllllllllllllllllllllllllllllllllllllllllllllllllllllllllllllllllllllllllllllllllllllllllllllllllllllllllllllllllllllllllllllllllllllllllllllllllllllllllllllllllllllllllllllllllllllllllllllllllllllllllllllllllllllllllllllllllllllllllllllllllllllllllllllllllllllllllllllllllllllllllllllllllllllllllllllllllllllllllllllllllllllllllllllllllllllllllllllllllllllllllllllllllllllllllllllllllllllllllllllllllllllllllllllllllllllllllllllllllllllllllllllllllllllllllllllllllllllllllllllllllllllllllllllllllllllllllllllllllllllllllllllllllllllllllllllllllllllllllllllllllllllllllllllllllllllllllllllllllllllllllllllllllllllllllllllllllllllllllllllllllllllllllllllllllllllllllllllllllllllllllllllllllllllllllllllllllllllllllllllllllllllllllllllllllllllllllllllllllllllllllllllllllllllllllllllllllllllllllllllllllllllllllllllllllllllllllllllllllllllllllllllllllllllllllllllllllllllllllllllllllllllllllllllllllllllllllllllllllllllllllllllllllllllll}\n",
       "  & MAP1D & ABHD5 & CASP5 & CD28 & BRCA1 & USP2 & KLF17 & CCNB2 & MED24 & C11orf58 & ... & CAPN5 & IL8 & MED27 & TDRD12 & CAMK1 & VN1R4 & ZC3H12B & PRLHR & ZNF431 & EFR3A\\\\\n",
       "\\hline\n",
       "\tA1BG & NA  & NA  & NA  & NA  & NA  & NA  & NA  & NA  & NA  & NA  & ... & NA  & NA  & NA  & NA  & NA  & NA  & NA  & NA  & NA  & NA \\\\\n",
       "\tA1BG.AS1 & NA  & NA  & NA  & NA  & NA  & NA  & NA  & NA  & NA  & NA  & ... & NA  & NA  & NA  & NA  & NA  & NA  & NA  & NA  & NA  & NA \\\\\n",
       "\tA1CF & NA  & NA  & NA  & NA  & NA  & NA  & NA  & NA  & NA  & NA  & ... & NA  & NA  & NA  & NA  & NA  & NA  & NA  & NA  & NA  & NA \\\\\n",
       "\tA2M & NA  & NA  & NA  & NA  & NA  & NA  & NA  & NA  & NA  & NA  & ... & NA  & NA  & NA  & NA  & NA  & NA  & NA  & NA  & NA  & NA \\\\\n",
       "\tA2M.AS1 & NA  & NA  & NA  & NA  & NA  & NA  & NA  & NA  & NA  & NA  & ... & NA  & NA  & NA  & NA  & NA  & NA  & NA  & NA  & NA  & NA \\\\\n",
       "\tA2ML1 & NA  & NA  & NA  & NA  & NA  & NA  & NA  & NA  & NA  & NA  & ... & NA  & NA  & NA  & NA  & NA  & NA  & NA  & NA  & NA  & NA \\\\\n",
       "\\end{tabular}\n"
      ],
      "text/markdown": [
       "\n",
       "| <!--/--> | MAP1D | ABHD5 | CASP5 | CD28 | BRCA1 | USP2 | KLF17 | CCNB2 | MED24 | C11orf58 | ... | CAPN5 | IL8 | MED27 | TDRD12 | CAMK1 | VN1R4 | ZC3H12B | PRLHR | ZNF431 | EFR3A | \n",
       "|---|---|---|---|---|---|\n",
       "| A1BG | NA  | NA  | NA  | NA  | NA  | NA  | NA  | NA  | NA  | NA  | ... | NA  | NA  | NA  | NA  | NA  | NA  | NA  | NA  | NA  | NA  | \n",
       "| A1BG.AS1 | NA  | NA  | NA  | NA  | NA  | NA  | NA  | NA  | NA  | NA  | ... | NA  | NA  | NA  | NA  | NA  | NA  | NA  | NA  | NA  | NA  | \n",
       "| A1CF | NA  | NA  | NA  | NA  | NA  | NA  | NA  | NA  | NA  | NA  | ... | NA  | NA  | NA  | NA  | NA  | NA  | NA  | NA  | NA  | NA  | \n",
       "| A2M | NA  | NA  | NA  | NA  | NA  | NA  | NA  | NA  | NA  | NA  | ... | NA  | NA  | NA  | NA  | NA  | NA  | NA  | NA  | NA  | NA  | \n",
       "| A2M.AS1 | NA  | NA  | NA  | NA  | NA  | NA  | NA  | NA  | NA  | NA  | ... | NA  | NA  | NA  | NA  | NA  | NA  | NA  | NA  | NA  | NA  | \n",
       "| A2ML1 | NA  | NA  | NA  | NA  | NA  | NA  | NA  | NA  | NA  | NA  | ... | NA  | NA  | NA  | NA  | NA  | NA  | NA  | NA  | NA  | NA  | \n",
       "\n",
       "\n"
      ],
      "text/plain": [
       "         MAP1D ABHD5 CASP5 CD28 BRCA1 USP2 KLF17 CCNB2 MED24 C11orf58 ... CAPN5\n",
       "A1BG     NA    NA    NA    NA   NA    NA   NA    NA    NA    NA       ... NA   \n",
       "A1BG.AS1 NA    NA    NA    NA   NA    NA   NA    NA    NA    NA       ... NA   \n",
       "A1CF     NA    NA    NA    NA   NA    NA   NA    NA    NA    NA       ... NA   \n",
       "A2M      NA    NA    NA    NA   NA    NA   NA    NA    NA    NA       ... NA   \n",
       "A2M.AS1  NA    NA    NA    NA   NA    NA   NA    NA    NA    NA       ... NA   \n",
       "A2ML1    NA    NA    NA    NA   NA    NA   NA    NA    NA    NA       ... NA   \n",
       "         IL8 MED27 TDRD12 CAMK1 VN1R4 ZC3H12B PRLHR ZNF431 EFR3A\n",
       "A1BG     NA  NA    NA     NA    NA    NA      NA    NA     NA   \n",
       "A1BG.AS1 NA  NA    NA     NA    NA    NA      NA    NA     NA   \n",
       "A1CF     NA  NA    NA     NA    NA    NA      NA    NA     NA   \n",
       "A2M      NA  NA    NA     NA    NA    NA      NA    NA     NA   \n",
       "A2M.AS1  NA  NA    NA     NA    NA    NA      NA    NA     NA   \n",
       "A2ML1    NA  NA    NA     NA    NA    NA      NA    NA     NA   "
      ]
     },
     "metadata": {},
     "output_type": "display_data"
    }
   ],
   "source": [
    "head(cpiv_sampl)"
   ]
  },
  {
   "cell_type": "code",
   "execution_count": 35,
   "metadata": {
    "collapsed": true
   },
   "outputs": [],
   "source": [
    "zeroVar <- function(data, useNA = 'ifany') {\n",
    "    out <- apply(data, 2, function(x) {length(table(x, useNA = useNA))})\n",
    "    which(out==1)\n",
    "}"
   ]
  },
  {
   "cell_type": "code",
   "execution_count": 1,
   "metadata": {
    "collapsed": false
   },
   "outputs": [
    {
     "ename": "ERROR",
     "evalue": "Error in eval(expr, envir, enclos): object 'cpiv_sampl' not found\n",
     "output_type": "error",
     "traceback": [
      "Error in eval(expr, envir, enclos): object 'cpiv_sampl' not found\nTraceback:\n"
     ]
    }
   ],
   "source": [
    "cpiv_sampl[,-zeroVar(cpiv_sampl)]"
   ]
  },
  {
   "cell_type": "code",
   "execution_count": 6,
   "metadata": {
    "collapsed": false
   },
   "outputs": [
    {
     "name": "stderr",
     "output_type": "stream",
     "text": [
      "Warning message:\n",
      "\"package 'ConsensusClusterPlus' was built under R version 3.4.2\""
     ]
    },
    {
     "ename": "ERROR",
     "evalue": "Error in class(d) %in% c(\"dist\", \"matrix\", \"ExpressionSet\"): object 'cpiv_sampl' not found\n",
     "output_type": "error",
     "traceback": [
      "Error in class(d) %in% c(\"dist\", \"matrix\", \"ExpressionSet\"): object 'cpiv_sampl' not found\nTraceback:\n",
      "1. ConsensusClusterPlus(cpiv_sampl, maxK = 6, reps = 8, pItem = 0.8, \n .     pFeature = 1, title = title, clusterAlg = \"hc\", distance = \"pearson\")",
      "2. class(d) %in% c(\"dist\", \"matrix\", \"ExpressionSet\")"
     ]
    }
   ],
   "source": [
    "library(ConsensusClusterPlus)\n",
    "title=tempdir()\n",
    "results = ConsensusClusterPlus(cpiv_sampl, maxK=6 ,reps=8, pItem=0.8, pFeature=1, \n",
    "                               title=title, clusterAlg=\"hc\", distance=\"pearson\",\n",
    "                               seed=1262118388.71279)\n"
   ]
  },
  {
   "cell_type": "code",
   "execution_count": null,
   "metadata": {
    "collapsed": true
   },
   "outputs": [],
   "source": []
  },
  {
   "cell_type": "markdown",
   "metadata": {},
   "source": [
    "For this tutorial, we selected 80% item resampling (pItem), 80% gene resampling\n",
    "(pFeature), a maximum evalulated k of 6 so that cluster counts of 2,3,4,5,6 are\n",
    "evaluated (maxK), 50 resamplings (reps), agglomerative heirarchical clustering\n",
    "2 algorithm (clusterAlg) upon 1- Pearson correlation distances (distance), gave\n",
    "our output a title (title), and opted to have graphical results written to png\n",
    "files. We also used a specific random seed so that this example is repeatable\n",
    "(seed).\n",
    "\n",
    "In practice, a much higher reps is recommended such as 1,000 and a\n",
    "higher cluster count such as 20.\n",
    "\n",
    "Note that clusters are performed on dataframe columns\n",
    "\n",
    "Results are returned in a list, where every element in that list is a cluster \n",
    "assignment matrix of that index's k clusters\n"
   ]
  },
  {
   "cell_type": "code",
   "execution_count": 30,
   "metadata": {
    "collapsed": true
   },
   "outputs": [],
   "source": [
    "save(cpiv,file=\"brca_1M_clove_pivot_df.Rda\")"
   ]
  },
  {
   "cell_type": "code",
   "execution_count": 5,
   "metadata": {
    "collapsed": false
   },
   "outputs": [],
   "source": [
    "cpiv <- as.matrix(cpiv)"
   ]
  },
  {
   "cell_type": "code",
   "execution_count": 7,
   "metadata": {
    "collapsed": false
   },
   "outputs": [
    {
     "ename": "ERROR",
     "evalue": "Error in cor(d, method = distance, use = corUse): 'x' must be numeric\n",
     "output_type": "error",
     "traceback": [
      "Error in cor(d, method = distance, use = corUse): 'x' must be numeric\nTraceback:\n",
      "1. ConsensusClusterPlus(cpiv, maxK = 6, reps = 8, pItem = 0.8, pFeature = 1, \n .     title = title, clusterAlg = \"hc\", distance = \"pearson\", seed = 1262118388.71279)",
      "2. ccRun(d = d, maxK = maxK, repCount = reps, diss = inherits(d, \n .     \"dist\"), pItem = pItem, pFeature = pFeature, innerLinkage = innerLinkage, \n .     clusterAlg = clusterAlg, weightsFeature = weightsFeature, \n .     weightsItem = weightsItem, distance = distance, verbose = verbose, \n .     corUse = corUse)",
      "3. as.dist(1 - cor(d, method = distance, use = corUse))",
      "4. cor(d, method = distance, use = corUse)",
      "5. stop(\"'x' must be numeric\")"
     ]
    }
   ],
   "source": [
    "library(ConsensusClusterPlus)\n",
    "title=tempdir()\n",
    "results = ConsensusClusterPlus(cpiv, maxK=6 ,reps=8, pItem=0.8, pFeature=1, \n",
    "                               title=title, clusterAlg=\"hc\", distance=\"pearson\",\n",
    "                               seed=1262118388.71279)\n"
   ]
  },
  {
   "cell_type": "code",
   "execution_count": 9,
   "metadata": {
    "collapsed": false
   },
   "outputs": [
    {
     "data": {
      "text/html": [
       "<table>\n",
       "<tbody>\n",
       "\t<tr><td>cpiv</td></tr>\n",
       "</tbody>\n",
       "</table>\n"
      ],
      "text/latex": [
       "\\begin{tabular}{l}\n",
       "\t cpiv\\\\\n",
       "\\end{tabular}\n"
      ],
      "text/markdown": [
       "\n",
       "| cpiv | \n",
       "\n",
       "\n"
      ],
      "text/plain": [
       "     [,1]\n",
       "[1,] cpiv"
      ]
     },
     "metadata": {},
     "output_type": "display_data"
    }
   ],
   "source": [
    "cpiv"
   ]
  },
  {
   "cell_type": "code",
   "execution_count": null,
   "metadata": {
    "collapsed": true
   },
   "outputs": [],
   "source": []
  }
 ],
 "metadata": {
  "kernelspec": {
   "display_name": "R",
   "language": "R",
   "name": "ir"
  },
  "language_info": {
   "codemirror_mode": "r",
   "file_extension": ".r",
   "mimetype": "text/x-r-source",
   "name": "R",
   "pygments_lexer": "r",
   "version": "3.4.1"
  }
 },
 "nbformat": 4,
 "nbformat_minor": 0
}
