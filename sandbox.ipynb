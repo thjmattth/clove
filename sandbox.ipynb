{
 "cells": [
  {
   "cell_type": "code",
   "execution_count": 24,
   "metadata": {
    "collapsed": false
   },
   "outputs": [
    {
     "data": {
      "text/html": [
       "<div>\n",
       "<table border=\"1\" class=\"dataframe\">\n",
       "  <thead>\n",
       "    <tr style=\"text-align: right;\">\n",
       "      <th></th>\n",
       "      <th>cell1</th>\n",
       "      <th>cell2</th>\n",
       "      <th>cnv</th>\n",
       "      <th>gene</th>\n",
       "      <th>location</th>\n",
       "      <th>np_t_w</th>\n",
       "    </tr>\n",
       "  </thead>\n",
       "  <tbody>\n",
       "    <tr>\n",
       "      <th>0</th>\n",
       "      <td>5</td>\n",
       "      <td>12</td>\n",
       "      <td>a</td>\n",
       "      <td>1 // foo // blabla</td>\n",
       "      <td>1</td>\n",
       "      <td>1</td>\n",
       "    </tr>\n",
       "    <tr>\n",
       "      <th>1</th>\n",
       "      <td>9</td>\n",
       "      <td>90</td>\n",
       "      <td>b</td>\n",
       "      <td>2 // bar // lalala</td>\n",
       "      <td>13.4</td>\n",
       "      <td>13.4</td>\n",
       "    </tr>\n",
       "    <tr>\n",
       "      <th>2</th>\n",
       "      <td>1</td>\n",
       "      <td>13</td>\n",
       "      <td>c</td>\n",
       "      <td>3 // qux // trilil</td>\n",
       "      <td>1.1-2</td>\n",
       "      <td>1.1</td>\n",
       "    </tr>\n",
       "    <tr>\n",
       "      <th>3</th>\n",
       "      <td>7</td>\n",
       "      <td>87</td>\n",
       "      <td>d</td>\n",
       "      <td>4 // woz // hohoho</td>\n",
       "      <td>1.2-p22</td>\n",
       "      <td>2</td>\n",
       "    </tr>\n",
       "    <tr>\n",
       "      <th>4</th>\n",
       "      <td>9</td>\n",
       "      <td>9</td>\n",
       "      <td>e</td>\n",
       "      <td>nopeynope</td>\n",
       "      <td>43-q44</td>\n",
       "      <td>3</td>\n",
       "    </tr>\n",
       "  </tbody>\n",
       "</table>\n",
       "</div>"
      ],
      "text/plain": [
       "   cell1  cell2 cnv                gene location np_t_w\n",
       "0      5     12   a  1 // foo // blabla        1      1\n",
       "1      9     90   b  2 // bar // lalala     13.4   13.4\n",
       "2      1     13   c  3 // qux // trilil    1.1-2    1.1\n",
       "3      7     87   d  4 // woz // hohoho  1.2-p22      2\n",
       "4      9      9   e           nopeynope   43-q44      3"
      ]
     },
     "execution_count": 24,
     "metadata": {},
     "output_type": "execute_result"
    }
   ],
   "source": [
    "import pandas as pd\n",
    "df = pd.DataFrame({ 'gene':[\"1 // foo // blabla\",\n",
    "                                   \"2 // bar // lalala\",\n",
    "                                   \"3 // qux // trilil\",\n",
    "                                   \"4 // woz // hohoho\",\n",
    "                                   \"nopeynope\"], \n",
    "                   'cnv':['a','b','c','d','e'],\n",
    "                   'cell1':[5,9,1,7,9], \n",
    "                   'cell2':[12,90,13,87,9],\n",
    "                   'location':['1', '13.4', '1.1-2', '1.2-p22', '43-q44'],\n",
    "                  'np_t_w': ['1','13.4','1.1','2','3']})\n",
    "df"
   ]
  },
  {
   "cell_type": "code",
   "execution_count": 10,
   "metadata": {
    "collapsed": true
   },
   "outputs": [
    {
     "data": {
      "text/html": [
       "<div>\n",
       "<table border=\"1\" class=\"dataframe\">\n",
       "  <thead>\n",
       "    <tr style=\"text-align: right;\">\n",
       "      <th></th>\n",
       "      <th>0</th>\n",
       "    </tr>\n",
       "  </thead>\n",
       "  <tbody>\n",
       "    <tr>\n",
       "      <th>0</th>\n",
       "      <td>NaN</td>\n",
       "    </tr>\n",
       "    <tr>\n",
       "      <th>1</th>\n",
       "      <td>NaN</td>\n",
       "    </tr>\n",
       "    <tr>\n",
       "      <th>2</th>\n",
       "      <td>-</td>\n",
       "    </tr>\n",
       "    <tr>\n",
       "      <th>3</th>\n",
       "      <td>-</td>\n",
       "    </tr>\n",
       "    <tr>\n",
       "      <th>4</th>\n",
       "      <td>-</td>\n",
       "    </tr>\n",
       "  </tbody>\n",
       "</table>\n",
       "</div>"
      ],
      "text/plain": [
       "     0\n",
       "0  NaN\n",
       "1  NaN\n",
       "2    -\n",
       "3    -\n",
       "4    -"
      ]
     },
     "execution_count": 10,
     "metadata": {},
     "output_type": "execute_result"
    }
   ],
   "source": [
    "df['location'].str.extract('(-)', expand=True)"
   ]
  },
  {
   "cell_type": "code",
   "execution_count": 91,
   "metadata": {
    "collapsed": false
   },
   "outputs": [
    {
     "data": {
      "text/html": [
       "<div>\n",
       "<table border=\"1\" class=\"dataframe\">\n",
       "  <thead>\n",
       "    <tr style=\"text-align: right;\">\n",
       "      <th></th>\n",
       "      <th>cnv</th>\n",
       "      <th>exp</th>\n",
       "      <th>np_t_w</th>\n",
       "    </tr>\n",
       "  </thead>\n",
       "  <tbody>\n",
       "    <tr>\n",
       "      <th>0</th>\n",
       "      <td>a</td>\n",
       "      <td>b</td>\n",
       "      <td>1.0</td>\n",
       "    </tr>\n",
       "    <tr>\n",
       "      <th>1</th>\n",
       "      <td>a</td>\n",
       "      <td>c</td>\n",
       "      <td>1.9</td>\n",
       "    </tr>\n",
       "    <tr>\n",
       "      <th>2</th>\n",
       "      <td>a</td>\n",
       "      <td>d</td>\n",
       "      <td>45.0</td>\n",
       "    </tr>\n",
       "    <tr>\n",
       "      <th>3</th>\n",
       "      <td>a</td>\n",
       "      <td>e</td>\n",
       "      <td>3.9</td>\n",
       "    </tr>\n",
       "    <tr>\n",
       "      <th>4</th>\n",
       "      <td>b</td>\n",
       "      <td>c</td>\n",
       "      <td>2.1</td>\n",
       "    </tr>\n",
       "    <tr>\n",
       "      <th>5</th>\n",
       "      <td>b</td>\n",
       "      <td>d</td>\n",
       "      <td>-2.0</td>\n",
       "    </tr>\n",
       "    <tr>\n",
       "      <th>6</th>\n",
       "      <td>b</td>\n",
       "      <td>e</td>\n",
       "      <td>4.1</td>\n",
       "    </tr>\n",
       "  </tbody>\n",
       "</table>\n",
       "</div>"
      ],
      "text/plain": [
       "  cnv exp  np_t_w\n",
       "0   a   b     1.0\n",
       "1   a   c     1.9\n",
       "2   a   d    45.0\n",
       "3   a   e     3.9\n",
       "4   b   c     2.1\n",
       "5   b   d    -2.0\n",
       "6   b   e     4.1"
      ]
     },
     "execution_count": 91,
     "metadata": {},
     "output_type": "execute_result"
    }
   ],
   "source": [
    "df = pd.DataFrame([['a','b',1],\n",
    "                  ['a','c',1.9],\n",
    "                  ['a','d',45],\n",
    "                  ['a','e',3.9],\n",
    "                  ['b','c', 2.1],\n",
    "                  ['b','d',-2],\n",
    "                  ['b','e',4.1]],\n",
    "                 columns = ['cnv','exp','np_t_w'])\n",
    "df"
   ]
  },
  {
   "cell_type": "code",
   "execution_count": 92,
   "metadata": {
    "collapsed": true
   },
   "outputs": [],
   "source": [
    "### OLD\n",
    "from scipy.stats import pearsonr\n",
    "def rolling_pearson_0(df, group='cnv', data='np_t_w'):\n",
    "    \"\"\"\n",
    "    computes pearson between array of data for one gene partners and each successive chromosomal neighbor\n",
    "    \n",
    "    :param df: pd df, clove results, sorted in ascending order of chromosome locus\n",
    "    :param group: str, df column label on which to form gene neigbors, default 'cnv'\n",
    "    :param data: str, df column label of source data to populate arrays, default 'np_t_w' (clove t-stats)\n",
    "    \"\"\"\n",
    "    \n",
    "    unique_genes = df[group].unique()\n",
    "    results = []\n",
    "    for idx, g0 in enumerate(unique_genes):\n",
    "        g0_arr = df[df[group] == g0][data].values\n",
    "        if idx < len(unique_genes) - 1:\n",
    "            for g1 in unique_genes[idx+1:]:\n",
    "                g1_arr = df[df[group] == g1][data].values\n",
    "                print(g1_arr)\n",
    "                pearson, pval = pearsonr(g0_arr, g1_arr)\n",
    "                results.append([g0, g1, pearson, pval])\n",
    "\n",
    "    return pd.DataFrame(results, columns=[group, group+'_k', 'pearson', 'pval'])"
   ]
  },
  {
   "cell_type": "code",
   "execution_count": 95,
   "metadata": {
    "collapsed": false
   },
   "outputs": [],
   "source": [
    "### NEW\n",
    "from scipy.stats import pearsonr\n",
    "from scipy.spatial import distance\n",
    "def rolling_similarity(df, group='cnv', data='np_t_w', how='pearson'):\n",
    "    \"\"\"\n",
    "    computes similarity between array of data for one gene partners and each successive chromosomal neighbor\n",
    "    \n",
    "    :param df: pd df, clove results, sorted in ascending order of chromosome locus\n",
    "    :param group: str, df column label on which to form gene neigbors, default 'cnv'\n",
    "    :param data: str, df column label of source data to populate arrays, default 'np_t_w' (clove t-stats)\n",
    "    :param how: str, choice of: {pearson, euclidian, cosine}\n",
    "    \"\"\"\n",
    "    \n",
    "    unique_genes = df[group].unique()\n",
    "    results = []\n",
    "    for idx, g0 in enumerate(unique_genes):\n",
    "        if idx < len(unique_genes) - 1:\n",
    "            g1 = unique_genes[idx+1]\n",
    "            merged = pd.merge(df[df[group] == g0], df[df[group] == g1], how='inner', on='exp')\n",
    "            merged.columns = ['cnv_g0','exp','clove_g0','cnv_g1','clove_g1']\n",
    "            if how == 'pearson':\n",
    "                cols = [g0, g1, how ,'pval']\n",
    "                pear, pval = pearsonr(merged['clove_g0'], merged['clove_g1'])\n",
    "                results.append([g0,g1,pear,pval])\n",
    "            elif how == 'euclidian':\n",
    "                cols = [g0, g1, how]\n",
    "                results.append([g0, g1, distance.euclidean(merged['clove_g0'], merged['clove_g1'])])\n",
    "            elif how == 'cosine':\n",
    "                cols = [g0, g1, how]\n",
    "                results.append([g0, g1, distance.cosine(merged['clove_g0'], merged['clove_g1'])])\n",
    "\n",
    "    return pd.DataFrame(results, columns=cols)"
   ]
  },
  {
   "cell_type": "code",
   "execution_count": 94,
   "metadata": {
    "collapsed": false
   },
   "outputs": [
    {
     "name": "stdout",
     "output_type": "stream",
     "text": [
      "q\n"
     ]
    },
    {
     "data": {
      "text/html": [
       "<div>\n",
       "<table border=\"1\" class=\"dataframe\">\n",
       "  <thead>\n",
       "    <tr style=\"text-align: right;\">\n",
       "      <th></th>\n",
       "      <th>a</th>\n",
       "      <th>b</th>\n",
       "      <th>pearson</th>\n",
       "      <th>pval</th>\n",
       "    </tr>\n",
       "  </thead>\n",
       "  <tbody>\n",
       "    <tr>\n",
       "      <th>0</th>\n",
       "      <td>a</td>\n",
       "      <td>b</td>\n",
       "      <td>-0.932864</td>\n",
       "      <td>0.234603</td>\n",
       "    </tr>\n",
       "  </tbody>\n",
       "</table>\n",
       "</div>"
      ],
      "text/plain": [
       "   a  b   pearson      pval\n",
       "0  a  b -0.932864  0.234603"
      ]
     },
     "execution_count": 94,
     "metadata": {},
     "output_type": "execute_result"
    }
   ],
   "source": [
    "rolling_similarity(df, group='cnv',data='np_t_w')"
   ]
  },
  {
   "cell_type": "code",
   "execution_count": 27,
   "metadata": {
    "collapsed": false
   },
   "outputs": [
    {
     "data": {
      "text/html": [
       "<div>\n",
       "<table border=\"1\" class=\"dataframe\">\n",
       "  <thead>\n",
       "    <tr style=\"text-align: right;\">\n",
       "      <th></th>\n",
       "      <th>cell1</th>\n",
       "      <th>cell2</th>\n",
       "      <th>cnv</th>\n",
       "      <th>gene</th>\n",
       "      <th>location</th>\n",
       "      <th>np_t_w</th>\n",
       "    </tr>\n",
       "  </thead>\n",
       "  <tbody>\n",
       "    <tr>\n",
       "      <th>0</th>\n",
       "      <td>5</td>\n",
       "      <td>12</td>\n",
       "      <td>a</td>\n",
       "      <td>1 // foo // blabla</td>\n",
       "      <td>1</td>\n",
       "      <td>1</td>\n",
       "    </tr>\n",
       "    <tr>\n",
       "      <th>1</th>\n",
       "      <td>9</td>\n",
       "      <td>90</td>\n",
       "      <td>b</td>\n",
       "      <td>2 // bar // lalala</td>\n",
       "      <td>13.4</td>\n",
       "      <td>13.4</td>\n",
       "    </tr>\n",
       "    <tr>\n",
       "      <th>2</th>\n",
       "      <td>1</td>\n",
       "      <td>13</td>\n",
       "      <td>c</td>\n",
       "      <td>3 // qux // trilil</td>\n",
       "      <td>1.1-2</td>\n",
       "      <td>1.1</td>\n",
       "    </tr>\n",
       "    <tr>\n",
       "      <th>3</th>\n",
       "      <td>7</td>\n",
       "      <td>87</td>\n",
       "      <td>d</td>\n",
       "      <td>4 // woz // hohoho</td>\n",
       "      <td>1.2-p22</td>\n",
       "      <td>2</td>\n",
       "    </tr>\n",
       "    <tr>\n",
       "      <th>4</th>\n",
       "      <td>9</td>\n",
       "      <td>9</td>\n",
       "      <td>e</td>\n",
       "      <td>nopeynope</td>\n",
       "      <td>43-q44</td>\n",
       "      <td>3</td>\n",
       "    </tr>\n",
       "  </tbody>\n",
       "</table>\n",
       "</div>"
      ],
      "text/plain": [
       "   cell1  cell2 cnv                gene location np_t_w\n",
       "0      5     12   a  1 // foo // blabla        1      1\n",
       "1      9     90   b  2 // bar // lalala     13.4   13.4\n",
       "2      1     13   c  3 // qux // trilil    1.1-2    1.1\n",
       "3      7     87   d  4 // woz // hohoho  1.2-p22      2\n",
       "4      9      9   e           nopeynope   43-q44      3"
      ]
     },
     "execution_count": 27,
     "metadata": {},
     "output_type": "execute_result"
    }
   ],
   "source": [
    "df"
   ]
  },
  {
   "cell_type": "code",
   "execution_count": 13,
   "metadata": {
    "collapsed": true
   },
   "outputs": [],
   "source": [
    "pearsonr?"
   ]
  },
  {
   "cell_type": "code",
   "execution_count": 22,
   "metadata": {
    "collapsed": false
   },
   "outputs": [
    {
     "data": {
      "text/plain": [
       "array([0, 1])"
      ]
     },
     "execution_count": 22,
     "metadata": {},
     "output_type": "execute_result"
    }
   ],
   "source": [
    "import numpy as np\n",
    "x = np.array([0, 1, 2, 3, 4, 5, 6, 7, 8, 9])\n",
    "x[:2]"
   ]
  },
  {
   "cell_type": "code",
   "execution_count": 23,
   "metadata": {
    "collapsed": false
   },
   "outputs": [
    {
     "ename": "TypeError",
     "evalue": "'NoneType' object is not subscriptable",
     "output_type": "error",
     "traceback": [
      "\u001b[1;31m---------------------------------------------------------------------------\u001b[0m",
      "\u001b[1;31mTypeError\u001b[0m                                 Traceback (most recent call last)",
      "\u001b[1;32m<ipython-input-23-c415a77dbd90>\u001b[0m in \u001b[0;36m<module>\u001b[1;34m()\u001b[0m\n\u001b[1;32m----> 1\u001b[1;33m \u001b[0mnp\u001b[0m\u001b[1;33m.\u001b[0m\u001b[0mrandom\u001b[0m\u001b[1;33m.\u001b[0m\u001b[0mshuffle\u001b[0m\u001b[1;33m(\u001b[0m\u001b[0mx\u001b[0m\u001b[1;33m)\u001b[0m\u001b[1;33m[\u001b[0m\u001b[1;33m:\u001b[0m\u001b[1;36m2\u001b[0m\u001b[1;33m]\u001b[0m\u001b[1;33m\u001b[0m\u001b[0m\n\u001b[0m",
      "\u001b[1;31mTypeError\u001b[0m: 'NoneType' object is not subscriptable"
     ]
    }
   ],
   "source": [
    "np.random.shuffle(x)\n"
   ]
  },
  {
   "cell_type": "code",
   "execution_count": null,
   "metadata": {
    "collapsed": true
   },
   "outputs": [],
   "source": []
  }
 ],
 "metadata": {
  "kernelspec": {
   "display_name": "Python 3",
   "language": "python",
   "name": "python3"
  },
  "language_info": {
   "codemirror_mode": {
    "name": "ipython",
    "version": 3
   },
   "file_extension": ".py",
   "mimetype": "text/x-python",
   "name": "python",
   "nbconvert_exporter": "python",
   "pygments_lexer": "ipython3",
   "version": "3.5.2"
  }
 },
 "nbformat": 4,
 "nbformat_minor": 0
}
